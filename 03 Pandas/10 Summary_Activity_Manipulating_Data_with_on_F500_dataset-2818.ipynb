{
  "cells": [
    {
      "cell_type": "markdown",
      "metadata": {
        "id": "oMGhT8Czsw--"
      },
      "source": [
        "# Exploring Data with Pandas"
      ]
    },
    {
      "cell_type": "markdown",
      "metadata": {
        "id": "KTcrMAGFsw-_"
      },
      "source": [
        "We'll be working with data set from Fortune magazine's Global 500 list 2017, which ranks the top 500 corporations worldwide by revenue. The dataset is a CSV file called f500.csv. Here is a data dictionary for some of the columns in the CSV:\n",
        "\n",
        "- `company` - The Name of the company.\n",
        "- `rank` - The Global 500 rank for the company.\n",
        "- `revenues` - The company's total revenues for the fiscal year, in millions of dollars (USD).\n",
        "- `revenue_change` - The percentage change in revenue between the current and prior fiscal years.\n",
        "- `profits` - Net income for the fiscal year, in millions of dollars (USD).\n",
        "- `ceo` - The company's Chief Executive Officer.\n",
        "- `industry` - The industry in which the company operates.\n",
        "- `sector` - The sector in which the company operates.\n",
        "- `previous_rank` - The Global 500 rank for the company for the prior year.\n",
        "- `country` - The Country in which the company is headquartered.\n",
        "- `hq_location` - The City and Country, (or City and State for the USA) where the company is headquarted.\n",
        "- `employees` - Total employees (full-time equivalent, if available) at fiscal year-end."
      ]
    },
    {
      "cell_type": "code",
      "execution_count": null,
      "metadata": {
        "id": "Wed7Vh8-sw_A"
      },
      "outputs": [],
      "source": [
        "import pandas as pd\n",
        "import numpy as np"
      ]
    },
    {
      "cell_type": "code",
      "execution_count": null,
      "metadata": {
        "id": "9CsM1AwHsw_A"
      },
      "outputs": [],
      "source": [
        "f500 = pd.read_csv(\"f500.csv\",index_col=0)\n",
        "f500.index.name = None\n",
        "f500.loc[f500[\"previous_rank\"] == 0, \"previous_rank\"] = np.nan"
      ]
    },
    {
      "cell_type": "code",
      "execution_count": null,
      "metadata": {
        "id": "cSItaKfksw_B"
      },
      "outputs": [],
      "source": [
        "fifth_row = f500.iloc[5]"
      ]
    },
    {
      "cell_type": "code",
      "execution_count": null,
      "metadata": {
        "id": "gLmHjIfMsw_B"
      },
      "outputs": [],
      "source": [
        "first_three_rows = f500.iloc[:3]"
      ]
    },
    {
      "cell_type": "code",
      "execution_count": null,
      "metadata": {
        "id": "DrXfKVQVsw_B"
      },
      "outputs": [],
      "source": [
        "first_seventh_row_slice = f500.iloc[[0,6],0:5]"
      ]
    },
    {
      "cell_type": "code",
      "execution_count": null,
      "metadata": {
        "id": "AL9gYkUksw_B",
        "outputId": "31c6c68d-fa6b-429e-8137-85f0739f03d1"
      },
      "outputs": [
        {
          "name": "stdout",
          "output_type": "stream",
          "text": [
            "                          rank  revenues  revenue_change\n",
            "Walmart                      1    485873             0.8\n",
            "State Grid                   2    315199            -4.4\n",
            "Sinopec Group                3    267518            -9.1\n",
            "China National Petroleum     4    262573           -12.3\n",
            "Toyota Motor                 5    254694             7.7\n"
          ]
        }
      ],
      "source": [
        "print(f500.iloc[:5, :3])"
      ]
    },
    {
      "cell_type": "code",
      "execution_count": null,
      "metadata": {
        "id": "akBwNsK_sw_C"
      },
      "outputs": [],
      "source": [
        "f500 = pd.read_csv(\"f500.csv\")\n",
        "f500.loc[f500[\"previous_rank\"] == 0, \"previous_rank\"] = np.nan"
      ]
    },
    {
      "cell_type": "code",
      "execution_count": null,
      "metadata": {
        "id": "xp8j87tusw_C",
        "outputId": "e8123a63-0899-4058-d29e-a57059342782"
      },
      "outputs": [
        {
          "data": {
            "text/html": [
              "<div>\n",
              "<style scoped>\n",
              "    .dataframe tbody tr th:only-of-type {\n",
              "        vertical-align: middle;\n",
              "    }\n",
              "\n",
              "    .dataframe tbody tr th {\n",
              "        vertical-align: top;\n",
              "    }\n",
              "\n",
              "    .dataframe thead th {\n",
              "        text-align: right;\n",
              "    }\n",
              "</style>\n",
              "<table border=\"1\" class=\"dataframe\">\n",
              "  <thead>\n",
              "    <tr style=\"text-align: right;\">\n",
              "      <th></th>\n",
              "      <th>company</th>\n",
              "      <th>rank</th>\n",
              "      <th>revenues</th>\n",
              "      <th>revenue_change</th>\n",
              "      <th>profits</th>\n",
              "      <th>assets</th>\n",
              "      <th>profit_change</th>\n",
              "      <th>ceo</th>\n",
              "      <th>industry</th>\n",
              "      <th>sector</th>\n",
              "      <th>previous_rank</th>\n",
              "      <th>country</th>\n",
              "      <th>hq_location</th>\n",
              "      <th>website</th>\n",
              "      <th>years_on_global_500_list</th>\n",
              "      <th>employees</th>\n",
              "      <th>total_stockholder_equity</th>\n",
              "    </tr>\n",
              "  </thead>\n",
              "  <tbody>\n",
              "    <tr>\n",
              "      <th>0</th>\n",
              "      <td>Walmart</td>\n",
              "      <td>1</td>\n",
              "      <td>485873</td>\n",
              "      <td>0.8</td>\n",
              "      <td>13643.0</td>\n",
              "      <td>198825</td>\n",
              "      <td>-7.2</td>\n",
              "      <td>C. Douglas McMillon</td>\n",
              "      <td>General Merchandisers</td>\n",
              "      <td>Retailing</td>\n",
              "      <td>1.0</td>\n",
              "      <td>USA</td>\n",
              "      <td>Bentonville, AR</td>\n",
              "      <td>http://www.walmart.com</td>\n",
              "      <td>23</td>\n",
              "      <td>2300000</td>\n",
              "      <td>77798</td>\n",
              "    </tr>\n",
              "    <tr>\n",
              "      <th>3</th>\n",
              "      <td>China National Petroleum</td>\n",
              "      <td>4</td>\n",
              "      <td>262573</td>\n",
              "      <td>-12.3</td>\n",
              "      <td>1867.5</td>\n",
              "      <td>585619</td>\n",
              "      <td>-73.7</td>\n",
              "      <td>Zhang Jianhua</td>\n",
              "      <td>Petroleum Refining</td>\n",
              "      <td>Energy</td>\n",
              "      <td>3.0</td>\n",
              "      <td>China</td>\n",
              "      <td>Beijing, China</td>\n",
              "      <td>http://www.cnpc.com.cn</td>\n",
              "      <td>17</td>\n",
              "      <td>1512048</td>\n",
              "      <td>301893</td>\n",
              "    </tr>\n",
              "    <tr>\n",
              "      <th>118</th>\n",
              "      <td>China Post Group</td>\n",
              "      <td>119</td>\n",
              "      <td>65605</td>\n",
              "      <td>-5.8</td>\n",
              "      <td>4980.3</td>\n",
              "      <td>1221649</td>\n",
              "      <td>18.7</td>\n",
              "      <td>Li Guohua</td>\n",
              "      <td>Mail, Package, and Freight Delivery</td>\n",
              "      <td>Transportation</td>\n",
              "      <td>105.0</td>\n",
              "      <td>China</td>\n",
              "      <td>Beijing, China</td>\n",
              "      <td>http://www.chinapost.com.cn</td>\n",
              "      <td>7</td>\n",
              "      <td>941211</td>\n",
              "      <td>43114</td>\n",
              "    </tr>\n",
              "    <tr>\n",
              "      <th>1</th>\n",
              "      <td>State Grid</td>\n",
              "      <td>2</td>\n",
              "      <td>315199</td>\n",
              "      <td>-4.4</td>\n",
              "      <td>9571.3</td>\n",
              "      <td>489838</td>\n",
              "      <td>-6.2</td>\n",
              "      <td>Kou Wei</td>\n",
              "      <td>Utilities</td>\n",
              "      <td>Energy</td>\n",
              "      <td>2.0</td>\n",
              "      <td>China</td>\n",
              "      <td>Beijing, China</td>\n",
              "      <td>http://www.sgcc.com.cn</td>\n",
              "      <td>17</td>\n",
              "      <td>926067</td>\n",
              "      <td>209456</td>\n",
              "    </tr>\n",
              "    <tr>\n",
              "      <th>26</th>\n",
              "      <td>Hon Hai Precision Industry</td>\n",
              "      <td>27</td>\n",
              "      <td>135129</td>\n",
              "      <td>-4.3</td>\n",
              "      <td>4608.8</td>\n",
              "      <td>80436</td>\n",
              "      <td>-0.4</td>\n",
              "      <td>Terry Gou</td>\n",
              "      <td>Electronics, Electrical Equip.</td>\n",
              "      <td>Technology</td>\n",
              "      <td>25.0</td>\n",
              "      <td>Taiwan</td>\n",
              "      <td>New Taipei City, Taiwan</td>\n",
              "      <td>http://www.foxconn.com</td>\n",
              "      <td>13</td>\n",
              "      <td>726772</td>\n",
              "      <td>33476</td>\n",
              "    </tr>\n",
              "  </tbody>\n",
              "</table>\n",
              "</div>"
            ],
            "text/plain": [
              "                        company  rank  revenues  revenue_change  profits  \\\n",
              "0                       Walmart     1    485873             0.8  13643.0   \n",
              "3      China National Petroleum     4    262573           -12.3   1867.5   \n",
              "118            China Post Group   119     65605            -5.8   4980.3   \n",
              "1                    State Grid     2    315199            -4.4   9571.3   \n",
              "26   Hon Hai Precision Industry    27    135129            -4.3   4608.8   \n",
              "\n",
              "      assets  profit_change                  ceo  \\\n",
              "0     198825           -7.2  C. Douglas McMillon   \n",
              "3     585619          -73.7        Zhang Jianhua   \n",
              "118  1221649           18.7            Li Guohua   \n",
              "1     489838           -6.2              Kou Wei   \n",
              "26     80436           -0.4            Terry Gou   \n",
              "\n",
              "                                industry          sector  previous_rank  \\\n",
              "0                  General Merchandisers       Retailing            1.0   \n",
              "3                     Petroleum Refining          Energy            3.0   \n",
              "118  Mail, Package, and Freight Delivery  Transportation          105.0   \n",
              "1                              Utilities          Energy            2.0   \n",
              "26        Electronics, Electrical Equip.      Technology           25.0   \n",
              "\n",
              "    country              hq_location                      website  \\\n",
              "0       USA          Bentonville, AR       http://www.walmart.com   \n",
              "3     China           Beijing, China       http://www.cnpc.com.cn   \n",
              "118   China           Beijing, China  http://www.chinapost.com.cn   \n",
              "1     China           Beijing, China       http://www.sgcc.com.cn   \n",
              "26   Taiwan  New Taipei City, Taiwan       http://www.foxconn.com   \n",
              "\n",
              "     years_on_global_500_list  employees  total_stockholder_equity  \n",
              "0                          23    2300000                     77798  \n",
              "3                          17    1512048                    301893  \n",
              "118                         7     941211                     43114  \n",
              "1                          17     926067                    209456  \n",
              "26                         13     726772                     33476  "
            ]
          },
          "execution_count": 28,
          "metadata": {},
          "output_type": "execute_result"
        }
      ],
      "source": [
        "sorted_emp = f500.sort_values(\"employees\",ascending=False)\n",
        "top5_emp = sorted_emp.iloc[0:5]\n",
        "top5_emp"
      ]
    },
    {
      "cell_type": "code",
      "execution_count": null,
      "metadata": {
        "id": "2e5HshIIsw_C",
        "outputId": "4860dd8d-bfb3-4d5b-90d4-4a014754a623"
      },
      "outputs": [
        {
          "name": "stdout",
          "output_type": "stream",
          "text": [
            "company                     China National Petroleum\n",
            "rank                                               4\n",
            "revenues                                      262573\n",
            "revenue_change                                 -12.3\n",
            "profits                                       1867.5\n",
            "assets                                        585619\n",
            "profit_change                                  -73.7\n",
            "ceo                                    Zhang Jianhua\n",
            "industry                          Petroleum Refining\n",
            "sector                                        Energy\n",
            "previous_rank                                      3\n",
            "country                                        China\n",
            "hq_location                           Beijing, China\n",
            "website                       http://www.cnpc.com.cn\n",
            "years_on_global_500_list                          17\n",
            "employees                                    1512048\n",
            "total_stockholder_equity                      301893\n",
            "Name: 3, dtype: object\n"
          ]
        }
      ],
      "source": [
        "print(top5_emp.iloc[1])"
      ]
    },
    {
      "cell_type": "code",
      "execution_count": null,
      "metadata": {
        "id": "FrOkV9eMsw_C",
        "outputId": "0810b9e8-6474-4acc-9814-46234ee96b94"
      },
      "outputs": [
        {
          "name": "stdout",
          "output_type": "stream",
          "text": [
            "company                                 State Grid\n",
            "rank                                             2\n",
            "revenues                                    315199\n",
            "revenue_change                                -4.4\n",
            "profits                                     9571.3\n",
            "assets                                      489838\n",
            "profit_change                                 -6.2\n",
            "ceo                                        Kou Wei\n",
            "industry                                 Utilities\n",
            "sector                                      Energy\n",
            "previous_rank                                    2\n",
            "country                                      China\n",
            "hq_location                         Beijing, China\n",
            "website                     http://www.sgcc.com.cn\n",
            "years_on_global_500_list                        17\n",
            "employees                                   926067\n",
            "total_stockholder_equity                    209456\n",
            "Name: 1, dtype: object\n"
          ]
        }
      ],
      "source": [
        "print(top5_emp.loc[1])"
      ]
    },
    {
      "cell_type": "code",
      "execution_count": null,
      "metadata": {
        "id": "yrDDtDbnsw_C",
        "outputId": "c43e4fec-2f32-49f6-f0a4-9ff2b7182e17"
      },
      "outputs": [
        {
          "name": "stdout",
          "output_type": "stream",
          "text": [
            "0       Bentonville, AR\n",
            "7             Omaha, NE\n",
            "8         Cupertino, CA\n",
            "9            Irving, TX\n",
            "10    San Francisco, CA\n",
            "Name: hq_location, dtype: object\n"
          ]
        }
      ],
      "source": [
        "usa_hqs = f500.loc[f500[\"country\"] == \"USA\", \"hq_location\"]\n",
        "print(usa_hqs.head())"
      ]
    },
    {
      "cell_type": "code",
      "execution_count": null,
      "metadata": {
        "id": "fMHwjTLrsw_D",
        "outputId": "c5bfb4e6-30f2-46aa-dcdf-543fad22f981"
      },
      "outputs": [
        {
          "name": "stdout",
          "output_type": "stream",
          "text": [
            "0     False\n",
            "7     False\n",
            "8      True\n",
            "9     False\n",
            "10     True\n",
            "Name: hq_location, dtype: bool\n"
          ]
        }
      ],
      "source": [
        "is_cali = usa_hqs.str.endswith(\"CA\")\n",
        "print(is_cali.head())"
      ]
    },
    {
      "cell_type": "code",
      "execution_count": null,
      "metadata": {
        "id": "4A0OnzEvsw_D",
        "outputId": "811190c2-6009-4611-c702-670adc01ca8a"
      },
      "outputs": [
        {
          "name": "stdout",
          "output_type": "stream",
          "text": [
            "     company  rank  revenues  revenue_change  profits  assets  profit_change  \\\n",
            "8      Apple     9    215639            -7.7  45687.0  321686          -14.4   \n",
            "10  McKesson    11    198533             3.1   5070.0   60969          124.5   \n",
            "\n",
            "                   ceo                     industry       sector  \\\n",
            "8      Timothy D. Cook  Computers, Office Equipment   Technology   \n",
            "10  John H. Hammergren     Wholesalers: Health Care  Wholesalers   \n",
            "\n",
            "    previous_rank country        hq_location                  website  \\\n",
            "8             9.0     USA      Cupertino, CA     http://www.apple.com   \n",
            "10           12.0     USA  San Francisco, CA  http://www.mckesson.com   \n",
            "\n",
            "    years_on_global_500_list  employees  total_stockholder_equity  \n",
            "8                         15     116000                    128249  \n",
            "10                        23      64500                     11095  \n"
          ]
        }
      ],
      "source": [
        "usa = f500.loc[f500[\"country\"] == \"USA\"]\n",
        "california = usa[is_cali]\n",
        "print(california.head(2))"
      ]
    },
    {
      "cell_type": "code",
      "execution_count": null,
      "metadata": {
        "id": "hEUUfkv0sw_D",
        "outputId": "af091d6b-dc26-4c2d-ecbd-40b9526f6f6a"
      },
      "outputs": [
        {
          "name": "stdout",
          "output_type": "stream",
          "text": [
            "                        company  country      sector\n",
            "90                       Uniper  Germany      Energy\n",
            "180  Hewlett Packard Enterprise      USA  Technology\n"
          ]
        }
      ],
      "source": [
        "rev_change_null = f500[f500[\"revenue_change\"].isnull()]\n",
        "print(rev_change_null[[\"company\",\"country\",\"sector\"]])"
      ]
    },
    {
      "cell_type": "code",
      "execution_count": null,
      "metadata": {
        "id": "fWSuEkcKsw_D",
        "outputId": "9e4b1dfb-ad5a-4635-bbe5-57fecece3feb"
      },
      "outputs": [
        {
          "data": {
            "text/html": [
              "<div>\n",
              "<style scoped>\n",
              "    .dataframe tbody tr th:only-of-type {\n",
              "        vertical-align: middle;\n",
              "    }\n",
              "\n",
              "    .dataframe tbody tr th {\n",
              "        vertical-align: top;\n",
              "    }\n",
              "\n",
              "    .dataframe thead th {\n",
              "        text-align: right;\n",
              "    }\n",
              "</style>\n",
              "<table border=\"1\" class=\"dataframe\">\n",
              "  <thead>\n",
              "    <tr style=\"text-align: right;\">\n",
              "      <th></th>\n",
              "      <th>company</th>\n",
              "      <th>rank</th>\n",
              "      <th>revenues</th>\n",
              "      <th>revenue_change</th>\n",
              "      <th>profits</th>\n",
              "      <th>assets</th>\n",
              "      <th>profit_change</th>\n",
              "      <th>ceo</th>\n",
              "      <th>industry</th>\n",
              "      <th>sector</th>\n",
              "      <th>previous_rank</th>\n",
              "      <th>country</th>\n",
              "      <th>hq_location</th>\n",
              "      <th>website</th>\n",
              "      <th>years_on_global_500_list</th>\n",
              "      <th>employees</th>\n",
              "      <th>total_stockholder_equity</th>\n",
              "    </tr>\n",
              "  </thead>\n",
              "  <tbody>\n",
              "    <tr>\n",
              "      <th>0</th>\n",
              "      <td>Walmart</td>\n",
              "      <td>1</td>\n",
              "      <td>485873</td>\n",
              "      <td>0.8</td>\n",
              "      <td>13643.0</td>\n",
              "      <td>198825</td>\n",
              "      <td>-7.2</td>\n",
              "      <td>C. Douglas McMillon</td>\n",
              "      <td>General Merchandisers</td>\n",
              "      <td>Retailing</td>\n",
              "      <td>1.0</td>\n",
              "      <td>USA</td>\n",
              "      <td>Bentonville, AR</td>\n",
              "      <td>http://www.walmart.com</td>\n",
              "      <td>23</td>\n",
              "      <td>2300000</td>\n",
              "      <td>77798</td>\n",
              "    </tr>\n",
              "    <tr>\n",
              "      <th>1</th>\n",
              "      <td>State Grid</td>\n",
              "      <td>2</td>\n",
              "      <td>315199</td>\n",
              "      <td>-4.4</td>\n",
              "      <td>9571.3</td>\n",
              "      <td>489838</td>\n",
              "      <td>-6.2</td>\n",
              "      <td>Kou Wei</td>\n",
              "      <td>Utilities</td>\n",
              "      <td>Energy</td>\n",
              "      <td>2.0</td>\n",
              "      <td>China</td>\n",
              "      <td>Beijing, China</td>\n",
              "      <td>http://www.sgcc.com.cn</td>\n",
              "      <td>17</td>\n",
              "      <td>926067</td>\n",
              "      <td>209456</td>\n",
              "    </tr>\n",
              "    <tr>\n",
              "      <th>2</th>\n",
              "      <td>Sinopec Group</td>\n",
              "      <td>3</td>\n",
              "      <td>267518</td>\n",
              "      <td>-9.1</td>\n",
              "      <td>1257.9</td>\n",
              "      <td>310726</td>\n",
              "      <td>-65.0</td>\n",
              "      <td>Wang Yupu</td>\n",
              "      <td>Petroleum Refining</td>\n",
              "      <td>Energy</td>\n",
              "      <td>4.0</td>\n",
              "      <td>China</td>\n",
              "      <td>Beijing, China</td>\n",
              "      <td>http://www.sinopec.com</td>\n",
              "      <td>19</td>\n",
              "      <td>713288</td>\n",
              "      <td>106523</td>\n",
              "    </tr>\n",
              "    <tr>\n",
              "      <th>3</th>\n",
              "      <td>China National Petroleum</td>\n",
              "      <td>4</td>\n",
              "      <td>262573</td>\n",
              "      <td>-12.3</td>\n",
              "      <td>1867.5</td>\n",
              "      <td>585619</td>\n",
              "      <td>-73.7</td>\n",
              "      <td>Zhang Jianhua</td>\n",
              "      <td>Petroleum Refining</td>\n",
              "      <td>Energy</td>\n",
              "      <td>3.0</td>\n",
              "      <td>China</td>\n",
              "      <td>Beijing, China</td>\n",
              "      <td>http://www.cnpc.com.cn</td>\n",
              "      <td>17</td>\n",
              "      <td>1512048</td>\n",
              "      <td>301893</td>\n",
              "    </tr>\n",
              "    <tr>\n",
              "      <th>4</th>\n",
              "      <td>Toyota Motor</td>\n",
              "      <td>5</td>\n",
              "      <td>254694</td>\n",
              "      <td>7.7</td>\n",
              "      <td>16899.3</td>\n",
              "      <td>437575</td>\n",
              "      <td>-12.3</td>\n",
              "      <td>Akio Toyoda</td>\n",
              "      <td>Motor Vehicles and Parts</td>\n",
              "      <td>Motor Vehicles &amp; Parts</td>\n",
              "      <td>8.0</td>\n",
              "      <td>Japan</td>\n",
              "      <td>Toyota, Japan</td>\n",
              "      <td>http://www.toyota-global.com</td>\n",
              "      <td>23</td>\n",
              "      <td>364445</td>\n",
              "      <td>157210</td>\n",
              "    </tr>\n",
              "  </tbody>\n",
              "</table>\n",
              "</div>"
            ],
            "text/plain": [
              "                    company  rank  revenues  revenue_change  profits  assets  \\\n",
              "0                   Walmart     1    485873             0.8  13643.0  198825   \n",
              "1                State Grid     2    315199            -4.4   9571.3  489838   \n",
              "2             Sinopec Group     3    267518            -9.1   1257.9  310726   \n",
              "3  China National Petroleum     4    262573           -12.3   1867.5  585619   \n",
              "4              Toyota Motor     5    254694             7.7  16899.3  437575   \n",
              "\n",
              "   profit_change                  ceo                  industry  \\\n",
              "0           -7.2  C. Douglas McMillon     General Merchandisers   \n",
              "1           -6.2              Kou Wei                 Utilities   \n",
              "2          -65.0            Wang Yupu        Petroleum Refining   \n",
              "3          -73.7        Zhang Jianhua        Petroleum Refining   \n",
              "4          -12.3          Akio Toyoda  Motor Vehicles and Parts   \n",
              "\n",
              "                   sector  previous_rank country      hq_location  \\\n",
              "0               Retailing            1.0     USA  Bentonville, AR   \n",
              "1                  Energy            2.0   China   Beijing, China   \n",
              "2                  Energy            4.0   China   Beijing, China   \n",
              "3                  Energy            3.0   China   Beijing, China   \n",
              "4  Motor Vehicles & Parts            8.0   Japan    Toyota, Japan   \n",
              "\n",
              "                        website  years_on_global_500_list  employees  \\\n",
              "0        http://www.walmart.com                        23    2300000   \n",
              "1        http://www.sgcc.com.cn                        17     926067   \n",
              "2        http://www.sinopec.com                        19     713288   \n",
              "3        http://www.cnpc.com.cn                        17    1512048   \n",
              "4  http://www.toyota-global.com                        23     364445   \n",
              "\n",
              "   total_stockholder_equity  \n",
              "0                     77798  \n",
              "1                    209456  \n",
              "2                    106523  \n",
              "3                    301893  \n",
              "4                    157210  "
            ]
          },
          "execution_count": 41,
          "metadata": {},
          "output_type": "execute_result"
        }
      ],
      "source": [
        "previously_ranked = f500[f500[\"previous_rank\"].notnull()]\n",
        "previously_ranked.head()"
      ]
    },
    {
      "cell_type": "code",
      "execution_count": null,
      "metadata": {
        "id": "KgtgKFoUsw_D",
        "outputId": "f222f1dd-df03-4916-945d-bb91bdfe6795"
      },
      "outputs": [
        {
          "data": {
            "text/plain": [
              "0    0.0\n",
              "1    0.0\n",
              "2    1.0\n",
              "3   -1.0\n",
              "4    3.0\n",
              "dtype: float64"
            ]
          },
          "execution_count": 43,
          "metadata": {},
          "output_type": "execute_result"
        }
      ],
      "source": [
        "rank_change = previously_ranked[\"previous_rank\"] - previously_ranked[\"rank\"]\n",
        "rank_change.head()"
      ]
    },
    {
      "cell_type": "code",
      "execution_count": null,
      "metadata": {
        "id": "Jid9oFLesw_E",
        "outputId": "0972e68e-19d0-48fe-fc8e-4b680fe442d8"
      },
      "outputs": [
        {
          "data": {
            "text/html": [
              "<div>\n",
              "<style scoped>\n",
              "    .dataframe tbody tr th:only-of-type {\n",
              "        vertical-align: middle;\n",
              "    }\n",
              "\n",
              "    .dataframe tbody tr th {\n",
              "        vertical-align: top;\n",
              "    }\n",
              "\n",
              "    .dataframe thead th {\n",
              "        text-align: right;\n",
              "    }\n",
              "</style>\n",
              "<table border=\"1\" class=\"dataframe\">\n",
              "  <thead>\n",
              "    <tr style=\"text-align: right;\">\n",
              "      <th></th>\n",
              "      <th>company</th>\n",
              "      <th>revenues</th>\n",
              "      <th>country</th>\n",
              "    </tr>\n",
              "  </thead>\n",
              "  <tbody>\n",
              "    <tr>\n",
              "      <th>0</th>\n",
              "      <td>Walmart</td>\n",
              "      <td>485873</td>\n",
              "      <td>USA</td>\n",
              "    </tr>\n",
              "    <tr>\n",
              "      <th>1</th>\n",
              "      <td>State Grid</td>\n",
              "      <td>315199</td>\n",
              "      <td>China</td>\n",
              "    </tr>\n",
              "    <tr>\n",
              "      <th>2</th>\n",
              "      <td>Sinopec Group</td>\n",
              "      <td>267518</td>\n",
              "      <td>China</td>\n",
              "    </tr>\n",
              "    <tr>\n",
              "      <th>3</th>\n",
              "      <td>China National Petroleum</td>\n",
              "      <td>262573</td>\n",
              "      <td>China</td>\n",
              "    </tr>\n",
              "    <tr>\n",
              "      <th>4</th>\n",
              "      <td>Toyota Motor</td>\n",
              "      <td>254694</td>\n",
              "      <td>Japan</td>\n",
              "    </tr>\n",
              "  </tbody>\n",
              "</table>\n",
              "</div>"
            ],
            "text/plain": [
              "                    company  revenues country\n",
              "0                   Walmart    485873     USA\n",
              "1                State Grid    315199   China\n",
              "2             Sinopec Group    267518   China\n",
              "3  China National Petroleum    262573   China\n",
              "4              Toyota Motor    254694   Japan"
            ]
          },
          "execution_count": 45,
          "metadata": {},
          "output_type": "execute_result"
        }
      ],
      "source": [
        "cols = [\"company\",\"revenues\",\"country\"]\n",
        "f500_sel = f500[cols].head()\n",
        "f500_sel"
      ]
    },
    {
      "cell_type": "code",
      "execution_count": null,
      "metadata": {
        "id": "dSoxLN56sw_E"
      },
      "outputs": [],
      "source": [
        "a = f500_sel[\"country\"] == \"China\""
      ]
    },
    {
      "cell_type": "code",
      "execution_count": null,
      "metadata": {
        "id": "Y4sSsQ82sw_E"
      },
      "outputs": [],
      "source": [
        "b = f500_sel[\"revenues\"] > 265000"
      ]
    },
    {
      "cell_type": "code",
      "execution_count": null,
      "metadata": {
        "id": "rpFNJuTzsw_E",
        "outputId": "39c3be45-e6ad-4496-bc45-ea18980cb8e8"
      },
      "outputs": [
        {
          "data": {
            "text/html": [
              "<div>\n",
              "<style scoped>\n",
              "    .dataframe tbody tr th:only-of-type {\n",
              "        vertical-align: middle;\n",
              "    }\n",
              "\n",
              "    .dataframe tbody tr th {\n",
              "        vertical-align: top;\n",
              "    }\n",
              "\n",
              "    .dataframe thead th {\n",
              "        text-align: right;\n",
              "    }\n",
              "</style>\n",
              "<table border=\"1\" class=\"dataframe\">\n",
              "  <thead>\n",
              "    <tr style=\"text-align: right;\">\n",
              "      <th></th>\n",
              "      <th>company</th>\n",
              "      <th>revenues</th>\n",
              "    </tr>\n",
              "  </thead>\n",
              "  <tbody>\n",
              "    <tr>\n",
              "      <th>1</th>\n",
              "      <td>State Grid</td>\n",
              "      <td>315199</td>\n",
              "    </tr>\n",
              "    <tr>\n",
              "      <th>2</th>\n",
              "      <td>Sinopec Group</td>\n",
              "      <td>267518</td>\n",
              "    </tr>\n",
              "  </tbody>\n",
              "</table>\n",
              "</div>"
            ],
            "text/plain": [
              "         company  revenues\n",
              "1     State Grid    315199\n",
              "2  Sinopec Group    267518"
            ]
          },
          "execution_count": 60,
          "metadata": {},
          "output_type": "execute_result"
        }
      ],
      "source": [
        "f500_sel.loc[a & b,[\"company\",\"revenues\"]]"
      ]
    },
    {
      "cell_type": "code",
      "execution_count": null,
      "metadata": {
        "id": "9WrGfxU-sw_E",
        "outputId": "bb7dfba9-26ca-494b-cd4c-eef19f4a8441"
      },
      "outputs": [
        {
          "data": {
            "text/html": [
              "<div>\n",
              "<style scoped>\n",
              "    .dataframe tbody tr th:only-of-type {\n",
              "        vertical-align: middle;\n",
              "    }\n",
              "\n",
              "    .dataframe tbody tr th {\n",
              "        vertical-align: top;\n",
              "    }\n",
              "\n",
              "    .dataframe thead th {\n",
              "        text-align: right;\n",
              "    }\n",
              "</style>\n",
              "<table border=\"1\" class=\"dataframe\">\n",
              "  <thead>\n",
              "    <tr style=\"text-align: right;\">\n",
              "      <th></th>\n",
              "      <th>company</th>\n",
              "      <th>revenues</th>\n",
              "    </tr>\n",
              "  </thead>\n",
              "  <tbody>\n",
              "    <tr>\n",
              "      <th>1</th>\n",
              "      <td>State Grid</td>\n",
              "      <td>315199</td>\n",
              "    </tr>\n",
              "    <tr>\n",
              "      <th>2</th>\n",
              "      <td>Sinopec Group</td>\n",
              "      <td>267518</td>\n",
              "    </tr>\n",
              "  </tbody>\n",
              "</table>\n",
              "</div>"
            ],
            "text/plain": [
              "         company  revenues\n",
              "1     State Grid    315199\n",
              "2  Sinopec Group    267518"
            ]
          },
          "execution_count": 64,
          "metadata": {},
          "output_type": "execute_result"
        }
      ],
      "source": [
        "result = f500_sel.loc[(f500_sel[\"revenues\"] > 265000) & (f500_sel[\"country\"] == \"China\"), [\"company\", \"revenues\"]]\n",
        "result"
      ]
    },
    {
      "cell_type": "code",
      "execution_count": null,
      "metadata": {
        "id": "W46sBdmXsw_E",
        "outputId": "d9ad6a2e-841e-416c-cc10-df1eb888d81a"
      },
      "outputs": [
        {
          "data": {
            "text/html": [
              "<div>\n",
              "<style scoped>\n",
              "    .dataframe tbody tr th:only-of-type {\n",
              "        vertical-align: middle;\n",
              "    }\n",
              "\n",
              "    .dataframe tbody tr th {\n",
              "        vertical-align: top;\n",
              "    }\n",
              "\n",
              "    .dataframe thead th {\n",
              "        text-align: right;\n",
              "    }\n",
              "</style>\n",
              "<table border=\"1\" class=\"dataframe\">\n",
              "  <thead>\n",
              "    <tr style=\"text-align: right;\">\n",
              "      <th></th>\n",
              "      <th>company</th>\n",
              "      <th>rank</th>\n",
              "      <th>revenues</th>\n",
              "      <th>revenue_change</th>\n",
              "      <th>profits</th>\n",
              "      <th>assets</th>\n",
              "      <th>profit_change</th>\n",
              "      <th>ceo</th>\n",
              "      <th>industry</th>\n",
              "      <th>sector</th>\n",
              "      <th>previous_rank</th>\n",
              "      <th>country</th>\n",
              "      <th>hq_location</th>\n",
              "      <th>website</th>\n",
              "      <th>years_on_global_500_list</th>\n",
              "      <th>employees</th>\n",
              "      <th>total_stockholder_equity</th>\n",
              "    </tr>\n",
              "  </thead>\n",
              "  <tbody>\n",
              "    <tr>\n",
              "      <th>32</th>\n",
              "      <td>Japan Post Holdings</td>\n",
              "      <td>33</td>\n",
              "      <td>122990</td>\n",
              "      <td>3.6</td>\n",
              "      <td>-267.4</td>\n",
              "      <td>2631385</td>\n",
              "      <td>-107.5</td>\n",
              "      <td>Masatsugu Nagato</td>\n",
              "      <td>Insurance: Life, Health (stock)</td>\n",
              "      <td>Financials</td>\n",
              "      <td>37.0</td>\n",
              "      <td>Japan</td>\n",
              "      <td>Tokyo, Japan</td>\n",
              "      <td>http://www.japanpost.jp</td>\n",
              "      <td>21</td>\n",
              "      <td>248384</td>\n",
              "      <td>91532</td>\n",
              "    </tr>\n",
              "    <tr>\n",
              "      <th>44</th>\n",
              "      <td>Chevron</td>\n",
              "      <td>45</td>\n",
              "      <td>107567</td>\n",
              "      <td>-18.0</td>\n",
              "      <td>-497.0</td>\n",
              "      <td>260078</td>\n",
              "      <td>-110.8</td>\n",
              "      <td>John S. Watson</td>\n",
              "      <td>Petroleum Refining</td>\n",
              "      <td>Energy</td>\n",
              "      <td>31.0</td>\n",
              "      <td>USA</td>\n",
              "      <td>San Ramon, CA</td>\n",
              "      <td>http://www.chevron.com</td>\n",
              "      <td>23</td>\n",
              "      <td>55200</td>\n",
              "      <td>145556</td>\n",
              "    </tr>\n",
              "  </tbody>\n",
              "</table>\n",
              "</div>"
            ],
            "text/plain": [
              "                company  rank  revenues  revenue_change  profits   assets  \\\n",
              "32  Japan Post Holdings    33    122990             3.6   -267.4  2631385   \n",
              "44              Chevron    45    107567           -18.0   -497.0   260078   \n",
              "\n",
              "    profit_change               ceo                         industry  \\\n",
              "32         -107.5  Masatsugu Nagato  Insurance: Life, Health (stock)   \n",
              "44         -110.8    John S. Watson               Petroleum Refining   \n",
              "\n",
              "        sector  previous_rank country    hq_location                  website  \\\n",
              "32  Financials           37.0   Japan   Tokyo, Japan  http://www.japanpost.jp   \n",
              "44      Energy           31.0     USA  San Ramon, CA   http://www.chevron.com   \n",
              "\n",
              "    years_on_global_500_list  employees  total_stockholder_equity  \n",
              "32                        21     248384                     91532  \n",
              "44                        23      55200                    145556  "
            ]
          },
          "execution_count": 66,
          "metadata": {},
          "output_type": "execute_result"
        }
      ],
      "source": [
        "big_rev_neg_profit = f500.loc[(f500[\"profits\"] < 0) & (f500[\"revenues\"] > 100000), :]\n",
        "big_rev_neg_profit.head()"
      ]
    },
    {
      "cell_type": "code",
      "execution_count": null,
      "metadata": {
        "id": "9L0NahKJsw_F",
        "outputId": "9ce1dd70-d636-419a-fde6-910c4fe7e2d8"
      },
      "outputs": [
        {
          "data": {
            "text/html": [
              "<div>\n",
              "<style scoped>\n",
              "    .dataframe tbody tr th:only-of-type {\n",
              "        vertical-align: middle;\n",
              "    }\n",
              "\n",
              "    .dataframe tbody tr th {\n",
              "        vertical-align: top;\n",
              "    }\n",
              "\n",
              "    .dataframe thead th {\n",
              "        text-align: right;\n",
              "    }\n",
              "</style>\n",
              "<table border=\"1\" class=\"dataframe\">\n",
              "  <thead>\n",
              "    <tr style=\"text-align: right;\">\n",
              "      <th></th>\n",
              "      <th>company</th>\n",
              "      <th>rank</th>\n",
              "      <th>revenues</th>\n",
              "      <th>revenue_change</th>\n",
              "      <th>profits</th>\n",
              "      <th>assets</th>\n",
              "      <th>profit_change</th>\n",
              "      <th>ceo</th>\n",
              "      <th>industry</th>\n",
              "      <th>sector</th>\n",
              "      <th>previous_rank</th>\n",
              "      <th>country</th>\n",
              "      <th>hq_location</th>\n",
              "      <th>website</th>\n",
              "      <th>years_on_global_500_list</th>\n",
              "      <th>employees</th>\n",
              "      <th>total_stockholder_equity</th>\n",
              "    </tr>\n",
              "  </thead>\n",
              "  <tbody>\n",
              "    <tr>\n",
              "      <th>14</th>\n",
              "      <td>Samsung Electronics</td>\n",
              "      <td>15</td>\n",
              "      <td>173957</td>\n",
              "      <td>-2.0</td>\n",
              "      <td>19316.5</td>\n",
              "      <td>217104</td>\n",
              "      <td>16.8</td>\n",
              "      <td>Oh-Hyun Kwon</td>\n",
              "      <td>Electronics, Electrical Equip.</td>\n",
              "      <td>Technology</td>\n",
              "      <td>13.0</td>\n",
              "      <td>South Korea</td>\n",
              "      <td>Suwon, South Korea</td>\n",
              "      <td>http://www.samsung.com</td>\n",
              "      <td>23</td>\n",
              "      <td>325000</td>\n",
              "      <td>154376</td>\n",
              "    </tr>\n",
              "    <tr>\n",
              "      <th>26</th>\n",
              "      <td>Hon Hai Precision Industry</td>\n",
              "      <td>27</td>\n",
              "      <td>135129</td>\n",
              "      <td>-4.3</td>\n",
              "      <td>4608.8</td>\n",
              "      <td>80436</td>\n",
              "      <td>-0.4</td>\n",
              "      <td>Terry Gou</td>\n",
              "      <td>Electronics, Electrical Equip.</td>\n",
              "      <td>Technology</td>\n",
              "      <td>25.0</td>\n",
              "      <td>Taiwan</td>\n",
              "      <td>New Taipei City, Taiwan</td>\n",
              "      <td>http://www.foxconn.com</td>\n",
              "      <td>13</td>\n",
              "      <td>726772</td>\n",
              "      <td>33476</td>\n",
              "    </tr>\n",
              "    <tr>\n",
              "      <th>70</th>\n",
              "      <td>Hitachi</td>\n",
              "      <td>71</td>\n",
              "      <td>84558</td>\n",
              "      <td>1.2</td>\n",
              "      <td>2134.3</td>\n",
              "      <td>86742</td>\n",
              "      <td>48.8</td>\n",
              "      <td>Toshiaki Higashihara</td>\n",
              "      <td>Electronics, Electrical Equip.</td>\n",
              "      <td>Technology</td>\n",
              "      <td>79.0</td>\n",
              "      <td>Japan</td>\n",
              "      <td>Tokyo, Japan</td>\n",
              "      <td>http://www.hitachi.com</td>\n",
              "      <td>23</td>\n",
              "      <td>303887</td>\n",
              "      <td>26632</td>\n",
              "    </tr>\n",
              "    <tr>\n",
              "      <th>82</th>\n",
              "      <td>Huawei Investment &amp; Holding</td>\n",
              "      <td>83</td>\n",
              "      <td>78511</td>\n",
              "      <td>24.9</td>\n",
              "      <td>5579.4</td>\n",
              "      <td>63837</td>\n",
              "      <td>-5.0</td>\n",
              "      <td>Ren Zhengfei</td>\n",
              "      <td>Network and Other Communications Equipment</td>\n",
              "      <td>Technology</td>\n",
              "      <td>129.0</td>\n",
              "      <td>China</td>\n",
              "      <td>Shenzhen, China</td>\n",
              "      <td>http://www.huawei.com</td>\n",
              "      <td>8</td>\n",
              "      <td>180000</td>\n",
              "      <td>20159</td>\n",
              "    </tr>\n",
              "    <tr>\n",
              "      <th>104</th>\n",
              "      <td>Sony</td>\n",
              "      <td>105</td>\n",
              "      <td>70170</td>\n",
              "      <td>3.9</td>\n",
              "      <td>676.4</td>\n",
              "      <td>158519</td>\n",
              "      <td>-45.1</td>\n",
              "      <td>Kazuo Hirai</td>\n",
              "      <td>Electronics, Electrical Equip.</td>\n",
              "      <td>Technology</td>\n",
              "      <td>113.0</td>\n",
              "      <td>Japan</td>\n",
              "      <td>Tokyo, Japan</td>\n",
              "      <td>http://www.sony.net</td>\n",
              "      <td>23</td>\n",
              "      <td>128400</td>\n",
              "      <td>22415</td>\n",
              "    </tr>\n",
              "  </tbody>\n",
              "</table>\n",
              "</div>"
            ],
            "text/plain": [
              "                         company  rank  revenues  revenue_change  profits  \\\n",
              "14           Samsung Electronics    15    173957            -2.0  19316.5   \n",
              "26    Hon Hai Precision Industry    27    135129            -4.3   4608.8   \n",
              "70                       Hitachi    71     84558             1.2   2134.3   \n",
              "82   Huawei Investment & Holding    83     78511            24.9   5579.4   \n",
              "104                         Sony   105     70170             3.9    676.4   \n",
              "\n",
              "     assets  profit_change                   ceo  \\\n",
              "14   217104           16.8          Oh-Hyun Kwon   \n",
              "26    80436           -0.4             Terry Gou   \n",
              "70    86742           48.8  Toshiaki Higashihara   \n",
              "82    63837           -5.0          Ren Zhengfei   \n",
              "104  158519          -45.1           Kazuo Hirai   \n",
              "\n",
              "                                       industry      sector  previous_rank  \\\n",
              "14               Electronics, Electrical Equip.  Technology           13.0   \n",
              "26               Electronics, Electrical Equip.  Technology           25.0   \n",
              "70               Electronics, Electrical Equip.  Technology           79.0   \n",
              "82   Network and Other Communications Equipment  Technology          129.0   \n",
              "104              Electronics, Electrical Equip.  Technology          113.0   \n",
              "\n",
              "         country              hq_location                 website  \\\n",
              "14   South Korea       Suwon, South Korea  http://www.samsung.com   \n",
              "26        Taiwan  New Taipei City, Taiwan  http://www.foxconn.com   \n",
              "70         Japan             Tokyo, Japan  http://www.hitachi.com   \n",
              "82         China          Shenzhen, China   http://www.huawei.com   \n",
              "104        Japan             Tokyo, Japan     http://www.sony.net   \n",
              "\n",
              "     years_on_global_500_list  employees  total_stockholder_equity  \n",
              "14                         23     325000                    154376  \n",
              "26                         13     726772                     33476  \n",
              "70                         23     303887                     26632  \n",
              "82                          8     180000                     20159  \n",
              "104                        23     128400                     22415  "
            ]
          },
          "execution_count": 71,
          "metadata": {},
          "output_type": "execute_result"
        }
      ],
      "source": [
        "tech_outside_usa = f500[(f500[\"sector\"] == \"Technology\") & ~(f500[\"country\"] == \"USA\")]\n",
        "tech_outside_usa.head()"
      ]
    },
    {
      "cell_type": "code",
      "execution_count": null,
      "metadata": {
        "id": "dOP2icAusw_F",
        "outputId": "0252f7e3-6dfa-4413-b451-c16bfeb9b8a5"
      },
      "outputs": [
        {
          "data": {
            "text/plain": [
              "0    0.0\n",
              "1    0.0\n",
              "2    1.0\n",
              "3   -1.0\n",
              "4    3.0\n",
              "dtype: float64"
            ]
          },
          "execution_count": 73,
          "metadata": {},
          "output_type": "execute_result"
        }
      ],
      "source": [
        "rank_change.head(5)"
      ]
    },
    {
      "cell_type": "code",
      "execution_count": null,
      "metadata": {
        "id": "nAw0lyBcsw_F"
      },
      "outputs": [],
      "source": [
        "f500[\"rank_change\"] = rank_change"
      ]
    },
    {
      "cell_type": "code",
      "execution_count": null,
      "metadata": {
        "id": "Kmc9kCItsw_F",
        "outputId": "7aaea7e9-c7c0-4f5c-c093-1eae02cbd295"
      },
      "outputs": [
        {
          "data": {
            "text/html": [
              "<div>\n",
              "<style scoped>\n",
              "    .dataframe tbody tr th:only-of-type {\n",
              "        vertical-align: middle;\n",
              "    }\n",
              "\n",
              "    .dataframe tbody tr th {\n",
              "        vertical-align: top;\n",
              "    }\n",
              "\n",
              "    .dataframe thead th {\n",
              "        text-align: right;\n",
              "    }\n",
              "</style>\n",
              "<table border=\"1\" class=\"dataframe\">\n",
              "  <thead>\n",
              "    <tr style=\"text-align: right;\">\n",
              "      <th></th>\n",
              "      <th>company</th>\n",
              "      <th>rank</th>\n",
              "      <th>revenues</th>\n",
              "      <th>revenue_change</th>\n",
              "      <th>profits</th>\n",
              "      <th>assets</th>\n",
              "      <th>profit_change</th>\n",
              "      <th>ceo</th>\n",
              "      <th>industry</th>\n",
              "      <th>sector</th>\n",
              "      <th>previous_rank</th>\n",
              "      <th>country</th>\n",
              "      <th>hq_location</th>\n",
              "      <th>website</th>\n",
              "      <th>years_on_global_500_list</th>\n",
              "      <th>employees</th>\n",
              "      <th>total_stockholder_equity</th>\n",
              "      <th>rank_change</th>\n",
              "    </tr>\n",
              "  </thead>\n",
              "  <tbody>\n",
              "    <tr>\n",
              "      <th>0</th>\n",
              "      <td>Walmart</td>\n",
              "      <td>1</td>\n",
              "      <td>485873</td>\n",
              "      <td>0.8</td>\n",
              "      <td>13643.0</td>\n",
              "      <td>198825</td>\n",
              "      <td>-7.2</td>\n",
              "      <td>C. Douglas McMillon</td>\n",
              "      <td>General Merchandisers</td>\n",
              "      <td>Retailing</td>\n",
              "      <td>1.0</td>\n",
              "      <td>USA</td>\n",
              "      <td>Bentonville, AR</td>\n",
              "      <td>http://www.walmart.com</td>\n",
              "      <td>23</td>\n",
              "      <td>2300000</td>\n",
              "      <td>77798</td>\n",
              "      <td>0.0</td>\n",
              "    </tr>\n",
              "    <tr>\n",
              "      <th>1</th>\n",
              "      <td>State Grid</td>\n",
              "      <td>2</td>\n",
              "      <td>315199</td>\n",
              "      <td>-4.4</td>\n",
              "      <td>9571.3</td>\n",
              "      <td>489838</td>\n",
              "      <td>-6.2</td>\n",
              "      <td>Kou Wei</td>\n",
              "      <td>Utilities</td>\n",
              "      <td>Energy</td>\n",
              "      <td>2.0</td>\n",
              "      <td>China</td>\n",
              "      <td>Beijing, China</td>\n",
              "      <td>http://www.sgcc.com.cn</td>\n",
              "      <td>17</td>\n",
              "      <td>926067</td>\n",
              "      <td>209456</td>\n",
              "      <td>0.0</td>\n",
              "    </tr>\n",
              "    <tr>\n",
              "      <th>2</th>\n",
              "      <td>Sinopec Group</td>\n",
              "      <td>3</td>\n",
              "      <td>267518</td>\n",
              "      <td>-9.1</td>\n",
              "      <td>1257.9</td>\n",
              "      <td>310726</td>\n",
              "      <td>-65.0</td>\n",
              "      <td>Wang Yupu</td>\n",
              "      <td>Petroleum Refining</td>\n",
              "      <td>Energy</td>\n",
              "      <td>4.0</td>\n",
              "      <td>China</td>\n",
              "      <td>Beijing, China</td>\n",
              "      <td>http://www.sinopec.com</td>\n",
              "      <td>19</td>\n",
              "      <td>713288</td>\n",
              "      <td>106523</td>\n",
              "      <td>1.0</td>\n",
              "    </tr>\n",
              "    <tr>\n",
              "      <th>3</th>\n",
              "      <td>China National Petroleum</td>\n",
              "      <td>4</td>\n",
              "      <td>262573</td>\n",
              "      <td>-12.3</td>\n",
              "      <td>1867.5</td>\n",
              "      <td>585619</td>\n",
              "      <td>-73.7</td>\n",
              "      <td>Zhang Jianhua</td>\n",
              "      <td>Petroleum Refining</td>\n",
              "      <td>Energy</td>\n",
              "      <td>3.0</td>\n",
              "      <td>China</td>\n",
              "      <td>Beijing, China</td>\n",
              "      <td>http://www.cnpc.com.cn</td>\n",
              "      <td>17</td>\n",
              "      <td>1512048</td>\n",
              "      <td>301893</td>\n",
              "      <td>-1.0</td>\n",
              "    </tr>\n",
              "    <tr>\n",
              "      <th>4</th>\n",
              "      <td>Toyota Motor</td>\n",
              "      <td>5</td>\n",
              "      <td>254694</td>\n",
              "      <td>7.7</td>\n",
              "      <td>16899.3</td>\n",
              "      <td>437575</td>\n",
              "      <td>-12.3</td>\n",
              "      <td>Akio Toyoda</td>\n",
              "      <td>Motor Vehicles and Parts</td>\n",
              "      <td>Motor Vehicles &amp; Parts</td>\n",
              "      <td>8.0</td>\n",
              "      <td>Japan</td>\n",
              "      <td>Toyota, Japan</td>\n",
              "      <td>http://www.toyota-global.com</td>\n",
              "      <td>23</td>\n",
              "      <td>364445</td>\n",
              "      <td>157210</td>\n",
              "      <td>3.0</td>\n",
              "    </tr>\n",
              "  </tbody>\n",
              "</table>\n",
              "</div>"
            ],
            "text/plain": [
              "                    company  rank  revenues  revenue_change  profits  assets  \\\n",
              "0                   Walmart     1    485873             0.8  13643.0  198825   \n",
              "1                State Grid     2    315199            -4.4   9571.3  489838   \n",
              "2             Sinopec Group     3    267518            -9.1   1257.9  310726   \n",
              "3  China National Petroleum     4    262573           -12.3   1867.5  585619   \n",
              "4              Toyota Motor     5    254694             7.7  16899.3  437575   \n",
              "\n",
              "   profit_change                  ceo                  industry  \\\n",
              "0           -7.2  C. Douglas McMillon     General Merchandisers   \n",
              "1           -6.2              Kou Wei                 Utilities   \n",
              "2          -65.0            Wang Yupu        Petroleum Refining   \n",
              "3          -73.7        Zhang Jianhua        Petroleum Refining   \n",
              "4          -12.3          Akio Toyoda  Motor Vehicles and Parts   \n",
              "\n",
              "                   sector  previous_rank country      hq_location  \\\n",
              "0               Retailing            1.0     USA  Bentonville, AR   \n",
              "1                  Energy            2.0   China   Beijing, China   \n",
              "2                  Energy            4.0   China   Beijing, China   \n",
              "3                  Energy            3.0   China   Beijing, China   \n",
              "4  Motor Vehicles & Parts            8.0   Japan    Toyota, Japan   \n",
              "\n",
              "                        website  years_on_global_500_list  employees  \\\n",
              "0        http://www.walmart.com                        23    2300000   \n",
              "1        http://www.sgcc.com.cn                        17     926067   \n",
              "2        http://www.sinopec.com                        19     713288   \n",
              "3        http://www.cnpc.com.cn                        17    1512048   \n",
              "4  http://www.toyota-global.com                        23     364445   \n",
              "\n",
              "   total_stockholder_equity  rank_change  \n",
              "0                     77798          0.0  \n",
              "1                    209456          0.0  \n",
              "2                    106523          1.0  \n",
              "3                    301893         -1.0  \n",
              "4                    157210          3.0  "
            ]
          },
          "execution_count": 75,
          "metadata": {},
          "output_type": "execute_result"
        }
      ],
      "source": [
        "f500.head()"
      ]
    },
    {
      "cell_type": "code",
      "execution_count": null,
      "metadata": {
        "id": "0BpJHJ46sw_F",
        "outputId": "0643ba31-7025-478e-833d-b0f639342dd9"
      },
      "outputs": [
        {
          "data": {
            "text/plain": [
              "{'Australia': 'Wesfarmers',\n",
              " 'Belgium': 'Anheuser-Busch InBev',\n",
              " 'Brazil': 'JBS',\n",
              " 'Britain': 'Compass Group',\n",
              " 'Canada': 'George Weston',\n",
              " 'China': 'China National Petroleum',\n",
              " 'Denmark': 'Maersk Group',\n",
              " 'Finland': 'Nokia',\n",
              " 'France': 'Sodexo',\n",
              " 'Germany': 'Volkswagen',\n",
              " 'India': 'State Bank of India',\n",
              " 'Indonesia': 'Pertamina',\n",
              " 'Ireland': 'Accenture',\n",
              " 'Israel': 'Teva Pharmaceutical Industries',\n",
              " 'Italy': 'Poste Italiane',\n",
              " 'Japan': 'Toyota Motor',\n",
              " 'Luxembourg': 'ArcelorMittal',\n",
              " 'Malaysia': 'Petronas',\n",
              " 'Mexico': 'America Movil',\n",
              " 'Netherlands': 'EXOR Group',\n",
              " 'Norway': 'Statoil',\n",
              " 'Russia': 'Gazprom',\n",
              " 'Saudi Arabia': 'SABIC',\n",
              " 'Singapore': 'Flex',\n",
              " 'South Korea': 'Samsung Electronics',\n",
              " 'Spain': 'Banco Santander',\n",
              " 'Sweden': 'H & M Hennes & Mauritz',\n",
              " 'Switzerland': 'Nestle',\n",
              " 'Taiwan': 'Hon Hai Precision Industry',\n",
              " 'Thailand': 'PTT',\n",
              " 'Turkey': 'Koc Holding',\n",
              " 'U.A.E': 'Emirates Group',\n",
              " 'USA': 'Walmart',\n",
              " 'Venezuela': 'Mercantil Servicios Financieros'}"
            ]
          },
          "execution_count": 77,
          "metadata": {},
          "output_type": "execute_result"
        }
      ],
      "source": [
        "top_employer_by_country = {}\n",
        "countries = f500[\"country\"].unique()\n",
        "for c in countries:\n",
        "    top_employer_by_country[c] = f500[f500[\"country\"] == c].sort_values(\"employees\",ascending=False).iloc[0][\"company\"]\n",
        "top_employer_by_country"
      ]
    },
    {
      "cell_type": "code",
      "execution_count": null,
      "metadata": {
        "id": "HkpX342nsw_F",
        "outputId": "700f90ce-3429-41cd-fc40-f22259c7d9c8"
      },
      "outputs": [
        {
          "data": {
            "text/plain": [
              "{'Aerospace & Defense': 'Lockheed Martin',\n",
              " 'Apparel': 'Nike',\n",
              " 'Business Services': 'Adecco Group',\n",
              " 'Chemicals': 'LyondellBasell Industries',\n",
              " 'Energy': 'National Grid',\n",
              " 'Engineering & Construction': 'Pacific Construction Group',\n",
              " 'Financials': 'Berkshire Hathaway',\n",
              " 'Food & Drug Stores': 'Publix Super Markets',\n",
              " 'Food, Beverages & Tobacco': 'Philip Morris International',\n",
              " 'Health Care': 'Gilead Sciences',\n",
              " 'Hotels, Restaurants & Leisure': 'McDonald’s',\n",
              " 'Household Products': 'Unilever',\n",
              " 'Industrials': '3M',\n",
              " 'Materials': 'CRH',\n",
              " 'Media': 'Disney',\n",
              " 'Motor Vehicles & Parts': 'Subaru',\n",
              " 'Retailing': 'H & M Hennes & Mauritz',\n",
              " 'Technology': 'Accenture',\n",
              " 'Telecommunications': 'KDDI',\n",
              " 'Transportation': 'Delta Air Lines',\n",
              " 'Wholesalers': 'McKesson'}"
            ]
          },
          "execution_count": 81,
          "metadata": {},
          "output_type": "execute_result"
        }
      ],
      "source": [
        "f500[\"roa\"] = f500[\"profits\"] / f500[\"assets\"]\n",
        "top_roa_by_sector = {}\n",
        "for sector in f500[\"sector\"].unique():\n",
        "    top_roa_by_sector[sector] = f500[f500[\"sector\"] == sector].sort_values(\"roa\",ascending = False).iloc[0][\"company\"]\n",
        "top_roa_by_sector"
      ]
    }
  ],
  "metadata": {
    "kernelspec": {
      "display_name": "Python 3",
      "language": "python",
      "name": "python3"
    },
    "language_info": {
      "codemirror_mode": {
        "name": "ipython",
        "version": 3
      },
      "file_extension": ".py",
      "mimetype": "text/x-python",
      "name": "python",
      "nbconvert_exporter": "python",
      "pygments_lexer": "ipython3",
      "version": "3.6.4"
    },
    "colab": {
      "name": "Activity - Manipulating Data with on F500 dataset.ipynb",
      "provenance": []
    }
  },
  "nbformat": 4,
  "nbformat_minor": 0
}