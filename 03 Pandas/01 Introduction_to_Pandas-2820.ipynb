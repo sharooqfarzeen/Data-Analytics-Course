{
  "nbformat": 4,
  "nbformat_minor": 0,
  "metadata": {
    "colab": {
      "name": "Introduction to Pandas.ipynb",
      "provenance": []
    },
    "kernelspec": {
      "name": "python3",
      "display_name": "Python 3"
    },
    "language_info": {
      "name": "python"
    }
  },
  "cells": [
    {
      "cell_type": "markdown",
      "metadata": {
        "id": "ZUOinR4_gOu4"
      },
      "source": [
        "#**Pandas**"
      ]
    },
    {
      "cell_type": "markdown",
      "metadata": {
        "id": "kn6MV_44CvhU"
      },
      "source": [
        "Pandas is an open source library which provides high-performance, easy-to-use data structures and data analysis tools for the Python programming language. Pandas has a lot of functions that will help in reading and writing data and also for data manipulation. Thus we will be using pandas throughout the course.\n",
        "\n",
        "Pandas behave like an excel file."
      ]
    },
    {
      "cell_type": "markdown",
      "metadata": {
        "id": "INyL_fXpIcEQ"
      },
      "source": [
        "Lets import pandas and read some data."
      ]
    },
    {
      "cell_type": "code",
      "metadata": {
        "id": "uspOsFbjIUrH"
      },
      "source": [
        "#Import Pandas\n",
        "import pandas as pd"
      ],
      "execution_count": null,
      "outputs": []
    },
    {
      "cell_type": "markdown",
      "metadata": {
        "id": "bFJFg4KPIfNT"
      },
      "source": [
        "##**Reading Data**"
      ]
    },
    {
      "cell_type": "markdown",
      "metadata": {
        "id": "IyGgMuEnIkri"
      },
      "source": [
        "We will use **read_csv()** function. It reads a comma-separated values (csv) file into DataFrame."
      ]
    },
    {
      "cell_type": "code",
      "metadata": {
        "id": "VTAQgG45Ij5i"
      },
      "source": [
        "#Loading data with read_csv() function. Here we are providing path to the csv file. \n",
        "#If the file is in your system you can provide its path as well.\n",
        "iris = pd.read_csv(\"https://archive.ics.uci.edu/ml/machine-learning-databases/iris/iris.data\")"
      ],
      "execution_count": null,
      "outputs": []
    },
    {
      "cell_type": "code",
      "metadata": {
        "colab": {
          "base_uri": "https://localhost:8080/"
        },
        "id": "fZem-wj9IiTg",
        "outputId": "13a40f99-859b-41bc-db88-9374514749b8"
      },
      "source": [
        "type(iris)"
      ],
      "execution_count": null,
      "outputs": [
        {
          "output_type": "execute_result",
          "data": {
            "text/plain": [
              "pandas.core.frame.DataFrame"
            ]
          },
          "metadata": {
            "tags": []
          },
          "execution_count": 3
        }
      ]
    },
    {
      "cell_type": "markdown",
      "metadata": {
        "id": "82WVSdzZCver"
      },
      "source": [
        "##**Pandas Dataframes**"
      ]
    },
    {
      "cell_type": "markdown",
      "metadata": {
        "id": "xegid96XCvcO"
      },
      "source": [
        "DataFrame is an object for data manipulation. You can think of it as a 2D tabular structure, where every row is a dataset entry and columns represents features of data."
      ]
    },
    {
      "cell_type": "code",
      "metadata": {
        "colab": {
          "base_uri": "https://localhost:8080/",
          "height": 402
        },
        "id": "vuoIJ9ynJGR3",
        "outputId": "1cafbc10-1980-4e7e-cc9c-811a593ac698"
      },
      "source": [
        "iris"
      ],
      "execution_count": null,
      "outputs": [
        {
          "output_type": "execute_result",
          "data": {
            "text/html": [
              "<div>\n",
              "<style scoped>\n",
              "    .dataframe tbody tr th:only-of-type {\n",
              "        vertical-align: middle;\n",
              "    }\n",
              "\n",
              "    .dataframe tbody tr th {\n",
              "        vertical-align: top;\n",
              "    }\n",
              "\n",
              "    .dataframe thead th {\n",
              "        text-align: right;\n",
              "    }\n",
              "</style>\n",
              "<table border=\"1\" class=\"dataframe\">\n",
              "  <thead>\n",
              "    <tr style=\"text-align: right;\">\n",
              "      <th></th>\n",
              "      <th>5.1</th>\n",
              "      <th>3.5</th>\n",
              "      <th>1.4</th>\n",
              "      <th>0.2</th>\n",
              "      <th>Iris-setosa</th>\n",
              "    </tr>\n",
              "  </thead>\n",
              "  <tbody>\n",
              "    <tr>\n",
              "      <th>0</th>\n",
              "      <td>4.9</td>\n",
              "      <td>3.0</td>\n",
              "      <td>1.4</td>\n",
              "      <td>0.2</td>\n",
              "      <td>Iris-setosa</td>\n",
              "    </tr>\n",
              "    <tr>\n",
              "      <th>1</th>\n",
              "      <td>4.7</td>\n",
              "      <td>3.2</td>\n",
              "      <td>1.3</td>\n",
              "      <td>0.2</td>\n",
              "      <td>Iris-setosa</td>\n",
              "    </tr>\n",
              "    <tr>\n",
              "      <th>2</th>\n",
              "      <td>4.6</td>\n",
              "      <td>3.1</td>\n",
              "      <td>1.5</td>\n",
              "      <td>0.2</td>\n",
              "      <td>Iris-setosa</td>\n",
              "    </tr>\n",
              "    <tr>\n",
              "      <th>3</th>\n",
              "      <td>5.0</td>\n",
              "      <td>3.6</td>\n",
              "      <td>1.4</td>\n",
              "      <td>0.2</td>\n",
              "      <td>Iris-setosa</td>\n",
              "    </tr>\n",
              "    <tr>\n",
              "      <th>4</th>\n",
              "      <td>5.4</td>\n",
              "      <td>3.9</td>\n",
              "      <td>1.7</td>\n",
              "      <td>0.4</td>\n",
              "      <td>Iris-setosa</td>\n",
              "    </tr>\n",
              "    <tr>\n",
              "      <th>...</th>\n",
              "      <td>...</td>\n",
              "      <td>...</td>\n",
              "      <td>...</td>\n",
              "      <td>...</td>\n",
              "      <td>...</td>\n",
              "    </tr>\n",
              "    <tr>\n",
              "      <th>144</th>\n",
              "      <td>6.7</td>\n",
              "      <td>3.0</td>\n",
              "      <td>5.2</td>\n",
              "      <td>2.3</td>\n",
              "      <td>Iris-virginica</td>\n",
              "    </tr>\n",
              "    <tr>\n",
              "      <th>145</th>\n",
              "      <td>6.3</td>\n",
              "      <td>2.5</td>\n",
              "      <td>5.0</td>\n",
              "      <td>1.9</td>\n",
              "      <td>Iris-virginica</td>\n",
              "    </tr>\n",
              "    <tr>\n",
              "      <th>146</th>\n",
              "      <td>6.5</td>\n",
              "      <td>3.0</td>\n",
              "      <td>5.2</td>\n",
              "      <td>2.0</td>\n",
              "      <td>Iris-virginica</td>\n",
              "    </tr>\n",
              "    <tr>\n",
              "      <th>147</th>\n",
              "      <td>6.2</td>\n",
              "      <td>3.4</td>\n",
              "      <td>5.4</td>\n",
              "      <td>2.3</td>\n",
              "      <td>Iris-virginica</td>\n",
              "    </tr>\n",
              "    <tr>\n",
              "      <th>148</th>\n",
              "      <td>5.9</td>\n",
              "      <td>3.0</td>\n",
              "      <td>5.1</td>\n",
              "      <td>1.8</td>\n",
              "      <td>Iris-virginica</td>\n",
              "    </tr>\n",
              "  </tbody>\n",
              "</table>\n",
              "<p>149 rows × 5 columns</p>\n",
              "</div>"
            ],
            "text/plain": [
              "     5.1  3.5  1.4  0.2     Iris-setosa\n",
              "0    4.9  3.0  1.4  0.2     Iris-setosa\n",
              "1    4.7  3.2  1.3  0.2     Iris-setosa\n",
              "2    4.6  3.1  1.5  0.2     Iris-setosa\n",
              "3    5.0  3.6  1.4  0.2     Iris-setosa\n",
              "4    5.4  3.9  1.7  0.4     Iris-setosa\n",
              "..   ...  ...  ...  ...             ...\n",
              "144  6.7  3.0  5.2  2.3  Iris-virginica\n",
              "145  6.3  2.5  5.0  1.9  Iris-virginica\n",
              "146  6.5  3.0  5.2  2.0  Iris-virginica\n",
              "147  6.2  3.4  5.4  2.3  Iris-virginica\n",
              "148  5.9  3.0  5.1  1.8  Iris-virginica\n",
              "\n",
              "[149 rows x 5 columns]"
            ]
          },
          "metadata": {
            "tags": []
          },
          "execution_count": 4
        }
      ]
    },
    {
      "cell_type": "markdown",
      "metadata": {
        "id": "gC001LJACvaD"
      },
      "source": [
        "By default, the first row of the csv file has been used as column names. We will soon see how to fix that."
      ]
    }
  ]
}