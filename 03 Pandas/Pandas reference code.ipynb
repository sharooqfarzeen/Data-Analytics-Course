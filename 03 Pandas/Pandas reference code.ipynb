{
 "cells": [
  {
   "cell_type": "code",
   "execution_count": 1,
   "id": "54580efa",
   "metadata": {},
   "outputs": [
    {
     "name": "stdout",
     "output_type": "stream",
     "text": [
      "Bangalore 46.33\n",
      "New Delhi 15.50\n",
      "Mumbai 12.95\n",
      "Gurgaon 11.38\n",
      "nan 7.00\n",
      "Chennai 2.26\n",
      "Pune 2.02\n",
      "Hyderabad 1.07\n",
      "Noida 0.94\n",
      "Ahmedabad 0.54\n",
      "63.48991394042969\n"
     ]
    }
   ],
   "source": [
    "import pandas as pd\n",
    "import numpy as np\n",
    "import matplotlib.pyplot as plt\n",
    "from datetime import datetime \n",
    "import time\n",
    "\n",
    "start = time.time()\n",
    "\n",
    "df_start=pd.read_csv('startup_funding.csv',encoding='utf-8') \n",
    "\n",
    "df_start['CityLocation'].dropna(inplace=True) \n",
    "\n",
    "df_start['CityLocation']=df_start['CityLocation'].apply(lambda x: str(x).split('/')[0].strip()) \n",
    "\n",
    "df_start['CityLocation'].replace(\"Delhi\",\"New Delhi\",inplace=True) \n",
    "\n",
    "df_start['CityLocation'].replace(\"bangalore\",\"Bangalore\",inplace=True) \n",
    "\n",
    "## Converting \"AmountInUSD\" into numeric format \n",
    "df_start[\"AmountInUSD\"] = df_start[\"AmountInUSD\"].apply(lambda x: float(str(x).replace(\",\",\"\"))) \n",
    "\n",
    "df_start[\"AmountInUSD\"] = pd.to_numeric(df_start[\"AmountInUSD\"]) \n",
    "\n",
    "city_amount=df_start.groupby('CityLocation')['AmountInUSD'].sum().sort_values(ascending=False)[0:10] \n",
    "\n",
    "city=city_amount.index \n",
    "\n",
    "amountCity=city_amount.values \n",
    "\n",
    "perAmount=np.true_divide(amountCity, amountCity.sum())*100 \n",
    "\n",
    "for i in range(len(city)): \n",
    "    print(city[i],format(perAmount[i],'.2f'))\n",
    "    \n",
    "end = time.time()\n",
    "\n",
    "print((end-start)*1000)"
   ]
  }
 ],
 "metadata": {
  "kernelspec": {
   "display_name": "Python 3 (ipykernel)",
   "language": "python",
   "name": "python3"
  },
  "language_info": {
   "codemirror_mode": {
    "name": "ipython",
    "version": 3
   },
   "file_extension": ".py",
   "mimetype": "text/x-python",
   "name": "python",
   "nbconvert_exporter": "python",
   "pygments_lexer": "ipython3",
   "version": "3.11.4"
  }
 },
 "nbformat": 4,
 "nbformat_minor": 5
}
