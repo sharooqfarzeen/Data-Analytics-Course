{
 "cells": [
  {
   "cell_type": "markdown",
   "id": "c59bce44",
   "metadata": {},
   "source": [
    "## Calculate Probability Distribution"
   ]
  },
  {
   "cell_type": "code",
   "execution_count": 1,
   "id": "90de8467",
   "metadata": {},
   "outputs": [
    {
     "name": "stdout",
     "output_type": "stream",
     "text": [
      "0.01\n"
     ]
    }
   ],
   "source": [
    "from scipy.stats import binom\n",
    "\n",
    "calc_pmf = binom.pmf(3, 4, 0.16)\n",
    "\n",
    "print(round(calc_pmf, 2))"
   ]
  },
  {
   "cell_type": "markdown",
   "id": "c2883399",
   "metadata": {},
   "source": [
    "## Kind of Skewness"
   ]
  },
  {
   "cell_type": "code",
   "execution_count": 2,
   "id": "808d6a58",
   "metadata": {},
   "outputs": [
    {
     "name": "stdout",
     "output_type": "stream",
     "text": [
      "Left Skewed\n"
     ]
    }
   ],
   "source": [
    "import statistics as st\n",
    "\n",
    "d = [586, 760, 495, 678, 559, 415, 370, 659, 119, 288, 241, 787, 522, 207, 160, 526, 656, \n",
    "     848, 720, 676, 581, 929, 653, 661, 770, 800, 529, 975, 995, 947]\n",
    "\n",
    "mean = st.mean(d)\n",
    "median = st.median(d)\n",
    "\n",
    "if mean > median:\n",
    "    print(\"Right Skewed\")\n",
    "else:\n",
    "    print(\"Left Skewed\")"
   ]
  },
  {
   "cell_type": "markdown",
   "id": "7d6b7f81",
   "metadata": {},
   "source": [
    "## Kind of Skewness"
   ]
  },
  {
   "cell_type": "code",
   "execution_count": 5,
   "id": "789a99ae",
   "metadata": {},
   "outputs": [
    {
     "name": "stdout",
     "output_type": "stream",
     "text": [
      "Right Skewed\n"
     ]
    }
   ],
   "source": [
    "from scipy.stats import skew\n",
    "\n",
    "d = [212, 869, 220, 654, 511, 624, 420, 121, 428, 865, 799, 405, 230, 670, 870, 366, \n",
    "     99, 55, 489, 312, 493, 163, 221, 84, 144, 48, 375, 86, 168, 100]\n",
    "\n",
    "if skew(d) > 0:\n",
    "    print(\"Right Skewed\")\n",
    "else:\n",
    "    print(\"Left Skewed\")"
   ]
  },
  {
   "cell_type": "markdown",
   "id": "b739e957",
   "metadata": {},
   "source": [
    "## Calculate z-score"
   ]
  },
  {
   "cell_type": "code",
   "execution_count": 14,
   "id": "b48c530d",
   "metadata": {},
   "outputs": [
    {
     "name": "stdout",
     "output_type": "stream",
     "text": [
      "[-1.4, -1.2, -1.2, -0.2, 0.0, 0.0, 0.4, 0.6, 1.2, 1.8]\n"
     ]
    }
   ],
   "source": [
    "#literally print like a list; enclosed in '[]', separated by commas\n",
    "from scipy import stats\n",
    "import numpy as np\n",
    "\n",
    "d = [6,7,7,12,13,13,15,16,19,22]\n",
    "\n",
    "z = np.array(stats.zscore(d))\n",
    "z = np.round(z, 1)\n",
    "print(\"[\", end = '')\n",
    "print(*z, sep = ', ', end = '')\n",
    "print(']')"
   ]
  },
  {
   "cell_type": "markdown",
   "id": "d3c2ebe0",
   "metadata": {},
   "source": [
    "## Standardize the Data"
   ]
  },
  {
   "cell_type": "raw",
   "id": "0c3b8d9c",
   "metadata": {},
   "source": [
    "d = [567.45, 572.45, 572.45, 589.12, 613.87, 615.78, 628.45, 644.87, 650.45, 652.20, 656.87, 661.45, 666.45, 667.70, 668.95, 675.28, 675.78, 685.53, 694.28, 697.62, 705.78, 705.87, 708.12, 711.03, 714.03, 716.03, 722.28, 728.12, 728.70, 729.03, 730.12, 731.95, 735.03, 736.95, 737.37, 738.28, 739.78, 740.62, 743.62, 747.20, 748.20, 748.28, 748.53, 750.03, 752.12, 754.70, 755.03, 758.37, 760.53, 764.03, 769.28, 775.45, 781.20, 781.70, 785.62, 792.78, 793.37, 795.28, 797.62, 798.95, 799.70, 799.95, 810.87, 811.53, 813.62, 814.03, 814.78, 817.87, 818.87, 820.70, 821.12, 825.62, 828.62, 841.45, 842.03, 842.87, 849.62, 874.70, 878.78, 897.45]\n"
   ]
  },
  {
   "cell_type": "code",
   "execution_count": 20,
   "id": "5d8c406e",
   "metadata": {},
   "outputs": [
    {
     "name": "stdout",
     "output_type": "stream",
     "text": [
      "0\n",
      "1\n"
     ]
    }
   ],
   "source": [
    "d = [567.45, 572.45, 572.45, 589.12, 613.87, 615.78, 628.45, 644.87, 650.45, 652.20, 656.87, 661.45, 666.45, \n",
    "     667.70, 668.95, 675.28, 675.78, 685.53, 694.28, 697.62, 705.78, 705.87, 708.12, 711.03, 714.03, 716.03, \n",
    "     722.28, 728.12, 728.70, 729.03, 730.12, 731.95, 735.03, 736.95, 737.37, 738.28, 739.78, 740.62, 743.62, \n",
    "     747.20, 748.20, 748.28, 748.53, 750.03, 752.12, 754.70, 755.03, 758.37, 760.53, 764.03, 769.28, 775.45, \n",
    "     781.20, 781.70, 785.62, 792.78, 793.37, 795.28, 797.62, 798.95, 799.70, 799.95, 810.87, 811.53, 813.62, \n",
    "     814.03, 814.78, 817.87, 818.87, 820.70, 821.12, 825.62, 828.62, 841.45, 842.03, 842.87, 849.62, 874.70, \n",
    "     878.78, 897.45] \n",
    "\n",
    "import statistics as st\n",
    "import numpy as np\n",
    "\n",
    "mean = st.mean(d)\n",
    "sd = st.stdev(d)\n",
    "\n",
    "s = np.array(d)\n",
    "s = (s-mean)/sd\n",
    "\n",
    "s_mean = int(st.mean(s))\n",
    "s_sd = round(st.stdev(s))\n",
    "\n",
    "print(s_mean, s_sd, sep = '\\n')"
   ]
  },
  {
   "cell_type": "markdown",
   "id": "d1d5d2e0",
   "metadata": {},
   "source": []
  },
  {
   "cell_type": "code",
   "execution_count": null,
   "id": "5bb04c18",
   "metadata": {},
   "outputs": [],
   "source": []
  }
 ],
 "metadata": {
  "kernelspec": {
   "display_name": "Python 3 (ipykernel)",
   "language": "python",
   "name": "python3"
  },
  "language_info": {
   "codemirror_mode": {
    "name": "ipython",
    "version": 3
   },
   "file_extension": ".py",
   "mimetype": "text/x-python",
   "name": "python",
   "nbconvert_exporter": "python",
   "pygments_lexer": "ipython3",
   "version": "3.11.4"
  }
 },
 "nbformat": 4,
 "nbformat_minor": 5
}
