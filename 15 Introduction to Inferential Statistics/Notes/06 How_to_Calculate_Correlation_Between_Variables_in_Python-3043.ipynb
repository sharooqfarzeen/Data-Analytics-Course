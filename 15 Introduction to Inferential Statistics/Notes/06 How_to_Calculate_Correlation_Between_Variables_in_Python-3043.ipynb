{
 "cells": [
  {
   "cell_type": "markdown",
   "metadata": {
    "id": "nfL3jFtSuhM8"
   },
   "source": [
    "## How to calculate a covariance matrix to summarize the linear relationship between two or more variables."
   ]
  },
  {
   "cell_type": "markdown",
   "metadata": {
    "id": "s3j6mPR8uVai"
   },
   "source": [
    "There may be complex and unknown relationships between the variables in your dataset.\n",
    "\n",
    "It is important to discover and quantify the degree to which variables in your dataset are dependent upon each other. This knowledge can help you better prepare your data to meet the expectations of machine learning algorithms, such as linear regression, whose performance will degrade with the presence of these interdependencies."
   ]
  },
  {
   "cell_type": "markdown",
   "metadata": {
    "id": "NyCPDnl6uoCA"
   },
   "source": [
    "### What is Correlation?"
   ]
  },
  {
   "cell_type": "markdown",
   "metadata": {
    "id": "r4MgLs-Jv2bk"
   },
   "source": [
    "Variables within a dataset can be related for lots of reasons.\n",
    "\n",
    "For example:\n",
    "\n",
    "* One variable could cause or depend on the values of another variable.\n",
    "* One variable could be lightly associated with another variable.\n",
    "* Two variables could depend on a third unknown variable.\n",
    "\n",
    "It can be useful in data analysis and modeling to better understand the relationships between variables. The statistical relationship between two variables is referred to as their correlation.\n",
    "\n",
    "A correlation could be positive, meaning both variables move in the same direction, or negative, meaning that when one variable’s value increases, the other variables’ values decrease. Correlation can also be neutral or zero, meaning that the variables are unrelated.\n",
    "\n",
    "* **Positive Correlation**: both variables change in the same direction.\n",
    "* **Neutral Correlation**: No relationship in the change of the variables.\n",
    "* **Negative Correlation**: variables change in opposite directions.\n",
    "\n",
    "The performance of some algorithms can deteriorate if two or more variables are tightly related, called multicollinearity. An example is linear regression, where one of the offending correlated variables should be removed in order to improve the skill of the model.\n",
    "\n",
    "We may also be interested in the correlation between input variables with the output variable in order provide insight into which variables may or may not be relevant as input for developing a model.\n",
    "\n",
    "The structure of the relationship may be known, e.g. it may be linear, or we may have no idea whether a relationship exists between two variables or what structure it may take. Depending what is known about the relationship and the distribution of the variables, different correlation scores can be calculated.\n",
    "\n",
    "In this tutorial, we will look at one score for variables that have a Gaussian distribution and a linear relationship and another that does not assume a distribution and will report on any monotonic (increasing or decreasing) relationship."
   ]
  },
  {
   "cell_type": "markdown",
   "metadata": {
    "id": "FnswV4ffwO8v"
   },
   "source": [
    "### Test Dataset"
   ]
  },
  {
   "cell_type": "markdown",
   "metadata": {
    "id": "VYTg0M1_wbIb"
   },
   "source": [
    "\n",
    "Before we look at correlation methods, let’s define a dataset we can use to test the methods.\n",
    "\n",
    "We will generate 1,000 samples of two two variables with a strong positive correlation. The first variable will be random numbers drawn from a Gaussian distribution with a mean of 100 and a standard deviation of 20. The second variable will be values from the first variable with Gaussian noise added with a mean of a 50 and a standard deviation of 10.\n",
    "\n",
    "We will use the randn() function to generate random Gaussian values with a mean of 0 and a standard deviation of 1, then multiply the results by our own standard deviation and add the mean to shift the values into the preferred range.\n",
    "\n",
    "The pseudorandom number generator is seeded to ensure that we get the same sample of numbers each time the code is run."
   ]
  },
  {
   "cell_type": "code",
   "execution_count": null,
   "metadata": {
    "id": "fzmlKvIIlEFn"
   },
   "outputs": [],
   "source": [
    "from numpy import mean\n",
    "from numpy import std\n",
    "from numpy.random import randn\n",
    "from numpy.random import seed\n",
    "from matplotlib import pyplot\n",
    "\n",
    "# seed random number generator\n",
    "seed(1)\n",
    "\n",
    "# prepare data\n",
    "data1 = 20*randn(1000) + 100\n",
    "data2 = data1 + (10*randn(1000) + 50)"
   ]
  },
  {
   "cell_type": "code",
   "execution_count": null,
   "metadata": {
    "colab": {
     "base_uri": "https://localhost:8080/"
    },
    "id": "bKe4CXrjxFIJ",
    "outputId": "5fa1f7b9-b9bf-4163-8f00-dac7099ca118"
   },
   "outputs": [
    {
     "name": "stdout",
     "output_type": "stream",
     "text": [
      "data1: mean=100.776 stdv=19.620\n",
      "data2: mean=151.050 stdv=22.358\n"
     ]
    }
   ],
   "source": [
    "# summarize\n",
    "print('data1: mean=%.3f stdv=%.3f' % (mean(data1), std(data1)))\n",
    "print('data2: mean=%.3f stdv=%.3f' % (mean(data2), std(data2)))"
   ]
  },
  {
   "cell_type": "code",
   "execution_count": null,
   "metadata": {
    "colab": {
     "base_uri": "https://localhost:8080/",
     "height": 265
    },
    "id": "3h2gQ15YxmhT",
    "outputId": "50223833-d378-4d2b-96cb-199e346cd3d1"
   },
   "outputs": [
    {
     "data": {
      "image/png": "[encoded data removed]",
      "text/plain": [
       "<Figure size 432x288 with 1 Axes>"
      ]
     },
     "metadata": {
      "needs_background": "light"
     },
     "output_type": "display_data"
    }
   ],
   "source": [
    "pyplot.scatter(data1, data2)\n",
    "pyplot.show()"
   ]
  },
  {
   "cell_type": "markdown",
   "metadata": {
    "id": "VcxMTna6xj6_"
   },
   "source": [
    "A scatter plot of the two variables is created. Because we contrived the dataset, we know there is a relationship between the two variables. This is clear when we review the generated scatter plot where we can see an increasing trend."
   ]
  },
  {
   "cell_type": "markdown",
   "metadata": {
    "id": "2ZoFHm3Oxwzv"
   },
   "source": [
    "**Before we look at calculating some correlation scores, we must first look at an important statistical building block, called covariance.**"
   ]
  },
  {
   "cell_type": "markdown",
   "metadata": {
    "id": "5rG-8Rl_x1YF"
   },
   "source": [
    "### Covariance"
   ]
  },
  {
   "cell_type": "markdown",
   "metadata": {
    "id": "y34Sd9qfyH-A"
   },
   "source": [
    "Variables can be related by a linear relationship. This is a relationship that is consistently additive across the two data samples.\n",
    "\n",
    "This relationship can be summarized between two variables, called the covariance. It is calculated as the average of the product between the values from each sample, where the values haven been centered (had their mean subtracted).\n",
    "\n",
    "The calculation of the sample covariance is as follows:\n",
    "\n"
   ]
  },
  {
   "cell_type": "markdown",
   "metadata": {
    "id": "L5VzdgdRyRLJ"
   },
   "source": [
    "\n",
    "\n",
    "---\n",
    "\n",
    "\n",
    "`cov(X, Y) = (sum (x - mean(X)) * (y - mean(Y)) ) * 1/(n-1)`\n",
    "\n",
    "\n",
    "---\n",
    "\n"
   ]
  },
  {
   "cell_type": "markdown",
   "metadata": {
    "id": "a1syZPFWyYCV"
   },
   "source": [
    "The use of the mean in the calculation suggests the need for each data sample to have a Gaussian or Gaussian-like distribution.\n",
    "\n",
    "The sign of the covariance can be interpreted as whether the two variables change in the same direction (positive) or change in different directions (negative). The magnitude of the covariance is not easily interpreted. A covariance value of zero indicates that both variables are completely independent.\n",
    "\n",
    "The cov() NumPy function can be used to calculate a covariance matrix between two or more variables."
   ]
  },
  {
   "cell_type": "code",
   "execution_count": null,
   "metadata": {
    "id": "fR6KZhSsxb0f"
   },
   "outputs": [],
   "source": [
    "import numpy as np\n",
    "covariance = np.cov(data1, data2)"
   ]
  },
  {
   "cell_type": "code",
   "execution_count": null,
   "metadata": {
    "colab": {
     "base_uri": "https://localhost:8080/"
    },
    "id": "PkOjARtkyKQE",
    "outputId": "9582a750-1851-4187-c8a5-9322fd8dfcd3"
   },
   "outputs": [
    {
     "data": {
      "text/plain": [
       "array([[385.33297729, 389.7545618 ],\n",
       "       [389.7545618 , 500.38006058]])"
      ]
     },
     "execution_count": 8,
     "metadata": {},
     "output_type": "execute_result"
    }
   ],
   "source": [
    "covariance"
   ]
  },
  {
   "cell_type": "markdown",
   "metadata": {
    "id": "xpSr2EB1y2Qq"
   },
   "source": [
    "The diagonal of the matrix contains the covariance between each variable and itself. The other values in the matrix represent the covariance between the two variables; in this case, the remaining two values are the same given that we are calculating the covariance for only two variables.\n",
    "\n",
    "The covariance and covariance matrix are used widely within statistics and multivariate analysis to characterize the relationships between two or more variables.\n",
    "\n",
    "Running the example calculates and prints the covariance matrix.\n",
    "\n",
    "Because the dataset was contrived with each variable drawn from a Gaussian distribution and the variables linearly correlated, covariance is a reasonable method for describing the relationship.\n",
    "\n",
    "The covariance between the two variables is 389.75. We can see that it is positive, suggesting the variables change in the same direction as we expect."
   ]
  },
  {
   "cell_type": "markdown",
   "metadata": {
    "id": "pt5mtjQezHPI"
   },
   "source": [
    "**A problem with covariance as a statistical tool alone is that it is challenging to interpret. This leads us to the Pearson’s correlation coefficient next.**"
   ]
  },
  {
   "cell_type": "markdown",
   "metadata": {
    "id": "Wz63DTvzzNfZ"
   },
   "source": [
    "## Pearson’s Correlation"
   ]
  },
  {
   "cell_type": "markdown",
   "metadata": {
    "id": "GC10GKyszU0E"
   },
   "source": [
    "The Pearson correlation coefficient (named for Karl Pearson) can be used to summarize the strength of the linear relationship between two data samples.\n",
    "\n",
    "The Pearson’s correlation coefficient is calculated as the covariance of the two variables divided by the product of the standard deviation of each data sample. It is the normalization of the covariance between the two variables to give an interpretable score."
   ]
  },
  {
   "cell_type": "markdown",
   "metadata": {
    "id": "hnIkp3JBzeDG"
   },
   "source": [
    "\n",
    "\n",
    "---\n",
    "\n",
    "\n",
    "\n",
    "```\n",
    "Pearson's correlation coefficient = covariance(X, Y) / (stdv(X) * stdv(Y))\n",
    "\n",
    "```\n",
    "\n",
    "\n",
    "---\n",
    "\n"
   ]
  },
  {
   "cell_type": "markdown",
   "metadata": {
    "id": "EseoEkJpzs-H"
   },
   "source": [
    "The use of mean and standard deviation in the calculation suggests the need for the two data samples to have a Gaussian or Gaussian-like distribution.\n",
    "\n",
    "The result of the calculation, the correlation coefficient can be interpreted to understand the relationship.\n",
    "\n",
    "The coefficient returns a value between -1 and 1 that represents the limits of correlation from a full negative correlation to a full positive correlation. A value of 0 means no correlation. The value must be interpreted, where often a value below -0.5 or above 0.5 indicates a notable correlation, and values below those values suggests a less notable correlation.\n",
    "\n",
    "The pearsonr() SciPy function can be used to calculate the Pearson’s correlation coefficient between two data samples with the same length.\n",
    "\n",
    "We can calculate the correlation between the two variables in our test problem.\n",
    "\n",
    "The complete example is listed below."
   ]
  },
  {
   "cell_type": "code",
   "execution_count": null,
   "metadata": {
    "colab": {
     "base_uri": "https://localhost:8080/"
    },
    "id": "gduefcuPzZPK",
    "outputId": "6af32d89-cf80-45a7-d27d-6dc9d39739b5"
   },
   "outputs": [
    {
     "name": "stdout",
     "output_type": "stream",
     "text": [
      "Pearsons correlation: 0.888\n"
     ]
    }
   ],
   "source": [
    "# calculate the Pearson's correlation between two variables\n",
    "from numpy.random import randn\n",
    "from numpy.random import seed\n",
    "from scipy.stats import pearsonr\n",
    "# seed random number generator\n",
    "seed(1)\n",
    "# prepare data\n",
    "data1 = 20 * randn(1000) + 100\n",
    "data2 = data1 + (10 * randn(1000) + 50)\n",
    "# calculate Pearson's correlation\n",
    "corr, _ = pearsonr(data1, data2)\n",
    "print('Pearsons correlation: %.3f' % corr)"
   ]
  },
  {
   "cell_type": "markdown",
   "metadata": {
    "id": "8tYRo41GzYhD"
   },
   "source": [
    "We can see that the two variables are positively correlated and that the correlation is 0.8. This suggests a high level of correlation, e.g. a value above 0.5 and close to 1.0.\n",
    "\n",
    "The Pearson’s correlation coefficient can be used to evaluate the relationship between more than two variables.\n",
    "\n",
    "This can be done by calculating a matrix of the relationships between each pair of variables in the dataset. The result is a symmetric matrix called a correlation matrix with a value of 1.0 along the diagonal as each column always perfectly correlates with itself."
   ]
  },
  {
   "cell_type": "markdown",
   "metadata": {
    "id": "G1kFlvHnz3qW"
   },
   "source": [
    "## Spearman’s Correlation"
   ]
  },
  {
   "cell_type": "markdown",
   "metadata": {
    "id": "-gLTP4OUz6Ny"
   },
   "source": [
    "Two variables may be related by a nonlinear relationship, such that the relationship is stronger or weaker across the distribution of the variables.\n",
    "\n",
    "Further, the two variables being considered may have a non-Gaussian distribution.\n",
    "\n",
    "In this case, the Spearman’s correlation coefficient (named for Charles Spearman) can be used to summarize the strength between the two data samples. This test of relationship can also be used if there is a linear relationship between the variables, but will have slightly less power (e.g. may result in lower coefficient scores).\n",
    "\n",
    "As with the Pearson correlation coefficient, the scores are between -1 and 1 for perfectly negatively correlated variables and perfectly positively correlated respectively.\n",
    "\n",
    "Instead of calculating the coefficient using covariance and standard deviations on the samples themselves, these statistics are calculated from the relative rank of values on each sample. This is a common approach used in non-parametric statistics, e.g. statistical methods where we do not assume a distribution of the data such as Gaussian."
   ]
  },
  {
   "cell_type": "markdown",
   "metadata": {
    "id": "od9YlkUL0CWu"
   },
   "source": [
    "\n",
    "\n",
    "---\n",
    "\n",
    "\n",
    "\n",
    "```\n",
    "Spearman's correlation coefficient = covariance(rank(X), rank(Y)) / (stdv(rank(X)) * stdv(rank(Y)))\n",
    "```\n",
    "\n",
    "\n",
    "---\n",
    "\n",
    "\n",
    "\n"
   ]
  },
  {
   "cell_type": "markdown",
   "metadata": {
    "id": "AjAWCiwf0J4C"
   },
   "source": [
    "A linear relationship between the variables is not assumed, although a monotonic relationship is assumed. This is a mathematical name for an increasing or decreasing relationship between the two variables.\n",
    "\n",
    "If you are unsure of the distribution and possible relationships between two variables, Spearman correlation coefficient is a good tool to use.\n",
    "\n",
    "The spearmanr() SciPy function can be used to calculate the Spearman’s correlation coefficient between two data samples with the same length.\n",
    "\n",
    "We can calculate the correlation between the two variables in our test problem.\n",
    "\n",
    "The complete example is listed below."
   ]
  },
  {
   "cell_type": "code",
   "execution_count": null,
   "metadata": {
    "colab": {
     "base_uri": "https://localhost:8080/"
    },
    "id": "XYWNkrB8yvwq",
    "outputId": "361db2d4-b4aa-4672-be3c-66afd945ac7a"
   },
   "outputs": [
    {
     "name": "stdout",
     "output_type": "stream",
     "text": [
      "Spearmans correlation: 0.872\n"
     ]
    }
   ],
   "source": [
    "# calculate the spearmans's correlation between two variables\n",
    "from numpy.random import randn\n",
    "from numpy.random import seed\n",
    "from scipy.stats import spearmanr\n",
    "# seed random number generator\n",
    "seed(1)\n",
    "# prepare data\n",
    "data1 = 20 * randn(1000) + 100\n",
    "data2 = data1 + (10 * randn(1000) + 50)\n",
    "# calculate spearman's correlation\n",
    "corr, _ = spearmanr(data1, data2)\n",
    "print('Spearmans correlation: %.3f' % corr)"
   ]
  },
  {
   "cell_type": "markdown",
   "metadata": {
    "id": "oYZJL_DG0P4M"
   },
   "source": [
    "We know that the data is Gaussian and that the relationship between the variables is linear. Nevertheless, the nonparametric rank-based approach shows a strong correlation between the variables of 0.8.\n",
    "\n",
    "As with the Pearson’s correlation coefficient, the coefficient can be calculated pair-wise for each variable in a dataset to give a correlation matrix for review."
   ]
  }
 ],
 "metadata": {
  "colab": {
   "provenance": []
  },
  "kernelspec": {
   "display_name": "Python 3 (ipykernel)",
   "language": "python",
   "name": "python3"
  },
  "language_info": {
   "codemirror_mode": {
    "name": "ipython",
    "version": 3
   },
   "file_extension": ".py",
   "mimetype": "text/x-python",
   "name": "python",
   "nbconvert_exporter": "python",
   "pygments_lexer": "ipython3",
   "version": "3.11.4"
  }
 },
 "nbformat": 4,
 "nbformat_minor": 1
}
