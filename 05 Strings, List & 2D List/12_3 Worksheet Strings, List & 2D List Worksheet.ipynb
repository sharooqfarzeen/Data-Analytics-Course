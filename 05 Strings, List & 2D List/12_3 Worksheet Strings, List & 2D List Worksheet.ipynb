{
 "cells": [
  {
   "cell_type": "markdown",
   "id": "4e939363",
   "metadata": {},
   "source": [
    "## Taking input - 2D lists"
   ]
  },
  {
   "cell_type": "markdown",
   "id": "a8ddffd0",
   "metadata": {},
   "source": [
    "m,n - rows, columns\n",
    "\n",
    "row1.......coln\n",
    "row2\n",
    ".\n",
    ".\n",
    ".\n",
    "rowm.........coln"
   ]
  },
  {
   "cell_type": "code",
   "execution_count": null,
   "id": "bfc5455b",
   "metadata": {},
   "outputs": [],
   "source": [
    "#read number of rows and columns\n",
    "dimension = [int(i) for i in input().split()]\n",
    "m = dimension[0]\n",
    "n = dimension[1]\n",
    "\n",
    "a = []\n",
    "\n",
    "for i in range(m):\n",
    "    next_row = []\n",
    "    next_row = [int(i) for i in input().split()]\n",
    "    a.append(next_row)\n",
    "    \n",
    "print(a)"
   ]
  },
  {
   "cell_type": "markdown",
   "id": "244c3939",
   "metadata": {},
   "source": [
    "m,n - rows, columns\n",
    "\n",
    "element1\n",
    "element2\n",
    "...\n",
    "element(m*n)"
   ]
  },
  {
   "cell_type": "code",
   "execution_count": null,
   "id": "22e07679",
   "metadata": {},
   "outputs": [],
   "source": [
    "#read number of rows and columns\n",
    "dimension = [int(i) for i in input().split()]\n",
    "m = dimension[0]\n",
    "n = dimension[1]\n",
    "\n",
    "a = []\n",
    "\n",
    "\n",
    "for i in range(m):\n",
    "    next_row = []\n",
    "    for j in range(n):\n",
    "        next_row.append(int(input()))\n",
    "    a.append(next_row)\n",
    "print(a)\n",
    "        "
   ]
  },
  {
   "cell_type": "markdown",
   "id": "af492d3e",
   "metadata": {},
   "source": [
    "m,n - rows, columns\n",
    "\n",
    "element1 element2 ....... element(m*n)"
   ]
  },
  {
   "cell_type": "code",
   "execution_count": 1,
   "id": "0fd10ec9",
   "metadata": {
    "scrolled": true
   },
   "outputs": [
    {
     "name": "stdout",
     "output_type": "stream",
     "text": [
      "2 2\n",
      "1 2 3 4\n",
      "[[1, 2], [3, 4]]\n"
     ]
    },
    {
     "data": {
      "text/plain": [
       "2"
      ]
     },
     "execution_count": 1,
     "metadata": {},
     "output_type": "execute_result"
    }
   ],
   "source": [
    "#read number of rows and columns\n",
    "dimension = [int(i) for i in input().split()]\n",
    "m = dimension[0]\n",
    "n = dimension[1]\n",
    "total_elements = m * n\n",
    "\n",
    "raw_elements = [int(i) for i in input().split()]\n",
    "\n",
    "a = []\n",
    "count = 0\n",
    "\n",
    "while count < m * n:\n",
    "    next_row = []\n",
    "    for j in range(n):\n",
    "        next_row.append(raw_elements[count])\n",
    "        count += 1\n",
    "    a.append(next_row)\n",
    "\n",
    "print(a)\n",
    "len(a)"
   ]
  },
  {
   "cell_type": "markdown",
   "id": "43e97a8a",
   "metadata": {},
   "source": [
    "## Sum of Columns"
   ]
  },
  {
   "cell_type": "code",
   "execution_count": 16,
   "id": "fe109b13",
   "metadata": {
    "scrolled": true
   },
   "outputs": [
    {
     "name": "stdout",
     "output_type": "stream",
     "text": [
      "a\n",
      " [[0 1]\n",
      " [0 1]] \n",
      "\n",
      "\n",
      "Sum\n",
      " [0 2]\n"
     ]
    }
   ],
   "source": [
    "import numpy as np\n",
    "\n",
    "def sum_of_cols(a):\n",
    "    \n",
    "    #assign dimensions of received list\n",
    "    m, n = a.shape\n",
    "    col_sum = np.array([0 for j in range(n)])\n",
    "    \n",
    "    #finding sum of columns\n",
    "    for j in range(n):\n",
    "        for i in range(m):\n",
    "            col_sum[j] = col_sum[j] + a[i][j]\n",
    "    print('Sum\\n',col_sum)\n",
    "    \n",
    "    \n",
    "    \n",
    "a = np.array([[j for j in range(2)] for i in range(2)])\n",
    "print('a\\n',a,'\\n\\n')\n",
    "sum_of_cols(a)\n",
    "    "
   ]
  },
  {
   "cell_type": "code",
   "execution_count": 35,
   "id": "8225de96",
   "metadata": {},
   "outputs": [
    {
     "name": "stdout",
     "output_type": "stream",
     "text": [
      "a id 23 140712972883432\n",
      "b id 23 140712972883432\n",
      "a id 78 140712972885192\n",
      "b id 78 140712972885192 \n",
      "\n",
      "a id 34 140712972883784\n",
      "b id 23 140712972883432\n",
      "a id 95 140712972885736\n",
      "b id 95 140712972885736 \n",
      "\n",
      "a now [10, 34, 56, [95]]\n",
      "b now [10, 23, 56, [95]]\n"
     ]
    }
   ],
   "source": [
    "a = [10,23,56,[78]]\n",
    "b = list(a)\n",
    "print('a id 23',id(a[1]))\n",
    "print('b id 23',id(b[1]))\n",
    "print('a id 78',id(a[3][0]))\n",
    "print('b id 78',id(b[3][0]),'\\n')\n",
    "\n",
    "a[3][0] = 95\n",
    "a[1] = 34\n",
    "\n",
    "print('a id 34',id(a[1]))\n",
    "print('b id 23',id(b[1]))\n",
    "\n",
    "print('a id 95',id(a[3][0]))\n",
    "print('b id 95',id(b[3][0]), '\\n')\n",
    "\n",
    "print('a now',a)\n",
    "print('b now',b)\n"
   ]
  },
  {
   "cell_type": "code",
   "execution_count": 36,
   "id": "12eb3763",
   "metadata": {},
   "outputs": [
    {
     "name": "stdout",
     "output_type": "stream",
     "text": [
      "[[0.5, 7], [1, 2], [3, 1.5]]\n"
     ]
    }
   ],
   "source": [
    "points = [[1, 2], [3, 1.5], [0.5,7]]\n",
    "points.sort()\n",
    "print(points)"
   ]
  },
  {
   "cell_type": "code",
   "execution_count": 3,
   "id": "0d0c93eb",
   "metadata": {},
   "outputs": [
    {
     "name": "stdout",
     "output_type": "stream",
     "text": [
      "['Coding', 'Ninjas'] ['C', 'o', 'd', 'i', 'n', 'g', ' ', 'N', 'i', 'n', 'j', 'a', 's']\n"
     ]
    }
   ],
   "source": [
    "str1=\"Coding Ninjas\"\n",
    "lis1=str1.split(\" \")\n",
    "lis2=list(str1)\n",
    "print(lis1,lis2)"
   ]
  },
  {
   "cell_type": "code",
   "execution_count": 5,
   "id": "b753a038",
   "metadata": {},
   "outputs": [
    {
     "name": "stdout",
     "output_type": "stream",
     "text": [
      "hello ninja4\n"
     ]
    }
   ],
   "source": [
    "str1=\"HellO{}niNja\"\n",
    "str1 = str1.replace(\"{}\", \" \")\n",
    "str1=str1.lower()\n",
    "pos=str1.find(\"o\")\n",
    "print(str1+str(pos))"
   ]
  },
  {
   "cell_type": "code",
   "execution_count": 4,
   "id": "5a7bbdad",
   "metadata": {},
   "outputs": [
    {
     "name": "stdout",
     "output_type": "stream",
     "text": [
      "{1: 2, 2: 3, 3: 4, 7: 2, 10: 3, 6: 4}\n"
     ]
    },
    {
     "ename": "NameError",
     "evalue": "name 'a' is not defined",
     "output_type": "error",
     "traceback": [
      "\u001b[1;31m---------------------------------------------------------------------------\u001b[0m",
      "\u001b[1;31mNameError\u001b[0m                                 Traceback (most recent call last)",
      "Cell \u001b[1;32mIn[4], line 6\u001b[0m\n\u001b[0;32m      4\u001b[0m \u001b[38;5;28mprint\u001b[39m(a)\n\u001b[0;32m      5\u001b[0m \u001b[38;5;28;01mdel\u001b[39;00m a\n\u001b[1;32m----> 6\u001b[0m \u001b[38;5;28mprint\u001b[39m(a)\n",
      "\u001b[1;31mNameError\u001b[0m: name 'a' is not defined"
     ]
    }
   ],
   "source": [
    "a= {1:2,2:3,3:4}\n",
    "b= {7:2,10:3,6:4}\n",
    "a.update(b)\n",
    "print(a)\n",
    "del a\n",
    "print(a)"
   ]
  },
  {
   "cell_type": "code",
   "execution_count": 1,
   "id": "6bae0a4e",
   "metadata": {},
   "outputs": [
    {
     "data": {
      "text/plain": [
       "[1, 2, 3, 4, 5, 6]"
      ]
     },
     "execution_count": 1,
     "metadata": {},
     "output_type": "execute_result"
    }
   ],
   "source": [
    "a = [1,2,3]\n",
    "b = [4,5,6]\n",
    "a+b"
   ]
  }
 ],
 "metadata": {
  "kernelspec": {
   "display_name": "Python 3 (ipykernel)",
   "language": "python",
   "name": "python3"
  },
  "language_info": {
   "codemirror_mode": {
    "name": "ipython",
    "version": 3
   },
   "file_extension": ".py",
   "mimetype": "text/x-python",
   "name": "python",
   "nbconvert_exporter": "python",
   "pygments_lexer": "ipython3",
   "version": "3.11.4"
  }
 },
 "nbformat": 4,
 "nbformat_minor": 5
}
