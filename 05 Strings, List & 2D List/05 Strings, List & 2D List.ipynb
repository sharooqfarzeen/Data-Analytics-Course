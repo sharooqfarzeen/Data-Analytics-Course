{
 "cells": [
  {
   "cell_type": "markdown",
   "id": "88db859b",
   "metadata": {},
   "source": [
    "### Check Numbers"
   ]
  },
  {
   "cell_type": "code",
   "execution_count": null,
   "id": "75aac618",
   "metadata": {},
   "outputs": [],
   "source": [
    "string = input()\n",
    "flag = [0, 0]\n",
    "\n",
    "for i in string:\n",
    "    if i.isalpha() and flag[0] == 0:\n",
    "        flag[0] = 1\n",
    "    if i.isdigit() and flag[1] == 0:\n",
    "        flag[1] = 1\n",
    "\n",
    "if flag == [1,1]:\n",
    "    print(\"True\")\n",
    "else:\n",
    "    print(\"False\")\n",
    "\n"
   ]
  },
  {
   "cell_type": "markdown",
   "id": "3b00c88b",
   "metadata": {},
   "source": [
    "### String Check"
   ]
  },
  {
   "cell_type": "code",
   "execution_count": null,
   "id": "f91b0999",
   "metadata": {},
   "outputs": [],
   "source": [
    "def check_string(str1):\n",
    "    l = len(str1)\n",
    "    if str1[0] == 'M' and str1[l-1] == 'g':\n",
    "        print(\"valid\")\n",
    "    else:\n",
    "        print(\"invalid\")"
   ]
  },
  {
   "cell_type": "markdown",
   "id": "ffb3aa1f",
   "metadata": {},
   "source": [
    "### Check Hashtag"
   ]
  },
  {
   "cell_type": "code",
   "execution_count": null,
   "id": "45d41d19",
   "metadata": {},
   "outputs": [],
   "source": [
    "def check_hashtag(str1):\n",
    "    for i in str1:\n",
    "        if i == '#':\n",
    "            print(\"Yes\")\n",
    "            break\n",
    "    else:\n",
    "        print(\"No\")"
   ]
  },
  {
   "cell_type": "markdown",
   "id": "602dc35f",
   "metadata": {},
   "source": [
    "### Combine Strings"
   ]
  },
  {
   "cell_type": "code",
   "execution_count": null,
   "id": "f9b9be81",
   "metadata": {
    "scrolled": true
   },
   "outputs": [],
   "source": [
    "def combine_strings(first,last):\n",
    "    combine = [first, last]\n",
    "    result = ' '.join(combine)\n",
    "    print(result)"
   ]
  },
  {
   "cell_type": "markdown",
   "id": "532cc73e",
   "metadata": {},
   "source": [
    "### String Operations"
   ]
  },
  {
   "cell_type": "code",
   "execution_count": null,
   "id": "bf15aff8",
   "metadata": {
    "scrolled": true
   },
   "outputs": [],
   "source": [
    "def convert_to_lowercase(sentence):\n",
    "    #Your code goes here\n",
    "    return sentence.lower()\n"
   ]
  },
  {
   "cell_type": "markdown",
   "id": "92ee3fed",
   "metadata": {},
   "source": [
    "### Substring"
   ]
  },
  {
   "cell_type": "code",
   "execution_count": null,
   "id": "0cc3a7eb",
   "metadata": {
    "scrolled": true
   },
   "outputs": [],
   "source": [
    "def substring(str1):\n",
    "    #Your code goes here\n",
    "    return str1[1:5]"
   ]
  },
  {
   "cell_type": "markdown",
   "id": "b20cbb64",
   "metadata": {},
   "source": [
    "### Print even words"
   ]
  },
  {
   "cell_type": "code",
   "execution_count": null,
   "id": "0f626237",
   "metadata": {},
   "outputs": [],
   "source": [
    "#read string\n",
    "whole = input()\n",
    "\n",
    "#split and store words in a list\n",
    "words = whole.split()\n",
    "\n",
    "#go through words and print words with even length\n",
    "for i in words:\n",
    "    if len(i) % 2 == 0:\n",
    "        print(i)\n",
    "\n"
   ]
  },
  {
   "cell_type": "markdown",
   "id": "c65cd9e6",
   "metadata": {},
   "source": [
    "### First Space Last String"
   ]
  },
  {
   "cell_type": "code",
   "execution_count": null,
   "id": "0cec59cb",
   "metadata": {},
   "outputs": [],
   "source": [
    "def first_last(str1):\n",
    "    \n",
    "    #split into words\n",
    "    words = str1.split()\n",
    "    print(words[0], str1.find(' '), words[1], sep = ' ')"
   ]
  },
  {
   "cell_type": "markdown",
   "id": "1d24c18c",
   "metadata": {},
   "source": [
    "### Replace Character"
   ]
  },
  {
   "cell_type": "code",
   "execution_count": null,
   "id": "e3bb690f",
   "metadata": {},
   "outputs": [],
   "source": [
    "#read string\n",
    "str1 = input()\n",
    "\n",
    "#find 'a's and replace with 'b's\n",
    "for i in range(0, len(str1)):\n",
    "    if str1[i] == 'a':\n",
    "        str1 = str1[:i] + 'b' + str1[i+1:len(str1)]\n",
    "\n",
    "#print output        \n",
    "print(str1)"
   ]
  },
  {
   "cell_type": "markdown",
   "id": "cd30e34b",
   "metadata": {},
   "source": [
    "### Check Palindrome"
   ]
  },
  {
   "cell_type": "code",
   "execution_count": null,
   "id": "2790d800",
   "metadata": {},
   "outputs": [],
   "source": [
    "#read string\n",
    "str1 = input()\n",
    "\n",
    "#find reverse and check if same as original string\n",
    "if str1 == str1[len(str1)-1::-1]:\n",
    "    print(\"true\")\n",
    "else:\n",
    "    print(\"false\")\n"
   ]
  },
  {
   "cell_type": "markdown",
   "id": "0f539ca9",
   "metadata": {},
   "source": [
    "### Blank Space"
   ]
  },
  {
   "cell_type": "code",
   "execution_count": null,
   "id": "3be9c39a",
   "metadata": {},
   "outputs": [],
   "source": [
    "def space(mystring):\n",
    "    \n",
    "    #convert to lower case\n",
    "    mystring = mystring.lower()\n",
    "    \n",
    "    #find blank spaces and insert _\n",
    "    for i in range(0, len(mystring)):\n",
    "        if mystring[i] == ' ':\n",
    "            mystring = mystring[:i] + '_' + mystring[i+1:len(mystring)]\n",
    "    \n",
    "    #print formatted string\n",
    "    print(mystring)"
   ]
  },
  {
   "cell_type": "markdown",
   "id": "dcef231e",
   "metadata": {},
   "source": [
    "### First index of element"
   ]
  },
  {
   "cell_type": "code",
   "execution_count": null,
   "id": "d7012e3f",
   "metadata": {},
   "outputs": [],
   "source": [
    "#read size of list, list of integers separated by a space and element whose index is to be found\n",
    "size = int(input())\n",
    "n = input()\n",
    "x = int(input())\n",
    "\n",
    "#convert string input to integer list\n",
    "n = [int(i) for i in n.split()]\n",
    "\n",
    "for i in range(0, size):\n",
    "    if n[i]== x:\n",
    "        print(i)\n",
    "        break\n",
    "else:\n",
    "    print(-1)\n",
    "\n",
    "\n",
    "\n",
    "\n"
   ]
  },
  {
   "cell_type": "markdown",
   "id": "a926bb1d",
   "metadata": {},
   "source": [
    "### Last Index of element"
   ]
  },
  {
   "cell_type": "code",
   "execution_count": null,
   "id": "c7995002",
   "metadata": {},
   "outputs": [],
   "source": [
    "#read size of list, list of integers separated by a space and element whose index is to be found\n",
    "size = int(input())\n",
    "n = input()\n",
    "x = int(input())\n",
    "\n",
    "#convert string input to integer list\n",
    "n = [int(i) for i in n.split()]\n",
    "\n",
    "#reversing n\n",
    "n_reverse = n[::-1]\n",
    "\n",
    "for i in range(0, size):\n",
    "    if n_reverse[i]== x:\n",
    "        print(size-i-1)\n",
    "        break\n",
    "else:\n",
    "    print(-1)\n"
   ]
  },
  {
   "cell_type": "markdown",
   "id": "abffb0bf",
   "metadata": {},
   "source": [
    "### Create Integer List"
   ]
  },
  {
   "cell_type": "code",
   "execution_count": null,
   "id": "e402bef8",
   "metadata": {},
   "outputs": [],
   "source": [
    "def create_integer_array(first, last):\n",
    "    print([i for i in range(first,last+1)])"
   ]
  },
  {
   "cell_type": "markdown",
   "id": "657daf32",
   "metadata": {},
   "source": [
    "###"
   ]
  },
  {
   "cell_type": "markdown",
   "id": "43dfc996",
   "metadata": {},
   "source": [
    "### Maximum sum\n",
    "\n",
    "5\n",
    "    1, 2, 3, 4, 5\n",
    "    5, 3, 1, 4, 2\n",
    "    5, 6, 7, 8, 9\n",
    "    0, 6, 3, 4, 12\n",
    "    9, 7, 12, 4, 3"
   ]
  },
  {
   "cell_type": "code",
   "execution_count": 2,
   "id": "fb42223f",
   "metadata": {
    "scrolled": false
   },
   "outputs": [
    {
     "name": "stdout",
     "output_type": "stream",
     "text": [
      "2\n",
      "1, 2\n",
      "3, 4\n",
      "6\n"
     ]
    }
   ],
   "source": [
    "#reading dimension\n",
    "n = int(input())\n",
    "#reading list with commas\n",
    "raw_table =  [[int(col) for col in input().split(', ')] for row in range(n)]\n",
    "\n",
    "sum_cols = [0 for i in range(n)]\n",
    "\n",
    "for j in range(n):\n",
    "    for i in range(n):\n",
    "        sum_cols[j] = sum_cols[j] + raw_table[i][j]\n",
    "print(max(sum_cols))"
   ]
  },
  {
   "cell_type": "markdown",
   "id": "80a41c52",
   "metadata": {},
   "source": [
    "### Row wise sum"
   ]
  },
  {
   "cell_type": "code",
   "execution_count": null,
   "id": "e5ea0a0d",
   "metadata": {},
   "outputs": [],
   "source": [
    "def rowWiseSum(mat, nRows, mCols):\n",
    "    \n",
    "    for i in range(nRows):\n",
    "        row_sum = 0\n",
    "        for j in range(mCols):\n",
    "            row_sum += mat[i][j]\n",
    "        print(row_sum, end = ' ')"
   ]
  },
  {
   "cell_type": "markdown",
   "id": "48894e01",
   "metadata": {},
   "source": [
    "### Generate Grade List"
   ]
  },
  {
   "cell_type": "code",
   "execution_count": null,
   "id": "d671902d",
   "metadata": {},
   "outputs": [],
   "source": [
    "def generate_grade_list(grade_string):\n",
    "    grade_list = grade_string.split(';')\n",
    "    return grade_list"
   ]
  },
  {
   "cell_type": "markdown",
   "id": "063c1c35",
   "metadata": {},
   "source": [
    "### Reverse the array"
   ]
  },
  {
   "cell_type": "code",
   "execution_count": 5,
   "id": "8699a3b9",
   "metadata": {},
   "outputs": [
    {
     "name": "stdout",
     "output_type": "stream",
     "text": [
      "3\n",
      "1 2 3\n",
      "3 2 1 "
     ]
    }
   ],
   "source": [
    "#read size\n",
    "n = int(input())\n",
    "\n",
    "#read array\n",
    "og = [int(i) for i in input().split()]\n",
    "\n",
    "#reverse array\n",
    "rev = og[::-1]\n",
    "\n",
    "for i in range(n):\n",
    "    print(rev[i], end = ' ')"
   ]
  },
  {
   "cell_type": "markdown",
   "id": "5744268c",
   "metadata": {},
   "source": [
    "### Remove Elements"
   ]
  },
  {
   "cell_type": "code",
   "execution_count": 8,
   "id": "e40586fd",
   "metadata": {},
   "outputs": [
    {
     "name": "stdout",
     "output_type": "stream",
     "text": [
      "[1]\n"
     ]
    }
   ],
   "source": [
    "def remove_element(arr):\n",
    "    arr.pop((arr.index(max(arr))))\n",
    "    arr.pop(1)\n",
    "    print(arr)"
   ]
  },
  {
   "cell_type": "markdown",
   "id": "10e5df72",
   "metadata": {},
   "source": [
    "### Total Item Sold"
   ]
  },
  {
   "cell_type": "code",
   "execution_count": 30,
   "id": "28c54924",
   "metadata": {},
   "outputs": [
    {
     "name": "stdout",
     "output_type": "stream",
     "text": [
      "42\n"
     ]
    }
   ],
   "source": [
    "def calculate_total_items_sold(quantity_list):\n",
    "    \n",
    "    #split list on ':'\n",
    "    qty = [[j for j in quantity_list[i].split(':')] for i in range(len(quantity_list))]\n",
    "    \n",
    "    \n",
    "    sum = 0\n",
    "    #calculate sum\n",
    "    for i in range(len(quantity_list)):\n",
    "        sum = sum + int(qty[i][0])\n",
    "    \n",
    "    return sum\n",
    "    "
   ]
  },
  {
   "cell_type": "markdown",
   "id": "406f6872",
   "metadata": {},
   "source": [
    "### Calculate Total Sum"
   ]
  },
  {
   "cell_type": "code",
   "execution_count": 20,
   "id": "8c1e99cf",
   "metadata": {},
   "outputs": [
    {
     "name": "stdout",
     "output_type": "stream",
     "text": [
      "55\n"
     ]
    }
   ],
   "source": [
    "def calculate_total_sum(arr):\n",
    "    \n",
    "    sum = 0\n",
    "    for i in range(len(a)):\n",
    "        for j in range(len(a[i])):\n",
    "            if isinstance(a[i][j], int):\n",
    "                sum = sum + a[i][j]\n",
    "            elif isinstance(a[i][j], list):\n",
    "                for k in range(len(a[i][j])):\n",
    "                    if isinstance(a[i][j][k], int):\n",
    "                        sum = sum + a[i][j][k]\n",
    "                    else:\n",
    "                        for l in range(len(a[i][j][k])):\n",
    "                            sum = sum + a[i][j][k][l]\n",
    "            \n",
    "    print(sum)\n",
    "                \n",
    "calculate_total_sum([[1, 2, 3], [4, [5, 6]], [7, 8, [9, [10]]]])            \n",
    "    \n",
    "    "
   ]
  },
  {
   "cell_type": "markdown",
   "id": "d3e22ce5",
   "metadata": {},
   "source": [
    "### Swap Alternate Code"
   ]
  },
  {
   "cell_type": "code",
   "execution_count": null,
   "id": "4a299890",
   "metadata": {},
   "outputs": [],
   "source": [
    "def swapAlternate(arr, n) :\n",
    "     \n",
    "    i = 0\n",
    "    while i + 1 < len(arr):\n",
    "        arr[i], arr[i+1] = arr[i+1], arr[i]\n",
    "        i = i + 2"
   ]
  }
 ],
 "metadata": {
  "kernelspec": {
   "display_name": "Python 3 (ipykernel)",
   "language": "python",
   "name": "python3"
  },
  "language_info": {
   "codemirror_mode": {
    "name": "ipython",
    "version": 3
   },
   "file_extension": ".py",
   "mimetype": "text/x-python",
   "name": "python",
   "nbconvert_exporter": "python",
   "pygments_lexer": "ipython3",
   "version": "3.11.4"
  }
 },
 "nbformat": 4,
 "nbformat_minor": 5
}
