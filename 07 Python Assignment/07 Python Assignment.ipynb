{
 "cells": [
  {
   "cell_type": "markdown",
   "id": "5afc362d",
   "metadata": {},
   "source": [
    "### Print Array Sum"
   ]
  },
  {
   "cell_type": "code",
   "execution_count": null,
   "id": "696f8adb",
   "metadata": {},
   "outputs": [],
   "source": [
    "n = int(input())\n",
    "array = [int(i) for i in input().split()]\n",
    "sum = 0\n",
    "\n",
    "#finding sum\n",
    "for i in array:\n",
    "    sum = sum + i\n",
    "\n",
    "print(sum)"
   ]
  },
  {
   "cell_type": "markdown",
   "id": "bcc6c71f",
   "metadata": {},
   "source": [
    "### Find Unique"
   ]
  },
  {
   "cell_type": "code",
   "execution_count": null,
   "id": "09662fe1",
   "metadata": {},
   "outputs": [],
   "source": [
    "def findUnique(arr, n) :\n",
    "    for i in arr:\n",
    "        if arr.count(i) == 1:\n",
    "            return i"
   ]
  },
  {
   "cell_type": "markdown",
   "id": "f188e065",
   "metadata": {},
   "source": [
    "### Remove Character"
   ]
  },
  {
   "cell_type": "code",
   "execution_count": null,
   "id": "38fdde1a",
   "metadata": {},
   "outputs": [],
   "source": [
    "def removeAllOccurrencesOfChar(string, ch) :\n",
    "    return string.replace(ch, '')"
   ]
  },
  {
   "cell_type": "markdown",
   "id": "370a5b8e",
   "metadata": {},
   "source": [
    "### Intersection of Two Arrays"
   ]
  },
  {
   "cell_type": "code",
   "execution_count": null,
   "id": "4ca8d691",
   "metadata": {},
   "outputs": [],
   "source": [
    "def intersections(arr1, n, arr2, m) :\n",
    "    for i in arr1:\n",
    "        for j in arr2:\n",
    "            if i == j:\n",
    "                print(i, end = ' ')\n",
    "                arr2.remove(j)\n",
    "                break\n",
    "m = 0\n",
    "n = 0\n",
    "\n",
    "arr1 = [int(i) for i in input().split()]\n",
    "arr2 = [int(i) for i in input().split()]\n",
    "\n",
    "\n",
    "intersections(arr1,n,arr2,m)\n"
   ]
  },
  {
   "cell_type": "markdown",
   "id": "6978e2cd",
   "metadata": {},
   "source": [
    "### Highest Occuring Character"
   ]
  },
  {
   "cell_type": "code",
   "execution_count": null,
   "id": "a12a9997",
   "metadata": {},
   "outputs": [],
   "source": [
    "def highestOccuringChar(string) :\n",
    "    #creating dictionary with each character as key\n",
    "    dicts = dict.fromkeys(string, 0)\n",
    "    \n",
    "    #adding values to keys, where value is number of occurences\n",
    "    for i in string:\n",
    "        dicts[i] += 1\n",
    "    \n",
    "    #creating list of keys and list of values\n",
    "    key_list = list(dicts.keys())\n",
    "    value_list = list(dicts.values())\n",
    "    \n",
    "    #finding index of maximum value\n",
    "    max_index = value_list.index(max(value_list))\n",
    "    \n",
    "    #returning key at that index in key_list\n",
    "    return key_list[max_index]\n",
    "\n",
    "print(highestOccuringChar('abdefgbabfba'))\n"
   ]
  },
  {
   "cell_type": "markdown",
   "id": "2b23f57d",
   "metadata": {},
   "source": [
    "### Find Duplicate"
   ]
  },
  {
   "cell_type": "code",
   "execution_count": null,
   "id": "95750dca",
   "metadata": {},
   "outputs": [],
   "source": [
    "def duplicateNumber(arr, n) :\n",
    "    for i in arr:\n",
    "        if i in arr[:(arr.index(i)):] + arr[arr.index(i)+1::]:\n",
    "            return i\n",
    "\n",
    "print(duplicateNumber([0, 7, 2, 5, 4, 7, 1, 3, 6], 0))"
   ]
  },
  {
   "cell_type": "markdown",
   "id": "711b9a2e",
   "metadata": {},
   "source": [
    "###  First non repeating character"
   ]
  },
  {
   "cell_type": "code",
   "execution_count": null,
   "id": "df932c6b",
   "metadata": {},
   "outputs": [],
   "source": [
    "def nonRepeatingChar(arr):\n",
    "     for i in arr:\n",
    "        if i not in arr[:(arr.index(i)):] + arr[arr.index(i)+1::]:\n",
    "            return i\n",
    "        \n",
    "# Main\n",
    "string = input()\n",
    "print(nonRepeatingChar(string))\n"
   ]
  },
  {
   "cell_type": "markdown",
   "id": "6a7b19d6",
   "metadata": {},
   "source": [
    "### Different Names"
   ]
  },
  {
   "cell_type": "code",
   "execution_count": null,
   "id": "519a3fde",
   "metadata": {},
   "outputs": [],
   "source": [
    "def differentNames(l):\n",
    "    d = dict.fromkeys(l, 0)\n",
    "    \n",
    "    for i in d:\n",
    "        for j in l:\n",
    "            if i == j:\n",
    "                d[i] += 1\n",
    "        if d[i] > 1:\n",
    "            print(i,d[i])\n",
    "# Main\n",
    "names=input().strip().split()\n",
    "differentNames(names)"
   ]
  },
  {
   "cell_type": "markdown",
   "id": "38dcfcd5",
   "metadata": {},
   "source": [
    "### Even Count"
   ]
  },
  {
   "cell_type": "code",
   "execution_count": null,
   "id": "f268950a",
   "metadata": {},
   "outputs": [],
   "source": [
    "def evenCount(arr):\n",
    "    for i in arr:\n",
    "        if arr.count(i) % 2 == 0:\n",
    "            return i\n",
    "    return -1\n",
    "            \n",
    "\n",
    "# Main\n",
    "n=int(input())\n",
    "arr=list(int(i) for i in input().strip().split(' '))\n",
    "print(evenCount(arr))"
   ]
  },
  {
   "cell_type": "markdown",
   "id": "bce4f2cb",
   "metadata": {},
   "source": [
    "### Compress the string"
   ]
  },
  {
   "cell_type": "code",
   "execution_count": null,
   "id": "d7d927b3",
   "metadata": {},
   "outputs": [],
   "source": [
    "def getCompressedString(input) :\n",
    "    \n",
    "    result = ''\n",
    "    i = 0\n",
    "    while i < len(input):\n",
    "        count = 1\n",
    "        while i != len(input) -1 and input[i] == input[i+1]:\n",
    "            count += 1\n",
    "            i += 1\n",
    "        if count > 1:\n",
    "            result += input[i] + str(count)\n",
    "        else:\n",
    "            result += input[i]\n",
    "        i +=1\n",
    "    if i == len(input) - 1:\n",
    "        result += input[i]\n",
    "    return result\n",
    "            \n",
    "        \n",
    "        \n",
    "\n",
    "print(getCompressedString(\"aaabbccdsa\"))"
   ]
  },
  {
   "cell_type": "markdown",
   "id": "7adbe631",
   "metadata": {},
   "source": [
    "### Reverse Each Word"
   ]
  },
  {
   "cell_type": "code",
   "execution_count": null,
   "id": "b56de860",
   "metadata": {},
   "outputs": [],
   "source": [
    "def reverseEachWord(string) :\n",
    "    words = string.split()\n",
    "    for i in range(len(words)):\n",
    "        words[i] = words[i][::-1]\n",
    "    return ' '.join(words)\n",
    "        \n",
    "\n",
    "reverseEachWord(\"Welcome to Coding Ninjas\")"
   ]
  },
  {
   "cell_type": "markdown",
   "id": "cd9eced5",
   "metadata": {},
   "source": [
    "### Unique and Largest Word"
   ]
  },
  {
   "cell_type": "code",
   "execution_count": null,
   "id": "a6040255",
   "metadata": {},
   "outputs": [],
   "source": [
    "from collections import OrderedDict\n",
    "\n",
    "def rmv_dup(words):\n",
    "\n",
    "    d = OrderedDict()\n",
    "    for i in words:\n",
    "       d[i] = 0\n",
    "    return list(d.keys())\n",
    "    \n",
    "\n",
    "def find_longest_word(words):\n",
    "    d = dict.fromkeys(words, 0)\n",
    "    for i in d:\n",
    "        d[i] = len(i)\n",
    "    key_list = list(d.keys())\n",
    "    value_list = list(d.values())\n",
    "    return key_list[value_list.index(max(value_list))]\n",
    "\n",
    "input_string = input()\n",
    "word_list = input_string.split()\n",
    "\n",
    "unique_words = rmv_dup(word_list)\n",
    "longest_word = find_longest_word(unique_words)\n",
    "\n",
    "\n",
    "print(unique_words)\n",
    "print(longest_word)"
   ]
  },
  {
   "cell_type": "markdown",
   "id": "f0cd929a",
   "metadata": {},
   "source": [
    "### Prime Word Count"
   ]
  },
  {
   "cell_type": "code",
   "execution_count": null,
   "id": "331793cc",
   "metadata": {},
   "outputs": [],
   "source": [
    "def is_prime(n):\n",
    "    for i in range(2,n):\n",
    "        if n % i == 0:\n",
    "            return False\n",
    "    return True\n",
    "  \n",
    "\n",
    "def prime_l(string):\n",
    "    \n",
    "    common_primes = [2, 3, 5, 7, 11, 13]\n",
    "    words = string.split()\n",
    "    for i in words:\n",
    "        if len(i) in common_primes:\n",
    "            print(i)\n",
    "        elif len(i) < 14:\n",
    "            continue\n",
    "        elif is_prime(i):\n",
    "            print(i)\n",
    "            \n",
    "prime_l(\"The quick brown fox jumps over the lazy dog\")\n",
    "            \n",
    "        "
   ]
  },
  {
   "cell_type": "markdown",
   "id": "418e4a0a",
   "metadata": {},
   "source": [
    "### Capitalize Max Vowel"
   ]
  },
  {
   "cell_type": "code",
   "execution_count": 1,
   "id": "7d35859b",
   "metadata": {},
   "outputs": [
    {
     "name": "stdout",
     "output_type": "stream",
     "text": [
      "You have some SCHOOLWORK to do.\n"
     ]
    }
   ],
   "source": [
    "def count_vowels(word):\n",
    "    count = 0\n",
    "    for i in word:\n",
    "        if i in ['a','e','i','o','u']:\n",
    "            count += 1\n",
    "    return count\n",
    "\n",
    "def max_vowels(string):\n",
    "    #Your code goes here\n",
    "    pass\n",
    "\n",
    "def cap(string):\n",
    "    #split senetence into words\n",
    "    words = string.split()\n",
    "    \n",
    "    #initiate list to store count of vowels\n",
    "    vowel_count = [0 for i in range(len(words))]\n",
    "    \n",
    "    #loop through words and find count of vowels in each word\n",
    "    for i in range(len(words)):\n",
    "        vowel_count[i] = count_vowels(words[i])\n",
    "\n",
    "    #store index of maximum count from vowels_count\n",
    "    max_index = vowel_count.index(max(vowel_count))\n",
    "    \n",
    "    #convert word with maximum vowels to uppercase\n",
    "    words[max_index] = words[max_index].upper()\n",
    "    \n",
    "    #return back the whole sentence from word list\n",
    "    return ' '.join(words)\n",
    "\n",
    "print(cap(\"You have some schoolwork to do.\"))"
   ]
  },
  {
   "cell_type": "markdown",
   "id": "66d9c567",
   "metadata": {},
   "source": [
    "### Pallindrome"
   ]
  },
  {
   "cell_type": "code",
   "execution_count": null,
   "id": "2e056cf8",
   "metadata": {},
   "outputs": [],
   "source": [
    "def is_palindrome(word):\n",
    "    return word == word[::-1]\n",
    "    \n",
    "\n",
    "\n",
    "def increment_characters(word):\n",
    "    \n",
    "    new_word = []\n",
    "    for i in range(len(word)):\n",
    "        ascii_value = ord(word[i]) + 1\n",
    "        incremented_letter = chr(ascii_value)\n",
    "        new_word += incremented_letter\n",
    "    return ''.join(new_word)\n",
    "        \n",
    "        \n",
    "    \n",
    "if is_palindrome(\"naman\"):\n",
    "    print(\"Palindrome\")\n",
    "    print(increment_characters(\"naman\"))\n",
    "else:\n",
    "    print(\"Not Palindrome\")"
   ]
  },
  {
   "cell_type": "markdown",
   "id": "a9b44c1d",
   "metadata": {},
   "source": [
    "### Transpose Matrix"
   ]
  },
  {
   "cell_type": "code",
   "execution_count": null,
   "id": "1775e015",
   "metadata": {},
   "outputs": [],
   "source": [
    "def transpose_matrix(matrix):\n",
    "    return [[matrix[j][i] for j in range(len(matrix))]   for i in range(len(matrix[0]))]\n",
    "\n",
    "print(transpose_matrix([[1,2],[3,4]]))"
   ]
  },
  {
   "cell_type": "markdown",
   "id": "c897104b",
   "metadata": {},
   "source": [
    "### Reverse Tuple"
   ]
  },
  {
   "cell_type": "code",
   "execution_count": null,
   "id": "ae6e942f",
   "metadata": {},
   "outputs": [],
   "source": [
    "def reverse_tuple_groups(tuple_input):\n",
    "    output_tuple = ()\n",
    "    for i in range(0,len(tuple_input)-1,2):\n",
    "        output_tuple = output_tuple + (tuple_input[i+1],tuple_input[i])\n",
    "    return output_tuple\n",
    "print(reverse_tuple_groups((1,2,3,4)))\n",
    "    "
   ]
  },
  {
   "cell_type": "markdown",
   "id": "13985b0e",
   "metadata": {},
   "source": [
    "### Intersection "
   ]
  },
  {
   "cell_type": "code",
   "execution_count": null,
   "id": "8905f7d6",
   "metadata": {},
   "outputs": [],
   "source": [
    "def intersection_sets(set_list):\n",
    "    intersection = set_list[0]\n",
    "    for i in range(len(set_list)):\n",
    "        intersection = intersection & set_list[i]\n",
    "    return intersection\n",
    "    \n",
    "\n",
    "set_list = []\n",
    "\n",
    "num_sets = int(input())\n",
    "\n",
    "for i in range(num_sets):\n",
    "    set_input = input()\n",
    "    set_elements = set(map(int, set_input.split()))\n",
    "    set_list.append(set_elements)\n",
    "\n",
    "intersection = intersection_sets(set_list)\n",
    "\n",
    "print(intersection)"
   ]
  },
  {
   "cell_type": "markdown",
   "id": "663183d9",
   "metadata": {},
   "source": [
    "### Anagram"
   ]
  },
  {
   "cell_type": "code",
   "execution_count": null,
   "id": "9f6a9861",
   "metadata": {},
   "outputs": [],
   "source": [
    "def group_anagrams(strs):\n",
    "    # creating empty lists; s stores a list of sets containing each character in each word; r will contain the result list\n",
    "    s = [0 for i in range(len(strs))]\n",
    "    r = []\n",
    "    \n",
    "    #stripping characters from the string and grouping it as sets in s\n",
    "    for i in strs:\n",
    "        s[strs.index(i)] = set()\n",
    "        for j in i:\n",
    "            s[strs.index(i)].add(j)\n",
    "    i = 0\n",
    "    #compares each set in s with sequantial sets in s and writes it to r if set difference is 0\n",
    "    while i < len(s):\n",
    "        j = i + 1\n",
    "        while j < len(s):         \n",
    "            if s[i] - s[j] == set():             \n",
    "                r.append([strs[i], strs[j]])\n",
    "                s.pop(j)\n",
    "                strs.pop(j)\n",
    "                j -= 1\n",
    "            j += 1\n",
    "        s.pop(i)\n",
    "        strs.pop(i)\n",
    "    \n",
    "    return r\n",
    "        \n",
    "    \n",
    "        \n",
    "group_anagrams(['ear', 'saw', 'are', 'was', 'nib', 'bin'])\n"
   ]
  },
  {
   "cell_type": "code",
   "execution_count": null,
   "id": "4dc0d65c",
   "metadata": {},
   "outputs": [],
   "source": [
    "def group_anagrams(strs):\n",
    "    # creating empty lists; s stores a list of sets containing each character in each word; r will contain the result list\n",
    "    s = [0 for i in range(len(strs))]\n",
    "    r = []\n",
    "    \n",
    "    #stripping characters from the string and grouping it as sets in s\n",
    "    for i in strs:\n",
    "        s[strs.index(i)] = set()\n",
    "        for j in i:\n",
    "            s[strs.index(i)].add(j)\n",
    "    i = 0\n",
    "    #compares each set in s with sequantial sets in s and writes it to r if set difference is 0\n",
    "    while i < len(s):\n",
    "        j = i + 1\n",
    "        while j < len(s):         \n",
    "            if s[i] - s[j] == set():             \n",
    "                r.append([strs[i], strs[j]])\n",
    "                s.pop(j)\n",
    "                strs.pop(j)\n",
    "                j -= 1\n",
    "            j += 1\n",
    "        s.pop(i)\n",
    "        strs.pop(i)\n",
    "    print(r)\n",
    "    r = []\n",
    "    return r\n",
    "for i in group_anagrams(['ear', 'saw', 'are', 'was', 'nib', 'bin']):\n",
    "    print(i)"
   ]
  },
  {
   "cell_type": "markdown",
   "id": "820cc6b5",
   "metadata": {},
   "source": [
    "### Average Marks Of Students"
   ]
  },
  {
   "cell_type": "code",
   "execution_count": null,
   "id": "07d852ee",
   "metadata": {},
   "outputs": [],
   "source": [
    "from collections import OrderedDict\n",
    "\n",
    "def calculate_average_scores(students):\n",
    "    avg = OrderedDict()\n",
    "    dummy = {}\n",
    "   \n",
    "    #input dictionaries in 'students' list had an '\\r' at the end of student names; following code is to remove that\n",
    "    for i in range(len(students)):\n",
    "        students[i]['name'] = students[i]['name'][0:2]\n",
    "    \n",
    "    for i in range(len(students)):\n",
    "        #calculating average of marks\n",
    "        n = 1\n",
    "        average = 0.00\n",
    "        for j in students[i]['scores']:\n",
    "            average = (j + average)/n\n",
    "            n += 1\n",
    "        #adding 'name: average' to dictionary\n",
    "        avg[students[i]['name']] = average\n",
    "\n",
    "    #printing in the 'Main Code' shows errors; hence printing myself and returning a dummy dictionary\n",
    "    keys = list(avg.keys())\n",
    "    values = list(avg.values())\n",
    "    for i in range(len(avg)):\n",
    "        print(keys[i],':',values[i],'0', sep ='')\n",
    "    \n",
    "    return dummy"
   ]
  }
 ],
 "metadata": {
  "kernelspec": {
   "display_name": "Python 3 (ipykernel)",
   "language": "python",
   "name": "python3"
  },
  "language_info": {
   "codemirror_mode": {
    "name": "ipython",
    "version": 3
   },
   "file_extension": ".py",
   "mimetype": "text/x-python",
   "name": "python",
   "nbconvert_exporter": "python",
   "pygments_lexer": "ipython3",
   "version": "3.11.4"
  }
 },
 "nbformat": 4,
 "nbformat_minor": 5
}
