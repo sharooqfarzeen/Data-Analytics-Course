{
  "nbformat": 4,
  "nbformat_minor": 0,
  "metadata": {
    "colab": {
      "name": "Numpy - Activity.ipynb",
      "provenance": []
    },
    "kernelspec": {
      "name": "python3",
      "display_name": "Python 3"
    },
    "language_info": {
      "name": "python"
    }
  },
  "cells": [
    {
      "cell_type": "markdown",
      "source": [
        "# Dataset\n",
        "### [NYC Taxis dataset](https://drive.google.com/file/d/1ubqNY9PJnPtggPNlxbTQQ-mhFWooBnG5/view?usp=sharing)\n",
        "\n",
        "\n",
        "---\n",
        "\n",
        "\n",
        "\n"
      ],
      "metadata": {
        "id": "kiHhFiGqtIyp"
      }
    },
    {
      "cell_type": "markdown",
      "source": [
        "We'll be working with a subset of this data: Yellow taxi trips to and from New York City airports between January and June 2016. In our dataset, each row represents a unique taxi trip. Below is information about selected columns from the data set:\n",
        "\n",
        "    - `pickup_year` - The year of the trip.,\n",
        "    - `pickup_month` - The month of the trip (January is 1, December is 12).,\n",
        "    - `pickup_day` - The day of the month of the trip.,\n",
        "    - `pickup_location_code` - The airport or borough where the the trip started, as one of eight categories:\n",
        "          * 0 - Bronx.\n",
        "          * 01 - Brooklyn.\n",
        "          * 02 - JFK Airport.\n",
        "          * 03 - LaGuardia Airport.\n",
        "          * 04 - Manhattan.\n",
        "          * 05 - Newark Airport.\n",
        "          * 06 - Queens.\n",
        "          * 07 - Staten Island.\n",
        "    - `dropoff_location_code` - The airport or borough where the the trip finished, using the same eight category codes as pickup_location_code.,\n",
        "    - `trip_distance` - The distance of the trip in miles.,\n",
        "    - `trip_length` - The length of the trip in seconds.,\n",
        "    - `fare_amount` - The base fare of the trip, in dollars.,\n",
        "    - `total_amount` - The total amount charged to the passenger, including all fees, tolls and tips."
      ],
      "metadata": {
        "id": "WKCY1QI5b77D"
      }
    },
    {
      "cell_type": "markdown",
      "source": [
        "# Answer the following\n",
        "\n",
        "\n",
        "\n",
        "*   Mean Speed of all the rides\n",
        "*   Number of rides taken in May\n",
        "*   Number of rides where tip more than $50\n",
        "*   Number of rides where drop was JFK airport"
      ],
      "metadata": {
        "id": "NG0XX4v_o6Ex"
      }
    },
    {
      "cell_type": "markdown",
      "source": [
        "# Answers"
      ],
      "metadata": {
        "id": "gM86t42MpTHu"
      }
    },
    {
      "cell_type": "code",
      "execution_count": 1,
      "metadata": {
        "id": "WoVHc0Lks9a2"
      },
      "outputs": [],
      "source": [
        "import numpy as np"
      ]
    },
    {
      "cell_type": "code",
      "source": [
        "taxis = np.genfromtxt('nyc_taxis.csv', delimiter=',', skip_header=True)"
      ],
      "metadata": {
        "id": "HEaMnaMSuOt4"
      },
      "execution_count": 2,
      "outputs": []
    },
    {
      "cell_type": "markdown",
      "source": [
        "### Mean Speed of all the rides"
      ],
      "metadata": {
        "id": "xFUh-d2mwLTQ"
      }
    },
    {
      "cell_type": "code",
      "source": [
        "speed = taxis[:, 7]/ (taxis[:, 8]/3600)"
      ],
      "metadata": {
        "id": "bDvPs8uVueTa"
      },
      "execution_count": 3,
      "outputs": []
    },
    {
      "cell_type": "code",
      "source": [
        "mean_speed = speed.mean()\n",
        "print(mean_speed)"
      ],
      "metadata": {
        "colab": {
          "base_uri": "https://localhost:8080/"
        },
        "id": "wh-fy_4MuooX",
        "outputId": "f665f309-bba3-46fe-ab54-a5cc04b2559a"
      },
      "execution_count": 4,
      "outputs": [
        {
          "output_type": "stream",
          "name": "stdout",
          "text": [
            "32.24258580925573\n"
          ]
        }
      ]
    },
    {
      "cell_type": "markdown",
      "source": [
        "### Number of rides taken in May"
      ],
      "metadata": {
        "id": "b9c3MR74wQCS"
      }
    },
    {
      "cell_type": "code",
      "source": [
        "rides_in_may = taxis[taxis[:, 1] == 5, 1]\n",
        "print(rides_in_may.shape[0])"
      ],
      "metadata": {
        "colab": {
          "base_uri": "https://localhost:8080/"
        },
        "id": "1E6LYFtxuuWJ",
        "outputId": "946ed360-45ac-413e-c969-efcf8398b8d2"
      },
      "execution_count": 6,
      "outputs": [
        {
          "output_type": "stream",
          "name": "stdout",
          "text": [
            "16650\n"
          ]
        }
      ]
    },
    {
      "cell_type": "markdown",
      "source": [
        "### Number of rides where tip more than $50"
      ],
      "metadata": {
        "id": "tnLZrSJZwXa5"
      }
    },
    {
      "cell_type": "code",
      "source": [
        "print(taxis[taxis[:, -3] > 50, -3].shape[0])"
      ],
      "metadata": {
        "colab": {
          "base_uri": "https://localhost:8080/"
        },
        "id": "j6Y_md5mvD5V",
        "outputId": "b8aa0f54-5614-44c7-a27e-2287d0e5635a"
      },
      "execution_count": 8,
      "outputs": [
        {
          "output_type": "stream",
          "name": "stdout",
          "text": [
            "16\n"
          ]
        }
      ]
    },
    {
      "cell_type": "code",
      "source": [
        "print(taxis[taxis[:, 6] == 2, 6].shape[0])"
      ],
      "metadata": {
        "colab": {
          "base_uri": "https://localhost:8080/"
        },
        "id": "sJa24fOzvVyG",
        "outputId": "fd1c9e66-5462-448e-d81d-63c14f28d198"
      },
      "execution_count": 9,
      "outputs": [
        {
          "output_type": "stream",
          "name": "stdout",
          "text": [
            "11832\n"
          ]
        }
      ]
    },
    {
      "cell_type": "code",
      "source": [
        ""
      ],
      "metadata": {
        "id": "UXDEPfEGvry-"
      },
      "execution_count": null,
      "outputs": []
    }
  ]
}