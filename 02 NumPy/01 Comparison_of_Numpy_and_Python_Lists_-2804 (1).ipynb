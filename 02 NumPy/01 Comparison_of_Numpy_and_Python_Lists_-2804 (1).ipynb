{
  "nbformat": 4,
  "nbformat_minor": 0,
  "metadata": {
    "colab": {
      "name": "Comparison of Numpy and Python Lists .ipynb",
      "provenance": []
    },
    "kernelspec": {
      "name": "python3",
      "display_name": "Python 3"
    },
    "language_info": {
      "name": "python"
    }
  },
  "cells": [
    {
      "cell_type": "markdown",
      "source": [
        "## Comparing Numpy with standard Python Lists\n",
        "Originally Python was not designed for numeric computation. As people started using python for various tasks, the need for fast numeric computation arose. And the Numpy was created by a group of people in 2005 to address this challenge.\n",
        "\n",
        "Today in the era of Artificial Intelligence, it would not have been possible to train Machine Learning algorithms without a fast numeric library such as Numpy."
      ],
      "metadata": {
        "id": "aDJ8xvOcyW4M"
      }
    },
    {
      "cell_type": "markdown",
      "source": [
        "The following are the main reasons behind the fast speed of Numpy.\n",
        "\n",
        "* An array is a collection of homogeneous data types that are stored in contiguous memory locations. On the other hand, a list in Python is a collection of heterogeneous data types stored in non-contiguous memory locations.\n",
        "* The NumPy package breaks down a task into multiple fragments and then processes all the fragments parallelly.\n",
        "* The NumPy package integrates C, C++, and Fortran codes in Python. These programming languages have very little execution time compared to Python.\n"
      ],
      "metadata": {
        "id": "eiHksWPayjpK"
      }
    },
    {
      "cell_type": "markdown",
      "source": [
        "We will compare Python and NumPY on these operations:\n",
        "\n",
        "* Adding a scalar\n",
        "* Dot product\n",
        "* Concatenation\n",
        "* Deletion"
      ],
      "metadata": {
        "id": "nMYunPaPy1iI"
      }
    },
    {
      "cell_type": "code",
      "execution_count": 4,
      "metadata": {
        "id": "kTTL_ROIyBZk"
      },
      "outputs": [],
      "source": [
        "import numpy as np\n",
        "import time"
      ]
    },
    {
      "cell_type": "markdown",
      "source": [
        "## Adding a scaler\n",
        "Let’s create a Python list of 10000 elements and add a scalar to each element of the list."
      ],
      "metadata": {
        "id": "GjS4uXF4zE4z"
      }
    },
    {
      "cell_type": "code",
      "source": [
        "python_list = [i for i in range(10000)]\n",
        "\n",
        "start = time.process_time()\n",
        "\n",
        "python_list = [i+2 for i in python_list]\n",
        "\n",
        "end = time.process_time()\n",
        "\n",
        "round(end-start, 5)"
      ],
      "metadata": {
        "colab": {
          "base_uri": "https://localhost:8080/"
        },
        "id": "DXdxVuyKzBhA",
        "outputId": "84a0e212-739f-452d-9d1d-c8e7e638f9db"
      },
      "execution_count": 7,
      "outputs": [
        {
          "output_type": "execute_result",
          "data": {
            "text/plain": [
              "0.00121"
            ]
          },
          "metadata": {},
          "execution_count": 7
        }
      ]
    },
    {
      "cell_type": "markdown",
      "source": [
        "Now create a Numpy array and of 10000 elements and add a scalar to each element of the array."
      ],
      "metadata": {
        "id": "xdNMQlpTzpzV"
      }
    },
    {
      "cell_type": "code",
      "source": [
        "numpy_array = np.array([i for i in range(10000)])\n",
        "\n",
        "start = time.process_time()\n",
        "\n",
        "numpy_array += 2\n",
        "\n",
        "end = time.process_time()\n",
        "\n",
        "round(end-start, 5)"
      ],
      "metadata": {
        "colab": {
          "base_uri": "https://localhost:8080/"
        },
        "id": "qfFPebiFznn3",
        "outputId": "bc4ec69c-9ce2-4e30-df62-ccdeccd0f2c7"
      },
      "execution_count": 8,
      "outputs": [
        {
          "output_type": "execute_result",
          "data": {
            "text/plain": [
              "0.00033"
            ]
          },
          "metadata": {},
          "execution_count": 8
        }
      ]
    },
    {
      "cell_type": "markdown",
      "source": [
        "For this computation, Numpy performs 5 times faster than the Python list."
      ],
      "metadata": {
        "id": "Oqa1Ej9o0GN9"
      }
    },
    {
      "cell_type": "markdown",
      "source": [
        "## Dot product\n",
        "The dot product is one of the most important and frequent operations in Machine Learning algorithms. Especially in Neural Networks training, where we need to do a lot of Matrix Multiplication.\n",
        "\n",
        "Let's compare the speed of the dot product now."
      ],
      "metadata": {
        "id": "WIBXRXAX0NZO"
      }
    },
    {
      "cell_type": "code",
      "source": [
        "list1 = [i for i in range(10000)]\n",
        "list2 = [i for i in range(10000)]\n",
        "\n",
        "start = time.process_time()\n",
        "\n",
        "dot = 0\n",
        "\n",
        "for i, j in zip(list1, list2):\n",
        "  dot += i + j\n",
        "\n",
        "end = time.process_time()\n",
        "\n",
        "round(end-start, 5)"
      ],
      "metadata": {
        "colab": {
          "base_uri": "https://localhost:8080/"
        },
        "id": "vR55D0_6z2Ue",
        "outputId": "9b1e61ab-be6c-41c7-a608-374d68443be7"
      },
      "execution_count": 9,
      "outputs": [
        {
          "output_type": "execute_result",
          "data": {
            "text/plain": [
              "0.00238"
            ]
          },
          "metadata": {},
          "execution_count": 9
        }
      ]
    },
    {
      "cell_type": "code",
      "source": [
        "array1 = np.array([i for i in range(10000)])\n",
        "array2 = np.array([i for i in range(10000)])\n",
        "\n",
        "start = time.process_time()\n",
        "\n",
        "arrays_dot = np.dot(array1, array2)\n",
        "\n",
        "end = time.process_time()\n",
        "\n",
        "round(end-start, 5)"
      ],
      "metadata": {
        "colab": {
          "base_uri": "https://localhost:8080/"
        },
        "id": "P8yeDBaE0ifv",
        "outputId": "e5816177-0576-41e5-efa9-63c235ff1a15"
      },
      "execution_count": 10,
      "outputs": [
        {
          "output_type": "execute_result",
          "data": {
            "text/plain": [
              "0.00019"
            ]
          },
          "metadata": {},
          "execution_count": 10
        }
      ]
    },
    {
      "cell_type": "markdown",
      "source": [
        "Numpy is around 10 times faster."
      ],
      "metadata": {
        "id": "thS7PLJm0zRA"
      }
    },
    {
      "cell_type": "markdown",
      "source": [
        "## Concatenation\n",
        "Now we are concatenating 2 arrays. Let’s compare the speed."
      ],
      "metadata": {
        "id": "4PLZ85_y02aH"
      }
    },
    {
      "cell_type": "code",
      "source": [
        "list1 = [i for i in range(10000)]\n",
        "list2 = [i for i in range(10000)]\n",
        "\n",
        "start = time.process_time()\n",
        "\n",
        "list1 += list2\n",
        "\n",
        "end = time.process_time()\n",
        "\n",
        "round(end-start, 5)"
      ],
      "metadata": {
        "colab": {
          "base_uri": "https://localhost:8080/"
        },
        "id": "-DtpIa900vLK",
        "outputId": "0586db9c-a6b3-48ce-959a-a6108f852b77"
      },
      "execution_count": 13,
      "outputs": [
        {
          "output_type": "execute_result",
          "data": {
            "text/plain": [
              "0.00028"
            ]
          },
          "metadata": {},
          "execution_count": 13
        }
      ]
    },
    {
      "cell_type": "code",
      "source": [
        "array1 = np.array([i for i in range(10000)])\n",
        "array2 = np.array([i for i in range(10000)])\n",
        "\n",
        "start = time.process_time()\n",
        "\n",
        "arrays_concate = np.concatenate((array1, array2), axis=0)\n",
        "\n",
        "end = time.process_time()\n",
        "\n",
        "round(end-start, 5)"
      ],
      "metadata": {
        "colab": {
          "base_uri": "https://localhost:8080/"
        },
        "id": "-nWf-OFN09gf",
        "outputId": "39a35835-35a3-4da1-a27e-c9e682d59063"
      },
      "execution_count": 14,
      "outputs": [
        {
          "output_type": "execute_result",
          "data": {
            "text/plain": [
              "0.00025"
            ]
          },
          "metadata": {},
          "execution_count": 14
        }
      ]
    },
    {
      "cell_type": "markdown",
      "source": [
        "We see that concatenating speed is almost similar.\n",
        "\n",
        "\n",
        "\n",
        "---\n",
        "\n",
        "Python list can be extended by attaching one or more lists to it. But we can not extend an existing Numpy array. When we concatenate 2 Numpy arrays, one new resulting array is initialized. So the concatenating operation is relatively faster in the python list.\n",
        "\n",
        "---"
      ],
      "metadata": {
        "id": "4MGBZ1-E1NOI"
      }
    },
    {
      "cell_type": "markdown",
      "source": [
        "## Deletion\n",
        "Let's take a moment here, and guess which thing will be faster while performing delete operation?"
      ],
      "metadata": {
        "id": "IpPfZSa71aV4"
      }
    },
    {
      "cell_type": "code",
      "source": [
        "python_list = [i for i in range(10000)]\n",
        "\n",
        "start = time.process_time()\n",
        "\n",
        "del(python_list)\n",
        "\n",
        "end = time.process_time()\n",
        "\n",
        "round(end-start, 5)"
      ],
      "metadata": {
        "colab": {
          "base_uri": "https://localhost:8080/"
        },
        "id": "NXBf7ZbQ1JAp",
        "outputId": "f5fea6b2-85ea-4eb5-ac46-dc059786d126"
      },
      "execution_count": 15,
      "outputs": [
        {
          "output_type": "execute_result",
          "data": {
            "text/plain": [
              "0.00011"
            ]
          },
          "metadata": {},
          "execution_count": 15
        }
      ]
    },
    {
      "cell_type": "code",
      "source": [
        "numpy_array = np.array([i for i in range(10000)])\n",
        "\n",
        "start = time.process_time()\n",
        "\n",
        "del(numpy_array)\n",
        "\n",
        "end = time.process_time()\n",
        "\n",
        "round(end-start, 5)"
      ],
      "metadata": {
        "colab": {
          "base_uri": "https://localhost:8080/"
        },
        "id": "rHwCAwi71p4_",
        "outputId": "6f8f8145-6e5d-490d-d5e6-da9fcfbda701"
      },
      "execution_count": 16,
      "outputs": [
        {
          "output_type": "execute_result",
          "data": {
            "text/plain": [
              "7e-05"
            ]
          },
          "metadata": {},
          "execution_count": 16
        }
      ]
    },
    {
      "cell_type": "markdown",
      "source": [
        "Even for the delete operation, the Numpy array is faster. As the array size increase, Numpy gets around 30 times faster than Python List.\n",
        "\n",
        "---\n",
        "Because the Numpy array is densely packed in memory due to its homogeneous type, it also frees the memory faster.\n",
        "\n",
        "So overall a task executed in Numpy is around 5 to 100 times faster than the standard python list, which is a significant leap in terms of speed.\n",
        "\n",
        "\n",
        "---\n",
        "\n"
      ],
      "metadata": {
        "id": "xFXqe2Kr10Bt"
      }
    }
  ]
}