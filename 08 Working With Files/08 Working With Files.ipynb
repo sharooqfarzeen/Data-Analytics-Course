{
 "cells": [
  {
   "cell_type": "markdown",
   "id": "251496cc",
   "metadata": {},
   "source": [
    "### Read words"
   ]
  },
  {
   "cell_type": "code",
   "execution_count": null,
   "id": "3ce1d0ea",
   "metadata": {},
   "outputs": [],
   "source": [
    "file_obj = open('Sample1.txt')\n",
    "file = file_obj.read(200)"
   ]
  },
  {
   "cell_type": "markdown",
   "id": "7023d144",
   "metadata": {},
   "source": [
    "### Print 5 lines"
   ]
  },
  {
   "cell_type": "code",
   "execution_count": null,
   "id": "e93c575b",
   "metadata": {},
   "outputs": [],
   "source": [
    "file_obj = open(\"Sample.txt\")\n",
    "for i in range(5):\n",
    "    print(file_obj.readline())"
   ]
  },
  {
   "cell_type": "markdown",
   "id": "26c17dc7",
   "metadata": {},
   "source": [
    "### Print 5 Lines (Readlines)"
   ]
  },
  {
   "cell_type": "code",
   "execution_count": null,
   "id": "bbbc9118",
   "metadata": {},
   "outputs": [],
   "source": [
    "with open(\"Sample.txt\") as file_object:\n",
    "    data = file_object.readlines()\n",
    "for i in range(5):\n",
    "    print(data[i])"
   ]
  },
  {
   "cell_type": "markdown",
   "id": "fe8898cd",
   "metadata": {},
   "source": [
    "### First 3 lines"
   ]
  },
  {
   "cell_type": "code",
   "execution_count": null,
   "id": "7eaa38d4",
   "metadata": {},
   "outputs": [],
   "source": [
    "import csv\n",
    "\n",
    "with open(\"datasets/year2017.csv\") as file_obj:\n",
    "    \n",
    "    file_data = csv.reader(file_obj)\n",
    "    \n",
    "    file_list = list(file_data)\n",
    "    \n",
    "    for i in range(1, 4):\n",
    "        for j in file_list[i]:\n",
    "            print(j, end=' ')\n",
    "        print('\\n')"
   ]
  },
  {
   "cell_type": "markdown",
   "id": "f74d2aac",
   "metadata": {},
   "source": [
    "### Print all column names"
   ]
  },
  {
   "cell_type": "code",
   "execution_count": null,
   "id": "a582b824",
   "metadata": {},
   "outputs": [],
   "source": [
    "import csv\n",
    "\n",
    "with open(\"datasets/year2017.csv\") as file_obj:\n",
    "    \n",
    "    file_data = csv.reader(file_obj)\n",
    "    \n",
    "    file_list = list(file_data)\n",
    "    \n",
    "    for i in range(len(file_list[0])):\n",
    "        print(file_list[0][i])"
   ]
  },
  {
   "cell_type": "markdown",
   "id": "61e3e032",
   "metadata": {},
   "source": [
    "### Country Names"
   ]
  },
  {
   "cell_type": "code",
   "execution_count": null,
   "id": "cac9f526",
   "metadata": {},
   "outputs": [],
   "source": [
    "import csv\n",
    "\n",
    "file_obj = open(\"year2017.csv\")\n",
    "\n",
    "file_data = csv.reader(file_obj, skipinitialspace = True)\n",
    "\n",
    "file_list = list(file_data)\n",
    "idx = 0\n",
    "\n",
    "for i in range(len(file_list[0])):\n",
    "    if file_list[0][i] == 'Country':\n",
    "        idx = i\n",
    "        break\n",
    "\n",
    "for i in range(1,11):\n",
    "    print(file_list[i][idx])"
   ]
  },
  {
   "cell_type": "markdown",
   "id": "8353251a",
   "metadata": {},
   "source": [
    "### Delimiter"
   ]
  },
  {
   "cell_type": "code",
   "execution_count": null,
   "id": "6012c373",
   "metadata": {},
   "outputs": [],
   "source": [
    "import csv\n",
    "\n",
    "def read_file(csv_file):\n",
    "    data = []\n",
    "    with open(csv_file, 'r') as file:\n",
    "        csv_reader = csv.reader(file, delimiter='|')\n",
    "        for row in csv_reader:\n",
    "            cleaned_row = [column.strip() for column in row]\n",
    "            data.append(cleaned_row)\n",
    "    \n",
    "    for row in data:\n",
    "        print(', '.join(row))\n",
    "    \n",
    "    return data\n",
    "\n",
    "csv_data = read_file('Olympics2.csv')"
   ]
  },
  {
   "cell_type": "markdown",
   "id": "36daf49c",
   "metadata": {},
   "source": [
    "### "
   ]
  },
  {
   "cell_type": "markdown",
   "id": "72f68ae1",
   "metadata": {},
   "source": [
    "### Total Wounded People"
   ]
  },
  {
   "cell_type": "code",
   "execution_count": null,
   "id": "d443c50b",
   "metadata": {},
   "outputs": [],
   "source": [
    "import csv\n",
    "\n",
    "#create file object\n",
    "with open('year2017.csv') as file_obj:\n",
    "    \n",
    "    file_data = csv.reader(file_obj, skipinitialspace = True)\n",
    "    file_list = list(file_data)\n",
    "    \n",
    "        \n",
    "    wounded = 0\n",
    "    \n",
    "    for row in file_list[1:]:\n",
    "            if row[10] != '':\n",
    "                wounded = wounded + float(row[10])\n",
    "    \n",
    "    print(int(wounded))"
   ]
  },
  {
   "cell_type": "markdown",
   "id": "0e21c52e",
   "metadata": {},
   "source": [
    "### Total Wounded from India"
   ]
  },
  {
   "cell_type": "code",
   "execution_count": null,
   "id": "32367443",
   "metadata": {},
   "outputs": [],
   "source": [
    "import csv\n",
    "\n",
    "#create file object\n",
    "with open('year2017.csv') as file_obj:\n",
    "    \n",
    "    file_data = csv.reader(file_obj, skipinitialspace = True)\n",
    "    file_list = list(file_data)\n",
    "    \n",
    "        \n",
    "    wounded = 0\n",
    "    \n",
    "    for row in file_list[1:]:\n",
    "            if row[10] != '' and row[3] == 'India':\n",
    "                wounded = wounded + float(row[10])\n",
    "    \n",
    "    print(int(wounded))"
   ]
  },
  {
   "cell_type": "markdown",
   "id": "2daf75ba",
   "metadata": {},
   "source": [
    "### Casualties from Explosives"
   ]
  },
  {
   "cell_type": "code",
   "execution_count": null,
   "id": "5138e58a",
   "metadata": {},
   "outputs": [],
   "source": [
    "import csv\n",
    "\n",
    "with open('year2017.csv') as file_obj:\n",
    "    \n",
    "    file_data = csv.DictReader(file_obj, skipinitialspace = True)\n",
    "    \n",
    "    file_list = list(file_data)\n",
    "    \n",
    "    count = 0\n",
    "    \n",
    "    for row in file_list:\n",
    "        if row['Weapon_type'] == 'Explosives' and row['casualities'] != '' and row['casualities'] != ' ':\n",
    "            count += int(float(row['casualities']))\n",
    "    print(count)"
   ]
  },
  {
   "cell_type": "markdown",
   "id": "b1df5928",
   "metadata": {},
   "source": [
    "### Month vs Killed"
   ]
  },
  {
   "cell_type": "code",
   "execution_count": null,
   "id": "f855d66e",
   "metadata": {},
   "outputs": [],
   "source": [
    "import csv\n",
    "\n",
    "with open('year2017.csv') as file_obj:\n",
    "    #reading from file object and converting it to a list\n",
    "    file_data = csv.DictReader(file_obj, skipinitialspace = True)\n",
    "    file_list = list(file_data)\n",
    "    \n",
    "    #creating empty dict to store monthwise killings\n",
    "    d = {}\n",
    "    \n",
    "    for row in file_list:\n",
    "        \n",
    "        #skip loop if columns have no values\n",
    "        if row['Month'] == '' or row['Killed'] == '' or row['Month'] == ' ' or row['Killed'] == ' ':\n",
    "            continue\n",
    "        \n",
    "        #storing current month and number of killed to a variable for easy readability\n",
    "        month = row['Month']\n",
    "        killed = int(float(row['Killed']))\n",
    "        \n",
    "        #has month key already been created in the dict\n",
    "        if month in d:\n",
    "            d[month] += killed\n",
    "        else:\n",
    "            d[month] = killed\n",
    "    \n",
    "    for i in d:\n",
    "        print(i, d[i])    "
   ]
  },
  {
   "cell_type": "markdown",
   "id": "13f8907e",
   "metadata": {},
   "source": [
    "### Country vs Casualties"
   ]
  },
  {
   "cell_type": "code",
   "execution_count": null,
   "id": "7730f621",
   "metadata": {},
   "outputs": [],
   "source": [
    "import csv\n",
    "from collections import OrderedDict\n",
    "\n",
    "with open(\"year2017.csv\") as file_obj:\n",
    "    \n",
    "    #reading from file object and converting it to a list for easy parsing\n",
    "    file_data = csv.DictReader(file_obj, skipinitialspace = True)\n",
    "    file_list = list(file_data)\n",
    "    \n",
    "    #craeting a sorted list of countries, because, output needs to be sorted\n",
    "    sorted_countries = [row['Country'] for row in file_list]\n",
    "    sorted_countries.sort()\n",
    "    \n",
    "    #craeting an ordered dictionary and adding the sorted list as keys and default key value as 0\n",
    "    d = OrderedDict()\n",
    "    d = dict.fromkeys(sorted_countries,0)\n",
    "    \n",
    "    for row in file_list:\n",
    "        #skipping the iteration if NULL values are encountered\n",
    "        #skips if intersection of first set and second set is not NULL\n",
    "        if {row['Country'],row['casualities']} & {'',' '} != set():\n",
    "            continue\n",
    "         \n",
    "        #storing country name and no:of casualties in variables for easy readbility\n",
    "        country = row['Country']\n",
    "        cas = int(float(row['casualities']))\n",
    "        \n",
    "        #adding number of casualities to the respective country in the dictionary\n",
    "        d[country] += cas\n",
    "    \n",
    "    #printing result\n",
    "    for place in d:\n",
    "        print(place, d[place])"
   ]
  },
  {
   "cell_type": "markdown",
   "id": "ec34f4f2",
   "metadata": {},
   "source": [
    "## Assignment"
   ]
  },
  {
   "cell_type": "markdown",
   "id": "6289bbee",
   "metadata": {},
   "source": [
    "### Column Names"
   ]
  },
  {
   "cell_type": "code",
   "execution_count": null,
   "id": "f38c748e",
   "metadata": {},
   "outputs": [],
   "source": [
    "import csv\n",
    "\n",
    "with open(\"olympics.csv\") as file_obj:\n",
    "    \n",
    "    file_data = csv.reader(file_obj, skipinitialspace = True)\n",
    "    for row in file_data:\n",
    "        for column in row:\n",
    "            print(column)\n",
    "        break"
   ]
  },
  {
   "cell_type": "markdown",
   "id": "b3495a35",
   "metadata": {},
   "source": [
    "### Total Players"
   ]
  },
  {
   "cell_type": "code",
   "execution_count": null,
   "id": "112a1a8b",
   "metadata": {},
   "outputs": [],
   "source": [
    "import csv\n",
    "\n",
    "with open(\"olympics.csv\") as file_object:\n",
    "    \n",
    "    file_data = csv.DictReader(file_object, skipinitialspace = True)\n",
    "    \n",
    "    count = 0\n",
    "    \n",
    "    for row in file_data:\n",
    "        if row['Year'] == '2016':\n",
    "            count += 1\n",
    "    print(count)   "
   ]
  },
  {
   "cell_type": "markdown",
   "id": "8afb6c7b",
   "metadata": {},
   "source": [
    "### Sports and Countries"
   ]
  },
  {
   "cell_type": "code",
   "execution_count": 14,
   "id": "c623a136",
   "metadata": {},
   "outputs": [
    {
     "name": "stdout",
     "output_type": "stream",
     "text": [
      "{'China': 2, 'Denmark': 1, 'Denmark/Sweden': 1, 'Netherlands': 19, 'United States': 41, 'Finland': 34, 'Norway': 59, 'Romania': 9, 'Estonia': 10, 'France': 16, 'Taifun': 1, 'Morocco': 5, 'Spain': 27, 'Egypt': 189, 'Iran': 9, 'Bulgaria': 10, 'Italy': 21, 'Chad': 3, 'Azerbaijan': 13, 'Sudan': 13, 'Russia': 24, 'Argentina': 9, 'Cuba': 4, 'Belarus': 12, 'Greece': 3, 'Cameroon': 9, 'Turkey': 5, 'Chile': 5, 'Mexico': 5, 'Soviet Union': 14, 'Nicaragua': 2, 'Hungary': 6, 'Nigeria': 12, 'Algeria': 12, 'Kuwait': 15, 'Bahrain': 3, 'Pakistan': 13, 'Iraq': 25, 'United Arab Republic': 21, 'Lebanon': 11, 'Qatar': 7, 'Malaysia': 9, 'Germany': 14, 'Thessalonki-1': 1, 'Canada': 17, 'Ireland': 2, 'Australia': 8, 'South Africa': 4, 'Eritrea': 1, 'Tanzania': 2, 'Jordan': 2, 'Tunisia': 2, 'Libya': 3, 'Belgium': 2, 'Djibouti': 2, 'Palestine': 1, 'Comoros': 1, 'Kazakhstan': 2, 'Brunei': 3, 'India': 8, 'Saudi Arabia': 3, 'Syria': 2, 'Maldives': 2, 'Ethiopia': 7, 'United Arab Emirates': 10, 'North Yemen': 1, 'Indonesia': 1, 'Philippines': 5, 'Singapore': 2, 'Uzbekistan': 8, 'Kyrgyzstan': 3, 'Tajikistan': 4, 'Unified Team': 1, 'Japan': 27, 'Japan-1': 3, 'Congo (Brazzaville)': 1, 'Switzerland': 5, 'Brazil': 4, 'West Germany': 2, 'East Germany': 7, 'Monaco': 6, 'Fornebo': 1, 'Israel': 5, 'Vesper Boat Club': 2, 'Uruguay': 1, 'Sweden': 19, 'United States Virgin Islands': 5, 'Sri Lanka': 3, 'Armenia': 1, \"Cote d'Ivoire\": 4, 'Kenya': 1, 'Benin': 2, 'France-1': 1, 'Ukraine': 6, 'Great Britain': 17, 'Ghana': 1, 'Somalia': 2, 'Latvia': 4, 'Niger': 1, 'Mali': 1, 'Afghanistan': 1, 'Poland': 2, 'Costa Rica': 2, 'Panama': 2, 'Georgia': 10, 'Slovenia': 1, 'Croatia': 2, 'Russia-2': 1, 'Russia-1': 1, 'Guyana': 2, 'New Zealand': 2, 'Portugal': 7}\n"
     ]
    }
   ],
   "source": [
    "#question in platform is misleading\n",
    "#actual question is to calculate all appearances of each country\n",
    "import csv\n",
    "\n",
    "def count_sports_per_country(filename):\n",
    "    sports_per_country = {}\n",
    "\n",
    "    # Read the CSV file and process each row\n",
    "    with open(filename, 'r') as csvfile:\n",
    "        reader = csv.DictReader(csvfile, skipinitialspace = True)\n",
    "        for row in reader:\n",
    "            country = row['Team']\n",
    "            sport = row['Sport']\n",
    "\n",
    "            # If the country is already in the dictionary, increment the sport count\n",
    "            if country in sports_per_country:\n",
    "                sports_per_country[country] += 1\n",
    "            else:\n",
    "                # If the country is not in the dictionary, add it and set sport count to 1\n",
    "                sports_per_country[country] = 1\n",
    "\n",
    "    return sports_per_country\n",
    "\n",
    "# Input CSV file name\n",
    "csv_file = 'olympics.csv'\n",
    "\n",
    "# Call the function to count sports per country\n",
    "sports_count_by_country = count_sports_per_country(csv_file)\n",
    "\n",
    "# Print the resulting dictionary    \n",
    "print(sports_count_by_country)"
   ]
  },
  {
   "cell_type": "markdown",
   "id": "78947694",
   "metadata": {},
   "source": [
    "### Athletes"
   ]
  },
  {
   "cell_type": "code",
   "execution_count": null,
   "id": "a32a30ac",
   "metadata": {},
   "outputs": [],
   "source": [
    "import csv\n",
    "\n",
    "with open(\"olympics.csv\") as file_obj:\n",
    "    \n",
    "    file_data = csv.DictReader(file_obj, skipinitialspace = True)\n",
    "    file_list = list(file_data)\n",
    "    \n",
    "    name_set = set()\n",
    "    \n",
    "    for row in file_list:\n",
    "        if row['Name'].startswith('A') and row['Name'].endswith('i'):\n",
    "            name_set.add(row['Name'])\n",
    "            \n",
    "    print(len(name_set))"
   ]
  },
  {
   "cell_type": "markdown",
   "id": "772af194",
   "metadata": {},
   "source": [
    "### Sports played by each country"
   ]
  },
  {
   "cell_type": "code",
   "execution_count": 13,
   "id": "467fcfd1",
   "metadata": {},
   "outputs": [
    {
     "name": "stdout",
     "output_type": "stream",
     "text": [
      "China: 2\n",
      "Denmark: 1\n",
      "Denmark/Sweden: 1\n",
      "Netherlands: 12\n",
      "United States: 24\n",
      "Finland: 20\n",
      "Norway: 29\n",
      "Romania: 9\n",
      "Estonia: 7\n",
      "France: 10\n",
      "Taifun: 1\n",
      "Morocco: 3\n",
      "Spain: 21\n",
      "Egypt: 66\n",
      "Iran: 8\n",
      "Bulgaria: 8\n",
      "Italy: 12\n",
      "Chad: 3\n",
      "Azerbaijan: 11\n",
      "Sudan: 10\n",
      "Russia: 18\n",
      "Argentina: 8\n",
      "Cuba: 4\n",
      "Belarus: 7\n",
      "Greece: 3\n",
      "Cameroon: 7\n",
      "Turkey: 4\n",
      "Chile: 5\n",
      "Mexico: 5\n",
      "Soviet Union: 14\n",
      "Nicaragua: 2\n",
      "Hungary: 5\n",
      "Nigeria: 10\n",
      "Algeria: 8\n",
      "Kuwait: 11\n",
      "Bahrain: 3\n",
      "Pakistan: 4\n",
      "Iraq: 19\n",
      "United Arab Republic: 16\n",
      "Lebanon: 9\n",
      "Qatar: 5\n",
      "Malaysia: 5\n",
      "Germany: 12\n",
      "Thessalonki-1: 1\n",
      "Canada: 11\n",
      "Ireland: 2\n",
      "Australia: 6\n",
      "South Africa: 3\n",
      "Eritrea: 1\n",
      "Tanzania: 2\n",
      "Jordan: 2\n",
      "Tunisia: 2\n",
      "Libya: 3\n",
      "Belgium: 2\n",
      "Djibouti: 2\n",
      "Palestine: 1\n",
      "Comoros: 1\n",
      "Kazakhstan: 2\n",
      "Brunei: 2\n",
      "India: 4\n",
      "Saudi Arabia: 1\n",
      "Syria: 2\n",
      "Maldives: 2\n",
      "Ethiopia: 5\n",
      "United Arab Emirates: 9\n",
      "North Yemen: 1\n",
      "Indonesia: 1\n",
      "Philippines: 5\n",
      "Singapore: 1\n",
      "Uzbekistan: 7\n",
      "Kyrgyzstan: 3\n",
      "Tajikistan: 3\n",
      "Unified Team: 1\n",
      "Japan: 21\n",
      "Japan-1: 2\n",
      "Congo (Brazzaville): 1\n",
      "Switzerland: 3\n",
      "Brazil: 3\n",
      "West Germany: 1\n",
      "East Germany: 7\n",
      "Monaco: 3\n",
      "Fornebo: 1\n",
      "Israel: 5\n",
      "Vesper Boat Club: 1\n",
      "Uruguay: 1\n",
      "Sweden: 13\n",
      "United States Virgin Islands: 1\n",
      "Sri Lanka: 3\n",
      "Armenia: 1\n",
      "Cote d'Ivoire: 3\n",
      "Kenya: 1\n",
      "Benin: 1\n",
      "France-1: 1\n",
      "Ukraine: 1\n",
      "Great Britain: 8\n",
      "Ghana: 1\n",
      "Somalia: 2\n",
      "Latvia: 3\n",
      "Niger: 1\n",
      "Mali: 1\n",
      "Afghanistan: 1\n",
      "Poland: 2\n",
      "Costa Rica: 2\n",
      "Panama: 2\n",
      "Georgia: 4\n",
      "Slovenia: 1\n",
      "Croatia: 2\n",
      "Russia-2: 1\n",
      "Russia-1: 1\n",
      "Guyana: 2\n",
      "New Zealand: 1\n",
      "Portugal: 4\n"
     ]
    }
   ],
   "source": [
    "import csv\n",
    "from collections import OrderedDict\n",
    "\n",
    "def total_sports_per_country(csv_file):\n",
    "\n",
    "    with open(\"olympics.csv\") as file_object:\n",
    "\n",
    "        file_data = csv.DictReader(file_object, skipinitialspace = True)\n",
    "        file_list = list(file_data)\n",
    "\n",
    "        #creating list of countries\n",
    "        sorted_teams = [row['Team'] for row in file_list]\n",
    "#         sorted_teams.sort()\n",
    "\n",
    "        #creating dictionary with countries as key and an empty set as default value.\n",
    "#         d = OrderedDict()\n",
    "        d = dict.fromkeys(sorted_teams, set())\n",
    "\n",
    "        for row in file_list:\n",
    "\n",
    "            country_name = row['Team']\n",
    "            sport_name = row['Event']\n",
    "            if d[country_name] == set():\n",
    "                d[country_name] = {sport_name}\n",
    "            else:\n",
    "                d[country_name].add(sport_name)\n",
    "\n",
    "        result = {}\n",
    "        for country in d:\n",
    "            #number of sports played by a country equals length of set corresponding to each country in dict d\n",
    "            number_of_sports = len(d[country])\n",
    "\n",
    "            #creating result dictionary with country name as key and count of sports as value\n",
    "            result[country] = number_of_sports\n",
    "\n",
    "        #if output is wrong, try coverting to lists and printing by yourself\n",
    "        return result      \n",
    "    \n",
    "\n",
    "csv_file = 'olympics.csv'\n",
    "\n",
    "country_total_sports = total_sports_per_country(csv_file)\n",
    "for country, total_sports in country_total_sports.items():\n",
    "    print(f\"{country}: {total_sports}\")\n"
   ]
  },
  {
   "cell_type": "markdown",
   "id": "582bf162",
   "metadata": {},
   "source": [
    "### Unique City"
   ]
  },
  {
   "cell_type": "code",
   "execution_count": null,
   "id": "af27b6e3",
   "metadata": {},
   "outputs": [],
   "source": [
    "import csv\n",
    "from collections import OrderedDict\n",
    "\n",
    "def get_unique_cities(csv_file):\n",
    "    \n",
    "    with open(\"olympics.csv\") as file_object:\n",
    "        \n",
    "        file_data = csv.DictReader(file_object, skipinitialspace = True)\n",
    "        file_list = list(file_data)\n",
    "        \n",
    "        city = set()\n",
    "        \n",
    "        for row in file_list:\n",
    "            city.add(row['City'])\n",
    "            \n",
    "        return len(city)\n",
    "    \n",
    "\n",
    "unique_cities = get_unique_cities('olympics.csv')\n",
    "print(unique_cities)"
   ]
  },
  {
   "cell_type": "markdown",
   "id": "4b7abfa2",
   "metadata": {},
   "source": [
    "### Country Name"
   ]
  },
  {
   "cell_type": "code",
   "execution_count": null,
   "id": "ac6083f6",
   "metadata": {},
   "outputs": [],
   "source": [
    "import csv\n",
    "from collections import OrderedDict\n",
    "\n",
    "def find_country_with_max_sports(csv_file):\n",
    "    \n",
    "    \n",
    "    with open(\"olympics.csv\") as file_object:\n",
    "        \n",
    "        file_data = csv.DictReader(file_object, skipinitialspace = True)\n",
    "        file_list = list(file_data)\n",
    "        \n",
    "        country = OrderedDict()\n",
    "        #creating dictionary with keysas countries and values as emply sets\n",
    "        country = dict.fromkeys([row['Team'] for row in file_list], set())\n",
    "        \n",
    "        \n",
    "        for row in file_list:\n",
    "            \n",
    "            #if value is an empty set it is created\n",
    "            if country[row['Team']] == set():\n",
    "                        country[row['Team']] = {row['Sport']}\n",
    "            #if a set is already present, current sport is added to the set\n",
    "            else:\n",
    "                        country[row['Team']].add(row['Sport'])\n",
    "        \n",
    "        #creating a list of keys and list of values\n",
    "        keys = list(country.keys())\n",
    "        values = list(country.values())\n",
    "        \n",
    "        #count stores number of sports played by each country(at the same index in list 'keys')\n",
    "        count = [len(i) for i in values]\n",
    "        #max_index will have index number of country which participates in most sports\n",
    "        max_index = count.index(max(count))\n",
    "        \n",
    "        return keys[max_index], count[max_index]\n",
    "    \n",
    "most_sports_country, max_sports_count = find_country_with_max_sports('olympics.csv')\n",
    "print(most_sports_country, max_sports_count)"
   ]
  },
  {
   "cell_type": "markdown",
   "id": "1634ed37",
   "metadata": {},
   "source": [
    "### Unique sport"
   ]
  },
  {
   "cell_type": "code",
   "execution_count": null,
   "id": "97d9db4d",
   "metadata": {},
   "outputs": [],
   "source": [
    "#output could be based on column 'Sports' or column 'Events'; try both\n",
    "import csv\n",
    "\n",
    "def get_unique_sport(csv_file):\n",
    "    \n",
    "    with open(\"olympics.csv\") as file_object:\n",
    "        \n",
    "        file_list = list(csv.DictReader(file_object, skipinitialspace = True))\n",
    "        \n",
    "        sports = set()\n",
    "        \n",
    "        for row in file_list:\n",
    "            sports.add(row['Sport'])\n",
    "        \n",
    "        return len(sports)\n",
    "\n",
    "\n",
    "unique_sports = get_unique_sport('olympics.csv')\n",
    "print(unique_sports)"
   ]
  },
  {
   "cell_type": "markdown",
   "id": "735338c0",
   "metadata": {},
   "source": [
    "### Gold Medalist"
   ]
  },
  {
   "cell_type": "code",
   "execution_count": null,
   "id": "ae6f99dc",
   "metadata": {},
   "outputs": [],
   "source": [
    "#convert to OrderedDict if error happens because of tie of gold medals between 2 countries\n",
    "import csv\n",
    "\n",
    "def find_most_gold_medals_csv(csv_file):\n",
    "    \n",
    "    with open(\"olympics.csv\") as file_object:\n",
    "        \n",
    "        file_list = list(csv.DictReader(file_object, skipinitialspace = True))\n",
    "        \n",
    "        gold = dict.fromkeys([row['Team'] for row in file_list], 0)\n",
    "        \n",
    "        for row in file_list:\n",
    "            \n",
    "            country = row['Team']\n",
    "            medal = row['Medal']\n",
    "            \n",
    "            if medal == 'Gold':\n",
    "                gold[country] += 1\n",
    "        \n",
    "        keys = list(gold.keys())\n",
    "        values = list(gold.values())\n",
    "        \n",
    "        top_country = keys[values.index(max(values))]\n",
    "        top_medals = max(values)\n",
    "        \n",
    "        return top_country, top_medals\n",
    " \n",
    "\n",
    "most_gold_country, max_gold_medals = find_most_gold_medals_csv('olympics.csv')\n",
    "print(most_gold_country, max_gold_medals)"
   ]
  },
  {
   "cell_type": "code",
   "execution_count": null,
   "id": "2dac85c0",
   "metadata": {},
   "outputs": [],
   "source": [
    "'ID', 'Name', 'Sex', 'Age', 'Height', 'Weight', 'Team', 'NOC', 'Games', 'Year', 'Season', 'City', 'Sport', 'Event', 'Medal'"
   ]
  }
 ],
 "metadata": {
  "kernelspec": {
   "display_name": "Python 3 (ipykernel)",
   "language": "python",
   "name": "python3"
  },
  "language_info": {
   "codemirror_mode": {
    "name": "ipython",
    "version": 3
   },
   "file_extension": ".py",
   "mimetype": "text/x-python",
   "name": "python",
   "nbconvert_exporter": "python",
   "pygments_lexer": "ipython3",
   "version": "3.11.4"
  }
 },
 "nbformat": 4,
 "nbformat_minor": 5
}
