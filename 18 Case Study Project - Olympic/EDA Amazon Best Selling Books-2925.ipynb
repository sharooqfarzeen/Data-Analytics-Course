{
 "cells": [
  {
   "cell_type": "markdown",
   "metadata": {
    "id": "z6q1-uICSrhE"
   },
   "source": [
    "George is the content head of a prestigious book publishing company. He needs to decide on which type/genre of book to publish next so that it can become a bestseller. Now you as the Data Analyst have chosen to research how users respond to different types of genres. This is the opportunity for you to shine like a star and show your data analytics skill. Let’s start the process by performing EDA on the provided Dataset.\n",
    "\n",
    "[Dataset](https://docs.google.com/spreadsheets/d/1bCYeC2tX1-Lkp-zeAkmRRckM4m8vR8CnHxK2aJXSVIs/edit#gid=1322732088)\n"
   ]
  },
  {
   "cell_type": "markdown",
   "metadata": {
    "id": "jGCtb6WMS7iE"
   },
   "source": [
    "In this work, exploratory data analysis has been carried out on the dataset Amazon's Top 50 bestselling books from 2009 to 2019.\n",
    "\n",
    "FEATURES:\n",
    "\n",
    "Name - Name of the Book\n",
    "\n",
    "Author - The author of the Book\n",
    "\n",
    "User Rating - Amazon User Rating\n",
    "\n",
    "Reviews - Number of written reviews on amazon\n",
    "\n",
    "Price - The price of the book (As at 13/10/2020)\n",
    "\n",
    "Year - The Year(s) it ranked on the bestseller\n",
    "\n",
    "Genre - Whether fiction or non-fiction"
   ]
  },
  {
   "cell_type": "markdown",
   "metadata": {
    "id": "-ffkTaDPTEeU"
   },
   "source": [
    "## Understand your dataset:\n",
    "\n",
    "In this section we are going to get some basic information about our dataset like:\n",
    "- Read the dataset\n",
    "- Get the basic info about the data set.\n",
    "- Find out about the missing values.\n",
    "- Describe the numerical values on various parameters.\n",
    "- Datatype of columns\n",
    "\n",
    "\n"
   ]
  },
  {
   "cell_type": "code",
   "execution_count": 33,
   "metadata": {},
   "outputs": [],
   "source": [
    "import pandas as pd\n",
    "import numpy as np\n",
    "import seaborn as sns                       #visualisation\n",
    "import matplotlib.pyplot as plt             #visualisation\n",
    "%matplotlib inline     \n",
    "sns.set(color_codes=True)"
   ]
  },
  {
   "cell_type": "code",
   "execution_count": 3,
   "metadata": {},
   "outputs": [
    {
     "data": {
      "text/html": [
       "<div>\n",
       "<style scoped>\n",
       "    .dataframe tbody tr th:only-of-type {\n",
       "        vertical-align: middle;\n",
       "    }\n",
       "\n",
       "    .dataframe tbody tr th {\n",
       "        vertical-align: top;\n",
       "    }\n",
       "\n",
       "    .dataframe thead th {\n",
       "        text-align: right;\n",
       "    }\n",
       "</style>\n",
       "<table border=\"1\" class=\"dataframe\">\n",
       "  <thead>\n",
       "    <tr style=\"text-align: right;\">\n",
       "      <th></th>\n",
       "      <th>Name</th>\n",
       "      <th>Author</th>\n",
       "      <th>User Rating</th>\n",
       "      <th>Reviews</th>\n",
       "      <th>Price</th>\n",
       "      <th>Year</th>\n",
       "      <th>Genre</th>\n",
       "    </tr>\n",
       "  </thead>\n",
       "  <tbody>\n",
       "    <tr>\n",
       "      <th>0</th>\n",
       "      <td>10-Day Green Smoothie Cleanse</td>\n",
       "      <td>JJ Smith</td>\n",
       "      <td>4.7</td>\n",
       "      <td>17350</td>\n",
       "      <td>8</td>\n",
       "      <td>2016</td>\n",
       "      <td>Non Fiction</td>\n",
       "    </tr>\n",
       "    <tr>\n",
       "      <th>1</th>\n",
       "      <td>11/22/63: A Novel</td>\n",
       "      <td>Stephen King</td>\n",
       "      <td>4.6</td>\n",
       "      <td>2052</td>\n",
       "      <td>22</td>\n",
       "      <td>2011</td>\n",
       "      <td>Fiction</td>\n",
       "    </tr>\n",
       "    <tr>\n",
       "      <th>2</th>\n",
       "      <td>12 Rules for Life: An Antidote to Chaos</td>\n",
       "      <td>Jordan B. Peterson</td>\n",
       "      <td>4.7</td>\n",
       "      <td>18979</td>\n",
       "      <td>15</td>\n",
       "      <td>2018</td>\n",
       "      <td>Non Fiction</td>\n",
       "    </tr>\n",
       "    <tr>\n",
       "      <th>3</th>\n",
       "      <td>1984 (Signet Classics)</td>\n",
       "      <td>George Orwell</td>\n",
       "      <td>4.7</td>\n",
       "      <td>21424</td>\n",
       "      <td>6</td>\n",
       "      <td>2017</td>\n",
       "      <td>Fiction</td>\n",
       "    </tr>\n",
       "    <tr>\n",
       "      <th>4</th>\n",
       "      <td>5,000 Awesome Facts (About Everything!) (Natio...</td>\n",
       "      <td>National Geographic Kids</td>\n",
       "      <td>4.8</td>\n",
       "      <td>7665</td>\n",
       "      <td>12</td>\n",
       "      <td>2019</td>\n",
       "      <td>Non Fiction</td>\n",
       "    </tr>\n",
       "  </tbody>\n",
       "</table>\n",
       "</div>"
      ],
      "text/plain": [
       "                                                Name  \\\n",
       "0                      10-Day Green Smoothie Cleanse   \n",
       "1                                  11/22/63: A Novel   \n",
       "2            12 Rules for Life: An Antidote to Chaos   \n",
       "3                             1984 (Signet Classics)   \n",
       "4  5,000 Awesome Facts (About Everything!) (Natio...   \n",
       "\n",
       "                     Author  User Rating  Reviews  Price  Year        Genre  \n",
       "0                  JJ Smith          4.7    17350      8  2016  Non Fiction  \n",
       "1              Stephen King          4.6     2052     22  2011      Fiction  \n",
       "2        Jordan B. Peterson          4.7    18979     15  2018  Non Fiction  \n",
       "3             George Orwell          4.7    21424      6  2017      Fiction  \n",
       "4  National Geographic Kids          4.8     7665     12  2019  Non Fiction  "
      ]
     },
     "execution_count": 3,
     "metadata": {},
     "output_type": "execute_result"
    }
   ],
   "source": [
    "df = pd.read_csv(\"book.csv\")\n",
    "df.head()"
   ]
  },
  {
   "cell_type": "markdown",
   "metadata": {
    "id": "eXAip6uNTYt5"
   },
   "source": [
    "### Data types"
   ]
  },
  {
   "cell_type": "code",
   "execution_count": 4,
   "metadata": {
    "id": "y2jT7AwRSq9C"
   },
   "outputs": [
    {
     "data": {
      "text/plain": [
       "Name            object\n",
       "Author          object\n",
       "User Rating    float64\n",
       "Reviews          int64\n",
       "Price            int64\n",
       "Year             int64\n",
       "Genre           object\n",
       "dtype: object"
      ]
     },
     "execution_count": 4,
     "metadata": {},
     "output_type": "execute_result"
    }
   ],
   "source": [
    "df.dtypes"
   ]
  },
  {
   "cell_type": "markdown",
   "metadata": {
    "id": "znHdyP9FTd63"
   },
   "source": [
    "### Missing Values"
   ]
  },
  {
   "cell_type": "code",
   "execution_count": 6,
   "metadata": {
    "id": "DT_oerPmSbl3"
   },
   "outputs": [
    {
     "data": {
      "text/plain": [
       "Name           0\n",
       "Author         0\n",
       "User Rating    0\n",
       "Reviews        0\n",
       "Price          0\n",
       "Year           0\n",
       "Genre          0\n",
       "dtype: int64"
      ]
     },
     "execution_count": 6,
     "metadata": {},
     "output_type": "execute_result"
    }
   ],
   "source": [
    "df.isnull().sum()"
   ]
  },
  {
   "cell_type": "markdown",
   "metadata": {
    "id": "CPTvqm4ITge_"
   },
   "source": [
    "### Handling Duplicates"
   ]
  },
  {
   "cell_type": "markdown",
   "metadata": {
    "id": "qXJEX9hXTkTS"
   },
   "source": [
    "Check if the columns contains words in different case and extra spaces.\n",
    "\n",
    "Also check if there are the same author names but with different spellings."
   ]
  },
  {
   "cell_type": "code",
   "execution_count": 8,
   "metadata": {
    "id": "HTEA3fv-TiIX"
   },
   "outputs": [
    {
     "data": {
      "text/plain": [
       "Name           0\n",
       "Author         0\n",
       "User Rating    0\n",
       "Reviews        0\n",
       "Price          0\n",
       "Year           0\n",
       "Genre          0\n",
       "dtype: int64"
      ]
     },
     "execution_count": 8,
     "metadata": {},
     "output_type": "execute_result"
    }
   ],
   "source": [
    "df[df.duplicated()].count()"
   ]
  },
  {
   "cell_type": "markdown",
   "metadata": {
    "id": "UnTduzk9T2El"
   },
   "source": [
    "After handling missing values are removing duplicates, the data contains 350 different books written by 246 authors. All books are presented in two categories (Non Fiction, Fiction)."
   ]
  },
  {
   "cell_type": "code",
   "execution_count": 10,
   "metadata": {
    "id": "qolKF65YT7Tu"
   },
   "outputs": [
    {
     "data": {
      "text/plain": [
       "Name           550\n",
       "Author         550\n",
       "User Rating    550\n",
       "Reviews        550\n",
       "Price          550\n",
       "Year           550\n",
       "Genre          550\n",
       "dtype: int64"
      ]
     },
     "execution_count": 10,
     "metadata": {},
     "output_type": "execute_result"
    }
   ],
   "source": [
    "df.count()"
   ]
  },
  {
   "cell_type": "markdown",
   "metadata": {
    "id": "bpJu6d31T-W1"
   },
   "source": [
    "## Book Ratings"
   ]
  },
  {
   "cell_type": "markdown",
   "metadata": {
    "id": "_7mnkscDUH49"
   },
   "source": [
    "Ranking by rating gives a relatively high number of max (4.9) ratings, however, we can see significant differences in the number of reviews, with some books having just over 3000 reviews while some have about 20,000.\n",
    "\n",
    "A weighted rating, that takes into consideration the number of reviews, will be a better option for this ranking.\n",
    "\n",
    "\n",
    "\n",
    "> **Weighted Average Rating = (v/(v+m) * R) + (m/(m+v) * C)**\n",
    "\n",
    "\n",
    "\n",
    "\n",
    "where R = average rating for the book\n",
    "\n",
    "v = number of reviews for the book\n",
    "\n",
    "m = minimum reviews required to be listed in the best seller list\n",
    "\n",
    "C = the mean rating in the dataset"
   ]
  },
  {
   "cell_type": "markdown",
   "metadata": {
    "id": "yDI6JhwZUfWA"
   },
   "source": [
    "While a number of rows in the weighted rating column can still be rounded up to 4.9, there is enough of a difference between the various books that they can be ranked."
   ]
  },
  {
   "cell_type": "markdown",
   "metadata": {
    "id": "pnLQx5JkUhcy"
   },
   "source": [
    "### Add Weighted Average Rating Column to the dataset"
   ]
  },
  {
   "cell_type": "code",
   "execution_count": 13,
   "metadata": {
    "id": "pHrP9MW0UnUj"
   },
   "outputs": [],
   "source": [
    "R = df['User Rating']\n",
    "v = df.Reviews\n",
    "m = df.Reviews.min()\n",
    "C = df['User Rating'].mean()\n",
    "\n",
    "df[\"WAR\"] = (v/(v+m) * R) + (m/(m+v) * C)"
   ]
  },
  {
   "cell_type": "code",
   "execution_count": 14,
   "metadata": {},
   "outputs": [
    {
     "data": {
      "text/html": [
       "<div>\n",
       "<style scoped>\n",
       "    .dataframe tbody tr th:only-of-type {\n",
       "        vertical-align: middle;\n",
       "    }\n",
       "\n",
       "    .dataframe tbody tr th {\n",
       "        vertical-align: top;\n",
       "    }\n",
       "\n",
       "    .dataframe thead th {\n",
       "        text-align: right;\n",
       "    }\n",
       "</style>\n",
       "<table border=\"1\" class=\"dataframe\">\n",
       "  <thead>\n",
       "    <tr style=\"text-align: right;\">\n",
       "      <th></th>\n",
       "      <th>Name</th>\n",
       "      <th>Author</th>\n",
       "      <th>User Rating</th>\n",
       "      <th>Reviews</th>\n",
       "      <th>Price</th>\n",
       "      <th>Year</th>\n",
       "      <th>Genre</th>\n",
       "      <th>WAR</th>\n",
       "    </tr>\n",
       "  </thead>\n",
       "  <tbody>\n",
       "    <tr>\n",
       "      <th>0</th>\n",
       "      <td>10-Day Green Smoothie Cleanse</td>\n",
       "      <td>JJ Smith</td>\n",
       "      <td>4.7</td>\n",
       "      <td>17350</td>\n",
       "      <td>8</td>\n",
       "      <td>2016</td>\n",
       "      <td>Non Fiction</td>\n",
       "      <td>4.699826</td>\n",
       "    </tr>\n",
       "    <tr>\n",
       "      <th>1</th>\n",
       "      <td>11/22/63: A Novel</td>\n",
       "      <td>Stephen King</td>\n",
       "      <td>4.6</td>\n",
       "      <td>2052</td>\n",
       "      <td>22</td>\n",
       "      <td>2011</td>\n",
       "      <td>Fiction</td>\n",
       "      <td>4.600325</td>\n",
       "    </tr>\n",
       "    <tr>\n",
       "      <th>2</th>\n",
       "      <td>12 Rules for Life: An Antidote to Chaos</td>\n",
       "      <td>Jordan B. Peterson</td>\n",
       "      <td>4.7</td>\n",
       "      <td>18979</td>\n",
       "      <td>15</td>\n",
       "      <td>2018</td>\n",
       "      <td>Non Fiction</td>\n",
       "      <td>4.699841</td>\n",
       "    </tr>\n",
       "    <tr>\n",
       "      <th>3</th>\n",
       "      <td>1984 (Signet Classics)</td>\n",
       "      <td>George Orwell</td>\n",
       "      <td>4.7</td>\n",
       "      <td>21424</td>\n",
       "      <td>6</td>\n",
       "      <td>2017</td>\n",
       "      <td>Fiction</td>\n",
       "      <td>4.699859</td>\n",
       "    </tr>\n",
       "    <tr>\n",
       "      <th>4</th>\n",
       "      <td>5,000 Awesome Facts (About Everything!) (Natio...</td>\n",
       "      <td>National Geographic Kids</td>\n",
       "      <td>4.8</td>\n",
       "      <td>7665</td>\n",
       "      <td>12</td>\n",
       "      <td>2019</td>\n",
       "      <td>Non Fiction</td>\n",
       "      <td>4.799127</td>\n",
       "    </tr>\n",
       "  </tbody>\n",
       "</table>\n",
       "</div>"
      ],
      "text/plain": [
       "                                                Name  \\\n",
       "0                      10-Day Green Smoothie Cleanse   \n",
       "1                                  11/22/63: A Novel   \n",
       "2            12 Rules for Life: An Antidote to Chaos   \n",
       "3                             1984 (Signet Classics)   \n",
       "4  5,000 Awesome Facts (About Everything!) (Natio...   \n",
       "\n",
       "                     Author  User Rating  Reviews  Price  Year        Genre  \\\n",
       "0                  JJ Smith          4.7    17350      8  2016  Non Fiction   \n",
       "1              Stephen King          4.6     2052     22  2011      Fiction   \n",
       "2        Jordan B. Peterson          4.7    18979     15  2018  Non Fiction   \n",
       "3             George Orwell          4.7    21424      6  2017      Fiction   \n",
       "4  National Geographic Kids          4.8     7665     12  2019  Non Fiction   \n",
       "\n",
       "        WAR  \n",
       "0  4.699826  \n",
       "1  4.600325  \n",
       "2  4.699841  \n",
       "3  4.699859  \n",
       "4  4.799127  "
      ]
     },
     "execution_count": 14,
     "metadata": {},
     "output_type": "execute_result"
    }
   ],
   "source": [
    "df.head()"
   ]
  },
  {
   "cell_type": "markdown",
   "metadata": {
    "id": "77UvgZ9GUmuc"
   },
   "source": [
    "## Visualizing the data"
   ]
  },
  {
   "cell_type": "markdown",
   "metadata": {
    "id": "sRyb1dkPUqRz"
   },
   "source": [
    "Let's create new dataframes based on:\n",
    "\n",
    "### The average rating of authors"
   ]
  },
  {
   "cell_type": "code",
   "execution_count": 21,
   "metadata": {
    "id": "_kJ1i76rUBbt"
   },
   "outputs": [
    {
     "data": {
      "text/plain": [
       "Author\n",
       "Sarah Young        4.899469\n",
       "Eric Carle         4.899468\n",
       "Bill Martin Jr.    4.899275\n",
       "Jill Twiss         4.899126\n",
       "Nathan W. Pyle     4.898894\n",
       "Name: WAR, dtype: float64"
      ]
     },
     "execution_count": 21,
     "metadata": {},
     "output_type": "execute_result"
    }
   ],
   "source": [
    "author_rating = df.groupby('Author')['WAR'].mean().sort_values(ascending = False)\n",
    "author_rating.head()"
   ]
  },
  {
   "cell_type": "markdown",
   "metadata": {
    "id": "OJhgWqiuVqWT"
   },
   "source": [
    "### The number of books written by authors"
   ]
  },
  {
   "cell_type": "code",
   "execution_count": 23,
   "metadata": {
    "id": "_TT3oBACVwFI"
   },
   "outputs": [
    {
     "data": {
      "text/plain": [
       "Jeff Kinney                           12\n",
       "Rick Riordan                          11\n",
       "Suzanne Collins                       11\n",
       "Gary Chapman                          11\n",
       "American Psychological Association    10\n",
       "Name: Author, dtype: int64"
      ]
     },
     "execution_count": 23,
     "metadata": {},
     "output_type": "execute_result"
    }
   ],
   "source": [
    "author_book_count = df.Author.value_counts().sort_values(ascending = False)\n",
    "author_book_count.head()"
   ]
  },
  {
   "cell_type": "markdown",
   "metadata": {
    "id": "iVLdC1-GVwe6"
   },
   "source": [
    "### The number of reviews for books"
   ]
  },
  {
   "cell_type": "code",
   "execution_count": 29,
   "metadata": {
    "id": "rsHvrudnVz1T"
   },
   "outputs": [
    {
     "data": {
      "text/html": [
       "<div>\n",
       "<style scoped>\n",
       "    .dataframe tbody tr th:only-of-type {\n",
       "        vertical-align: middle;\n",
       "    }\n",
       "\n",
       "    .dataframe tbody tr th {\n",
       "        vertical-align: top;\n",
       "    }\n",
       "\n",
       "    .dataframe thead th {\n",
       "        text-align: right;\n",
       "    }\n",
       "</style>\n",
       "<table border=\"1\" class=\"dataframe\">\n",
       "  <thead>\n",
       "    <tr style=\"text-align: right;\">\n",
       "      <th></th>\n",
       "      <th>Name</th>\n",
       "      <th>Reviews</th>\n",
       "    </tr>\n",
       "  </thead>\n",
       "  <tbody>\n",
       "    <tr>\n",
       "      <th>534</th>\n",
       "      <td>Where the Crawdads Sing</td>\n",
       "      <td>87841</td>\n",
       "    </tr>\n",
       "    <tr>\n",
       "      <th>382</th>\n",
       "      <td>The Girl on the Train</td>\n",
       "      <td>79446</td>\n",
       "    </tr>\n",
       "    <tr>\n",
       "      <th>383</th>\n",
       "      <td>The Girl on the Train</td>\n",
       "      <td>79446</td>\n",
       "    </tr>\n",
       "    <tr>\n",
       "      <th>32</th>\n",
       "      <td>Becoming</td>\n",
       "      <td>61133</td>\n",
       "    </tr>\n",
       "    <tr>\n",
       "      <th>33</th>\n",
       "      <td>Becoming</td>\n",
       "      <td>61133</td>\n",
       "    </tr>\n",
       "    <tr>\n",
       "      <th>...</th>\n",
       "      <td>...</td>\n",
       "      <td>...</td>\n",
       "    </tr>\n",
       "    <tr>\n",
       "      <th>359</th>\n",
       "      <td>The Daily Show with Jon Stewart Presents Earth...</td>\n",
       "      <td>440</td>\n",
       "    </tr>\n",
       "    <tr>\n",
       "      <th>512</th>\n",
       "      <td>True Compass: A Memoir</td>\n",
       "      <td>438</td>\n",
       "    </tr>\n",
       "    <tr>\n",
       "      <th>121</th>\n",
       "      <td>George Washington's Sacred Fire</td>\n",
       "      <td>408</td>\n",
       "    </tr>\n",
       "    <tr>\n",
       "      <th>300</th>\n",
       "      <td>Soul Healing Miracles: Ancient and New Sacred ...</td>\n",
       "      <td>220</td>\n",
       "    </tr>\n",
       "    <tr>\n",
       "      <th>78</th>\n",
       "      <td>Divine Soul Mind Body Healing and Transmission...</td>\n",
       "      <td>37</td>\n",
       "    </tr>\n",
       "  </tbody>\n",
       "</table>\n",
       "<p>550 rows × 2 columns</p>\n",
       "</div>"
      ],
      "text/plain": [
       "                                                  Name  Reviews\n",
       "534                            Where the Crawdads Sing    87841\n",
       "382                              The Girl on the Train    79446\n",
       "383                              The Girl on the Train    79446\n",
       "32                                            Becoming    61133\n",
       "33                                            Becoming    61133\n",
       "..                                                 ...      ...\n",
       "359  The Daily Show with Jon Stewart Presents Earth...      440\n",
       "512                             True Compass: A Memoir      438\n",
       "121                    George Washington's Sacred Fire      408\n",
       "300  Soul Healing Miracles: Ancient and New Sacred ...      220\n",
       "78   Divine Soul Mind Body Healing and Transmission...       37\n",
       "\n",
       "[550 rows x 2 columns]"
      ]
     },
     "execution_count": 29,
     "metadata": {},
     "output_type": "execute_result"
    }
   ],
   "source": [
    "books_with_most_reviews = df.loc[:, ['Name', 'Reviews']].sort_values(by = 'Reviews', ascending = False)\n",
    "books_with_most_reviews"
   ]
  },
  {
   "cell_type": "markdown",
   "metadata": {
    "id": "zs-X0RAKV0NQ"
   },
   "source": [
    "### The number of books by genre"
   ]
  },
  {
   "cell_type": "code",
   "execution_count": 30,
   "metadata": {
    "id": "AmmjARwiV3gg"
   },
   "outputs": [
    {
     "data": {
      "text/plain": [
       "Genre\n",
       "Fiction        240\n",
       "Non Fiction    310\n",
       "Name: Name, dtype: int64"
      ]
     },
     "execution_count": 30,
     "metadata": {},
     "output_type": "execute_result"
    }
   ],
   "source": [
    "df.groupby(\"Genre\")[\"Name\"].count()"
   ]
  },
  {
   "cell_type": "markdown",
   "metadata": {
    "id": "GWFoHh7OU97H"
   },
   "source": [
    "## Statistical Testing\n",
    "\n",
    "### Is the dataset distributed normally?\n"
   ]
  },
  {
   "cell_type": "code",
   "execution_count": null,
   "metadata": {
    "id": "9UZpoJo0VAWz"
   },
   "outputs": [],
   "source": []
  },
  {
   "cell_type": "markdown",
   "metadata": {
    "id": "k1ftwH6bVCc8"
   },
   "source": [
    "### Average and median book ratings"
   ]
  },
  {
   "cell_type": "code",
   "execution_count": 31,
   "metadata": {
    "id": "q-Gnn8f4VGCV"
   },
   "outputs": [
    {
     "data": {
      "text/plain": [
       "(4.618363636363637, 4.7)"
      ]
     },
     "execution_count": 31,
     "metadata": {},
     "output_type": "execute_result"
    }
   ],
   "source": [
    "df = df.rename(columns = {'User Rating': 'Rating'})\n",
    "df.Rating.mean(), df.Rating.median()"
   ]
  },
  {
   "cell_type": "markdown",
   "metadata": {
    "id": "iVhOUldkVIBF"
   },
   "source": [
    "### If there are outliers in the dataset."
   ]
  },
  {
   "cell_type": "code",
   "execution_count": 32,
   "metadata": {
    "id": "wco0HAm3VIr6",
    "scrolled": true
   },
   "outputs": [
    {
     "data": {
      "text/plain": [
       "Name       550\n",
       "Author     550\n",
       "Rating     550\n",
       "Reviews    550\n",
       "Price      550\n",
       "Year       550\n",
       "Genre      550\n",
       "WAR        550\n",
       "dtype: int64"
      ]
     },
     "execution_count": 32,
     "metadata": {},
     "output_type": "execute_result"
    }
   ],
   "source": [
    "df.count()"
   ]
  },
  {
   "cell_type": "code",
   "execution_count": 36,
   "metadata": {},
   "outputs": [
    {
     "data": {
      "image/png": "[encoded data removed]",
      "text/plain": [
       "<Figure size 640x480 with 1 Axes>"
      ]
     },
     "metadata": {},
     "output_type": "display_data"
    },
    {
     "data": {
      "image/png": "[encoded data removed]",
      "text/plain": [
       "<Figure size 640x480 with 1 Axes>"
      ]
     },
     "metadata": {},
     "output_type": "display_data"
    },
    {
     "data": {
      "image/png": "[encoded data removed]",
      "text/plain": [
       "<Figure size 640x480 with 1 Axes>"
      ]
     },
     "metadata": {},
     "output_type": "display_data"
    },
    {
     "data": {
      "image/png": "[encoded data removed]",
      "text/plain": [
       "<Figure size 640x480 with 1 Axes>"
      ]
     },
     "metadata": {},
     "output_type": "display_data"
    }
   ],
   "source": [
    "sns.boxplot(x=df['Reviews'])\n",
    "plt.show()\n",
    "sns.boxplot(x=df['Price'])\n",
    "plt.show()\n",
    "sns.boxplot(x=df['Year'])\n",
    "plt.show()\n",
    "sns.boxplot(x=df['WAR'])\n",
    "plt.show()"
   ]
  },
  {
   "cell_type": "markdown",
   "metadata": {
    "id": "TU15UBRAVKEz"
   },
   "source": [
    "### Correlation between User ratings, reviews and price."
   ]
  },
  {
   "cell_type": "code",
   "execution_count": 39,
   "metadata": {
    "id": "N__YspwXVKv3"
   },
   "outputs": [
    {
     "data": {
      "image/png": "[encoded data removed]",
      "text/plain": [
       "<Figure size 640x480 with 1 Axes>"
      ]
     },
     "metadata": {},
     "output_type": "display_data"
    },
    {
     "name": "stdout",
     "output_type": "stream",
     "text": [
      "-0.13308628728088\n"
     ]
    }
   ],
   "source": [
    "plt.scatter(df.WAR, df.Price)\n",
    "plt.show()\n",
    "ratingVSprice = df.Rating.corr(df.Price)\n",
    "print(ratingVSprice)"
   ]
  },
  {
   "cell_type": "markdown",
   "metadata": {
    "id": "TJno2o3bVQQK"
   },
   "source": [
    "To this point, we have a great level of understanding of our dataset. Now we can easily move to our main question:\n",
    "\n",
    "**Do users evaluate books differently depending on the genre.**\n",
    "\n",
    "We can divide this question into parts:\n"
   ]
  },
  {
   "cell_type": "markdown",
   "metadata": {
    "id": "xq-ohB2mVcFh"
   },
   "source": [
    "### Formulate the null and alternative hypotheses."
   ]
  },
  {
   "cell_type": "code",
   "execution_count": null,
   "metadata": {
    "id": "rqF0ZHjhVSwP"
   },
   "outputs": [],
   "source": []
  },
  {
   "cell_type": "markdown",
   "metadata": {
    "id": "GYjEwfOzVebF"
   },
   "source": [
    "### Checking the distribution for normality."
   ]
  },
  {
   "cell_type": "code",
   "execution_count": null,
   "metadata": {
    "id": "uwYOa2vZVfyo"
   },
   "outputs": [],
   "source": []
  },
  {
   "cell_type": "markdown",
   "metadata": {
    "id": "KPqWob1nVheS"
   },
   "source": [
    "### Form two samples for testing."
   ]
  },
  {
   "cell_type": "code",
   "execution_count": null,
   "metadata": {
    "id": "FKypXv3bViCy"
   },
   "outputs": [],
   "source": []
  },
  {
   "cell_type": "markdown",
   "metadata": {
    "id": "sxMdO5nbVjhz"
   },
   "source": [
    "### Carry out hypothesis testing."
   ]
  },
  {
   "cell_type": "code",
   "execution_count": null,
   "metadata": {
    "id": "kG7EOF4JVkH6"
   },
   "outputs": [],
   "source": []
  }
 ],
 "metadata": {
  "colab": {
   "name": "EDA - Amazon's Best Selling Books.ipynb",
   "provenance": []
  },
  "kernelspec": {
   "display_name": "Python 3 (ipykernel)",
   "language": "python",
   "name": "python3"
  },
  "language_info": {
   "codemirror_mode": {
    "name": "ipython",
    "version": 3
   },
   "file_extension": ".py",
   "mimetype": "text/x-python",
   "name": "python",
   "nbconvert_exporter": "python",
   "pygments_lexer": "ipython3",
   "version": "3.11.4"
  }
 },
 "nbformat": 4,
 "nbformat_minor": 1
}
