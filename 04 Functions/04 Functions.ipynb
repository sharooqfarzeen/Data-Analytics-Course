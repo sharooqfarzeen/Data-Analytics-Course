{
 "cells": [
  {
   "cell_type": "markdown",
   "id": "5605af6e",
   "metadata": {},
   "source": [
    "## Kelvin to Celsius"
   ]
  },
  {
   "cell_type": "code",
   "execution_count": null,
   "id": "2e4821e0",
   "metadata": {},
   "outputs": [],
   "source": [
    "def temperature(kelvin):\n",
    "    return kelvin - 273"
   ]
  },
  {
   "cell_type": "markdown",
   "id": "9fc5e962",
   "metadata": {},
   "source": [
    "## Area of House"
   ]
  },
  {
   "cell_type": "code",
   "execution_count": null,
   "id": "4c6b322a",
   "metadata": {},
   "outputs": [],
   "source": [
    "def area(l,b):\n",
    "\n",
    "    ### START CODE HERE ###\n",
    "    return l*b\n",
    "\n",
    "    ### END CODE HERE ###"
   ]
  },
  {
   "cell_type": "markdown",
   "id": "3600529b",
   "metadata": {},
   "source": [
    "## Classifier"
   ]
  },
  {
   "cell_type": "code",
   "execution_count": null,
   "id": "1511fa0a",
   "metadata": {},
   "outputs": [],
   "source": [
    "def classifier(n):\n",
    "    if n == 0:\n",
    "        return(\"cat\")\n",
    "    if n == 1:\n",
    "        return(\"dog\")\n",
    "    else:\n",
    "        \n",
    "    "
   ]
  },
  {
   "cell_type": "markdown",
   "id": "a186a93c",
   "metadata": {},
   "source": [
    "## Categorize Demand"
   ]
  },
  {
   "cell_type": "code",
   "execution_count": null,
   "id": "f8e292a6",
   "metadata": {},
   "outputs": [],
   "source": [
    "def categorize(n):\n",
    "\n",
    "    ### START CODE HERE ###\n",
    "    if n > 100:\n",
    "        return(\"high demand\")\n",
    "    elif n >= 50:\n",
    "        return(\"medium demand\")\n",
    "    else:\n",
    "        return(\"low demand\")\n",
    "\n",
    "\n",
    "    ### END CODE HERE ###"
   ]
  },
  {
   "cell_type": "markdown",
   "id": "37416442",
   "metadata": {},
   "source": [
    "## Factorial of a Number"
   ]
  },
  {
   "cell_type": "code",
   "execution_count": null,
   "id": "352bab10",
   "metadata": {},
   "outputs": [],
   "source": [
    "def main():\n",
    "    ## Read input as specified in the question.\n",
    "    n = int(input())\n",
    "    ## Print output as specified in the question.\n",
    "    print(fact(n))\n",
    "\n",
    "def fact(n):\n",
    "    \n",
    "    fact =1\n",
    "    \n",
    "    for i in range(1,n+1):\n",
    "        fact = fact * i\n",
    "    \n",
    "    return fact\n",
    "\n",
    "main()"
   ]
  },
  {
   "cell_type": "markdown",
   "id": "ac2135cb",
   "metadata": {},
   "source": [
    "## Binomial Coefficient Problem"
   ]
  },
  {
   "cell_type": "code",
   "execution_count": null,
   "id": "20f25482",
   "metadata": {},
   "outputs": [],
   "source": [
    "def main():\n",
    "    \n",
    "    n = input()\n",
    "    numbers = theSeparator(n)\n",
    "    number1 = int(numbers[0])\n",
    "    number2 = int(numbers[1])\n",
    "    print(int(ncr(number1,number2)))\n",
    "    \n",
    "def theSeparator(n):\n",
    "    \n",
    "    temp = 0\n",
    "    number1 = ''\n",
    "    number2 = ''\n",
    "    for i in range(0, len(n)):\n",
    "        if n[i] != ' ':\n",
    "            number1 = number1 + n[i]\n",
    "        else:\n",
    "            temp = i+1\n",
    "            break\n",
    "    for i in range(temp,len(n)):\n",
    "        number2 = number2 + n[i]\n",
    "        \n",
    "    return(number1,number2)\n",
    "\n",
    "def ncr(n, r):\n",
    "    ncr = (fact(n))/(fact(r)*(fact(n-r)))\n",
    "    return ncr\n",
    "\n",
    "def fact(n):\n",
    "    fact = 1\n",
    "    for i in range(1,n+1):\n",
    "        fact = fact * i\n",
    "    return fact\n",
    "\n",
    "main()\n",
    "            "
   ]
  },
  {
   "cell_type": "markdown",
   "id": "339d00c9",
   "metadata": {},
   "source": [
    "## Find prime numbers"
   ]
  },
  {
   "cell_type": "code",
   "execution_count": 4,
   "id": "f145e746",
   "metadata": {},
   "outputs": [
    {
     "name": "stdout",
     "output_type": "stream",
     "text": [
      "2\n",
      "2 "
     ]
    }
   ],
   "source": [
    "def isPrime(n):\n",
    "    flag = 'Prime'\n",
    "    for i in range(2,n):\n",
    "        flag = 'Prime'\n",
    "        if n % i == 0:\n",
    "            flag = 'Not Prime'\n",
    "            break\n",
    "        flag = 'Prime'\n",
    "    return flag\n",
    "\n",
    "def main():\n",
    "    n = int(input())\n",
    "    for i in range(2,n+1):\n",
    "        if isPrime(i) == 'Prime':\n",
    "            print(i, end = ' ')\n",
    "            \n",
    "main()"
   ]
  },
  {
   "cell_type": "markdown",
   "id": "65e84f8e",
   "metadata": {},
   "source": [
    "## Composite Number"
   ]
  },
  {
   "cell_type": "code",
   "execution_count": null,
   "id": "9b31b38a",
   "metadata": {},
   "outputs": [],
   "source": [
    "def is_prime(n):\n",
    "    flag = 'Prime'\n",
    "    for i in range(2,n):\n",
    "        flag = 'Prime'\n",
    "        if n % i == 0:\n",
    "            flag = 'Not Prime'\n",
    "            break\n",
    "        flag = 'Prime'\n",
    "    return flag\n",
    "\n",
    "def print_composite(n):\n",
    "    \n",
    "    for i in range(2,n+1):\n",
    "        if is_prime(i) == 'Not Prime':\n",
    "            print(i)\n",
    "            "
   ]
  },
  {
   "cell_type": "markdown",
   "id": "8f9c88e3",
   "metadata": {},
   "source": [
    "## Permutation"
   ]
  },
  {
   "cell_type": "code",
   "execution_count": 2,
   "id": "0070355d",
   "metadata": {},
   "outputs": [],
   "source": [
    "def factorial(n):\n",
    "    fact = 1\n",
    "    for i in range(1,n+1):\n",
    "        fact = fact * i\n",
    "    return fact\n",
    "\n",
    "def permutation(n,r):\n",
    "    perm = factorial(n)/factorial(n-r)\n",
    "    return int(perm)"
   ]
  },
  {
   "cell_type": "markdown",
   "id": "d56b5820",
   "metadata": {},
   "source": [
    "## Print all Divisors of a number"
   ]
  },
  {
   "cell_type": "code",
   "execution_count": 4,
   "id": "c03dfaf6",
   "metadata": {},
   "outputs": [],
   "source": [
    "from typing import List\n",
    "\n",
    "def printDivisors(n: int) -> List[int]:\n",
    "    \n",
    "    final = []\n",
    "    for i in range(1,n):\n",
    "        if n % i == 0:\n",
    "            final.append(i)\n",
    "    final.append(n)\n",
    "    return final"
   ]
  }
 ],
 "metadata": {
  "kernelspec": {
   "display_name": "Python 3 (ipykernel)",
   "language": "python",
   "name": "python3"
  },
  "language_info": {
   "codemirror_mode": {
    "name": "ipython",
    "version": 3
   },
   "file_extension": ".py",
   "mimetype": "text/x-python",
   "name": "python",
   "nbconvert_exporter": "python",
   "pygments_lexer": "ipython3",
   "version": "3.11.4"
  }
 },
 "nbformat": 4,
 "nbformat_minor": 5
}
