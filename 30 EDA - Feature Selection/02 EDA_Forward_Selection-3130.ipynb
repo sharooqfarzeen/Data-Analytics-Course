{
  "nbformat": 4,
  "nbformat_minor": 0,
  "metadata": {
    "colab": {
      "provenance": []
    },
    "kernelspec": {
      "name": "python3",
      "display_name": "Python 3"
    },
    "language_info": {
      "name": "python"
    }
  },
  "cells": [
    {
      "cell_type": "markdown",
      "source": [
        "## Forward Feature Selection\n",
        "We need to use f_regression from Sklearn to get direct results of forward selection."
      ],
      "metadata": {
        "id": "I_bXJBYcHqdn"
      }
    },
    {
      "cell_type": "code",
      "source": [
        "from sklearn.feature_selection import f_regression\n"
      ],
      "metadata": {
        "id": "6qD8XGqIGizT"
      },
      "execution_count": null,
      "outputs": []
    },
    {
      "cell_type": "code",
      "source": [
        "ffsrg = f_regression(df_check,df_imputed.Item_Outlet_Sales )\n",
        "\n"
      ],
      "metadata": {
        "id": "dr2jCJhtHyo1"
      },
      "execution_count": null,
      "outputs": []
    },
    {
      "cell_type": "code",
      "source": [
        "pd.options.display.float_format = '{:.5f}'.format"
      ],
      "metadata": {
        "id": "cglGkNJGIUu7"
      },
      "execution_count": null,
      "outputs": []
    },
    {
      "cell_type": "code",
      "source": [
        "#This returns an array containing the F-values of the variables and the p-values corresponding to each F value.\n",
        "# We will take p-values less than 0.05 for 95% confidense, of selected feature\n",
        "features = []\n",
        "for i in range(0,len(df_check.columns)):\n",
        "    if ffsrg[1][i] <= 0.05:\n",
        "       features.append(df_check.columns[i])"
      ],
      "metadata": {
        "id": "lDnM6Y3rHz3k"
      },
      "execution_count": null,
      "outputs": []
    },
    {
      "cell_type": "code",
      "source": [
        "print('F-Values',ffsrg[0])\n",
        "print('p-values',ffsrg[1])\n",
        "features"
      ],
      "metadata": {
        "colab": {
          "base_uri": "https://localhost:8080/"
        },
        "id": "zcnusanNIGY1",
        "outputId": "0b805e5c-c363-4507-9a78-7ff280893b1f"
      },
      "execution_count": null,
      "outputs": [
        {
          "output_type": "stream",
          "name": "stdout",
          "text": [
            "F-Values [1.39081141e+00 1.43345451e+02 4.04945623e+03]\n",
            "p-values [2.38301047e-01 9.04128718e-33 0.00000000e+00]\n"
          ]
        },
        {
          "output_type": "execute_result",
          "data": {
            "text/plain": [
              "['Item_Visibility', 'Item_MRP']"
            ]
          },
          "metadata": {},
          "execution_count": 144
        }
      ]
    },
    {
      "cell_type": "markdown",
      "source": [
        " is clear that Item_Visibility and Item_MRP have p-value of 0.0000000000, But Item_Weight is also very close to 0.05 (0.054), so its better to keep it, as well looking at result of previous tests.\n",
        "\n",
        "As we can see that these techniques are time consuming and computation hungry, for large number of features (> 20 Numeric features) in dataset, these two methods are not advised."
      ],
      "metadata": {
        "id": "ANL9C32hKd7a"
      }
    }
  ]
}