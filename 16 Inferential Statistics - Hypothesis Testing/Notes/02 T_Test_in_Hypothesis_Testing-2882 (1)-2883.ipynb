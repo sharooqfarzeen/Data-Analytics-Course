{
 "cells": [
  {
   "cell_type": "code",
   "execution_count": 1,
   "metadata": {
    "colab": {
     "base_uri": "https://localhost:8080/"
    },
    "id": "PmfAFLpiOtwO",
    "outputId": "c99cfa94-8370-4b83-f0c9-ac29671eed88"
   },
   "outputs": [
    {
     "name": "stdout",
     "output_type": "stream",
     "text": [
      "Looking in indexes: https://pypi.org/simple, https://us-python.pkg.dev/colab-wheels/public/simple/\n",
      "Collecting researchpy\n",
      "  Downloading researchpy-0.3.2-py3-none-any.whl (15 kB)\n",
      "Requirement already satisfied: pandas in /usr/local/lib/python3.7/dist-packages (from researchpy) (1.3.5)\n",
      "Requirement already satisfied: patsy in /usr/local/lib/python3.7/dist-packages (from researchpy) (0.5.2)\n",
      "Requirement already satisfied: scipy in /usr/local/lib/python3.7/dist-packages (from researchpy) (1.4.1)\n",
      "Requirement already satisfied: statsmodels in /usr/local/lib/python3.7/dist-packages (from researchpy) (0.10.2)\n",
      "Requirement already satisfied: numpy in /usr/local/lib/python3.7/dist-packages (from researchpy) (1.21.6)\n",
      "Requirement already satisfied: python-dateutil>=2.7.3 in /usr/local/lib/python3.7/dist-packages (from pandas->researchpy) (2.8.2)\n",
      "Requirement already satisfied: pytz>=2017.3 in /usr/local/lib/python3.7/dist-packages (from pandas->researchpy) (2022.1)\n",
      "Requirement already satisfied: six>=1.5 in /usr/local/lib/python3.7/dist-packages (from python-dateutil>=2.7.3->pandas->researchpy) (1.15.0)\n",
      "Installing collected packages: researchpy\n",
      "Successfully installed researchpy-0.3.2\n"
     ]
    }
   ],
   "source": [
    "!pip install researchpy"
   ]
  },
  {
   "cell_type": "code",
   "execution_count": 2,
   "metadata": {
    "colab": {
     "base_uri": "https://localhost:8080/"
    },
    "id": "FUcEshlsPFlg",
    "outputId": "2e8aa4d1-4c04-417d-a365-5e5dbb12e571"
   },
   "outputs": [
    {
     "name": "stderr",
     "output_type": "stream",
     "text": [
      "/usr/local/lib/python3.7/dist-packages/statsmodels/tools/_testing.py:19: FutureWarning: pandas.util.testing is deprecated. Use the functions in the public API at pandas.testing instead.\n",
      "  import pandas.util.testing as tm\n"
     ]
    }
   ],
   "source": [
    "import statsmodels.api as sm\n",
    "import pandas as pd\n",
    "import numpy as np\n",
    "import seaborn as sns\n",
    "import matplotlib.pyplot as plt\n",
    "from sklearn.preprocessing import scale\n",
    "import researchpy as rc\n",
    "import warnings\n",
    "from scipy import stats\n",
    "\n",
    "%matplotlib inline"
   ]
  },
  {
   "cell_type": "code",
   "execution_count": 4,
   "metadata": {
    "id": "EattlttJPkUl"
   },
   "outputs": [],
   "source": [
    "df = pd.read_csv('bikeshare.csv')"
   ]
  },
  {
   "cell_type": "code",
   "execution_count": 5,
   "metadata": {
    "colab": {
     "base_uri": "https://localhost:8080/"
    },
    "id": "V7guqGudPs4h",
    "outputId": "e4e0a569-5486-432e-f2e8-0153fa857de1"
   },
   "outputs": [
    {
     "data": {
      "text/plain": [
       "(10886, 12)"
      ]
     },
     "execution_count": 5,
     "metadata": {},
     "output_type": "execute_result"
    }
   ],
   "source": [
    "df.shape"
   ]
  },
  {
   "cell_type": "code",
   "execution_count": 6,
   "metadata": {
    "colab": {
     "base_uri": "https://localhost:8080/",
     "height": 206
    },
    "id": "NzgGVNzRPxRG",
    "outputId": "2dea4456-e3b6-43ba-f1fc-1240db1172a5"
   },
   "outputs": [
    {
     "data": {
      "text/html": [
       "\n",
       "  <div id=\"df-40ebb8cb-df51-4a6f-8d4d-c34c81a06f23\">\n",
       "    <div class=\"colab-df-container\">\n",
       "      <div>\n",
       "<style scoped>\n",
       "    .dataframe tbody tr th:only-of-type {\n",
       "        vertical-align: middle;\n",
       "    }\n",
       "\n",
       "    .dataframe tbody tr th {\n",
       "        vertical-align: top;\n",
       "    }\n",
       "\n",
       "    .dataframe thead th {\n",
       "        text-align: right;\n",
       "    }\n",
       "</style>\n",
       "<table border=\"1\" class=\"dataframe\">\n",
       "  <thead>\n",
       "    <tr style=\"text-align: right;\">\n",
       "      <th></th>\n",
       "      <th>datetime</th>\n",
       "      <th>season</th>\n",
       "      <th>holiday</th>\n",
       "      <th>workingday</th>\n",
       "      <th>weather</th>\n",
       "      <th>temp</th>\n",
       "      <th>atemp</th>\n",
       "      <th>humidity</th>\n",
       "      <th>windspeed</th>\n",
       "      <th>casual</th>\n",
       "      <th>registered</th>\n",
       "      <th>count</th>\n",
       "    </tr>\n",
       "  </thead>\n",
       "  <tbody>\n",
       "    <tr>\n",
       "      <th>0</th>\n",
       "      <td>2011-01-01 00:00:00</td>\n",
       "      <td>1</td>\n",
       "      <td>0</td>\n",
       "      <td>0</td>\n",
       "      <td>1</td>\n",
       "      <td>9.84</td>\n",
       "      <td>14.395</td>\n",
       "      <td>81</td>\n",
       "      <td>0.0</td>\n",
       "      <td>3</td>\n",
       "      <td>13</td>\n",
       "      <td>16</td>\n",
       "    </tr>\n",
       "    <tr>\n",
       "      <th>1</th>\n",
       "      <td>2011-01-01 01:00:00</td>\n",
       "      <td>1</td>\n",
       "      <td>0</td>\n",
       "      <td>0</td>\n",
       "      <td>1</td>\n",
       "      <td>9.02</td>\n",
       "      <td>13.635</td>\n",
       "      <td>80</td>\n",
       "      <td>0.0</td>\n",
       "      <td>8</td>\n",
       "      <td>32</td>\n",
       "      <td>40</td>\n",
       "    </tr>\n",
       "    <tr>\n",
       "      <th>2</th>\n",
       "      <td>2011-01-01 02:00:00</td>\n",
       "      <td>1</td>\n",
       "      <td>0</td>\n",
       "      <td>0</td>\n",
       "      <td>1</td>\n",
       "      <td>9.02</td>\n",
       "      <td>13.635</td>\n",
       "      <td>80</td>\n",
       "      <td>0.0</td>\n",
       "      <td>5</td>\n",
       "      <td>27</td>\n",
       "      <td>32</td>\n",
       "    </tr>\n",
       "    <tr>\n",
       "      <th>3</th>\n",
       "      <td>2011-01-01 03:00:00</td>\n",
       "      <td>1</td>\n",
       "      <td>0</td>\n",
       "      <td>0</td>\n",
       "      <td>1</td>\n",
       "      <td>9.84</td>\n",
       "      <td>14.395</td>\n",
       "      <td>75</td>\n",
       "      <td>0.0</td>\n",
       "      <td>3</td>\n",
       "      <td>10</td>\n",
       "      <td>13</td>\n",
       "    </tr>\n",
       "    <tr>\n",
       "      <th>4</th>\n",
       "      <td>2011-01-01 04:00:00</td>\n",
       "      <td>1</td>\n",
       "      <td>0</td>\n",
       "      <td>0</td>\n",
       "      <td>1</td>\n",
       "      <td>9.84</td>\n",
       "      <td>14.395</td>\n",
       "      <td>75</td>\n",
       "      <td>0.0</td>\n",
       "      <td>0</td>\n",
       "      <td>1</td>\n",
       "      <td>1</td>\n",
       "    </tr>\n",
       "  </tbody>\n",
       "</table>\n",
       "</div>\n",
       "      <button class=\"colab-df-convert\" onclick=\"convertToInteractive('df-40ebb8cb-df51-4a6f-8d4d-c34c81a06f23')\"\n",
       "              title=\"Convert this dataframe to an interactive table.\"\n",
       "              style=\"display:none;\">\n",
       "        \n",
       "  <svg xmlns=\"http://www.w3.org/2000/svg\" height=\"24px\"viewBox=\"0 0 24 24\"\n",
       "       width=\"24px\">\n",
       "    <path d=\"M0 0h24v24H0V0z\" fill=\"none\"/>\n",
       "    <path d=\"M18.56 5.44l.94 2.06.94-2.06 2.06-.94-2.06-.94-.94-2.06-.94 2.06-2.06.94zm-11 1L8.5 8.5l.94-2.06 2.06-.94-2.06-.94L8.5 2.5l-.94 2.06-2.06.94zm10 10l.94 2.06.94-2.06 2.06-.94-2.06-.94-.94-2.06-.94 2.06-2.06.94z\"/><path d=\"M17.41 7.96l-1.37-1.37c-.4-.4-.92-.59-1.43-.59-.52 0-1.04.2-1.43.59L10.3 9.45l-7.72 7.72c-.78.78-.78 2.05 0 2.83L4 21.41c.39.39.9.59 1.41.59.51 0 1.02-.2 1.41-.59l7.78-7.78 2.81-2.81c.8-.78.8-2.07 0-2.86zM5.41 20L4 18.59l7.72-7.72 1.47 1.35L5.41 20z\"/>\n",
       "  </svg>\n",
       "      </button>\n",
       "      \n",
       "  <style>\n",
       "    .colab-df-container {\n",
       "      display:flex;\n",
       "      flex-wrap:wrap;\n",
       "      gap: 12px;\n",
       "    }\n",
       "\n",
       "    .colab-df-convert {\n",
       "      background-color: #E8F0FE;\n",
       "      border: none;\n",
       "      border-radius: 50%;\n",
       "      cursor: pointer;\n",
       "      display: none;\n",
       "      fill: #1967D2;\n",
       "      height: 32px;\n",
       "      padding: 0 0 0 0;\n",
       "      width: 32px;\n",
       "    }\n",
       "\n",
       "    .colab-df-convert:hover {\n",
       "      background-color: #E2EBFA;\n",
       "      box-shadow: 0px 1px 2px rgba(60, 64, 67, 0.3), 0px 1px 3px 1px rgba(60, 64, 67, 0.15);\n",
       "      fill: #174EA6;\n",
       "    }\n",
       "\n",
       "    [theme=dark] .colab-df-convert {\n",
       "      background-color: #3B4455;\n",
       "      fill: #D2E3FC;\n",
       "    }\n",
       "\n",
       "    [theme=dark] .colab-df-convert:hover {\n",
       "      background-color: #434B5C;\n",
       "      box-shadow: 0px 1px 3px 1px rgba(0, 0, 0, 0.15);\n",
       "      filter: drop-shadow(0px 1px 2px rgba(0, 0, 0, 0.3));\n",
       "      fill: #FFFFFF;\n",
       "    }\n",
       "  </style>\n",
       "\n",
       "      <script>\n",
       "        const buttonEl =\n",
       "          document.querySelector('#df-40ebb8cb-df51-4a6f-8d4d-c34c81a06f23 button.colab-df-convert');\n",
       "        buttonEl.style.display =\n",
       "          google.colab.kernel.accessAllowed ? 'block' : 'none';\n",
       "\n",
       "        async function convertToInteractive(key) {\n",
       "          const element = document.querySelector('#df-40ebb8cb-df51-4a6f-8d4d-c34c81a06f23');\n",
       "          const dataTable =\n",
       "            await google.colab.kernel.invokeFunction('convertToInteractive',\n",
       "                                                     [key], {});\n",
       "          if (!dataTable) return;\n",
       "\n",
       "          const docLinkHtml = 'Like what you see? Visit the ' +\n",
       "            '<a target=\"_blank\" href=https://colab.research.google.com/notebooks/data_table.ipynb>data table notebook</a>'\n",
       "            + ' to learn more about interactive tables.';\n",
       "          element.innerHTML = '';\n",
       "          dataTable['output_type'] = 'display_data';\n",
       "          await google.colab.output.renderOutput(dataTable, element);\n",
       "          const docLink = document.createElement('div');\n",
       "          docLink.innerHTML = docLinkHtml;\n",
       "          element.appendChild(docLink);\n",
       "        }\n",
       "      </script>\n",
       "    </div>\n",
       "  </div>\n",
       "  "
      ],
      "text/plain": [
       "              datetime  season  holiday  workingday  weather  temp   atemp  \\\n",
       "0  2011-01-01 00:00:00       1        0           0        1  9.84  14.395   \n",
       "1  2011-01-01 01:00:00       1        0           0        1  9.02  13.635   \n",
       "2  2011-01-01 02:00:00       1        0           0        1  9.02  13.635   \n",
       "3  2011-01-01 03:00:00       1        0           0        1  9.84  14.395   \n",
       "4  2011-01-01 04:00:00       1        0           0        1  9.84  14.395   \n",
       "\n",
       "   humidity  windspeed  casual  registered  count  \n",
       "0        81        0.0       3          13     16  \n",
       "1        80        0.0       8          32     40  \n",
       "2        80        0.0       5          27     32  \n",
       "3        75        0.0       3          10     13  \n",
       "4        75        0.0       0           1      1  "
      ]
     },
     "execution_count": 6,
     "metadata": {},
     "output_type": "execute_result"
    }
   ],
   "source": [
    "df.head()"
   ]
  },
  {
   "cell_type": "code",
   "execution_count": 7,
   "metadata": {
    "colab": {
     "base_uri": "https://localhost:8080/"
    },
    "id": "BDJs92drPzUo",
    "outputId": "d4f3a0a7-30ba-4852-a0fe-1b8b02352257"
   },
   "outputs": [
    {
     "name": "stdout",
     "output_type": "stream",
     "text": [
      "<class 'pandas.core.frame.DataFrame'>\n",
      "RangeIndex: 10886 entries, 0 to 10885\n",
      "Data columns (total 12 columns):\n",
      " #   Column      Non-Null Count  Dtype  \n",
      "---  ------      --------------  -----  \n",
      " 0   datetime    10886 non-null  object \n",
      " 1   season      10886 non-null  int64  \n",
      " 2   holiday     10886 non-null  int64  \n",
      " 3   workingday  10886 non-null  int64  \n",
      " 4   weather     10886 non-null  int64  \n",
      " 5   temp        10886 non-null  float64\n",
      " 6   atemp       10886 non-null  float64\n",
      " 7   humidity    10886 non-null  int64  \n",
      " 8   windspeed   10886 non-null  float64\n",
      " 9   casual      10886 non-null  int64  \n",
      " 10  registered  10886 non-null  int64  \n",
      " 11  count       10886 non-null  int64  \n",
      "dtypes: float64(3), int64(8), object(1)\n",
      "memory usage: 1020.7+ KB\n"
     ]
    }
   ],
   "source": [
    "df.info()"
   ]
  },
  {
   "cell_type": "code",
   "execution_count": 8,
   "metadata": {
    "colab": {
     "base_uri": "https://localhost:8080/"
    },
    "id": "wPLS7sNAP1JV",
    "outputId": "a5a1e92f-e942-40f8-d46e-a55ab4c7fd9a"
   },
   "outputs": [
    {
     "data": {
      "text/plain": [
       "datetime      0\n",
       "season        0\n",
       "holiday       0\n",
       "workingday    0\n",
       "weather       0\n",
       "temp          0\n",
       "atemp         0\n",
       "humidity      0\n",
       "windspeed     0\n",
       "casual        0\n",
       "registered    0\n",
       "count         0\n",
       "dtype: int64"
      ]
     },
     "execution_count": 8,
     "metadata": {},
     "output_type": "execute_result"
    }
   ],
   "source": [
    "df.isnull().sum()"
   ]
  },
  {
   "cell_type": "code",
   "execution_count": 9,
   "metadata": {
    "colab": {
     "base_uri": "https://localhost:8080/"
    },
    "id": "akX_NJc-QAhm",
    "outputId": "4b5bd784-73e6-4647-ff8b-56d0e3e019f9"
   },
   "outputs": [
    {
     "data": {
      "text/plain": [
       "0.9849481104817068"
      ]
     },
     "execution_count": 9,
     "metadata": {},
     "output_type": "execute_result"
    }
   ],
   "source": [
    "df['atemp'].corr(df['temp'])"
   ]
  },
  {
   "cell_type": "markdown",
   "metadata": {
    "id": "7I0C2vZPQKLT"
   },
   "source": [
    "Atemp and temp has correlation of 0.985. They are providing the same information. We will drop the atemp\n",
    "feature and also datetime for our simplicity."
   ]
  },
  {
   "cell_type": "code",
   "execution_count": 10,
   "metadata": {
    "id": "wx3ZYD-oQFd0"
   },
   "outputs": [],
   "source": [
    "df.drop(['datetime', 'atemp'], axis=1, inplace=True)"
   ]
  },
  {
   "cell_type": "code",
   "execution_count": 11,
   "metadata": {
    "colab": {
     "base_uri": "https://localhost:8080/"
    },
    "id": "jE7afc9SQUni",
    "outputId": "206219fe-9058-4cdc-e910-7a227af0d181"
   },
   "outputs": [
    {
     "data": {
      "text/plain": [
       "season          4\n",
       "holiday         2\n",
       "workingday      2\n",
       "weather         4\n",
       "temp           49\n",
       "humidity       89\n",
       "windspeed      28\n",
       "casual        309\n",
       "registered    731\n",
       "count         822\n",
       "dtype: int64"
      ]
     },
     "execution_count": 11,
     "metadata": {},
     "output_type": "execute_result"
    }
   ],
   "source": [
    "df.apply(lambda x : x.nunique())"
   ]
  },
  {
   "cell_type": "markdown",
   "metadata": {
    "id": "DK0I2t4qQ18d"
   },
   "source": [
    "Standardize all the numerical features.\n",
    "\n",
    "For this we will use scale function from sklearn library."
   ]
  },
  {
   "cell_type": "code",
   "execution_count": 12,
   "metadata": {
    "id": "OF5DawxOQa9s"
   },
   "outputs": [],
   "source": [
    "num_scaled = scale(df[['temp', 'humidity', 'windspeed', 'casual', 'registered']], copy=False)"
   ]
  },
  {
   "cell_type": "markdown",
   "metadata": {
    "id": "hSOEEDgzRAu-"
   },
   "source": [
    "Scale takes the difference of each values from the mean and divide by standard deviation"
   ]
  },
  {
   "cell_type": "code",
   "execution_count": 13,
   "metadata": {
    "colab": {
     "base_uri": "https://localhost:8080/"
    },
    "id": "y9p44KmRQzw6",
    "outputId": "427f99f2-4ebc-4c3c-b389-4791dd08c48d"
   },
   "outputs": [
    {
     "data": {
      "text/plain": [
       "array([[-1.33366069,  0.99321305, -1.56775367, -0.66099193, -0.94385353],\n",
       "       [-1.43890721,  0.94124921, -1.56775367, -0.56090822, -0.81805246],\n",
       "       [-1.43890721,  0.94124921, -1.56775367, -0.62095844, -0.851158  ],\n",
       "       ...,\n",
       "       [-0.80742813, -0.04606385,  0.26970368, -0.64097518,  0.05593396],\n",
       "       [-0.80742813, -0.04606385, -0.83244247, -0.48084125, -0.25525818],\n",
       "       [-0.91267464,  0.21375537, -0.46560752, -0.64097518, -0.47375478]])"
      ]
     },
     "execution_count": 13,
     "metadata": {},
     "output_type": "execute_result"
    }
   ],
   "source": [
    "num_scaled"
   ]
  },
  {
   "cell_type": "markdown",
   "metadata": {
    "id": "ch2-cE3PRGMP"
   },
   "source": [
    "###Preparing Data for t-test"
   ]
  },
  {
   "cell_type": "markdown",
   "metadata": {
    "id": "8GsoEoG6RToy"
   },
   "source": [
    "Now we will perform t-test to check whether the number of bike rentals are dependent on workingday or not. For\n",
    "this we will use two sample t-test.\n",
    "Two sample t-test is used to check whether the means of two samples(group) are same or different. We want to check whether the number of bikes rented on working day are different then number of bikes rented on non-\n",
    "working days."
   ]
  },
  {
   "cell_type": "markdown",
   "metadata": {
    "id": "kiF4stOIRVgn"
   },
   "source": [
    "Let's check the mean of bikes rented on working and non-working days."
   ]
  },
  {
   "cell_type": "code",
   "execution_count": 14,
   "metadata": {
    "colab": {
     "base_uri": "https://localhost:8080/",
     "height": 143
    },
    "id": "VBWHVOTsRDIx",
    "outputId": "001b70fb-9d1d-4917-9c30-98a65b0cf59e"
   },
   "outputs": [
    {
     "data": {
      "text/html": [
       "\n",
       "  <div id=\"df-3505e9d8-da62-4b81-941b-54d71a61cea4\">\n",
       "    <div class=\"colab-df-container\">\n",
       "      <div>\n",
       "<style scoped>\n",
       "    .dataframe tbody tr th:only-of-type {\n",
       "        vertical-align: middle;\n",
       "    }\n",
       "\n",
       "    .dataframe tbody tr th {\n",
       "        vertical-align: top;\n",
       "    }\n",
       "\n",
       "    .dataframe thead th {\n",
       "        text-align: right;\n",
       "    }\n",
       "</style>\n",
       "<table border=\"1\" class=\"dataframe\">\n",
       "  <thead>\n",
       "    <tr style=\"text-align: right;\">\n",
       "      <th></th>\n",
       "      <th>count</th>\n",
       "      <th>mean</th>\n",
       "      <th>std</th>\n",
       "      <th>min</th>\n",
       "      <th>25%</th>\n",
       "      <th>50%</th>\n",
       "      <th>75%</th>\n",
       "      <th>max</th>\n",
       "    </tr>\n",
       "    <tr>\n",
       "      <th>workingday</th>\n",
       "      <th></th>\n",
       "      <th></th>\n",
       "      <th></th>\n",
       "      <th></th>\n",
       "      <th></th>\n",
       "      <th></th>\n",
       "      <th></th>\n",
       "      <th></th>\n",
       "    </tr>\n",
       "  </thead>\n",
       "  <tbody>\n",
       "    <tr>\n",
       "      <th>0</th>\n",
       "      <td>3474.0</td>\n",
       "      <td>188.506621</td>\n",
       "      <td>173.724015</td>\n",
       "      <td>1.0</td>\n",
       "      <td>44.0</td>\n",
       "      <td>128.0</td>\n",
       "      <td>304.0</td>\n",
       "      <td>783.0</td>\n",
       "    </tr>\n",
       "    <tr>\n",
       "      <th>1</th>\n",
       "      <td>7412.0</td>\n",
       "      <td>193.011873</td>\n",
       "      <td>184.513659</td>\n",
       "      <td>1.0</td>\n",
       "      <td>41.0</td>\n",
       "      <td>151.0</td>\n",
       "      <td>277.0</td>\n",
       "      <td>977.0</td>\n",
       "    </tr>\n",
       "  </tbody>\n",
       "</table>\n",
       "</div>\n",
       "      <button class=\"colab-df-convert\" onclick=\"convertToInteractive('df-3505e9d8-da62-4b81-941b-54d71a61cea4')\"\n",
       "              title=\"Convert this dataframe to an interactive table.\"\n",
       "              style=\"display:none;\">\n",
       "        \n",
       "  <svg xmlns=\"http://www.w3.org/2000/svg\" height=\"24px\"viewBox=\"0 0 24 24\"\n",
       "       width=\"24px\">\n",
       "    <path d=\"M0 0h24v24H0V0z\" fill=\"none\"/>\n",
       "    <path d=\"M18.56 5.44l.94 2.06.94-2.06 2.06-.94-2.06-.94-.94-2.06-.94 2.06-2.06.94zm-11 1L8.5 8.5l.94-2.06 2.06-.94-2.06-.94L8.5 2.5l-.94 2.06-2.06.94zm10 10l.94 2.06.94-2.06 2.06-.94-2.06-.94-.94-2.06-.94 2.06-2.06.94z\"/><path d=\"M17.41 7.96l-1.37-1.37c-.4-.4-.92-.59-1.43-.59-.52 0-1.04.2-1.43.59L10.3 9.45l-7.72 7.72c-.78.78-.78 2.05 0 2.83L4 21.41c.39.39.9.59 1.41.59.51 0 1.02-.2 1.41-.59l7.78-7.78 2.81-2.81c.8-.78.8-2.07 0-2.86zM5.41 20L4 18.59l7.72-7.72 1.47 1.35L5.41 20z\"/>\n",
       "  </svg>\n",
       "      </button>\n",
       "      \n",
       "  <style>\n",
       "    .colab-df-container {\n",
       "      display:flex;\n",
       "      flex-wrap:wrap;\n",
       "      gap: 12px;\n",
       "    }\n",
       "\n",
       "    .colab-df-convert {\n",
       "      background-color: #E8F0FE;\n",
       "      border: none;\n",
       "      border-radius: 50%;\n",
       "      cursor: pointer;\n",
       "      display: none;\n",
       "      fill: #1967D2;\n",
       "      height: 32px;\n",
       "      padding: 0 0 0 0;\n",
       "      width: 32px;\n",
       "    }\n",
       "\n",
       "    .colab-df-convert:hover {\n",
       "      background-color: #E2EBFA;\n",
       "      box-shadow: 0px 1px 2px rgba(60, 64, 67, 0.3), 0px 1px 3px 1px rgba(60, 64, 67, 0.15);\n",
       "      fill: #174EA6;\n",
       "    }\n",
       "\n",
       "    [theme=dark] .colab-df-convert {\n",
       "      background-color: #3B4455;\n",
       "      fill: #D2E3FC;\n",
       "    }\n",
       "\n",
       "    [theme=dark] .colab-df-convert:hover {\n",
       "      background-color: #434B5C;\n",
       "      box-shadow: 0px 1px 3px 1px rgba(0, 0, 0, 0.15);\n",
       "      filter: drop-shadow(0px 1px 2px rgba(0, 0, 0, 0.3));\n",
       "      fill: #FFFFFF;\n",
       "    }\n",
       "  </style>\n",
       "\n",
       "      <script>\n",
       "        const buttonEl =\n",
       "          document.querySelector('#df-3505e9d8-da62-4b81-941b-54d71a61cea4 button.colab-df-convert');\n",
       "        buttonEl.style.display =\n",
       "          google.colab.kernel.accessAllowed ? 'block' : 'none';\n",
       "\n",
       "        async function convertToInteractive(key) {\n",
       "          const element = document.querySelector('#df-3505e9d8-da62-4b81-941b-54d71a61cea4');\n",
       "          const dataTable =\n",
       "            await google.colab.kernel.invokeFunction('convertToInteractive',\n",
       "                                                     [key], {});\n",
       "          if (!dataTable) return;\n",
       "\n",
       "          const docLinkHtml = 'Like what you see? Visit the ' +\n",
       "            '<a target=\"_blank\" href=https://colab.research.google.com/notebooks/data_table.ipynb>data table notebook</a>'\n",
       "            + ' to learn more about interactive tables.';\n",
       "          element.innerHTML = '';\n",
       "          dataTable['output_type'] = 'display_data';\n",
       "          await google.colab.output.renderOutput(dataTable, element);\n",
       "          const docLink = document.createElement('div');\n",
       "          docLink.innerHTML = docLinkHtml;\n",
       "          element.appendChild(docLink);\n",
       "        }\n",
       "      </script>\n",
       "    </div>\n",
       "  </div>\n",
       "  "
      ],
      "text/plain": [
       "             count        mean         std  min   25%    50%    75%    max\n",
       "workingday                                                                \n",
       "0           3474.0  188.506621  173.724015  1.0  44.0  128.0  304.0  783.0\n",
       "1           7412.0  193.011873  184.513659  1.0  41.0  151.0  277.0  977.0"
      ]
     },
     "execution_count": 14,
     "metadata": {},
     "output_type": "execute_result"
    }
   ],
   "source": [
    "df.groupby('workingday')['count'].describe()"
   ]
  },
  {
   "cell_type": "markdown",
   "metadata": {
    "id": "cBkZN6HyRlt0"
   },
   "source": [
    "We can see that mean on working days is 193.0 and mean on the non-working day is 188.5. Definitely we can\n",
    "see that there is difference in the means of working and non working days.\n",
    "But the quetsion is, is this difference in the mean stastically significant or was it just due to random chance ?\n",
    "\n",
    "Steps for performing hypothesis testing.\n",
    "1. set up Null Hypothesis (H0)\n",
    "2. State the alternate hypothesis (H1)\n",
    "3. Set a significance level (alpha)\n",
    "4. Calculate test Statistics.\n",
    "5. Decision to accept or reject null hypothesis."
   ]
  },
  {
   "cell_type": "markdown",
   "metadata": {
    "id": "XmQYF3n1RsvM"
   },
   "source": [
    "Create 2 samples one for working days and one for non-working days"
   ]
  },
  {
   "cell_type": "code",
   "execution_count": 15,
   "metadata": {
    "id": "8vbocbp5RfG5"
   },
   "outputs": [],
   "source": [
    "sample_01 = df[df['workingday'] == 1]\n",
    "sample_02 = df[df['workingday'] == 0]"
   ]
  },
  {
   "cell_type": "code",
   "execution_count": 16,
   "metadata": {
    "colab": {
     "base_uri": "https://localhost:8080/"
    },
    "id": "iOgKDCnmR4JH",
    "outputId": "20bef8c7-9f57-4fbe-9dab-26b9c048d811"
   },
   "outputs": [
    {
     "name": "stdout",
     "output_type": "stream",
     "text": [
      "(7412, 10) (3474, 10)\n"
     ]
    }
   ],
   "source": [
    "#check the shape of both the samples\n",
    "print(sample_01.shape,sample_02.shape)"
   ]
  },
  {
   "cell_type": "markdown",
   "metadata": {
    "id": "w3y1rY1xR-wH"
   },
   "source": [
    "sample_01 have 7412 observations whereas sample_02 only have 3474 obsrvations. We have to take equal number of observations in both the sample."
   ]
  },
  {
   "cell_type": "code",
   "execution_count": 17,
   "metadata": {
    "colab": {
     "base_uri": "https://localhost:8080/"
    },
    "id": "Eeo7AtJ_R6gj",
    "outputId": "af89f1d8-76a7-4ce6-cdc5-093247d6d7ef"
   },
   "outputs": [
    {
     "name": "stdout",
     "output_type": "stream",
     "text": [
      "(3474, 10) (3474, 10)\n"
     ]
    }
   ],
   "source": [
    "#make equal number of records in each sample\n",
    "sample_01 = sample_01.sample(3474)\n",
    "print(sample_01.shape,sample_02.shape)"
   ]
  },
  {
   "cell_type": "markdown",
   "metadata": {
    "id": "Jmppi4WiSwxS"
   },
   "source": [
    "Before directly jumping for hypothesis testing we have to check for different assumptions related to the kind of\n",
    "hypothesis test we want to perform.\n",
    "##Assumption for T-Test\n",
    "1. The variances of the 2 samples are equal(We will use Levene's test to check this assumption).\n",
    "2. The distrubtion of the residuals b/w the two groups should follow the normal distribution. We can plot\n",
    "histogram and see whether the distribution follows the normal distribution or not. We can also plot a Q-Q\n",
    "plot. We can check the normality using shapiro-wilks test as well."
   ]
  },
  {
   "cell_type": "markdown",
   "metadata": {
    "id": "JQrNgBVLS0Rj"
   },
   "source": [
    "###Levene's test to check whether the variances of the two group are same.\n",
    "H0 : Variances are same.\n",
    "H1 : Variances are not same.\n",
    "Alpha = 0.05%\n",
    "if p-value > alpha (Cannot reject H0)\n",
    "if p-value < alpha (Accept null hypothesis)"
   ]
  },
  {
   "cell_type": "code",
   "execution_count": 18,
   "metadata": {
    "colab": {
     "base_uri": "https://localhost:8080/"
    },
    "id": "O5gl_C15SDoY",
    "outputId": "b08a6cbf-aaa6-40c3-eb24-9df060b417d7"
   },
   "outputs": [
    {
     "name": "stdout",
     "output_type": "stream",
     "text": [
      " Test statistics : 0.0 \n",
      " Alpha : 0.05 \n",
      " P-value : 1.0\n",
      " Variances are same accept null hypothesis \n"
     ]
    }
   ],
   "source": [
    "alpha = 0.05\n",
    "Stats,Pvalue = stats.levene(sample_01['count'],sample_01['count'])\n",
    "print(f' Test statistics : {Stats} \\n Alpha : {alpha} \\n P-value : {Pvalue}')\n",
    "\n",
    "if Pvalue > alpha:\n",
    "  print(' Variances are same accept null hypothesis ')\n",
    "else:\n",
    "  print(' Variances are not same reject not null hypothesis ')"
   ]
  },
  {
   "cell_type": "markdown",
   "metadata": {
    "id": "dQ97BqbOTKyV"
   },
   "source": [
    "Here we have got 2 things:\n",
    "1. Test Statistics\n",
    "2. And p-value assosciated with test stastics. We can see that p-value(1.0) > alpha(0.05). So we fail to reject\n",
    "the null hypothesis. Variances of the 2 samples are equal.\n",
    "\n",
    "###Check for normality\n",
    "Take the difference between two samples and scale it to check the normality of the residuals."
   ]
  },
  {
   "cell_type": "code",
   "execution_count": 19,
   "metadata": {
    "colab": {
     "base_uri": "https://localhost:8080/",
     "height": 374
    },
    "id": "O1dJLRo2S7WH",
    "outputId": "55cc888e-109f-4ad2-ab45-eb42b1bd6b80"
   },
   "outputs": [
    {
     "data": {
      "image/png": "[encoded data removed]",
      "text/plain": [
       "<Figure size 864x432 with 1 Axes>"
      ]
     },
     "metadata": {
      "needs_background": "light"
     },
     "output_type": "display_data"
    }
   ],
   "source": [
    "#we will take the difference b/w sample_01 and sample_02 and plot a histogram to check for normality\n",
    "#we will scale the difference\n",
    "diff = scale((np.array(sample_01['count']) - np.array(sample_02['count'])))\n",
    "plt.figure(figsize=(12,6))\n",
    "plt.hist(diff)\n",
    "plt.show()"
   ]
  },
  {
   "cell_type": "markdown",
   "metadata": {
    "id": "iFaqzKftTUUp"
   },
   "source": [
    "The distribution seems very close to normal distribution. Let's check other methods to check the normality of the\n",
    "residuals.\n",
    "Q-Q plot, Generates the a probability of sample data against the quantiles of theoretical distributions."
   ]
  },
  {
   "cell_type": "code",
   "execution_count": 20,
   "metadata": {
    "colab": {
     "base_uri": "https://localhost:8080/",
     "height": 404
    },
    "id": "729LrgnSTRlD",
    "outputId": "5dba5bda-e53f-4a38-e995-8f8cab08fec7"
   },
   "outputs": [
    {
     "data": {
      "image/png": "[encoded data removed]",
      "text/plain": [
       "<Figure size 864x432 with 1 Axes>"
      ]
     },
     "metadata": {
      "needs_background": "light"
     },
     "output_type": "display_data"
    }
   ],
   "source": [
    "#q-q plot to check the normality\n",
    "plt.figure(figsize=(12,6))\n",
    "stats.probplot(diff,plot=plt,dist='norm')\n",
    "plt.show()"
   ]
  },
  {
   "cell_type": "markdown",
   "metadata": {
    "id": "RGQfL1N5TXce"
   },
   "source": [
    "When the points are closely follows the redline we can say that the residulas are normally distributed. Here we\n",
    "see that after 2 standard deviation the points are scattered from redline. They doesn't follow the redline. But most\n",
    "of the data points are still close to the redline so we accept the assumption of normality.\n",
    "Till now we have seen graphical methods to represent to check the assumption of normality. Now let's check is it\n",
    "with statstical test (Shapiro-Wilk Test)"
   ]
  },
  {
   "cell_type": "code",
   "execution_count": 22,
   "metadata": {
    "colab": {
     "base_uri": "https://localhost:8080/"
    },
    "id": "r9ke0GMrTV7n",
    "outputId": "09369c86-2f4a-4ecb-ac75-2bf4f15c2121"
   },
   "outputs": [
    {
     "name": "stdout",
     "output_type": "stream",
     "text": [
      "Reject Null Hypothesis p-value : 2.025767173026937e-15\n"
     ]
    }
   ],
   "source": [
    "#Stastical test for checking normality\n",
    "#Shapiro-wilk test\n",
    "#H0 : Normally distributed\n",
    "#H1 : Not Normally distributed\n",
    "\n",
    "alpha = 0.05\n",
    "statistic,p_value = stats.shapiro(diff)\n",
    "if p_value > alpha:\n",
    "  print(f'Accept Null Hypothesis p-value : {p_value}')\n",
    "else:\n",
    "  print(f'Reject Null Hypothesis p-value : {p_value}')"
   ]
  },
  {
   "cell_type": "markdown",
   "metadata": {
    "id": "fazvxIqUTioE"
   },
   "source": [
    "Here shapiro wilk test shows that the residuals are not normally distributed. for demonstration purpose We will\n",
    "continue with t-test, but in practice we should not perform t-test when the assumption of normality is voilated."
   ]
  },
  {
   "cell_type": "markdown",
   "metadata": {
    "id": "h904fWvmTloI"
   },
   "source": [
    "##Independent Sample T-test"
   ]
  },
  {
   "cell_type": "code",
   "execution_count": 23,
   "metadata": {
    "colab": {
     "base_uri": "https://localhost:8080/"
    },
    "id": "VnTKCHUxTc4B",
    "outputId": "4bec0dcc-650a-4c44-d007-ca4beeb4e27c"
   },
   "outputs": [
    {
     "name": "stdout",
     "output_type": "stream",
     "text": [
      "Fail to reject Null Hypothesis p-value is 0.37960013461774234\n"
     ]
    }
   ],
   "source": [
    "# H0 : There's no difference in mean (Bike rental doesn't depends on workingday)\n",
    "# H1 : There's a difference in mean (Bike rental depends on workingday)\n",
    "# Alpha : 0.05%\n",
    "alpha = 0.05\n",
    "statistic , p_value = stats.ttest_ind(sample_01['count'],sample_02['count'])\n",
    "if p_value > alpha:\n",
    "  print(f'Fail to reject Null Hypothesis p-value is {p_value}')\n",
    "else:\n",
    "  print('Reject Null Hypothesis')"
   ]
  },
  {
   "cell_type": "markdown",
   "metadata": {
    "id": "lT7oZQKITptF"
   },
   "source": [
    "As we can see that the p-value is greater than alpha. So we can't reject our null hypothesis.\n",
    "working day has no effect on number of bikes rented."
   ]
  }
 ],
 "metadata": {
  "colab": {
   "name": "T-Test in Hypothesis Testing.ipynb",
   "provenance": []
  },
  "kernelspec": {
   "display_name": "Python 3 (ipykernel)",
   "language": "python",
   "name": "python3"
  },
  "language_info": {
   "codemirror_mode": {
    "name": "ipython",
    "version": 3
   },
   "file_extension": ".py",
   "mimetype": "text/x-python",
   "name": "python",
   "nbconvert_exporter": "python",
   "pygments_lexer": "ipython3",
   "version": "3.11.4"
  }
 },
 "nbformat": 4,
 "nbformat_minor": 1
}
