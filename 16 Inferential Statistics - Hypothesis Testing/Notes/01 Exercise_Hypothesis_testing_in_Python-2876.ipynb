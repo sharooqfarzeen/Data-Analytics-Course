{
 "cells": [
  {
   "cell_type": "markdown",
   "metadata": {
    "id": "_m2Oke5LDiE5"
   },
   "source": [
    "### Hypothesis testing in Python"
   ]
  },
  {
   "cell_type": "markdown",
   "metadata": {
    "id": "-9td7RyeDpU3"
   },
   "source": [
    "**Let's take a coin-flipping example.**\n",
    "\n",
    "Let’s say that we flipped 100 coins and observed 70 heads. We would like to use these data to test the hypothesis that the true probability is 0.5. First let’s generate our data, simulating 100,000 sets of 100 flips. We use such a large number because it turns out that it’s very rare to get 70 heads, so we need many attempts in order to get a reliable estimate of these probabilties. This will take a couple of minutes to complete."
   ]
  },
  {
   "cell_type": "code",
   "execution_count": 1,
   "metadata": {
    "id": "BOWv0bOmDeG0"
   },
   "outputs": [],
   "source": [
    "import numpy as np\n",
    "import pandas as pd\n",
    "\n",
    "num_runs = 10000\n",
    "\n",
    "\n",
    "def toss_coins_and_count_heads(num_coins=100, p_heads=0.5):\n",
    "    \"\"\"\n",
    "    flip a coin num_coins times and return number of heads\n",
    "    \"\"\"\n",
    "\n",
    "    flips = np.random.rand(num_coins) > (1 - p_heads)\n",
    "    return(np.sum(flips))\n",
    "\n",
    "    \n",
    "flip_results_df = pd.DataFrame({'n_heads': np.zeros(num_runs)})\n",
    "\n",
    "for run in range(num_runs):\n",
    "    flip_results_df.loc[run, 'n_heads'] = toss_coins_and_count_heads()"
   ]
  },
  {
   "cell_type": "markdown",
   "metadata": {
    "id": "MYTM72GoFOMw"
   },
   "source": [
    "Now we can compute the proportion of samples from the distribution observed when the true proportion of heads is 0.5."
   ]
  },
  {
   "cell_type": "code",
   "execution_count": 6,
   "metadata": {
    "colab": {
     "base_uri": "https://localhost:8080/"
    },
    "id": "7aXl12RnFC-Q",
    "outputId": "b05652c3-3861-4a67-d3c1-ca4b5e05007e"
   },
   "outputs": [
    {
     "name": "stdout",
     "output_type": "stream",
     "text": [
      "0.0\n"
     ]
    }
   ],
   "source": [
    "import scipy.stats\n",
    "\n",
    "pvalue = 100 - scipy.stats.percentileofscore(flip_results_df, 70) \n",
    "print(pvalue)"
   ]
  },
  {
   "cell_type": "markdown",
   "metadata": {
    "id": "ubmx5T2BFVpd"
   },
   "source": [
    "For comparison, we can also compute the p-value for 70 or more heads based on a null hypothesis of Pheads=0.5, using the binomial distribution.\n",
    "\n",
    "compute the probability of 69 or fewer heads, when P(heads)=0.5"
   ]
  },
  {
   "cell_type": "code",
   "execution_count": 3,
   "metadata": {
    "colab": {
     "base_uri": "https://localhost:8080/"
    },
    "id": "-1neRVwpFEz7",
    "outputId": "a2151da9-1d43-4d84-98fd-5e5f9c0ad062"
   },
   "outputs": [
    {
     "data": {
      "text/plain": [
       "0.999960749301772"
      ]
     },
     "execution_count": 3,
     "metadata": {},
     "output_type": "execute_result"
    }
   ],
   "source": [
    "p_lt_70 = scipy.stats.binom.cdf(k=69, n=100, p=0.5)\n",
    "p_lt_70"
   ]
  },
  {
   "cell_type": "markdown",
   "metadata": {
    "id": "0BBvaZcnFYyX"
   },
   "source": [
    "The probability of 70 or more heads is simply the complement of p_lt_70"
   ]
  },
  {
   "cell_type": "code",
   "execution_count": 4,
   "metadata": {
    "colab": {
     "base_uri": "https://localhost:8080/"
    },
    "id": "ITyNRDkcFGFl",
    "outputId": "3d807baa-03a3-4b6c-ebe4-e850a6b1e215"
   },
   "outputs": [
    {
     "data": {
      "text/plain": [
       "3.925069822796612e-05"
      ]
     },
     "execution_count": 4,
     "metadata": {},
     "output_type": "execute_result"
    }
   ],
   "source": [
    "p_ge_70 = 1 - p_lt_70\n",
    "p_ge_70"
   ]
  },
  {
   "cell_type": "markdown",
   "metadata": {
    "id": "eOUcomvbFc6j"
   },
   "source": [
    "### **Simulating p-values**\n",
    "\n",
    "In this exercise we will perform hypothesis testing many times in order to test whether the p-values provided by our statistical test are valid. We will sample data from a normal distribution with a mean of zero, and for each sample perform a t-test to determine whether the mean is different from zero. We will then count how often we reject the null hypothesis; since we know that the true mean is zero, these are by definition Type I errors."
   ]
  },
  {
   "cell_type": "code",
   "execution_count": 5,
   "metadata": {
    "colab": {
     "base_uri": "https://localhost:8080/"
    },
    "id": "xvyIGoDxFHSq",
    "outputId": "5f9de35a-5ad1-48d9-ba20-c97901e4a483"
   },
   "outputs": [
    {
     "data": {
      "text/plain": [
       "0.049"
      ]
     },
     "execution_count": 5,
     "metadata": {},
     "output_type": "execute_result"
    }
   ],
   "source": [
    "\n",
    "num_runs = 5000\n",
    "\n",
    "\n",
    "# create a function that will take a sample\n",
    "# and perform a one-sample t-test\n",
    "def sample_ttest(sampSize=32):\n",
    "    \"\"\"\n",
    "    perform a ttest on random data of n=sampSize\n",
    "    \"\"\"\n",
    "\n",
    "    ttresult = scipy.stats.ttest_1samp(np.random.normal(loc=0.0, scale=1.0, size=sampSize), 0)\n",
    "    return(ttresult.pvalue)\n",
    "\n",
    "\n",
    "# create input data frame for the function\n",
    "sim_results_df = pd.DataFrame({'p_value': np.zeros(num_runs)})\n",
    "\n",
    "# perform simulations\n",
    "for run in range(num_runs):\n",
    "    sim_results_df.loc[run, 'p_value'] = sample_ttest()\n",
    "\n",
    "p_error = sim_results_df['p_value'] < 0.05\n",
    "p_error = p_error.mean(axis=0)\n",
    "p_error"
   ]
  },
  {
   "cell_type": "markdown",
   "metadata": {
    "id": "vkWJyW8eFkgK"
   },
   "source": [
    "We should see that the proportion of samples with p < .05 is about 5%."
   ]
  }
 ],
 "metadata": {
  "colab": {
   "name": "Exercise : Hypothesis testing in Python.ipynb",
   "provenance": []
  },
  "kernelspec": {
   "display_name": "Python 3 (ipykernel)",
   "language": "python",
   "name": "python3"
  },
  "language_info": {
   "codemirror_mode": {
    "name": "ipython",
    "version": 3
   },
   "file_extension": ".py",
   "mimetype": "text/x-python",
   "name": "python",
   "nbconvert_exporter": "python",
   "pygments_lexer": "ipython3",
   "version": "3.11.4"
  }
 },
 "nbformat": 4,
 "nbformat_minor": 1
}
