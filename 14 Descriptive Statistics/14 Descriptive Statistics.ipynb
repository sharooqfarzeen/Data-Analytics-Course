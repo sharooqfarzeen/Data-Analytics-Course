{
 "cells": [
  {
   "cell_type": "code",
   "execution_count": 1,
   "id": "e9225bdb",
   "metadata": {},
   "outputs": [],
   "source": [
    "import pandas as pd\n",
    "import numpy as np\n",
    "import statistics as st"
   ]
  },
  {
   "cell_type": "code",
   "execution_count": 3,
   "id": "9bac4f7d",
   "metadata": {},
   "outputs": [],
   "source": [
    "age = [24,43,41,33,25,19,17,9,50,34,55,2,25,21]\n",
    "age.sort()"
   ]
  },
  {
   "cell_type": "markdown",
   "id": "d963c10a",
   "metadata": {},
   "source": [
    "## Calculate Mean Median Mode"
   ]
  },
  {
   "cell_type": "code",
   "execution_count": 5,
   "id": "50145615",
   "metadata": {},
   "outputs": [
    {
     "name": "stdout",
     "output_type": "stream",
     "text": [
      "28\n",
      "25\n",
      "25\n"
     ]
    }
   ],
   "source": [
    "import statistics as st\n",
    "\n",
    "age = [24,43,41,33,25,19,17,9,50,34,55,2,25,21]\n",
    "\n",
    "print(int(st.mean(age)), int(st.median(age)), int(st.mode(age)), sep = '\\n')"
   ]
  },
  {
   "cell_type": "markdown",
   "id": "70bf42a0",
   "metadata": {},
   "source": [
    "## Calculate Quantile Statistics"
   ]
  },
  {
   "cell_type": "code",
   "execution_count": 21,
   "id": "e9c9282e",
   "metadata": {},
   "outputs": [
    {
     "name": "stdout",
     "output_type": "stream",
     "text": [
      "2\n",
      "19\n",
      "25\n",
      "39\n",
      "55\n"
     ]
    }
   ],
   "source": [
    "import numpy as np\n",
    "\n",
    "age = [24,43,41,33,25,19,17,9,50,34,55,2,25,21]\n",
    "\n",
    "quantiles = np.quantile(age, [0, .25, .50, .75, 1])\n",
    "\n",
    "print(*(int(i) for i in quantiles), sep = '\\n')"
   ]
  },
  {
   "cell_type": "code",
   "execution_count": 23,
   "id": "8ad07231",
   "metadata": {},
   "outputs": [
    {
     "name": "stdout",
     "output_type": "stream",
     "text": [
      "2\n",
      "19\n",
      "25\n",
      "39\n",
      "55\n"
     ]
    }
   ],
   "source": [
    "import numpy as np\n",
    "\n",
    "age = [24,43,41,33,25,19,17,9,50,34,55,2,25,21]\n",
    "\n",
    "_0th = int(np.percentile(age, 0))\n",
    "_25th = int(np.percentile(age, 25))\n",
    "_50th = int(np.percentile(age, 50))\n",
    "_75th = int(np.percentile(age, 75))\n",
    "_100th = int(np.percentile(age, 100))\n",
    "\n",
    "print(_0th,_25th,_50th,_75th,_100th, sep = '\\n')"
   ]
  },
  {
   "cell_type": "markdown",
   "id": "ed1a6f24",
   "metadata": {},
   "source": [
    "## Calculate IQR Statistics"
   ]
  },
  {
   "cell_type": "code",
   "execution_count": 33,
   "id": "bf51d2af",
   "metadata": {},
   "outputs": [
    {
     "name": "stdout",
     "output_type": "stream",
     "text": [
      "19\n"
     ]
    }
   ],
   "source": [
    "import numpy as np\n",
    "\n",
    "age = [24,43,41,33,25,19,17,9,50,34,55,2,25,21]\n",
    "\n",
    "Q1Q3 = np.quantile(age, [.25, .75])\n",
    "\n",
    "print(int(Q1Q3[1]-Q1Q3[0]))"
   ]
  },
  {
   "cell_type": "markdown",
   "id": "60b5fe23",
   "metadata": {},
   "source": [
    "## Calculate Variance and Standard Deviation"
   ]
  },
  {
   "cell_type": "code",
   "execution_count": 34,
   "id": "e6897623",
   "metadata": {},
   "outputs": [
    {
     "name": "stdout",
     "output_type": "stream",
     "text": [
      "229\n",
      "15\n"
     ]
    }
   ],
   "source": [
    "import statistics as st\n",
    "\n",
    "age = [24,43,41,33,25,19,17,9,50,34,55,2,25,21]\n",
    "\n",
    "variance = st.variance(age)\n",
    "std = st.stdev(age)\n",
    "\n",
    "print(int(variance), int(std), sep = '\\n')"
   ]
  }
 ],
 "metadata": {
  "kernelspec": {
   "display_name": "Python 3 (ipykernel)",
   "language": "python",
   "name": "python3"
  },
  "language_info": {
   "codemirror_mode": {
    "name": "ipython",
    "version": 3
   },
   "file_extension": ".py",
   "mimetype": "text/x-python",
   "name": "python",
   "nbconvert_exporter": "python",
   "pygments_lexer": "ipython3",
   "version": "3.11.4"
  }
 },
 "nbformat": 4,
 "nbformat_minor": 5
}
