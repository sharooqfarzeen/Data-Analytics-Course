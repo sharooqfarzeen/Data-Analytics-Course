{
 "cells": [
  {
   "cell_type": "code",
   "execution_count": 8,
   "id": "167d4c5e",
   "metadata": {},
   "outputs": [],
   "source": [
    "import statistics"
   ]
  },
  {
   "cell_type": "code",
   "execution_count": 1,
   "id": "aeae199a",
   "metadata": {},
   "outputs": [
    {
     "data": {
      "text/plain": [
       "[1, 1, 1, 2, 2, 3, 3, 4, 4, 4, 4, 4, 6, 6, 6, 6, 10, 10, 41]"
      ]
     },
     "execution_count": 1,
     "metadata": {},
     "output_type": "execute_result"
    }
   ],
   "source": [
    "a = [1,2,10,6,4,4,6,3,1,41,2,10,6,4,4,6,3,1,4]\n",
    "a.sort()\n",
    "a"
   ]
  },
  {
   "cell_type": "code",
   "execution_count": 11,
   "id": "c05dea05",
   "metadata": {},
   "outputs": [
    {
     "data": {
      "text/plain": [
       "7"
      ]
     },
     "execution_count": 11,
     "metadata": {},
     "output_type": "execute_result"
    }
   ],
   "source": [
    "b = [4,9,8,2,16,4,4,8,9,6]\n",
    "statistics.mean(b)"
   ]
  },
  {
   "cell_type": "code",
   "execution_count": 12,
   "id": "5469be95",
   "metadata": {},
   "outputs": [
    {
     "data": {
      "text/plain": [
       "4"
      ]
     },
     "execution_count": 12,
     "metadata": {},
     "output_type": "execute_result"
    }
   ],
   "source": [
    "statistics.mode(b)"
   ]
  },
  {
   "cell_type": "code",
   "execution_count": 15,
   "id": "148a4521",
   "metadata": {},
   "outputs": [
    {
     "data": {
      "text/plain": [
       "104"
      ]
     },
     "execution_count": 15,
     "metadata": {},
     "output_type": "execute_result"
    }
   ],
   "source": [
    "c = [96,100,106,114]\n",
    "statistics.mean(c)"
   ]
  },
  {
   "cell_type": "code",
   "execution_count": 16,
   "id": "1930a4d3",
   "metadata": {},
   "outputs": [
    {
     "data": {
      "text/plain": [
       "103.0"
      ]
     },
     "execution_count": 16,
     "metadata": {},
     "output_type": "execute_result"
    }
   ],
   "source": [
    "statistics.median(c)"
   ]
  },
  {
   "cell_type": "code",
   "execution_count": 24,
   "id": "9318e077",
   "metadata": {},
   "outputs": [],
   "source": [
    "d = [\"male\", \"male\", \"female\", \"male\", \"female\", \"female\"]"
   ]
  },
  {
   "cell_type": "code",
   "execution_count": 25,
   "id": "4d268a9b",
   "metadata": {},
   "outputs": [
    {
     "data": {
      "text/plain": [
       "Counter({'male': 3, 'female': 3})"
      ]
     },
     "execution_count": 25,
     "metadata": {},
     "output_type": "execute_result"
    }
   ],
   "source": [
    "from collections import Counter\n",
    "c = Counter(d)\n",
    "c"
   ]
  },
  {
   "cell_type": "code",
   "execution_count": 26,
   "id": "8ccd29c1",
   "metadata": {},
   "outputs": [
    {
     "data": {
      "text/plain": [
       "dict_items([('male', 3), ('female', 3)])"
      ]
     },
     "execution_count": 26,
     "metadata": {},
     "output_type": "execute_result"
    }
   ],
   "source": [
    "c.items()"
   ]
  },
  {
   "cell_type": "code",
   "execution_count": 29,
   "id": "22e7ba38",
   "metadata": {},
   "outputs": [
    {
     "data": {
      "text/plain": [
       "[('male', 3), ('female', 3)]"
      ]
     },
     "execution_count": 29,
     "metadata": {},
     "output_type": "execute_result"
    }
   ],
   "source": [
    "c.most_common()"
   ]
  },
  {
   "cell_type": "code",
   "execution_count": 30,
   "id": "1c08c69b",
   "metadata": {},
   "outputs": [
    {
     "data": {
      "text/plain": [
       "3"
      ]
     },
     "execution_count": 30,
     "metadata": {},
     "output_type": "execute_result"
    }
   ],
   "source": [
    "c.most_common(1)[0][1]"
   ]
  },
  {
   "cell_type": "code",
   "execution_count": 34,
   "id": "120c0bab",
   "metadata": {},
   "outputs": [
    {
     "data": {
      "text/plain": [
       "[('male', 3), ('female', 3)]"
      ]
     },
     "execution_count": 34,
     "metadata": {},
     "output_type": "execute_result"
    }
   ],
   "source": [
    "c.most_common(2)"
   ]
  },
  {
   "cell_type": "code",
   "execution_count": null,
   "id": "0a91c7be",
   "metadata": {},
   "outputs": [],
   "source": [
    "c.most_common()"
   ]
  },
  {
   "cell_type": "markdown",
   "id": "d4e1372a",
   "metadata": {},
   "source": [
    "## IQR"
   ]
  },
  {
   "cell_type": "code",
   "execution_count": 16,
   "id": "9d37ac3c",
   "metadata": {},
   "outputs": [
    {
     "data": {
      "text/plain": [
       "88.5"
      ]
     },
     "execution_count": 16,
     "metadata": {},
     "output_type": "execute_result"
    }
   ],
   "source": [
    "import numpy as np\n",
    "\n",
    "data = [32, 36, 46, 47, 56, 69, 75, 79, 79, 88, 89, 91, 92, 93, 96,\n",
    "97, 101, 105, 112, 116]\n",
    "\n",
    "Q3 = np.percentile(data, 75, method = 'midpoint')\n",
    "Q1 = np.percentile(data, 25, method = 'midpoint')\n",
    "\n",
    "IQR = Q3 - Q1\n",
    "IQR\n",
    "np.median(data)"
   ]
  },
  {
   "cell_type": "markdown",
   "id": "8e282d28",
   "metadata": {},
   "source": [
    "### Wrong"
   ]
  },
  {
   "cell_type": "code",
   "execution_count": 2,
   "id": "4dbfe489",
   "metadata": {},
   "outputs": [
    {
     "data": {
      "text/plain": [
       "30.5"
      ]
     },
     "execution_count": 2,
     "metadata": {},
     "output_type": "execute_result"
    }
   ],
   "source": [
    "import numpy as np\n",
    "\n",
    "data = [32, 36, 46, 47, 56, 69, 75, 79, 79, 88, 89, 91, 92, 93, 96,\n",
    "97, 101, 105, 112, 116]\n",
    "\n",
    "Q3 = np.quantile(data, .75)\n",
    "Q1 = np.quantile(data, .25)\n",
    "\n",
    "IQR = Q3 - Q1\n",
    "IQR"
   ]
  },
  {
   "cell_type": "code",
   "execution_count": 4,
   "id": "fec1d2fe",
   "metadata": {},
   "outputs": [
    {
     "data": {
      "text/plain": [
       "34.0"
      ]
     },
     "execution_count": 4,
     "metadata": {},
     "output_type": "execute_result"
    }
   ],
   "source": [
    "import numpy as np\n",
    "\n",
    "data = [32, 36, 46, 47, 56, 69, 75, 79, 79, 88, 89, 91, 92, 93, 96,\n",
    "97, 101, 105, 112, 116]\n",
    "\n",
    "Q1 = np.median(data[:10])\n",
    "Q3 = np.median(data[10:])\n",
    "\n",
    "IQR = Q3 - Q1\n",
    "IQR"
   ]
  },
  {
   "cell_type": "code",
   "execution_count": 11,
   "id": "d0a47086",
   "metadata": {},
   "outputs": [
    {
     "name": "stdout",
     "output_type": "stream",
     "text": [
      "2.0 4.0 2.0\n"
     ]
    }
   ],
   "source": [
    "import numpy as np\n",
    "\n",
    "data = [1,2,3,4,5]\n",
    "\n",
    "Q3 = np.percentile(data, 75, method = 'midpoint')\n",
    "Q1 = np.percentile(data, 25, method = 'midpoint')\n",
    "\n",
    "IQR = Q3 - Q1\n",
    "print(Q1, Q3, IQR)"
   ]
  },
  {
   "cell_type": "code",
   "execution_count": 14,
   "id": "be99d096",
   "metadata": {},
   "outputs": [
    {
     "name": "stdout",
     "output_type": "stream",
     "text": [
      "Q1 1.75\n",
      "Q2 2.5\n",
      "Q3 3.25\n",
      "Median 2.5\n"
     ]
    }
   ],
   "source": [
    "import numpy as np\n",
    "\n",
    "data = [1,2,3,4]\n",
    "\n",
    "Q3 = np.percentile(data, 75)\n",
    "Q1 = np.percentile(data, 25)\n",
    "Q2 = np.percentile(data, 50)\n",
    "median = np.median(data)\n",
    "\n",
    "IQR = Q3 - Q1\n",
    "print(\"Q1\",Q1)\n",
    "print(\"Q2\",Q2)\n",
    "print(\"Q3\",Q3)\n",
    "print(\"Median\",median)"
   ]
  },
  {
   "cell_type": "code",
   "execution_count": 15,
   "id": "42d083a0",
   "metadata": {},
   "outputs": [
    {
     "name": "stdout",
     "output_type": "stream",
     "text": [
      "Q1 1.5\n",
      "Q2 2.5\n",
      "Q3 3.5\n",
      "Median 2.5\n"
     ]
    }
   ],
   "source": [
    "import numpy as np\n",
    "\n",
    "data = [1,2,3,4]\n",
    "\n",
    "Q3 = np.percentile(data, 75, method = 'midpoint')\n",
    "Q1 = np.percentile(data, 25, method = 'midpoint')\n",
    "Q2 = np.percentile(data, 50, method = 'midpoint')\n",
    "median = np.median(data)\n",
    "\n",
    "IQR = Q3 - Q1\n",
    "print(\"Q1\",Q1)\n",
    "print(\"Q2\",Q2)\n",
    "print(\"Q3\",Q3)\n",
    "print(\"Median\",median)"
   ]
  },
  {
   "cell_type": "markdown",
   "id": "d868859e",
   "metadata": {},
   "source": [
    "## Variance"
   ]
  },
  {
   "cell_type": "code",
   "execution_count": 17,
   "id": "3c084c2d",
   "metadata": {},
   "outputs": [
    {
     "data": {
      "text/plain": [
       "24.472222222222225"
      ]
     },
     "execution_count": 17,
     "metadata": {},
     "output_type": "execute_result"
    }
   ],
   "source": [
    "import numpy as np\n",
    "\n",
    "data = [14,23,9,12,21,18]\n",
    "data.sort()\n",
    "mean = np.mean(data)\n",
    "\n",
    "sum = 0\n",
    "for i in data:\n",
    "    sum = sum + (i-mean)**2\n",
    "variance = sum/len(data)\n",
    "variance   "
   ]
  },
  {
   "cell_type": "code",
   "execution_count": 18,
   "id": "4805a245",
   "metadata": {},
   "outputs": [
    {
     "data": {
      "text/plain": [
       "4.94694069321861"
      ]
     },
     "execution_count": 18,
     "metadata": {},
     "output_type": "execute_result"
    }
   ],
   "source": [
    "std = (variance)**(1/2)\n",
    "std"
   ]
  },
  {
   "cell_type": "code",
   "execution_count": null,
   "id": "81eb7713",
   "metadata": {},
   "outputs": [],
   "source": [
    "import numpy as np\n",
    "\n",
    "data = [14,23,9,12,21,18]\n",
    "data.sort()\n",
    "mean = np.mean(data)\n",
    "\n",
    "sum = 0\n",
    "for i in data:\n",
    "    sum = sum + (i-mean)**2\n",
    "variance = sum/len(data)\n",
    "variance "
   ]
  }
 ],
 "metadata": {
  "kernelspec": {
   "display_name": "Python 3 (ipykernel)",
   "language": "python",
   "name": "python3"
  },
  "language_info": {
   "codemirror_mode": {
    "name": "ipython",
    "version": 3
   },
   "file_extension": ".py",
   "mimetype": "text/x-python",
   "name": "python",
   "nbconvert_exporter": "python",
   "pygments_lexer": "ipython3",
   "version": "3.11.4"
  }
 },
 "nbformat": 4,
 "nbformat_minor": 5
}
