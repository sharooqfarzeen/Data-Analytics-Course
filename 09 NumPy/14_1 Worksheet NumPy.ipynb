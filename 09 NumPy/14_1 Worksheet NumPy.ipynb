{
 "cells": [
  {
   "cell_type": "markdown",
   "id": "cc33946c",
   "metadata": {},
   "source": [
    "What is Numpy: a\n",
    "NumPy Basics: b\n",
    "Creating Different NumPy Arrays: a\n",
    "What will be the output: d\n",
    "What will be the output: c"
   ]
  },
  {
   "cell_type": "code",
   "execution_count": 2,
   "id": "7d3365c9",
   "metadata": {},
   "outputs": [
    {
     "name": "stdout",
     "output_type": "stream",
     "text": [
      "[         1 1065353216]\n"
     ]
    }
   ],
   "source": [
    "import numpy as np\n",
    "\n",
    "b = np.empty(2, dtype = int)\n",
    "b[0] = 1\n",
    "print(b)"
   ]
  },
  {
   "cell_type": "code",
   "execution_count": null,
   "id": "cd2c3167",
   "metadata": {},
   "outputs": [],
   "source": [
    "import numpy as np\n",
    "b = [1, 2, 3]\n",
    "a = np.array(b)\n",
    "print(a*3, end = \"\")\n",
    "a = np.array(b*3)\n",
    "print(a)"
   ]
  },
  {
   "cell_type": "code",
   "execution_count": null,
   "id": "a57ce4ae",
   "metadata": {},
   "outputs": [],
   "source": [
    "a = np.empty(4, dtype = int)\n",
    "print(a)"
   ]
  },
  {
   "cell_type": "code",
   "execution_count": 19,
   "id": "06160914",
   "metadata": {},
   "outputs": [
    {
     "name": "stdout",
     "output_type": "stream",
     "text": [
      "44\n",
      "44\n",
      "47\n"
     ]
    }
   ],
   "source": [
    "import numpy as np\n",
    "\n",
    "np.random.seed(0)\n",
    "random = np.random.randint(100)\n",
    "np.random.seed(0)\n",
    "random2 = np.random.randint(100)\n",
    "random3 = np.random.randint(100)\n",
    "\n",
    "print(random)\n",
    "print(random2)\n",
    "print(random3)"
   ]
  },
  {
   "cell_type": "code",
   "execution_count": 2,
   "id": "8ee8c012",
   "metadata": {},
   "outputs": [
    {
     "name": "stdout",
     "output_type": "stream",
     "text": [
      "244\n",
      "244\n",
      "607\n"
     ]
    }
   ],
   "source": [
    "# importing random module\n",
    "import random\n",
    "\n",
    "random.seed(3)\n",
    "\n",
    "# print a random number between 1 and 1000.\n",
    "print(random.randint(1, 1000))\n",
    "\n",
    "# if you want to get the same random number again then,\n",
    "random.seed(3)\n",
    "print(random.randint(1, 1000))\n",
    "\n",
    "# If seed function is not used\n",
    "\n",
    "# Gives totally unpredictable responses.\n",
    "print(random.randint(1, 1000))\n"
   ]
  },
  {
   "cell_type": "code",
   "execution_count": 29,
   "id": "f766b67a",
   "metadata": {},
   "outputs": [
    {
     "name": "stdout",
     "output_type": "stream",
     "text": [
      "[[5 5 5]\n",
      " [5 5 5]\n",
      " [5 5 5]]\n"
     ]
    }
   ],
   "source": [
    "import numpy as np\n",
    "import random\n",
    "\n",
    "array = np.full((3,3), np.random.randint(9))\n",
    "print(array)"
   ]
  },
  {
   "cell_type": "code",
   "execution_count": 7,
   "id": "9285ad65",
   "metadata": {},
   "outputs": [
    {
     "data": {
      "text/plain": [
       "array([[5, 2, 9, 1],\n",
       "       [6, 0, 0, 0],\n",
       "       [4, 4, 6, 2],\n",
       "       [1, 9, 2, 0]])"
      ]
     },
     "execution_count": 7,
     "metadata": {},
     "output_type": "execute_result"
    }
   ],
   "source": [
    "np.random.randint(10, size = (4,4))"
   ]
  },
  {
   "cell_type": "code",
   "execution_count": 5,
   "id": "b5341549",
   "metadata": {},
   "outputs": [
    {
     "name": "stdout",
     "output_type": "stream",
     "text": [
      "[0 1 2 3 4 5 6 7 8 9]\n",
      "slice(2, 7, 2)\n",
      "[2 4 6]\n"
     ]
    }
   ],
   "source": [
    "import numpy as np \n",
    "a = np.arange(10) \n",
    "print(a)\n",
    "s = slice(2,7,2) \n",
    "print(s)\n",
    "print(a[s])"
   ]
  },
  {
   "cell_type": "code",
   "execution_count": 6,
   "id": "87454a4d",
   "metadata": {},
   "outputs": [
    {
     "data": {
      "text/plain": [
       "(4,)"
      ]
     },
     "execution_count": 6,
     "metadata": {},
     "output_type": "execute_result"
    }
   ],
   "source": [
    "a = np.array([0, 1, 2, 3])\n",
    "a.shape"
   ]
  },
  {
   "cell_type": "code",
   "execution_count": 10,
   "id": "4a649178",
   "metadata": {},
   "outputs": [
    {
     "name": "stdout",
     "output_type": "stream",
     "text": [
      "[20 30 15]\n"
     ]
    }
   ],
   "source": [
    "import numpy as np\n",
    "arr = np.array([10, 20, 30, 15, 18, 36])\n",
    "new_arr = arr[(arr%5 == 0) & (arr>10)]\n",
    "print(new_arr)"
   ]
  },
  {
   "cell_type": "code",
   "execution_count": 11,
   "id": "8f1df944",
   "metadata": {},
   "outputs": [
    {
     "name": "stdout",
     "output_type": "stream",
     "text": [
      "[1.+0.j 2.+0.j 3.+0.j]\n"
     ]
    }
   ],
   "source": [
    "import numpy as np \n",
    "a = np.array([1, 2, 3], dtype = complex) \n",
    "print(a)"
   ]
  },
  {
   "cell_type": "code",
   "execution_count": 12,
   "id": "5e774aa3",
   "metadata": {},
   "outputs": [
    {
     "name": "stdout",
     "output_type": "stream",
     "text": [
      "int32\n"
     ]
    }
   ],
   "source": [
    "import numpy as np \n",
    "dt = np.dtype('>i4') \n",
    "print(dt.name)"
   ]
  },
  {
   "cell_type": "markdown",
   "id": "76e89cf6",
   "metadata": {},
   "source": [
    "### Broadcasting"
   ]
  },
  {
   "cell_type": "code",
   "execution_count": 7,
   "id": "a1b51614",
   "metadata": {},
   "outputs": [],
   "source": [
    "import numpy as np\n",
    "import csv\n",
    "\n",
    "with open(\"year2017.csv\") as file_obj:\n",
    "    \n",
    "    file_data = csv.DictReader(file_obj, skipinitialspace = True)\n",
    "    file_list = list(file_data)\n",
    "    \n",
    "    a = np.array(file_list)"
   ]
  },
  {
   "cell_type": "markdown",
   "id": "1a21718b",
   "metadata": {},
   "source": [
    "{'Year': '2017', 'Month': '1', 'Day': '2', 'Country': 'Afghanistan', 'Region': 'South Asia', 'city': 'Takhta Pul', 'latitude': '31.320556', 'longitude': '65.961111', 'AttackType': 'Hostage Taking (Kidnapping)', 'Killed': '0.0', 'Wounded': '0.0', 'Target': 'Construction Workers', 'Group': 'Taliban', 'Target_type': 'Business', 'Weapon_type': 'Firearms', 'casualities': '0.0'}"
   ]
  },
  {
   "cell_type": "markdown",
   "id": "12b8bf92",
   "metadata": {},
   "source": [
    "### Activity"
   ]
  },
  {
   "cell_type": "code",
   "execution_count": 48,
   "id": "1bd54494",
   "metadata": {},
   "outputs": [
    {
     "name": "stdout",
     "output_type": "stream",
     "text": [
      "Mean Speed:  32.24258580925573\n",
      "May Rides:  16650\n",
      "Tip > 50:  16\n",
      "JFK drop:  11832\n"
     ]
    }
   ],
   "source": [
    "import numpy as np\n",
    "import csv\n",
    "\n",
    "with open(\"nyc_taxis.csv\") as file_obj:\n",
    "    \n",
    "    file_data = csv.reader(file_obj, skipinitialspace = True)\n",
    "    file_list = list(file_data)\n",
    "    a = np.array(file_list[1:])\n",
    "    \n",
    "    distances = np.array(a[:,7], dtype = float)\n",
    "    times = np.array(a[:,8], dtype = float)\n",
    "    times /= 3600\n",
    "    \n",
    "    speeds = distances/times\n",
    "    \n",
    "    print(\"Mean Speed: \", np.mean(speeds))\n",
    "    print(\"May Rides: \", len(a[a[:,1] == '5']))\n",
    "    tip_50 = np.array(a[:,12], dtype = float)\n",
    "    tip_50 = tip_50[tip_50>50.0]\n",
    "    print(\"Tip > 50: \", len(tip_50))\n",
    "    print(\"JFK drop: \", len(a[a[:,6] == '2']))\n",
    "    \n",
    "    \n",
    "    \n",
    "    "
   ]
  },
  {
   "cell_type": "markdown",
   "id": "20db13f9",
   "metadata": {},
   "source": [
    "0 pickup_year\n",
    "1 pickup_month\n",
    "2 pickup_day\n",
    "3 pickup_dayofweek\n",
    "4 pickup_time\n",
    "5 pickup_location_code\n",
    "6 dropoff_location_code\n",
    "7 trip_distance\n",
    "8 trip_length\n",
    "9 fare_amount\n",
    "10 fees_amount\n",
    "11 tolls_amount\n",
    "12 tip_amount\n",
    "13 total_amount\n",
    "14 payment_type\n"
   ]
  }
 ],
 "metadata": {
  "kernelspec": {
   "display_name": "Python 3 (ipykernel)",
   "language": "python",
   "name": "python3"
  },
  "language_info": {
   "codemirror_mode": {
    "name": "ipython",
    "version": 3
   },
   "file_extension": ".py",
   "mimetype": "text/x-python",
   "name": "python",
   "nbconvert_exporter": "python",
   "pygments_lexer": "ipython3",
   "version": "3.11.4"
  }
 },
 "nbformat": 4,
 "nbformat_minor": 5
}
