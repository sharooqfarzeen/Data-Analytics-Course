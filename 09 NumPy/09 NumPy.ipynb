{
 "cells": [
  {
   "cell_type": "markdown",
   "id": "0dbef19c",
   "metadata": {},
   "source": [
    "### Calculate Memory Difference"
   ]
  },
  {
   "cell_type": "code",
   "execution_count": null,
   "id": "ee7ec6eb",
   "metadata": {},
   "outputs": [],
   "source": [
    "import numpy as np\n",
    "import sys\n",
    "\n",
    "np_arr = np.array([1, 2, 3])\n",
    "list_arr = [1, 2, 3]\n",
    "\n",
    "list_size = sys.getsizeof(list_arr[0]) * 3\n",
    "array_size = np_arr.itemsize * 3\n",
    "\n",
    "print(array_size - list_size)"
   ]
  },
  {
   "cell_type": "markdown",
   "id": "22fc17cc",
   "metadata": {},
   "source": [
    "### List to NumPy Array"
   ]
  },
  {
   "cell_type": "code",
   "execution_count": null,
   "id": "e384d4d7",
   "metadata": {},
   "outputs": [],
   "source": [
    "import numpy as np\n",
    "lis=[1.2, 2.3, 3.4]\n",
    "\n",
    "array = np.array(lis, dtype = int)\n",
    "print(array)"
   ]
  },
  {
   "cell_type": "markdown",
   "id": "385127ad",
   "metadata": {},
   "source": [
    "### NumPy 2D array"
   ]
  },
  {
   "cell_type": "code",
   "execution_count": null,
   "id": "2c7a02e2",
   "metadata": {},
   "outputs": [],
   "source": [
    "import numpy as np\n",
    "\n",
    "lis = [[1, 2, 3], [4, 5, 6], [7, 8, 9]]\n",
    "array = np.array(lis)\n",
    "print(array)"
   ]
  },
  {
   "cell_type": "markdown",
   "id": "c170c084",
   "metadata": {},
   "source": [
    "### NumPy 0s and 1s"
   ]
  },
  {
   "cell_type": "code",
   "execution_count": null,
   "id": "55e22df7",
   "metadata": {},
   "outputs": [],
   "source": [
    "import numpy as np\n",
    "\n",
    "array = np.zeros(10, dtype = int)\n",
    "array[4] = 1\n",
    "\n",
    "for n in array:\n",
    "    print(n, end = ' ')"
   ]
  },
  {
   "cell_type": "markdown",
   "id": "7693be67",
   "metadata": {},
   "source": [
    "### NumPy Inclusive"
   ]
  },
  {
   "cell_type": "code",
   "execution_count": null,
   "id": "0acd4ee3",
   "metadata": {},
   "outputs": [],
   "source": [
    "import numpy as np\n",
    "\n",
    "a = np.arange(9, 50)\n",
    "for i in a:\n",
    "    print(i, end =' ')"
   ]
  },
  {
   "cell_type": "markdown",
   "id": "7f89d918",
   "metadata": {},
   "source": [
    "### Identity Matrix"
   ]
  },
  {
   "cell_type": "code",
   "execution_count": null,
   "id": "7f367a7e",
   "metadata": {},
   "outputs": [],
   "source": [
    "import numpy as np\n",
    "\n",
    "a = np.eye(5, 6, dtype = int)\n",
    "print(a)"
   ]
  },
  {
   "cell_type": "markdown",
   "id": "94fba303",
   "metadata": {},
   "source": [
    "### Cut the Rope"
   ]
  },
  {
   "cell_type": "code",
   "execution_count": null,
   "id": "42417da9",
   "metadata": {
    "scrolled": true
   },
   "outputs": [],
   "source": [
    "import numpy as np\n",
    "\n",
    "a = np.linspace(0, 5, num=10, dtype=float)\n",
    "\n",
    "for i in a[1:9]:\n",
    "     print(\"{:.2f}\".format(i))"
   ]
  },
  {
   "cell_type": "markdown",
   "id": "e9a67892",
   "metadata": {},
   "source": [
    "### Create NumPy Array"
   ]
  },
  {
   "cell_type": "code",
   "execution_count": null,
   "id": "cc0b2918",
   "metadata": {},
   "outputs": [],
   "source": [
    "import numpy as np \n",
    "n1=10\n",
    "n2=22\n",
    "\n",
    "a = np.arange(n1, n2+2, 2)\n",
    "print(a)"
   ]
  },
  {
   "cell_type": "markdown",
   "id": "2dd91f90",
   "metadata": {},
   "source": [
    "### Create NumPy Array-1"
   ]
  },
  {
   "cell_type": "code",
   "execution_count": null,
   "id": "8705c683",
   "metadata": {},
   "outputs": [],
   "source": [
    "import numpy as np\n",
    "\n",
    "a = np.full(30, 10)\n",
    "\n",
    "print(a)"
   ]
  },
  {
   "cell_type": "markdown",
   "id": "6cfaf823",
   "metadata": {},
   "source": [
    "### NumPy Diagonal"
   ]
  },
  {
   "cell_type": "code",
   "execution_count": null,
   "id": "7acf8f46",
   "metadata": {},
   "outputs": [],
   "source": [
    "import numpy as np\n",
    "m = 5\n",
    "\n",
    "a = np.identity(m) * 5\n",
    "print(a)"
   ]
  },
  {
   "cell_type": "markdown",
   "id": "091fc3ed",
   "metadata": {},
   "source": [
    "### Print Elements"
   ]
  },
  {
   "cell_type": "code",
   "execution_count": null,
   "id": "8138d2cf",
   "metadata": {},
   "outputs": [],
   "source": [
    "import numpy as np\n",
    "input_=np.arange(1,21,1)\n",
    "input_=input_.reshape(4,5)\n",
    "\n",
    "for i in input_[2, 0:3]:\n",
    "    print(i, end = ' ')\n",
    "\n",
    "print('\\n')\n",
    "    \n",
    "for i in input_[1:4, 3]:\n",
    "    print(i, end = ' ')\n",
    "    \n",
    "print('\\n')\n",
    "    \n",
    "for i in input_[2:4]:\n",
    "    for j in i:\n",
    "        print(j, end = ' ')\n",
    "\n",
    "print('\\n')\n",
    "\n",
    "for i in input_[1:3, 1:3]:\n",
    "    for j in i:\n",
    "        print(j, end = ' ')"
   ]
  },
  {
   "cell_type": "markdown",
   "id": "3e7341ef",
   "metadata": {},
   "source": [
    "### Non-Zero elements"
   ]
  },
  {
   "cell_type": "code",
   "execution_count": null,
   "id": "d62705a8",
   "metadata": {},
   "outputs": [],
   "source": [
    "import numpy as np\n",
    "\n",
    "a = np.array([1,2,0,0,4,0])\n",
    "indices = np.where(a != 0)\n",
    "\n",
    "for i in indices:\n",
    "    for j in i:\n",
    "        print(j, end = ' ')"
   ]
  },
  {
   "cell_type": "markdown",
   "id": "e8378413",
   "metadata": {},
   "source": [
    "### Multiples of 3"
   ]
  },
  {
   "cell_type": "code",
   "execution_count": null,
   "id": "91dc954e",
   "metadata": {},
   "outputs": [],
   "source": [
    "import numpy as np\n",
    "\n",
    "#generating array of odd natural numbers below 20\n",
    "a = np.arange(1, 20, 2)\n",
    "\n",
    "indices = np.where(a % 3 == 0)\n",
    "\n",
    "for i in indices:\n",
    "    for j in i:\n",
    "        print(j, end = ' ')\n"
   ]
  },
  {
   "cell_type": "markdown",
   "id": "bc777977",
   "metadata": {},
   "source": [
    "### Odd elements"
   ]
  },
  {
   "cell_type": "code",
   "execution_count": null,
   "id": "0bb40325",
   "metadata": {},
   "outputs": [],
   "source": [
    "import numpy as np\n",
    "\n",
    "a = np.arange(1, 11)\n",
    "\n",
    "a[a % 2 != 0] = -1\n",
    "\n",
    "for i in a:\n",
    "    print(i, end = ' ')"
   ]
  },
  {
   "cell_type": "markdown",
   "id": "a6816edf",
   "metadata": {},
   "source": [
    "### Replace Max"
   ]
  },
  {
   "cell_type": "code",
   "execution_count": null,
   "id": "64a1f1bb",
   "metadata": {},
   "outputs": [],
   "source": [
    "import numpy as np\n",
    "\n",
    "#generating arary of 9 integers\n",
    "a = np.arange(1, 10)\n",
    "\n",
    "#finding odd indices\n",
    "odd_id = np.where(a % 2 != 0)\n",
    "\n",
    "#adding 10 to odd indices to generate given sequence\n",
    "a[odd_id] = a[odd_id] + 10\n",
    "a[6] = 27\n",
    "\n",
    "a[a == max(a)] = 0\n",
    "\n",
    "for i in a:\n",
    "    print(i)"
   ]
  },
  {
   "cell_type": "markdown",
   "id": "7a47987c",
   "metadata": {},
   "source": [
    "### Negate Elements"
   ]
  },
  {
   "cell_type": "code",
   "execution_count": null,
   "id": "e7556dff",
   "metadata": {},
   "outputs": [],
   "source": [
    "import numpy as np\n",
    "\n",
    "a = np.arange(1, 11)\n",
    "\n",
    "a[(a>2) & (a<9)] = -1 * a[(a>2) & (a<9)]\n",
    "\n",
    "for i in a:\n",
    "    print(i)"
   ]
  },
  {
   "cell_type": "markdown",
   "id": "fd4b9017",
   "metadata": {},
   "source": [
    "### Height"
   ]
  },
  {
   "cell_type": "code",
   "execution_count": null,
   "id": "47b6399e",
   "metadata": {},
   "outputs": [],
   "source": [
    "import numpy as np\n",
    "\n",
    "age=np.array([15,17,19,20,14,21,16,19,13,20,22,23,21,16,18,19,20,15,17,18])\n",
    "height=np.array([156,144,180,162,152,157,154,155,151,150,158,179,126,182,183,154,159,160,172,149])\n",
    "\n",
    "indices = np.where(height>155)\n",
    "\n",
    "for i in indices:\n",
    "    for j in i:\n",
    "        print(age[j], height[j])"
   ]
  },
  {
   "cell_type": "markdown",
   "id": "d84bdffe",
   "metadata": {},
   "source": [
    "### Sort by column"
   ]
  },
  {
   "cell_type": "code",
   "execution_count": null,
   "id": "97c28631",
   "metadata": {},
   "outputs": [],
   "source": [
    "import numpy as np\n",
    "\n",
    "a = np.arange(21, 1, -1).reshape(4,5)\n",
    "\n",
    "print(a[::-1])"
   ]
  },
  {
   "cell_type": "markdown",
   "id": "9281ea38",
   "metadata": {},
   "source": [
    "### NumPy Index"
   ]
  },
  {
   "cell_type": "code",
   "execution_count": null,
   "id": "2490f222",
   "metadata": {},
   "outputs": [],
   "source": [
    "import numpy as np\n",
    "marks = np.array([98, 100, 87, 94, 56, 91])\n",
    "\n",
    "index = np.where(marks >= 90) \n",
    "print(index)"
   ]
  },
  {
   "cell_type": "markdown",
   "id": "304d50f3",
   "metadata": {},
   "source": [
    "### Boolean Indexing"
   ]
  },
  {
   "cell_type": "code",
   "execution_count": null,
   "id": "5a5a7d68",
   "metadata": {},
   "outputs": [],
   "source": [
    "import numpy as np\n",
    "np_arr=np.array([29, 89, 34, 57, 80, 6, 18])\n",
    "\n",
    "new = np_arr[(np_arr > 20) & (np_arr % 2 == 0)]\n",
    "print(new)"
   ]
  },
  {
   "cell_type": "markdown",
   "id": "86719764",
   "metadata": {},
   "source": [
    "### NumPy Operations"
   ]
  },
  {
   "cell_type": "code",
   "execution_count": null,
   "id": "eee2b2ea",
   "metadata": {},
   "outputs": [],
   "source": [
    "import numpy as np \n",
    "\n",
    "np_arr = np.array([10, 19, 10, 2, 3])\n",
    "\n",
    "#Your code goes here\n",
    "\n",
    "print(\"Mean of all elements of NumPy array is \")\n",
    "\n",
    "print(np_arr.mean())\n",
    "    \n",
    "print(\"Minimum value in NumPy array is\")\n",
    "    \n",
    "print(np_arr.min())\n",
    "    \n",
    "print(\"Index where maximum value is present is\")\n",
    "    \n",
    "print(np_arr.argmax())"
   ]
  },
  {
   "cell_type": "markdown",
   "id": "ae5e3424",
   "metadata": {},
   "source": [
    "### Operations on NumPy Arrays"
   ]
  },
  {
   "cell_type": "code",
   "execution_count": null,
   "id": "785d24aa",
   "metadata": {},
   "outputs": [],
   "source": [
    "import numpy as  np\n",
    "e = np.array([98, 78, 56])\n",
    "m = np.array([78, 90, 67])\n",
    "\n",
    "# Your code goes here \n",
    "\n",
    "total_marks = e + m\n",
    "\n",
    "avg_marks = (e + m)/2\n",
    "\n",
    "bool_arr = e < m\n",
    "\n",
    "print(total_marks,avg_marks,bool_arr)"
   ]
  },
  {
   "cell_type": "markdown",
   "id": "269c4303",
   "metadata": {},
   "source": [
    "### Killed in USA"
   ]
  },
  {
   "cell_type": "code",
   "execution_count": null,
   "id": "3c85c437",
   "metadata": {},
   "outputs": [],
   "source": [
    "import numpy as np\n",
    "import csv\n",
    "\n",
    "with open(\"terrorismData.csv\", 'r', encoding='utf-8') as file_obj:\n",
    "    \n",
    "    #reading data and converting to list\n",
    "    file_data = csv.DictReader(file_obj, skipinitialspace = True)\n",
    "    file_list = list(file_data)\n",
    "    a = np.array(file_list)\n",
    "    \n",
    "    #creating numpy array containing number of killed from all rows\n",
    "    killed = np.array([row['Killed'] for row in a])\n",
    "    #boolean containing rows where killed has null value\n",
    "    nulls = killed == ''\n",
    "    killed[nulls] = '0.0'\n",
    "    #converting values in killed to float and then to int\n",
    "    killed = np.array(killed, dtype = float)\n",
    "    killed = np.array(killed, dtype = int)\n",
    "    \n",
    "    #crating numpy array of countries\n",
    "    country = np.array([row['Country'] for row in a])\n",
    "    #boolean where country is United States\n",
    "    usa = country == 'United States'\n",
    "    \n",
    "    #creating numpy array containing killed in USA\n",
    "    killed_in_USA = killed[usa]\n",
    "    \n",
    "    #printing result\n",
    "    for row in killed_in_USA:\n",
    "        print(row)   "
   ]
  },
  {
   "cell_type": "markdown",
   "id": "dca3c65d",
   "metadata": {},
   "source": [
    "### Total Killed in USA"
   ]
  },
  {
   "cell_type": "code",
   "execution_count": null,
   "id": "a90464b5",
   "metadata": {},
   "outputs": [],
   "source": [
    "import numpy as np\n",
    "import csv\n",
    "\n",
    "with open(\"terrorismData.csv\", 'r', encoding='utf-8') as file_obj:\n",
    "    \n",
    "    #reading data and converting to list\n",
    "    file_data = csv.DictReader(file_obj, skipinitialspace = True)\n",
    "    killed_l = []\n",
    "    for row  in file_data:\n",
    "        if row['Country'] == 'United States':\n",
    "            killed_l.append(row['Killed'])\n",
    "    \n",
    "    killed = np.array(killed_l)\n",
    "    killed[killed == ''] = '0.0'\n",
    "    #converting values in killed to float and then to int\n",
    "    killed = np.array(killed, dtype = float)\n",
    "    \n",
    "    #printing result\n",
    "    print(int(np.sum(killed)))"
   ]
  },
  {
   "cell_type": "markdown",
   "id": "572fb833",
   "metadata": {},
   "source": [
    "## Assignment"
   ]
  },
  {
   "cell_type": "markdown",
   "id": "4d93d79f",
   "metadata": {},
   "source": [
    "### Terrorism Day"
   ]
  },
  {
   "cell_type": "code",
   "execution_count": 2,
   "id": "8c09886c",
   "metadata": {},
   "outputs": [
    {
     "name": "stdout",
     "output_type": "stream",
     "text": [
      "66330\n"
     ]
    }
   ],
   "source": [
    "import numpy as np\n",
    "import csv\n",
    "\n",
    "with open(\"terrorismData.csv\", 'r', encoding='utf-8') as file_obj:\n",
    "    \n",
    "    #reading data and converting to list\n",
    "    file_data = csv.DictReader(file_obj, skipinitialspace = True)\n",
    "    day_l = []\n",
    "    for row in file_data:\n",
    "        if int(row['Day']) in range(10,21):\n",
    "            day_l.append(int(row['Day']))\n",
    "    print(len(day_l))"
   ]
  },
  {
   "cell_type": "markdown",
   "id": "a2741f88",
   "metadata": {},
   "source": [
    "### Terrorism Date"
   ]
  },
  {
   "cell_type": "code",
   "execution_count": 1,
   "id": "7fb076c2",
   "metadata": {},
   "outputs": [
    {
     "name": "stdout",
     "output_type": "stream",
     "text": [
      "271\n"
     ]
    }
   ],
   "source": [
    "import numpy as np\n",
    "import csv\n",
    "\n",
    "with open(\"terrorismData.csv\", 'r', encoding='utf-8') as file_obj:\n",
    "    \n",
    "    #reading data and converting to list\n",
    "    file_data = csv.DictReader(file_obj, skipinitialspace = True)\n",
    "    day_l = []\n",
    "    for row in file_data:\n",
    "        if int(row['Day']) in range(1,32) and row['Month'] == '1' and row['Year'] == '2010':\n",
    "            day_l.append(int(row['Day']))\n",
    "    print(len(day_l))"
   ]
  },
  {
   "cell_type": "markdown",
   "id": "71be4211",
   "metadata": {},
   "source": [
    "### Terror Casualty Attack"
   ]
  },
  {
   "cell_type": "code",
   "execution_count": null,
   "id": "83ff3baa",
   "metadata": {},
   "outputs": [],
   "source": [
    "#question is to print 'casuality city group' of attack with most casualities in Kargil District\n",
    "import numpy as np\n",
    "import csv\n",
    "\n",
    "with open(\"terrorismData.csv\", 'r', encoding='utf-8') as file_obj:\n",
    "    \n",
    "    #reading data \n",
    "    file_data = csv.DictReader(file_obj, skipinitialspace = True)\n",
    "    \n",
    "    #empty lists to store required values\n",
    "    killed_l = []\n",
    "    wounded_l = []\n",
    "    city_l = []\n",
    "    group_l = []\n",
    "    \n",
    "    #populating empty lists with values from row filtered based on time and city\n",
    "    for row in file_data:\n",
    "        if (int(float(row['Day'])) in range(1,32)) and (row['Month'] in ('5', '6', '7')) and (row['Year'] == '1999') and (row['City'] == 'Kargil District'):\n",
    "            killed_l.append(row['Killed'])\n",
    "            wounded_l.append(row['Wounded'])\n",
    "            city_l.append(row['City'])\n",
    "            group_l.append(row['Group'])\n",
    "    \n",
    "    #creating numpy arrays based on lists\n",
    "    killed = np.array(killed_l)\n",
    "    wounded = np.array(wounded_l)\n",
    "    city = np.array(city_l)\n",
    "    group = np.array(group_l)\n",
    "    \n",
    "    #taking care of null values and converting killed and wounded to float before addition\n",
    "    killed[killed == ''] = '0.0'\n",
    "    wounded[wounded == ''] = '0.0'\n",
    "    killed = np.array(killed, dtype = float)\n",
    "    wounded = np.array(wounded, dtype = float)\n",
    "    \n",
    "    #casualties is sum of killed and wounded\n",
    "    casuality = killed + wounded\n",
    "    \n",
    "    #finding index at which most casualties are present\n",
    "    index = casuality.argmax()\n",
    "    \n",
    "    #printing result\n",
    "    print(int(casuality[index]), city[index], group[index])"
   ]
  },
  {
   "cell_type": "markdown",
   "id": "3008c41c",
   "metadata": {},
   "source": [
    "### Terror Casualty Red"
   ]
  },
  {
   "cell_type": "code",
   "execution_count": null,
   "id": "75802207",
   "metadata": {},
   "outputs": [],
   "source": [
    "#red corridor states - Jharkhand, Odisha, Andhra Pradesh, and Chhattisgarh\n",
    "\n",
    "import numpy as np\n",
    "import csv\n",
    "\n",
    "with open(\"terrorismData.csv\", 'r', encoding='utf-8') as file_obj:\n",
    "    \n",
    "    #reading data \n",
    "    file_data = csv.DictReader(file_obj, skipinitialspace = True)\n",
    "    \n",
    "    #empty lists to store required values\n",
    "    killed_l = []\n",
    "    wounded_l = []\n",
    "    \n",
    "    #populating empty lists with values from row filtered based on time and city\n",
    "    for row in file_data:\n",
    "        if row['State'] in ('Jharkhand', 'Odisha', 'Andhra Pradesh', 'Chhattisgarh'):\n",
    "            killed_l.append(row['Killed'])\n",
    "            wounded_l.append(row['Wounded'])\n",
    "            \n",
    "    #creating numpy arrays based on lists\n",
    "    killed = np.array(killed_l)\n",
    "    wounded = np.array(wounded_l)\n",
    "    \n",
    "    #taking care of null values and converting killed and wounded to float before addition\n",
    "    killed[killed == ''] = '0.0'\n",
    "    wounded[wounded == ''] = '0.0'\n",
    "    killed = np.array(killed, dtype = float)\n",
    "    wounded = np.array(wounded, dtype = float)\n",
    "    \n",
    "    #casualties is sum of killed and wounded\n",
    "    casuality = killed + wounded\n",
    "    \n",
    "    #printing result\n",
    "    print(int(np.sum(casuality)))\n"
   ]
  },
  {
   "cell_type": "markdown",
   "id": "372bb0d7",
   "metadata": {},
   "source": [
    "### Terror City Casualty"
   ]
  },
  {
   "cell_type": "code",
   "execution_count": 1,
   "id": "1a59cc5c",
   "metadata": {},
   "outputs": [
    {
     "name": "stdout",
     "output_type": "stream",
     "text": [
      "Srinagar 3134\n",
      "New Delhi 2095\n",
      "Mumbai 2016\n",
      "Jammu 1119\n",
      "Guwahati 822\n"
     ]
    }
   ],
   "source": [
    "#output format - 'city casualities'.\n",
    "#ignore 'Unknown' cities and print casualities as int\n",
    "\n",
    "import numpy as np\n",
    "import csv\n",
    "from operator import itemgetter\n",
    "\n",
    "#function to deal with null values in killed and wounded column\n",
    "def dealWithNullValues(k, w):\n",
    "    if k == '':\n",
    "        k = '0.0'\n",
    "    if w == '':\n",
    "        w = '0.0'\n",
    "    return int(float(k)), int(float(w))\n",
    "\n",
    "def main():\n",
    "    with open(\"terrorismData.csv\", 'r', encoding='utf-8') as file_obj:\n",
    "        #reading data \n",
    "        file_data = csv.DictReader(file_obj, skipinitialspace = True)\n",
    "\n",
    "        #empty dictionary to store 'City: Casuality Count'\n",
    "        city = {}\n",
    "\n",
    "        #populating empty dict with values from row filtered based on country\n",
    "        for row in file_data:\n",
    "            #filtering incidents from India\n",
    "            if row['Country'] == 'India' and row['City'] != 'Unknown':\n",
    "                #values in Killed and Wounded are sent to another function, which returns clean integer data\n",
    "                k, w = dealWithNullValues(row['Killed'], row['Wounded'])\n",
    "                #is the current city key already present in dictionary?\n",
    "                if row['City'] in city.keys():\n",
    "                    city[row['City']] += k + w\n",
    "                else:\n",
    "                    city[row['City']] = k + w\n",
    "\n",
    "        #sorting the dictionary based on values and storing it in another dictionary res            \n",
    "        res = dict(sorted(city.items(), key=itemgetter(1), reverse=True)[:5])\n",
    "        \n",
    "        #printing output\n",
    "        for i in res:\n",
    "            print(i, res[i])\n",
    "\n",
    "main()"
   ]
  },
  {
   "cell_type": "markdown",
   "id": "0173cea3",
   "metadata": {},
   "source": [
    "### Terrorism FrequentDay"
   ]
  },
  {
   "cell_type": "code",
   "execution_count": 2,
   "id": "01303ddb",
   "metadata": {},
   "outputs": [
    {
     "name": "stdout",
     "output_type": "stream",
     "text": [
      "15 6500\n"
     ]
    }
   ],
   "source": [
    "import numpy as np\n",
    "import csv\n",
    "from operator import itemgetter\n",
    "\n",
    "def main():\n",
    "    with open(\"terrorismData.csv\", 'r', encoding='utf-8') as file_obj:\n",
    "        #reading data \n",
    "        file_data = csv.DictReader(file_obj, skipinitialspace = True)\n",
    "\n",
    "        #empty dictionary to store 'Day: Attack Count'\n",
    "        day = {}\n",
    "\n",
    "        #populating empty dict with values from row filtered based on days\n",
    "        for row in file_data:\n",
    "            #filtering incidents from India\n",
    "            if row['Day'] != '0':\n",
    "                #is the current day key already present in dictionary?\n",
    "                if row['Day'] in day.keys():\n",
    "                    day[row['Day']] += 1\n",
    "                else:\n",
    "                    day[row['Day']] = 1\n",
    "\n",
    "        #sorting the dictionary based on values and storing it in another dictionary res            \n",
    "        res = dict(sorted(day.items(), key=itemgetter(1), reverse=True)[:1])\n",
    "        \n",
    "        #printing output\n",
    "        for i in res:\n",
    "            print(i, res[i])\n",
    "\n",
    "main()"
   ]
  }
 ],
 "metadata": {
  "kernelspec": {
   "display_name": "Python 3 (ipykernel)",
   "language": "python",
   "name": "python3"
  },
  "language_info": {
   "codemirror_mode": {
    "name": "ipython",
    "version": 3
   },
   "file_extension": ".py",
   "mimetype": "text/x-python",
   "name": "python",
   "nbconvert_exporter": "python",
   "pygments_lexer": "ipython3",
   "version": "3.11.4"
  }
 },
 "nbformat": 4,
 "nbformat_minor": 5
}
