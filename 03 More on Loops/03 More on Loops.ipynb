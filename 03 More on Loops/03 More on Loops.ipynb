{
 "cells": [
  {
   "cell_type": "markdown",
   "id": "c73b21c8",
   "metadata": {},
   "source": [
    "### Palindrome Check"
   ]
  },
  {
   "cell_type": "code",
   "execution_count": 14,
   "id": "e12c6ce6",
   "metadata": {},
   "outputs": [
    {
     "name": "stdout",
     "output_type": "stream",
     "text": [
      "3456\n",
      "Not Palindrome\n"
     ]
    }
   ],
   "source": [
    "n = int(input())\n",
    "\n",
    "number_of_digits = 0\n",
    "pal = 0\n",
    "mod = 0\n",
    "temp = n\n",
    "\n",
    "while temp > 0:\n",
    "    temp = temp//10\n",
    "    number_of_digits = number_of_digits + 1\n",
    "\n",
    "temp = n\n",
    "\n",
    "while number_of_digits > 0:\n",
    "    mod = temp % 10\n",
    "    pal = pal + ((10**(number_of_digits-1))*mod)\n",
    "    temp = temp//10\n",
    "    number_of_digits = number_of_digits - 1\n",
    "    \n",
    "if n == pal:\n",
    "    print(\"Palindrome\")\n",
    "else:\n",
    "    print(\"Not Palindrome\")"
   ]
  }
 ],
 "metadata": {
  "kernelspec": {
   "display_name": "Python 3 (ipykernel)",
   "language": "python",
   "name": "python3"
  },
  "language_info": {
   "codemirror_mode": {
    "name": "ipython",
    "version": 3
   },
   "file_extension": ".py",
   "mimetype": "text/x-python",
   "name": "python",
   "nbconvert_exporter": "python",
   "pygments_lexer": "ipython3",
   "version": "3.11.4"
  }
 },
 "nbformat": 4,
 "nbformat_minor": 5
}
