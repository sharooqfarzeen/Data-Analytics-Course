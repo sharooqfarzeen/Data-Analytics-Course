{
 "cells": [
  {
   "cell_type": "code",
   "execution_count": 1,
   "id": "daea5a84",
   "metadata": {
    "scrolled": true
   },
   "outputs": [],
   "source": [
    "import pandas as pd\n",
    "import numpy as np\n",
    "import time"
   ]
  },
  {
   "cell_type": "code",
   "execution_count": null,
   "id": "878a6441",
   "metadata": {},
   "outputs": [],
   "source": [
    "df = pd.read_csv(\"startup_funding.csv\", encoding = 'utf-8')\n",
    "df.head()"
   ]
  },
  {
   "cell_type": "markdown",
   "id": "b27b5d46",
   "metadata": {},
   "source": [
    "## Filtering out startups from New Delhi and Bangalore"
   ]
  },
  {
   "cell_type": "code",
   "execution_count": 6,
   "id": "e8c21d67",
   "metadata": {
    "scrolled": true
   },
   "outputs": [
    {
     "data": {
      "text/html": [
       "<div>\n",
       "<style scoped>\n",
       "    .dataframe tbody tr th:only-of-type {\n",
       "        vertical-align: middle;\n",
       "    }\n",
       "\n",
       "    .dataframe tbody tr th {\n",
       "        vertical-align: top;\n",
       "    }\n",
       "\n",
       "    .dataframe thead th {\n",
       "        text-align: right;\n",
       "    }\n",
       "</style>\n",
       "<table border=\"1\" class=\"dataframe\">\n",
       "  <thead>\n",
       "    <tr style=\"text-align: right;\">\n",
       "      <th></th>\n",
       "      <th>CityLocation</th>\n",
       "      <th>AmountInUSD</th>\n",
       "    </tr>\n",
       "  </thead>\n",
       "  <tbody>\n",
       "    <tr>\n",
       "      <th>0</th>\n",
       "      <td>Bangalore</td>\n",
       "      <td>1300000</td>\n",
       "    </tr>\n",
       "    <tr>\n",
       "      <th>1</th>\n",
       "      <td>New Delhi</td>\n",
       "      <td>0</td>\n",
       "    </tr>\n",
       "    <tr>\n",
       "      <th>2</th>\n",
       "      <td>Bangalore</td>\n",
       "      <td>1000000</td>\n",
       "    </tr>\n",
       "    <tr>\n",
       "      <th>3</th>\n",
       "      <td>Bangalore</td>\n",
       "      <td>8500000</td>\n",
       "    </tr>\n",
       "    <tr>\n",
       "      <th>4</th>\n",
       "      <td>Bangalore</td>\n",
       "      <td>0</td>\n",
       "    </tr>\n",
       "  </tbody>\n",
       "</table>\n",
       "</div>"
      ],
      "text/plain": [
       "  CityLocation  AmountInUSD\n",
       "0    Bangalore      1300000\n",
       "1    New Delhi            0\n",
       "2    Bangalore      1000000\n",
       "3    Bangalore      8500000\n",
       "4    Bangalore            0"
      ]
     },
     "execution_count": 6,
     "metadata": {},
     "output_type": "execute_result"
    }
   ],
   "source": [
    "#handling wrong city names and foreign city names\n",
    "df['CityLocation'].dropna(inplace=True) \n",
    "df['CityLocation']=df['CityLocation'].apply(lambda x: str(x).split('/')[0].strip()) \n",
    "df['CityLocation'].replace(\"Delhi\",\"New Delhi\",inplace=True) \n",
    "df['CityLocation'].replace(\"bangalore\",\"Bangalore\",inplace=True) \n",
    "\n",
    "#converting AmountInUSD to int after removing commas\n",
    "df.AmountInUSD.fillna(\"0\", inplace = True)\n",
    "df.AmountInUSD = df.AmountInUSD.apply(lambda amount: int(str(amount).replace(\",\", \"\")))\n",
    "\n",
    "#city columns and funding column\n",
    "df2 = df.loc[:,[\"CityLocation\", \"AmountInUSD\"]]\n",
    "#Bangalore and New Delhi only\n",
    "bn = df2[(df2.CityLocation == \"Bangalore\") | (df2.CityLocation == \"New Delhi\")]\n",
    "bn.reset_index(drop = True, inplace = True)\n",
    "bn.head()"
   ]
  },
  {
   "cell_type": "code",
   "execution_count": null,
   "id": "ef0e5dea",
   "metadata": {},
   "outputs": [],
   "source": [
    "#population average\n",
    "pop = bn.AmountInUSD.mean()\n",
    "print(bn.AmountInUSD.mean())"
   ]
  },
  {
   "cell_type": "markdown",
   "id": "f645f183",
   "metadata": {},
   "source": [
    "## Sampling without replacement"
   ]
  },
  {
   "cell_type": "code",
   "execution_count": 59,
   "id": "6752102a",
   "metadata": {},
   "outputs": [
    {
     "name": "stdout",
     "output_type": "stream",
     "text": [
      "3417720.0\n"
     ]
    }
   ],
   "source": [
    "#sample mean\n",
    "sample = bn.sample(50, random_state = 2)\n",
    "sam = sample.AmountInUSD.mean()\n",
    "print(sam)"
   ]
  },
  {
   "cell_type": "code",
   "execution_count": 62,
   "id": "5aa3b525",
   "metadata": {},
   "outputs": [
    {
     "name": "stdout",
     "output_type": "stream",
     "text": [
      "Sampling Error = 7560035.4765625\n"
     ]
    }
   ],
   "source": [
    "#sampling error\n",
    "print(\"Sampling Error =\", pop-sam)"
   ]
  },
  {
   "cell_type": "markdown",
   "id": "ec0c8b42",
   "metadata": {},
   "source": [
    "## Sampling with replacement"
   ]
  },
  {
   "cell_type": "code",
   "execution_count": 63,
   "id": "f4a1410f",
   "metadata": {},
   "outputs": [
    {
     "name": "stdout",
     "output_type": "stream",
     "text": [
      "8238800.0\n"
     ]
    }
   ],
   "source": [
    "#sample mean\n",
    "sample = bn.sample(50, replace = True, random_state = 2)\n",
    "samr = sample.AmountInUSD.mean()\n",
    "print(samr)"
   ]
  },
  {
   "cell_type": "code",
   "execution_count": 64,
   "id": "dc488adc",
   "metadata": {},
   "outputs": [
    {
     "name": "stdout",
     "output_type": "stream",
     "text": [
      "Sampling Error = 2738955.4765625\n"
     ]
    }
   ],
   "source": [
    "#sampling error\n",
    "print(\"Sampling Error =\", pop-samr)"
   ]
  },
  {
   "cell_type": "code",
   "execution_count": 12,
   "id": "e1024474",
   "metadata": {},
   "outputs": [
    {
     "data": {
      "text/html": [
       "<div>\n",
       "<style scoped>\n",
       "    .dataframe tbody tr th:only-of-type {\n",
       "        vertical-align: middle;\n",
       "    }\n",
       "\n",
       "    .dataframe tbody tr th {\n",
       "        vertical-align: top;\n",
       "    }\n",
       "\n",
       "    .dataframe thead th {\n",
       "        text-align: right;\n",
       "    }\n",
       "</style>\n",
       "<table border=\"1\" class=\"dataframe\">\n",
       "  <thead>\n",
       "    <tr style=\"text-align: right;\">\n",
       "      <th></th>\n",
       "      <th>0</th>\n",
       "    </tr>\n",
       "  </thead>\n",
       "  <tbody>\n",
       "    <tr>\n",
       "      <th>0</th>\n",
       "      <td>1</td>\n",
       "    </tr>\n",
       "    <tr>\n",
       "      <th>5</th>\n",
       "      <td>6</td>\n",
       "    </tr>\n",
       "    <tr>\n",
       "      <th>0</th>\n",
       "      <td>1</td>\n",
       "    </tr>\n",
       "    <tr>\n",
       "      <th>3</th>\n",
       "      <td>4</td>\n",
       "    </tr>\n",
       "    <tr>\n",
       "      <th>2</th>\n",
       "      <td>3</td>\n",
       "    </tr>\n",
       "  </tbody>\n",
       "</table>\n",
       "</div>"
      ],
      "text/plain": [
       "   0\n",
       "0  1\n",
       "5  6\n",
       "0  1\n",
       "3  4\n",
       "2  3"
      ]
     },
     "execution_count": 12,
     "metadata": {},
     "output_type": "execute_result"
    }
   ],
   "source": [
    "pop = pd.DataFrame([1,2,3,4,5,6])\n",
    "pop.sample(5, replace = True, random_state = 2)"
   ]
  },
  {
   "cell_type": "markdown",
   "id": "87262592",
   "metadata": {},
   "source": [
    "## groupby?"
   ]
  },
  {
   "cell_type": "code",
   "execution_count": 12,
   "id": "a901966a",
   "metadata": {},
   "outputs": [
    {
     "data": {
      "text/plain": [
       "CityLocation\n",
       "Bangalore    8422974108\n",
       "New Delhi    2818247500\n",
       "Name: AmountInUSD, dtype: int64"
      ]
     },
     "execution_count": 12,
     "metadata": {},
     "output_type": "execute_result"
    }
   ],
   "source": [
    "bn.groupby(\"CityLocation\")['AmountInUSD'].sum()"
   ]
  },
  {
   "cell_type": "markdown",
   "id": "7e0c780d",
   "metadata": {},
   "source": [
    "## Stratified Sampling - using counts"
   ]
  },
  {
   "cell_type": "code",
   "execution_count": 17,
   "id": "94a83883",
   "metadata": {},
   "outputs": [
    {
     "data": {
      "text/plain": [
       "Bangalore    635\n",
       "New Delhi    389\n",
       "Name: CityLocation, dtype: int64"
      ]
     },
     "execution_count": 17,
     "metadata": {},
     "output_type": "execute_result"
    }
   ],
   "source": [
    "bn.CityLocation.value_counts()"
   ]
  },
  {
   "cell_type": "code",
   "execution_count": 18,
   "id": "e6199690",
   "metadata": {},
   "outputs": [
    {
     "data": {
      "text/plain": [
       "1024"
      ]
     },
     "execution_count": 18,
     "metadata": {},
     "output_type": "execute_result"
    }
   ],
   "source": [
    "bn.CityLocation.value_counts().sum()"
   ]
  },
  {
   "cell_type": "code",
   "execution_count": 21,
   "id": "f37694d4",
   "metadata": {},
   "outputs": [
    {
     "data": {
      "text/plain": [
       "0.6201171875"
      ]
     },
     "execution_count": 21,
     "metadata": {},
     "output_type": "execute_result"
    }
   ],
   "source": [
    "635/1024"
   ]
  },
  {
   "cell_type": "code",
   "execution_count": 22,
   "id": "2c807b63",
   "metadata": {},
   "outputs": [
    {
     "data": {
      "text/plain": [
       "0.3798828125"
      ]
     },
     "execution_count": 22,
     "metadata": {},
     "output_type": "execute_result"
    }
   ],
   "source": [
    "389/1024"
   ]
  },
  {
   "cell_type": "code",
   "execution_count": 24,
   "id": "948e314c",
   "metadata": {
    "scrolled": true
   },
   "outputs": [
    {
     "data": {
      "text/plain": [
       "(  CityLocation  AmountInUSD\n",
       " 0    Bangalore      1300000\n",
       " 2    Bangalore      1000000\n",
       " 3    Bangalore      8500000\n",
       " 4    Bangalore            0\n",
       " 5    Bangalore      1000000,\n",
       "    CityLocation  AmountInUSD\n",
       " 1     New Delhi            0\n",
       " 17    New Delhi            0\n",
       " 18    New Delhi            0\n",
       " 22    New Delhi            0\n",
       " 23    New Delhi     25000000)"
      ]
     },
     "execution_count": 24,
     "metadata": {},
     "output_type": "execute_result"
    }
   ],
   "source": [
    "b = bn[bn.CityLocation == \"Bangalore\"]\n",
    "n = bn[bn.CityLocation == \"New Delhi\"]\n",
    "b.head(), n.head()"
   ]
  },
  {
   "cell_type": "markdown",
   "id": "0b5e0a08",
   "metadata": {},
   "source": [
    "### Basketball dataset"
   ]
  },
  {
   "cell_type": "code",
   "execution_count": 39,
   "id": "3afd6d23",
   "metadata": {},
   "outputs": [
    {
     "data": {
      "text/html": [
       "<div>\n",
       "<style scoped>\n",
       "    .dataframe tbody tr th:only-of-type {\n",
       "        vertical-align: middle;\n",
       "    }\n",
       "\n",
       "    .dataframe tbody tr th {\n",
       "        vertical-align: top;\n",
       "    }\n",
       "\n",
       "    .dataframe thead th {\n",
       "        text-align: right;\n",
       "    }\n",
       "</style>\n",
       "<table border=\"1\" class=\"dataframe\">\n",
       "  <thead>\n",
       "    <tr style=\"text-align: right;\">\n",
       "      <th></th>\n",
       "      <th>team</th>\n",
       "      <th>position</th>\n",
       "      <th>assists</th>\n",
       "      <th>rebounds</th>\n",
       "    </tr>\n",
       "  </thead>\n",
       "  <tbody>\n",
       "    <tr>\n",
       "      <th>0</th>\n",
       "      <td>A</td>\n",
       "      <td>G</td>\n",
       "      <td>5</td>\n",
       "      <td>11</td>\n",
       "    </tr>\n",
       "    <tr>\n",
       "      <th>1</th>\n",
       "      <td>A</td>\n",
       "      <td>G</td>\n",
       "      <td>7</td>\n",
       "      <td>8</td>\n",
       "    </tr>\n",
       "    <tr>\n",
       "      <th>2</th>\n",
       "      <td>B</td>\n",
       "      <td>F</td>\n",
       "      <td>7</td>\n",
       "      <td>10</td>\n",
       "    </tr>\n",
       "    <tr>\n",
       "      <th>3</th>\n",
       "      <td>B</td>\n",
       "      <td>G</td>\n",
       "      <td>8</td>\n",
       "      <td>6</td>\n",
       "    </tr>\n",
       "    <tr>\n",
       "      <th>4</th>\n",
       "      <td>B</td>\n",
       "      <td>F</td>\n",
       "      <td>5</td>\n",
       "      <td>6</td>\n",
       "    </tr>\n",
       "  </tbody>\n",
       "</table>\n",
       "</div>"
      ],
      "text/plain": [
       "  team position  assists  rebounds\n",
       "0    A        G        5        11\n",
       "1    A        G        7         8\n",
       "2    B        F        7        10\n",
       "3    B        G        8         6\n",
       "4    B        F        5         6"
      ]
     },
     "execution_count": 39,
     "metadata": {},
     "output_type": "execute_result"
    }
   ],
   "source": [
    "bb = pd.DataFrame({'team': ['A', 'A', 'B', 'B', 'B', 'B', 'B', 'B'],\n",
    "                   'position': ['G', 'G', 'F', 'G', 'F', 'F', 'C','C'],\n",
    "                   'assists': [5, 7, 7, 8, 5, 7, 6, 9],\n",
    "                   'rebounds': [11, 8, 10, 6, 6, 9, 6, 10]})\n",
    "bb.head()"
   ]
  },
  {
   "cell_type": "code",
   "execution_count": 34,
   "id": "f3a5356d",
   "metadata": {},
   "outputs": [
    {
     "data": {
      "text/html": [
       "<div>\n",
       "<style scoped>\n",
       "    .dataframe tbody tr th:only-of-type {\n",
       "        vertical-align: middle;\n",
       "    }\n",
       "\n",
       "    .dataframe tbody tr th {\n",
       "        vertical-align: top;\n",
       "    }\n",
       "\n",
       "    .dataframe thead th {\n",
       "        text-align: right;\n",
       "    }\n",
       "</style>\n",
       "<table border=\"1\" class=\"dataframe\">\n",
       "  <thead>\n",
       "    <tr style=\"text-align: right;\">\n",
       "      <th></th>\n",
       "      <th>team</th>\n",
       "      <th>position</th>\n",
       "      <th>assists</th>\n",
       "      <th>rebounds</th>\n",
       "    </tr>\n",
       "  </thead>\n",
       "  <tbody>\n",
       "    <tr>\n",
       "      <th>1</th>\n",
       "      <td>A</td>\n",
       "      <td>G</td>\n",
       "      <td>7</td>\n",
       "      <td>8</td>\n",
       "    </tr>\n",
       "    <tr>\n",
       "      <th>0</th>\n",
       "      <td>A</td>\n",
       "      <td>G</td>\n",
       "      <td>5</td>\n",
       "      <td>11</td>\n",
       "    </tr>\n",
       "    <tr>\n",
       "      <th>6</th>\n",
       "      <td>B</td>\n",
       "      <td>C</td>\n",
       "      <td>6</td>\n",
       "      <td>6</td>\n",
       "    </tr>\n",
       "    <tr>\n",
       "      <th>3</th>\n",
       "      <td>B</td>\n",
       "      <td>G</td>\n",
       "      <td>8</td>\n",
       "      <td>6</td>\n",
       "    </tr>\n",
       "  </tbody>\n",
       "</table>\n",
       "</div>"
      ],
      "text/plain": [
       "  team position  assists  rebounds\n",
       "1    A        G        7         8\n",
       "0    A        G        5        11\n",
       "6    B        C        6         6\n",
       "3    B        G        8         6"
      ]
     },
     "execution_count": 34,
     "metadata": {},
     "output_type": "execute_result"
    }
   ],
   "source": [
    "bb.groupby('team', group_keys = False).apply(lambda x: x.sample(2))"
   ]
  },
  {
   "cell_type": "code",
   "execution_count": 40,
   "id": "b3660ae5",
   "metadata": {},
   "outputs": [
    {
     "data": {
      "text/html": [
       "<div>\n",
       "<style scoped>\n",
       "    .dataframe tbody tr th:only-of-type {\n",
       "        vertical-align: middle;\n",
       "    }\n",
       "\n",
       "    .dataframe tbody tr th {\n",
       "        vertical-align: top;\n",
       "    }\n",
       "\n",
       "    .dataframe thead th {\n",
       "        text-align: right;\n",
       "    }\n",
       "</style>\n",
       "<table border=\"1\" class=\"dataframe\">\n",
       "  <thead>\n",
       "    <tr style=\"text-align: right;\">\n",
       "      <th></th>\n",
       "      <th>team</th>\n",
       "      <th>position</th>\n",
       "      <th>assists</th>\n",
       "      <th>rebounds</th>\n",
       "    </tr>\n",
       "  </thead>\n",
       "  <tbody>\n",
       "  </tbody>\n",
       "</table>\n",
       "</div>"
      ],
      "text/plain": [
       "Empty DataFrame\n",
       "Columns: [team, position, assists, rebounds]\n",
       "Index: []"
      ]
     },
     "execution_count": 40,
     "metadata": {},
     "output_type": "execute_result"
    }
   ],
   "source": [
    "N = 4\n",
    "bb.groupby('team',group_keys=False).apply(lambda x: x.sample(int(np.rint(N*(len(x)/len(df)))))).sample(frac=1).reset_index(drop=True)"
   ]
  },
  {
   "cell_type": "code",
   "execution_count": 41,
   "id": "4cba0830",
   "metadata": {},
   "outputs": [
    {
     "data": {
      "text/html": [
       "<div>\n",
       "<style scoped>\n",
       "    .dataframe tbody tr th:only-of-type {\n",
       "        vertical-align: middle;\n",
       "    }\n",
       "\n",
       "    .dataframe tbody tr th {\n",
       "        vertical-align: top;\n",
       "    }\n",
       "\n",
       "    .dataframe thead th {\n",
       "        text-align: right;\n",
       "    }\n",
       "</style>\n",
       "<table border=\"1\" class=\"dataframe\">\n",
       "  <thead>\n",
       "    <tr style=\"text-align: right;\">\n",
       "      <th></th>\n",
       "      <th>team</th>\n",
       "      <th>position</th>\n",
       "      <th>assists</th>\n",
       "      <th>rebounds</th>\n",
       "    </tr>\n",
       "  </thead>\n",
       "  <tbody>\n",
       "  </tbody>\n",
       "</table>\n",
       "</div>"
      ],
      "text/plain": [
       "Empty DataFrame\n",
       "Columns: [team, position, assists, rebounds]\n",
       "Index: []"
      ]
     },
     "execution_count": 41,
     "metadata": {},
     "output_type": "execute_result"
    }
   ],
   "source": [
    "N = 4\n",
    "bb.groupby('team',group_keys=False).apply(lambda x: x.sample(int(np.rint(N*(len(x)/len(df))))))"
   ]
  },
  {
   "cell_type": "markdown",
   "id": "ab5b61b8",
   "metadata": {},
   "source": [
    "# Activity - Stratified Sampling"
   ]
  },
  {
   "cell_type": "raw",
   "id": "b188b22a",
   "metadata": {},
   "source": [
    "We want to find out the maximum amount of funding given to any startup in the\n",
    "following regions -\n",
    "Bangalore\n",
    "NCR (which includes New Delhi, Gurgaon and Noida)\n",
    "Mumbai\n",
    "Pune\n",
    "Hyderabad"
   ]
  },
  {
   "cell_type": "markdown",
   "id": "b46b3bc1",
   "metadata": {},
   "source": [
    "### Filtering out startups from select cities"
   ]
  },
  {
   "cell_type": "code",
   "execution_count": 78,
   "id": "f6605568",
   "metadata": {},
   "outputs": [],
   "source": [
    "df = pd.read_csv(\"startup_funding.csv\", encoding = 'utf-8')\n",
    "\n",
    "#handling wrong city names and foreign city names\n",
    "df['CityLocation'].dropna(inplace=True) \n",
    "df['CityLocation']=df['CityLocation'].apply(lambda x: str(x).split('/')[0].strip()) \n",
    "df['CityLocation'] = df['CityLocation'].str.title()\n",
    "df['CityLocation'].replace([\"Delhi\", \"Gurgaon\", \"Gurugram\", \"Noida\", \"New Delhi\"],\"NCR\",inplace=True)\n",
    "\n",
    "\n",
    "#converting AmountInUSD to int after removing commas\n",
    "df.AmountInUSD.fillna(\"0\", inplace = True)\n",
    "df.AmountInUSD = df.AmountInUSD.apply(lambda amount: int(str(amount).replace(\",\", \"\")))"
   ]
  },
  {
   "cell_type": "code",
   "execution_count": 79,
   "id": "618b5d95",
   "metadata": {
    "scrolled": true
   },
   "outputs": [
    {
     "data": {
      "text/html": [
       "<div>\n",
       "<style scoped>\n",
       "    .dataframe tbody tr th:only-of-type {\n",
       "        vertical-align: middle;\n",
       "    }\n",
       "\n",
       "    .dataframe tbody tr th {\n",
       "        vertical-align: top;\n",
       "    }\n",
       "\n",
       "    .dataframe thead th {\n",
       "        text-align: right;\n",
       "    }\n",
       "</style>\n",
       "<table border=\"1\" class=\"dataframe\">\n",
       "  <thead>\n",
       "    <tr style=\"text-align: right;\">\n",
       "      <th></th>\n",
       "      <th>StartupName</th>\n",
       "      <th>CityLocation</th>\n",
       "      <th>AmountInUSD</th>\n",
       "    </tr>\n",
       "  </thead>\n",
       "  <tbody>\n",
       "    <tr>\n",
       "      <th>0</th>\n",
       "      <td>TouchKin</td>\n",
       "      <td>Bangalore</td>\n",
       "      <td>1300000</td>\n",
       "    </tr>\n",
       "    <tr>\n",
       "      <th>1</th>\n",
       "      <td>Ethinos</td>\n",
       "      <td>Mumbai</td>\n",
       "      <td>0</td>\n",
       "    </tr>\n",
       "    <tr>\n",
       "      <th>2</th>\n",
       "      <td>Leverage Edu</td>\n",
       "      <td>NCR</td>\n",
       "      <td>0</td>\n",
       "    </tr>\n",
       "    <tr>\n",
       "      <th>3</th>\n",
       "      <td>Zepo</td>\n",
       "      <td>Mumbai</td>\n",
       "      <td>500000</td>\n",
       "    </tr>\n",
       "    <tr>\n",
       "      <th>4</th>\n",
       "      <td>Click2Clinic</td>\n",
       "      <td>Hyderabad</td>\n",
       "      <td>850000</td>\n",
       "    </tr>\n",
       "  </tbody>\n",
       "</table>\n",
       "</div>"
      ],
      "text/plain": [
       "    StartupName CityLocation  AmountInUSD\n",
       "0      TouchKin    Bangalore      1300000\n",
       "1       Ethinos       Mumbai            0\n",
       "2  Leverage Edu          NCR            0\n",
       "3          Zepo       Mumbai       500000\n",
       "4  Click2Clinic    Hyderabad       850000"
      ]
     },
     "execution_count": 79,
     "metadata": {},
     "output_type": "execute_result"
    }
   ],
   "source": [
    "#city columns and funding column\n",
    "df2 = df.loc[:,[\"StartupName\", \"CityLocation\", \"AmountInUSD\"]]\n",
    "#Major Cities only\n",
    "mc = df2[df2.CityLocation.isin([\"Bangalore\", \"NCR\", \"Mumbai\", \"Pune\", \"Hyderabad\"])]\n",
    "mc.reset_index(drop = True, inplace = True)\n",
    "mc.head()"
   ]
  },
  {
   "cell_type": "code",
   "execution_count": 80,
   "id": "855e5f7d",
   "metadata": {},
   "outputs": [
    {
     "data": {
      "text/plain": [
       "NCR          709\n",
       "Bangalore    635\n",
       "Mumbai       449\n",
       "Pune          91\n",
       "Hyderabad     77\n",
       "Name: CityLocation, dtype: int64"
      ]
     },
     "execution_count": 80,
     "metadata": {},
     "output_type": "execute_result"
    }
   ],
   "source": [
    "mc.CityLocation.value_counts()"
   ]
  },
  {
   "cell_type": "markdown",
   "id": "31a57070",
   "metadata": {},
   "source": [
    "#### Statified Sampling  - sampling 20 startups from each city/region"
   ]
  },
  {
   "cell_type": "code",
   "execution_count": 88,
   "id": "66f5a391",
   "metadata": {},
   "outputs": [
    {
     "data": {
      "text/html": [
       "<div>\n",
       "<style scoped>\n",
       "    .dataframe tbody tr th:only-of-type {\n",
       "        vertical-align: middle;\n",
       "    }\n",
       "\n",
       "    .dataframe tbody tr th {\n",
       "        vertical-align: top;\n",
       "    }\n",
       "\n",
       "    .dataframe thead th {\n",
       "        text-align: right;\n",
       "    }\n",
       "</style>\n",
       "<table border=\"1\" class=\"dataframe\">\n",
       "  <thead>\n",
       "    <tr style=\"text-align: right;\">\n",
       "      <th></th>\n",
       "      <th>StartupName</th>\n",
       "      <th>CityLocation</th>\n",
       "      <th>AmountInUSD</th>\n",
       "    </tr>\n",
       "  </thead>\n",
       "  <tbody>\n",
       "    <tr>\n",
       "      <th>0</th>\n",
       "      <td>Baby Berry</td>\n",
       "      <td>Bangalore</td>\n",
       "      <td>1000000</td>\n",
       "    </tr>\n",
       "    <tr>\n",
       "      <th>1</th>\n",
       "      <td>PitStop</td>\n",
       "      <td>Bangalore</td>\n",
       "      <td>0</td>\n",
       "    </tr>\n",
       "    <tr>\n",
       "      <th>2</th>\n",
       "      <td>Zenify.in</td>\n",
       "      <td>Bangalore</td>\n",
       "      <td>640000</td>\n",
       "    </tr>\n",
       "    <tr>\n",
       "      <th>3</th>\n",
       "      <td>Zapyle</td>\n",
       "      <td>Bangalore</td>\n",
       "      <td>0</td>\n",
       "    </tr>\n",
       "    <tr>\n",
       "      <th>4</th>\n",
       "      <td>LoanCircle</td>\n",
       "      <td>Bangalore</td>\n",
       "      <td>0</td>\n",
       "    </tr>\n",
       "    <tr>\n",
       "      <th>...</th>\n",
       "      <td>...</td>\n",
       "      <td>...</td>\n",
       "      <td>...</td>\n",
       "    </tr>\n",
       "    <tr>\n",
       "      <th>95</th>\n",
       "      <td>ElastiRun</td>\n",
       "      <td>Pune</td>\n",
       "      <td>7000000</td>\n",
       "    </tr>\n",
       "    <tr>\n",
       "      <th>96</th>\n",
       "      <td>Yellowdig</td>\n",
       "      <td>Pune</td>\n",
       "      <td>650000</td>\n",
       "    </tr>\n",
       "    <tr>\n",
       "      <th>97</th>\n",
       "      <td>SparesHub</td>\n",
       "      <td>Pune</td>\n",
       "      <td>460000</td>\n",
       "    </tr>\n",
       "    <tr>\n",
       "      <th>98</th>\n",
       "      <td>SERV’D</td>\n",
       "      <td>Pune</td>\n",
       "      <td>100000</td>\n",
       "    </tr>\n",
       "    <tr>\n",
       "      <th>99</th>\n",
       "      <td>Explara</td>\n",
       "      <td>Pune</td>\n",
       "      <td>490000</td>\n",
       "    </tr>\n",
       "  </tbody>\n",
       "</table>\n",
       "<p>100 rows × 3 columns</p>\n",
       "</div>"
      ],
      "text/plain": [
       "   StartupName CityLocation  AmountInUSD\n",
       "0   Baby Berry    Bangalore      1000000\n",
       "1      PitStop    Bangalore            0\n",
       "2    Zenify.in    Bangalore       640000\n",
       "3       Zapyle    Bangalore            0\n",
       "4   LoanCircle    Bangalore            0\n",
       "..         ...          ...          ...\n",
       "95   ElastiRun         Pune      7000000\n",
       "96   Yellowdig         Pune       650000\n",
       "97   SparesHub         Pune       460000\n",
       "98      SERV’D         Pune       100000\n",
       "99     Explara         Pune       490000\n",
       "\n",
       "[100 rows x 3 columns]"
      ]
     },
     "execution_count": 88,
     "metadata": {},
     "output_type": "execute_result"
    }
   ],
   "source": [
    "sample = mc.groupby('CityLocation', group_keys = False).apply(lambda x: x.sample(20)).reset_index(drop = True)\n",
    "sample"
   ]
  },
  {
   "cell_type": "code",
   "execution_count": 89,
   "id": "a6840081",
   "metadata": {},
   "outputs": [
    {
     "data": {
      "text/plain": [
       "Bangalore    20\n",
       "Hyderabad    20\n",
       "Mumbai       20\n",
       "NCR          20\n",
       "Pune         20\n",
       "Name: CityLocation, dtype: int64"
      ]
     },
     "execution_count": 89,
     "metadata": {},
     "output_type": "execute_result"
    }
   ],
   "source": [
    "sample.CityLocation.value_counts()"
   ]
  },
  {
   "cell_type": "markdown",
   "id": "43028afa",
   "metadata": {},
   "source": [
    "# Activity - Proportional Stratified Sampling"
   ]
  },
  {
   "cell_type": "code",
   "execution_count": 2,
   "id": "27e5a396",
   "metadata": {},
   "outputs": [],
   "source": [
    "df = pd.read_csv(\"startup_funding.csv\", encoding = 'utf-8')\n",
    "\n",
    "#handling wrong city names and foreign city names\n",
    "df['CityLocation'].dropna(inplace=True) \n",
    "df['CityLocation']=df['CityLocation'].apply(lambda x: str(x).split('/')[0].strip()) \n",
    "df['CityLocation'] = df['CityLocation'].str.title()\n",
    "df['CityLocation'].replace([\"Delhi\", \"Gurgaon\", \"Gurugram\", \"Noida\", \"New Delhi\"],\"NCR\",inplace=True)\n",
    "\n",
    "\n",
    "#converting AmountInUSD to int after removing commas\n",
    "df.AmountInUSD.fillna(\"0\", inplace = True)\n",
    "df.AmountInUSD = df.AmountInUSD.apply(lambda amount: int(str(amount).replace(\",\", \"\")))"
   ]
  },
  {
   "cell_type": "code",
   "execution_count": 3,
   "id": "ad30663d",
   "metadata": {
    "scrolled": true
   },
   "outputs": [
    {
     "data": {
      "text/html": [
       "<div>\n",
       "<style scoped>\n",
       "    .dataframe tbody tr th:only-of-type {\n",
       "        vertical-align: middle;\n",
       "    }\n",
       "\n",
       "    .dataframe tbody tr th {\n",
       "        vertical-align: top;\n",
       "    }\n",
       "\n",
       "    .dataframe thead th {\n",
       "        text-align: right;\n",
       "    }\n",
       "</style>\n",
       "<table border=\"1\" class=\"dataframe\">\n",
       "  <thead>\n",
       "    <tr style=\"text-align: right;\">\n",
       "      <th></th>\n",
       "      <th>StartupName</th>\n",
       "      <th>CityLocation</th>\n",
       "      <th>AmountInUSD</th>\n",
       "    </tr>\n",
       "  </thead>\n",
       "  <tbody>\n",
       "    <tr>\n",
       "      <th>0</th>\n",
       "      <td>TouchKin</td>\n",
       "      <td>Bangalore</td>\n",
       "      <td>1300000</td>\n",
       "    </tr>\n",
       "    <tr>\n",
       "      <th>1</th>\n",
       "      <td>Ethinos</td>\n",
       "      <td>Mumbai</td>\n",
       "      <td>0</td>\n",
       "    </tr>\n",
       "    <tr>\n",
       "      <th>2</th>\n",
       "      <td>Leverage Edu</td>\n",
       "      <td>NCR</td>\n",
       "      <td>0</td>\n",
       "    </tr>\n",
       "    <tr>\n",
       "      <th>3</th>\n",
       "      <td>Zepo</td>\n",
       "      <td>Mumbai</td>\n",
       "      <td>500000</td>\n",
       "    </tr>\n",
       "    <tr>\n",
       "      <th>4</th>\n",
       "      <td>Click2Clinic</td>\n",
       "      <td>Hyderabad</td>\n",
       "      <td>850000</td>\n",
       "    </tr>\n",
       "  </tbody>\n",
       "</table>\n",
       "</div>"
      ],
      "text/plain": [
       "    StartupName CityLocation  AmountInUSD\n",
       "0      TouchKin    Bangalore      1300000\n",
       "1       Ethinos       Mumbai            0\n",
       "2  Leverage Edu          NCR            0\n",
       "3          Zepo       Mumbai       500000\n",
       "4  Click2Clinic    Hyderabad       850000"
      ]
     },
     "execution_count": 3,
     "metadata": {},
     "output_type": "execute_result"
    }
   ],
   "source": [
    "#city columns and funding column\n",
    "df2 = df.loc[:,[\"StartupName\", \"CityLocation\", \"AmountInUSD\"]]\n",
    "#Major Cities only\n",
    "mc = df2[df2.CityLocation.isin([\"Bangalore\", \"NCR\", \"Mumbai\", \"Pune\", \"Hyderabad\"])]\n",
    "mc.reset_index(drop = True, inplace = True)\n",
    "mc.head()"
   ]
  },
  {
   "cell_type": "code",
   "execution_count": 4,
   "id": "fe097fb0",
   "metadata": {},
   "outputs": [
    {
     "data": {
      "text/plain": [
       "NCR          709\n",
       "Bangalore    635\n",
       "Mumbai       449\n",
       "Pune          91\n",
       "Hyderabad     77\n",
       "Name: CityLocation, dtype: int64"
      ]
     },
     "execution_count": 4,
     "metadata": {},
     "output_type": "execute_result"
    }
   ],
   "source": [
    "mc.CityLocation.value_counts()"
   ]
  },
  {
   "cell_type": "code",
   "execution_count": 6,
   "id": "860842c7",
   "metadata": {},
   "outputs": [
    {
     "data": {
      "text/html": [
       "<div>\n",
       "<style scoped>\n",
       "    .dataframe tbody tr th:only-of-type {\n",
       "        vertical-align: middle;\n",
       "    }\n",
       "\n",
       "    .dataframe tbody tr th {\n",
       "        vertical-align: top;\n",
       "    }\n",
       "\n",
       "    .dataframe thead th {\n",
       "        text-align: right;\n",
       "    }\n",
       "</style>\n",
       "<table border=\"1\" class=\"dataframe\">\n",
       "  <thead>\n",
       "    <tr style=\"text-align: right;\">\n",
       "      <th></th>\n",
       "      <th>StartupName</th>\n",
       "      <th>CityLocation</th>\n",
       "      <th>AmountInUSD</th>\n",
       "    </tr>\n",
       "  </thead>\n",
       "  <tbody>\n",
       "    <tr>\n",
       "      <th>0</th>\n",
       "      <td>underDOGS</td>\n",
       "      <td>Mumbai</td>\n",
       "      <td>0</td>\n",
       "    </tr>\n",
       "    <tr>\n",
       "      <th>1</th>\n",
       "      <td>SeeDoc</td>\n",
       "      <td>NCR</td>\n",
       "      <td>1000000</td>\n",
       "    </tr>\n",
       "    <tr>\n",
       "      <th>2</th>\n",
       "      <td>Snapbizz</td>\n",
       "      <td>Bangalore</td>\n",
       "      <td>0</td>\n",
       "    </tr>\n",
       "    <tr>\n",
       "      <th>3</th>\n",
       "      <td>Raw Pressery</td>\n",
       "      <td>Mumbai</td>\n",
       "      <td>0</td>\n",
       "    </tr>\n",
       "    <tr>\n",
       "      <th>4</th>\n",
       "      <td>Hopping Chef</td>\n",
       "      <td>Mumbai</td>\n",
       "      <td>470000</td>\n",
       "    </tr>\n",
       "    <tr>\n",
       "      <th>...</th>\n",
       "      <td>...</td>\n",
       "      <td>...</td>\n",
       "      <td>...</td>\n",
       "    </tr>\n",
       "    <tr>\n",
       "      <th>95</th>\n",
       "      <td>Perfios</td>\n",
       "      <td>Bangalore</td>\n",
       "      <td>6100000</td>\n",
       "    </tr>\n",
       "    <tr>\n",
       "      <th>96</th>\n",
       "      <td>Medzin</td>\n",
       "      <td>NCR</td>\n",
       "      <td>45000</td>\n",
       "    </tr>\n",
       "    <tr>\n",
       "      <th>97</th>\n",
       "      <td>Lucideus</td>\n",
       "      <td>NCR</td>\n",
       "      <td>0</td>\n",
       "    </tr>\n",
       "    <tr>\n",
       "      <th>98</th>\n",
       "      <td>Log 9 Materials</td>\n",
       "      <td>Bangalore</td>\n",
       "      <td>0</td>\n",
       "    </tr>\n",
       "    <tr>\n",
       "      <th>99</th>\n",
       "      <td>QikShip</td>\n",
       "      <td>NCR</td>\n",
       "      <td>200000</td>\n",
       "    </tr>\n",
       "  </tbody>\n",
       "</table>\n",
       "<p>100 rows × 3 columns</p>\n",
       "</div>"
      ],
      "text/plain": [
       "        StartupName CityLocation  AmountInUSD\n",
       "0         underDOGS       Mumbai            0\n",
       "1            SeeDoc          NCR      1000000\n",
       "2          Snapbizz    Bangalore            0\n",
       "3      Raw Pressery       Mumbai            0\n",
       "4      Hopping Chef       Mumbai       470000\n",
       "..              ...          ...          ...\n",
       "95          Perfios    Bangalore      6100000\n",
       "96           Medzin          NCR        45000\n",
       "97         Lucideus          NCR            0\n",
       "98  Log 9 Materials    Bangalore            0\n",
       "99          QikShip          NCR       200000\n",
       "\n",
       "[100 rows x 3 columns]"
      ]
     },
     "execution_count": 6,
     "metadata": {},
     "output_type": "execute_result"
    }
   ],
   "source": [
    "#total number of samples\n",
    "N = 100\n",
    "prop_sample_1 = mc.groupby('CityLocation', group_keys=False).apply(lambda x: x.sample(int(np.rint(N*len(x)/len(mc))))).sample(frac=1).reset_index(drop=True)\n",
    "prop_sample_1"
   ]
  },
  {
   "cell_type": "code",
   "execution_count": 8,
   "id": "d69f1cfe",
   "metadata": {
    "scrolled": true
   },
   "outputs": [
    {
     "data": {
      "text/html": [
       "<div>\n",
       "<style scoped>\n",
       "    .dataframe tbody tr th:only-of-type {\n",
       "        vertical-align: middle;\n",
       "    }\n",
       "\n",
       "    .dataframe tbody tr th {\n",
       "        vertical-align: top;\n",
       "    }\n",
       "\n",
       "    .dataframe thead th {\n",
       "        text-align: right;\n",
       "    }\n",
       "</style>\n",
       "<table border=\"1\" class=\"dataframe\">\n",
       "  <thead>\n",
       "    <tr style=\"text-align: right;\">\n",
       "      <th></th>\n",
       "      <th>StartupName</th>\n",
       "      <th>CityLocation</th>\n",
       "      <th>AmountInUSD</th>\n",
       "    </tr>\n",
       "  </thead>\n",
       "  <tbody>\n",
       "    <tr>\n",
       "      <th>0</th>\n",
       "      <td>Flipkart</td>\n",
       "      <td>Bangalore</td>\n",
       "      <td>1400000000</td>\n",
       "    </tr>\n",
       "    <tr>\n",
       "      <th>1</th>\n",
       "      <td>TouchKin</td>\n",
       "      <td>Bangalore</td>\n",
       "      <td>1300000</td>\n",
       "    </tr>\n",
       "    <tr>\n",
       "      <th>2</th>\n",
       "      <td>Runnr</td>\n",
       "      <td>Bangalore</td>\n",
       "      <td>7000000</td>\n",
       "    </tr>\n",
       "    <tr>\n",
       "      <th>3</th>\n",
       "      <td>AppBrowzer</td>\n",
       "      <td>Bangalore</td>\n",
       "      <td>500000</td>\n",
       "    </tr>\n",
       "    <tr>\n",
       "      <th>4</th>\n",
       "      <td>RentMojo</td>\n",
       "      <td>Bangalore</td>\n",
       "      <td>5000000</td>\n",
       "    </tr>\n",
       "    <tr>\n",
       "      <th>...</th>\n",
       "      <td>...</td>\n",
       "      <td>...</td>\n",
       "      <td>...</td>\n",
       "    </tr>\n",
       "    <tr>\n",
       "      <th>95</th>\n",
       "      <td>Fabogo</td>\n",
       "      <td>Pune</td>\n",
       "      <td>2250000</td>\n",
       "    </tr>\n",
       "    <tr>\n",
       "      <th>96</th>\n",
       "      <td>Anchanto</td>\n",
       "      <td>Pune</td>\n",
       "      <td>0</td>\n",
       "    </tr>\n",
       "    <tr>\n",
       "      <th>97</th>\n",
       "      <td>Uniken</td>\n",
       "      <td>Pune</td>\n",
       "      <td>2000000</td>\n",
       "    </tr>\n",
       "    <tr>\n",
       "      <th>98</th>\n",
       "      <td>MindTickle</td>\n",
       "      <td>Pune</td>\n",
       "      <td>12500000</td>\n",
       "    </tr>\n",
       "    <tr>\n",
       "      <th>99</th>\n",
       "      <td>Agrostar</td>\n",
       "      <td>Pune</td>\n",
       "      <td>4000000</td>\n",
       "    </tr>\n",
       "  </tbody>\n",
       "</table>\n",
       "<p>100 rows × 3 columns</p>\n",
       "</div>"
      ],
      "text/plain": [
       "   StartupName CityLocation  AmountInUSD\n",
       "0     Flipkart    Bangalore   1400000000\n",
       "1     TouchKin    Bangalore      1300000\n",
       "2        Runnr    Bangalore      7000000\n",
       "3   AppBrowzer    Bangalore       500000\n",
       "4     RentMojo    Bangalore      5000000\n",
       "..         ...          ...          ...\n",
       "95      Fabogo         Pune      2250000\n",
       "96    Anchanto         Pune            0\n",
       "97      Uniken         Pune      2000000\n",
       "98  MindTickle         Pune     12500000\n",
       "99    Agrostar         Pune      4000000\n",
       "\n",
       "[100 rows x 3 columns]"
      ]
     },
     "execution_count": 8,
     "metadata": {},
     "output_type": "execute_result"
    }
   ],
   "source": [
    "#proportion of sample size:total population\n",
    "f = 100/len(mc)\n",
    "prop_sample_2 = mc.groupby(\"CityLocation\", group_keys = False).apply(lambda x: x.sample(frac = f)).reset_index(drop = True)\n",
    "prop_sample_2"
   ]
  },
  {
   "cell_type": "code",
   "execution_count": 9,
   "id": "634aa463",
   "metadata": {},
   "outputs": [
    {
     "data": {
      "text/plain": [
       "NCR          36\n",
       "Bangalore    32\n",
       "Mumbai       23\n",
       "Pune          5\n",
       "Hyderabad     4\n",
       "Name: CityLocation, dtype: int64"
      ]
     },
     "execution_count": 9,
     "metadata": {},
     "output_type": "execute_result"
    }
   ],
   "source": [
    "prop_sample_2.CityLocation.value_counts()"
   ]
  },
  {
   "cell_type": "code",
   "execution_count": 101,
   "id": "4005566a",
   "metadata": {
    "scrolled": true
   },
   "outputs": [
    {
     "data": {
      "text/plain": [
       "array([ 1,  2,  3,  4,  5,  6,  7,  8,  9, 10])"
      ]
     },
     "execution_count": 101,
     "metadata": {},
     "output_type": "execute_result"
    }
   ],
   "source": [
    "np.arange(1,11)"
   ]
  },
  {
   "cell_type": "code",
   "execution_count": 102,
   "id": "72dc52e7",
   "metadata": {},
   "outputs": [
    {
     "data": {
      "text/plain": [
       "array([ 1,  1,  1,  1,  1,  1,  1,  1,  1,  1,  1,  1,  1,  1,  1,  1,  1,\n",
       "        1,  1,  1,  2,  2,  2,  2,  2,  2,  2,  2,  2,  2,  2,  2,  2,  2,\n",
       "        2,  2,  2,  2,  2,  2,  3,  3,  3,  3,  3,  3,  3,  3,  3,  3,  3,\n",
       "        3,  3,  3,  3,  3,  3,  3,  3,  3,  4,  4,  4,  4,  4,  4,  4,  4,\n",
       "        4,  4,  4,  4,  4,  4,  4,  4,  4,  4,  4,  4,  5,  5,  5,  5,  5,\n",
       "        5,  5,  5,  5,  5,  5,  5,  5,  5,  5,  5,  5,  5,  5,  5,  6,  6,\n",
       "        6,  6,  6,  6,  6,  6,  6,  6,  6,  6,  6,  6,  6,  6,  6,  6,  6,\n",
       "        6,  7,  7,  7,  7,  7,  7,  7,  7,  7,  7,  7,  7,  7,  7,  7,  7,\n",
       "        7,  7,  7,  7,  8,  8,  8,  8,  8,  8,  8,  8,  8,  8,  8,  8,  8,\n",
       "        8,  8,  8,  8,  8,  8,  8,  9,  9,  9,  9,  9,  9,  9,  9,  9,  9,\n",
       "        9,  9,  9,  9,  9,  9,  9,  9,  9,  9, 10, 10, 10, 10, 10, 10, 10,\n",
       "       10, 10, 10, 10, 10, 10, 10, 10, 10, 10, 10, 10, 10])"
      ]
     },
     "execution_count": 102,
     "metadata": {},
     "output_type": "execute_result"
    }
   ],
   "source": [
    "np.repeat(np.arange(1,11), 20)"
   ]
  }
 ],
 "metadata": {
  "kernelspec": {
   "display_name": "Python 3 (ipykernel)",
   "language": "python",
   "name": "python3"
  },
  "language_info": {
   "codemirror_mode": {
    "name": "ipython",
    "version": 3
   },
   "file_extension": ".py",
   "mimetype": "text/x-python",
   "name": "python",
   "nbconvert_exporter": "python",
   "pygments_lexer": "ipython3",
   "version": "3.11.4"
  }
 },
 "nbformat": 4,
 "nbformat_minor": 5
}
