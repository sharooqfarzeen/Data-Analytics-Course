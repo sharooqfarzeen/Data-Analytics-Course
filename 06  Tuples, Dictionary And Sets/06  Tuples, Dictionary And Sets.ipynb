{
 "cells": [
  {
   "cell_type": "markdown",
   "id": "e010d3a1",
   "metadata": {},
   "source": [
    "### Product of the Elements"
   ]
  },
  {
   "cell_type": "code",
   "execution_count": null,
   "id": "64bcc4df",
   "metadata": {},
   "outputs": [],
   "source": [
    "def product_element(test_tup):\n",
    "    \n",
    "    pro = 1\n",
    "    for i in test_tup:\n",
    "        pro = pro * i\n",
    "        \n",
    "    return pro"
   ]
  },
  {
   "cell_type": "markdown",
   "id": "90ac2139",
   "metadata": {},
   "source": [
    "### Frequency of Number"
   ]
  },
  {
   "cell_type": "code",
   "execution_count": null,
   "id": "e5b7bbee",
   "metadata": {},
   "outputs": [],
   "source": [
    "def calculate_frequency(t,n):\n",
    "    \n",
    "    freq = 0\n",
    "    \n",
    "    for i in t:\n",
    "        if i == n:\n",
    "            freq += 1\n",
    "    \n",
    "    return freq"
   ]
  },
  {
   "cell_type": "markdown",
   "id": "25f4fd26",
   "metadata": {},
   "source": [
    "### Square Tuples"
   ]
  },
  {
   "cell_type": "code",
   "execution_count": null,
   "id": "84dc924a",
   "metadata": {},
   "outputs": [],
   "source": [
    "string = input()\n",
    "\n",
    "a = [int(i) for i in string.split()]\n",
    "temp = []\n",
    "temp2 = []\n",
    "tup = ()\n",
    "for i in a:\n",
    "    temp.append([i,i*i])\n",
    "\n",
    "for i in temp:\n",
    "    temp2.append(tuple(i))\n",
    "print(temp2)"
   ]
  },
  {
   "cell_type": "markdown",
   "id": "2d0058c7",
   "metadata": {},
   "source": [
    "### Sum of Even"
   ]
  },
  {
   "cell_type": "code",
   "execution_count": null,
   "id": "c69e0d44",
   "metadata": {},
   "outputs": [],
   "source": [
    "def sum_of_even(tup):\n",
    "    sumt = 0\n",
    "    for i in range(len(tup)):\n",
    "        if tup[i] % 2 == 0:\n",
    "            sumt = sumt + tup[i]\n",
    "    print(sumt)"
   ]
  },
  {
   "cell_type": "markdown",
   "id": "bb21e86a",
   "metadata": {},
   "source": [
    "### Words Ends with G"
   ]
  },
  {
   "cell_type": "code",
   "execution_count": null,
   "id": "4b340d67",
   "metadata": {},
   "outputs": [],
   "source": [
    "def count_g(tup):\n",
    "    count = 0\n",
    "    for i in tup:\n",
    "        if i.endswith(\"g\"):\n",
    "            count = count + 1\n",
    "    print(count)\n",
    "    \n",
    "count_g((\"programming\", \"running\", \"jumping\", \"coding\"))"
   ]
  },
  {
   "cell_type": "markdown",
   "id": "4118b595",
   "metadata": {},
   "source": [
    "### Generate a dictionary of squares"
   ]
  },
  {
   "cell_type": "code",
   "execution_count": null,
   "id": "487f36eb",
   "metadata": {},
   "outputs": [],
   "source": [
    "#read n\n",
    "n = int(input())\n",
    "\n",
    "d = {}\n",
    "\n",
    "for i in range(1, n+1):\n",
    "    d[i] = i*i\n",
    "\n",
    "print(d)"
   ]
  },
  {
   "cell_type": "markdown",
   "id": "9c1fff17",
   "metadata": {},
   "source": [
    "### Sum of Values in Dictionary"
   ]
  },
  {
   "cell_type": "code",
   "execution_count": null,
   "id": "6a0308c2",
   "metadata": {},
   "outputs": [],
   "source": [
    "def returnSum(dict):\n",
    "    \n",
    "    sum = 0\n",
    "    for i in dict.values():\n",
    "        sum = sum + i\n",
    "    return sum\n",
    "\n",
    "print(returnSum({\"a\": 10, \"b\": 20, \"c\": 30}))"
   ]
  },
  {
   "cell_type": "markdown",
   "id": "3d43bd97",
   "metadata": {},
   "source": [
    "### Cube Dictionary"
   ]
  },
  {
   "cell_type": "code",
   "execution_count": null,
   "id": "7ceaa9ef",
   "metadata": {},
   "outputs": [],
   "source": [
    "def generate_cube_dictionary(n):\n",
    "    \n",
    "    d = {}\n",
    "    for i in range(1,n+1):\n",
    "        d[i] = i**3\n",
    "    return d"
   ]
  },
  {
   "cell_type": "markdown",
   "id": "53e9a569",
   "metadata": {},
   "source": [
    "### Word frequency"
   ]
  },
  {
   "cell_type": "code",
   "execution_count": null,
   "id": "6e0af301",
   "metadata": {},
   "outputs": [],
   "source": [
    "def word_frequency(input_line):\n",
    "    case = input_line.lower()\n",
    "    word_list = case.split()\n",
    "#     print(\"word list\", word_list)\n",
    "    \n",
    "    d = dict.fromkeys(word_list, 0)\n",
    "#     print(\"first \", d)\n",
    "    \n",
    "    \n",
    "    for i in word_list:\n",
    "        d[i] = d[i] + 1\n",
    "    \n",
    "    sum = 0\n",
    "    for i in d:\n",
    "        sum = sum + d[i]\n",
    "#     print(\"Sum \",sum)\n",
    "\n",
    "    return sum\n",
    "    \n",
    "word_frequency(\"Apple Banana apple orange banana APPLE\")"
   ]
  },
  {
   "cell_type": "markdown",
   "id": "f87a64ad",
   "metadata": {},
   "source": [
    "### Highest frequency number"
   ]
  },
  {
   "cell_type": "code",
   "execution_count": null,
   "id": "5f1934b9",
   "metadata": {},
   "outputs": [],
   "source": [
    "n = int(input())\n",
    "a = [int(i) for i in (input().split())]\n",
    "d = dict.fromkeys(a, 0)\n",
    "current_max = 0\n",
    "\n",
    "for i in a[::-1]:\n",
    "    d[i] = d[i] + 1\n",
    "    if d[i] >= current_max:\n",
    "        current_max = d[i]\n",
    "        key_name = i\n",
    "    \n",
    "print(key_name)"
   ]
  },
  {
   "cell_type": "markdown",
   "id": "f69af205",
   "metadata": {},
   "source": [
    "### Maximum Distance"
   ]
  },
  {
   "cell_type": "code",
   "execution_count": 39,
   "id": "0acf8a8a",
   "metadata": {},
   "outputs": [
    {
     "name": "stdout",
     "output_type": "stream",
     "text": [
      "5\n",
      "1 2 2 2 1\n",
      "4\n"
     ]
    }
   ],
   "source": [
    "n = int(input())\n",
    "\n",
    "#taking integer inputs separated by space\n",
    "a = [int(i) for i in (input().split())]\n",
    "#creating dictionary with unique integers from a\n",
    "d = dict.fromkeys(a,0)\n",
    "\n",
    "first = 0\n",
    "last = 0\n",
    "distance = 0\n",
    "\n",
    "\n",
    "for i in a:\n",
    "    first = a.index(i)\n",
    "    last = len(a) - a[::-1].index(i) - 1\n",
    "    distance = last - first\n",
    "    d[i] = distance\n",
    "\n",
    "\n",
    "print(max(d.values()))\n",
    "    "
   ]
  },
  {
   "cell_type": "markdown",
   "id": "f4a71fe8",
   "metadata": {},
   "source": [
    "### Make Unique Array"
   ]
  },
  {
   "cell_type": "code",
   "execution_count": null,
   "id": "b3e37b21",
   "metadata": {},
   "outputs": [],
   "source": [
    "def duplicateCount(arr):\n",
    "    \n",
    "    array_len = len(arr)\n",
    "    set_len = len(set(arr))\n",
    "    return (array_len - set_len)\n",
    "\n",
    "# Main\n",
    "n=int(input())\n",
    "arr=list(int(i) for i in input().strip().split(' '))\n",
    "print(duplicateCount(arr))\n"
   ]
  },
  {
   "cell_type": "markdown",
   "id": "b52c389f",
   "metadata": {},
   "source": [
    "### Update Set"
   ]
  },
  {
   "cell_type": "code",
   "execution_count": 17,
   "id": "0452357a",
   "metadata": {},
   "outputs": [
    {
     "name": "stdout",
     "output_type": "stream",
     "text": [
      "{1, 2, 3, 4, 5, 10, 20}\n"
     ]
    }
   ],
   "source": [
    "def set_update(s,e1,e2):\n",
    "    \n",
    "    s.update({e1,e2})\n",
    "    return set(sorted(s))\n",
    "\n",
    "print(set_update({1,2,3,4,5},10,20))"
   ]
  },
  {
   "cell_type": "markdown",
   "id": "beb518ce",
   "metadata": {},
   "source": [
    "### Unique Values"
   ]
  },
  {
   "cell_type": "code",
   "execution_count": 19,
   "id": "45322dd1",
   "metadata": {},
   "outputs": [
    {
     "data": {
      "text/plain": [
       "4"
      ]
     },
     "execution_count": 19,
     "metadata": {},
     "output_type": "execute_result"
    }
   ],
   "source": [
    "def remove_duplicates(strings):\n",
    "    return len(set(strings))\n",
    "\n",
    "remove_duplicates(['apple', 'banana', 'apple', 'orange', 'banana', 'grape'])"
   ]
  },
  {
   "cell_type": "markdown",
   "id": "17e25fd2",
   "metadata": {},
   "source": [
    "### Unique Prime"
   ]
  },
  {
   "cell_type": "code",
   "execution_count": 27,
   "id": "8189fd47",
   "metadata": {},
   "outputs": [
    {
     "name": "stdout",
     "output_type": "stream",
     "text": [
      "2 3 19 "
     ]
    }
   ],
   "source": [
    "def is_prime(n):\n",
    "    for i in range(2,n):\n",
    "        if n % i == 0:\n",
    "            return False\n",
    "    else:\n",
    "        if(n == 1):\n",
    "            return False\n",
    "        else:\n",
    "            return True\n",
    "\n",
    "def unique_prime_numbers(lis):\n",
    "    primes = set()\n",
    "    for i in lis:\n",
    "        if is_prime(i):\n",
    "            primes.add(i)\n",
    "    for i in sorted(primes):\n",
    "        print(i, end = ' ')\n",
    "        \n",
    "unique_prime_numbers([1, 2, 3, 2, 3, 10, 19])            \n",
    "    \n"
   ]
  }
 ],
 "metadata": {
  "kernelspec": {
   "display_name": "Python 3 (ipykernel)",
   "language": "python",
   "name": "python3"
  },
  "language_info": {
   "codemirror_mode": {
    "name": "ipython",
    "version": 3
   },
   "file_extension": ".py",
   "mimetype": "text/x-python",
   "name": "python",
   "nbconvert_exporter": "python",
   "pygments_lexer": "ipython3",
   "version": "3.11.4"
  }
 },
 "nbformat": 4,
 "nbformat_minor": 5
}
