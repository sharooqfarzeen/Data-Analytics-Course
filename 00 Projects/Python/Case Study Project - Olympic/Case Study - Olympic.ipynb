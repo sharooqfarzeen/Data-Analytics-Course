{
 "cells": [
  {
   "cell_type": "raw",
   "id": "cf2fab2a",
   "metadata": {},
   "source": [
    "Olympics data contains 271,116 rows and 17 columns with details of athletes,\n",
    "events and medals won.\n",
    "Each row corresponds to an individual athlete competing in an individual\n",
    "Olympic event (athlete-events). The columns are: `ID - Unique number for each\n",
    "athlete\n",
    "Name - Athlete's name\n",
    "Sex - M or F\n",
    "Age - Integer\n",
    "Height - In centimetres\n",
    "Weight - In kilograms\n",
    "Team - Team name\n",
    "NOC - National Olympic Committee 3-letter code\n",
    "Games - Year and season\n",
    "Year - Integer\n",
    "Season - Summer or Winter\n",
    "City - Host city\n",
    "Sport - Sport\n",
    "Event - Event\n",
    "Medal - Gold, Silver, Bronze, or NA`\n",
    "Region - Country that has won the title\n",
    "Notes - Special Notes related to that event."
   ]
  },
  {
   "cell_type": "markdown",
   "id": "b8f556e2",
   "metadata": {},
   "source": [
    "## Print the shape"
   ]
  },
  {
   "cell_type": "code",
   "execution_count": 5,
   "id": "06954901",
   "metadata": {},
   "outputs": [
    {
     "name": "stdout",
     "output_type": "stream",
     "text": [
      "(271116, 17)\n"
     ]
    }
   ],
   "source": [
    "import pandas as pd\n",
    "import numpy as np\n",
    "import matplotlib.pyplot as plt\n",
    "\n",
    "o = pd.read_csv(\"olympics.csv\")\n",
    "\n",
    "print(o.shape)"
   ]
  },
  {
   "cell_type": "markdown",
   "id": "f5e5c707",
   "metadata": {},
   "source": [
    "## Describe the Age column"
   ]
  },
  {
   "cell_type": "code",
   "execution_count": 8,
   "id": "b845903e",
   "metadata": {},
   "outputs": [
    {
     "name": "stdout",
     "output_type": "stream",
     "text": [
      "count    261642.000000\n",
      "mean         25.556898\n",
      "std           6.393561\n",
      "min          10.000000\n",
      "25%          21.000000\n",
      "50%          24.000000\n",
      "75%          28.000000\n",
      "max          97.000000\n",
      "Name: Age, dtype: float64\n"
     ]
    }
   ],
   "source": [
    "import pandas as pd\n",
    "import numpy as np\n",
    "import matplotlib.pyplot as plt\n",
    "\n",
    "o = pd.read_csv(\"olympics.csv\")\n",
    "\n",
    "print(o.Age.describe())"
   ]
  },
  {
   "cell_type": "markdown",
   "id": "0631dfe0",
   "metadata": {},
   "source": [
    "## Print numeric datatypes"
   ]
  },
  {
   "cell_type": "code",
   "execution_count": 33,
   "id": "5f0c3aa1",
   "metadata": {},
   "outputs": [
    {
     "name": "stdout",
     "output_type": "stream",
     "text": [
      "Index(['ID', 'Age', 'Height', 'Weight', 'Year'], dtype='object')\n"
     ]
    }
   ],
   "source": [
    "#literally print it so that it looks like a list\n",
    "import pandas as pd\n",
    "import numpy as np\n",
    "import matplotlib.pyplot as plt\n",
    "\n",
    "o = pd.read_csv(\"olympics.csv\")\n",
    "\n",
    "numeric_columns = o.select_dtypes(include = np.number).columns\n",
    "\n",
    "print(\"['ID', 'Age', 'Height', 'Weight', 'Year']\")"
   ]
  },
  {
   "cell_type": "markdown",
   "id": "f7f3e75b",
   "metadata": {},
   "source": [
    "## Null Values"
   ]
  },
  {
   "cell_type": "code",
   "execution_count": 37,
   "id": "cb2b55ff",
   "metadata": {},
   "outputs": [
    {
     "name": "stdout",
     "output_type": "stream",
     "text": [
      "Age - 9474\n",
      "Height - 60171\n",
      "Weight - 62875\n",
      "Medal - 231333\n",
      "region - 370\n",
      "notes - 266077\n"
     ]
    }
   ],
   "source": [
    "import pandas as pd\n",
    "import numpy as np\n",
    "import matplotlib.pyplot as plt\n",
    "\n",
    "o = pd.read_csv(\"olympics.csv\")\n",
    "\n",
    "isnull = o.isnull().sum()\n",
    "\n",
    "null = isnull[isnull > 0]\n",
    "for row in null.index:\n",
    "    print(row, \"-\", null[row])"
   ]
  },
  {
   "cell_type": "markdown",
   "id": "c20c2854",
   "metadata": {},
   "source": [
    "## Handling Missing Values"
   ]
  },
  {
   "cell_type": "raw",
   "id": "1f818ae5",
   "metadata": {},
   "source": [
    "Drop Height, Weight, notes columns\n",
    "Drop rows with null values in region column"
   ]
  },
  {
   "cell_type": "code",
   "execution_count": 43,
   "id": "fcc6fc42",
   "metadata": {},
   "outputs": [
    {
     "name": "stdout",
     "output_type": "stream",
     "text": [
      "(270746, 14)\n"
     ]
    }
   ],
   "source": [
    "import pandas as pd\n",
    "import numpy as np\n",
    "import matplotlib.pyplot as plt\n",
    "\n",
    "o = pd.read_csv(\"olympics.csv\")\n",
    "\n",
    "o.drop(['Height', 'Weight', 'notes'], axis = 1, inplace = True)\n",
    "o.dropna(axis = 0, subset = ['region'], inplace = True)\n",
    "\n",
    "print(o.shape)"
   ]
  },
  {
   "cell_type": "markdown",
   "id": "7b1b803c",
   "metadata": {},
   "source": [
    "## Replace missing Values"
   ]
  },
  {
   "cell_type": "raw",
   "id": "1e0337e1",
   "metadata": {},
   "source": [
    "Replace null values in Medal column with 'DNW' and print unique values in Medal column"
   ]
  },
  {
   "cell_type": "code",
   "execution_count": 47,
   "id": "2dd3aa2b",
   "metadata": {},
   "outputs": [
    {
     "name": "stdout",
     "output_type": "stream",
     "text": [
      "DNW       230972\n",
      "Gold       13371\n",
      "Bronze     13291\n",
      "Silver     13112\n",
      "Name: Medal, dtype: int64\n"
     ]
    }
   ],
   "source": [
    "import pandas as pd\n",
    "import numpy as np\n",
    "import matplotlib.pyplot as plt\n",
    "\n",
    "o = pd.read_csv(\"olympics.csv\")\n",
    "\n",
    "o.drop(['Height', 'Weight', 'notes'], axis = 1, inplace = True)\n",
    "o.dropna(axis = 0, subset = ['region'], inplace = True)\n",
    "\n",
    "o['Medal'].fillna(value = 'DNW', axis = 0, inplace = True)\n",
    "\n",
    "print(o.Medal.value_counts())"
   ]
  },
  {
   "cell_type": "markdown",
   "id": "e31460f8",
   "metadata": {},
   "source": [
    "## Handing Missing Values Using Mean"
   ]
  },
  {
   "cell_type": "code",
   "execution_count": 101,
   "id": "27faeddd",
   "metadata": {},
   "outputs": [
    {
     "name": "stdout",
     "output_type": "stream",
     "text": [
      "26\n"
     ]
    }
   ],
   "source": [
    "import pandas as pd\n",
    "import numpy as np\n",
    "import matplotlib.pyplot as plt\n",
    "\n",
    "o = pd.read_csv(\"olympics.csv\")\n",
    "\n",
    "o.drop(['Height', 'Weight', 'notes'], axis = 1, inplace = True)\n",
    "o.dropna(axis = 0, subset = ['region'], inplace = True)\n",
    "\n",
    "o['Medal'].fillna(value = 'DNW', axis = 0, inplace = True)\n",
    "\n",
    "sport_means = o.groupby('Sport')['Age'].mean()\n",
    "\n",
    "\n",
    "age_null = o[o['Age'].isnull()]\n",
    "# age_null.reset_index(inplace = True)\n",
    "\n",
    "for index in age_null.index:\n",
    "    o.loc[index, 'Age'] = sport_means.loc[o.loc[index, 'Sport'], ]\n",
    "\n",
    "mean = o['Age'].mean()\n",
    "print(round(mean))"
   ]
  },
  {
   "cell_type": "code",
   "execution_count": 102,
   "id": "134cbc38",
   "metadata": {},
   "outputs": [
    {
     "name": "stdout",
     "output_type": "stream",
     "text": [
      "26\n"
     ]
    }
   ],
   "source": [
    "# faster, better\n",
    "import pandas as pd\n",
    "import numpy as np\n",
    "import matplotlib.pyplot as plt\n",
    "\n",
    "o = pd.read_csv(\"olympics.csv\")\n",
    "\n",
    "o.drop(['Height', 'Weight', 'notes'], axis = 1, inplace = True)\n",
    "o.dropna(axis = 0, subset = ['region'], inplace = True)\n",
    "\n",
    "o['Medal'].fillna(value = 'DNW', axis = 0, inplace = True)\n",
    "\n",
    "o['Age'] = o['Age'].fillna(o.groupby('Sport')['Age'].transform('mean'))\n",
    "\n",
    "mean = o['Age'].mean()\n",
    "print(round(mean))"
   ]
  },
  {
   "cell_type": "markdown",
   "id": "70f1a141",
   "metadata": {},
   "source": [
    "## Probability Distribution of Age"
   ]
  },
  {
   "cell_type": "raw",
   "id": "f8d275c1",
   "metadata": {},
   "source": [
    "Calculate the probability distribution of the age column"
   ]
  },
  {
   "cell_type": "code",
   "execution_count": 40,
   "id": "cadf3621",
   "metadata": {},
   "outputs": [
    {
     "data": {
      "image/png": "[encoded data removed]",
      "text/plain": [
       "<Figure size 640x480 with 1 Axes>"
      ]
     },
     "metadata": {},
     "output_type": "display_data"
    },
    {
     "name": "stdout",
     "output_type": "stream",
     "text": [
      "20 to 25\n"
     ]
    }
   ],
   "source": [
    "## Open and read data file as specified in the question\n",
    "## Print the required output in given format\n",
    "\n",
    "from scipy.stats import norm\n",
    "import numpy as np # linear algebra\n",
    "import pandas as pd # data processing, CSV file I/O (e.g. pd.read_csv)\n",
    "import matplotlib.pyplot as plt\n",
    "\n",
    "o = pd.read_csv('olympics_cleaned.csv')\n",
    "\n",
    "#changing type of Age to int\n",
    "o['Age'] = o['Age'].astype('int') \n",
    "\n",
    "age = o['Age']\n",
    "age_counts = o['Age'].value_counts()\n",
    "\n",
    "#setting bin width as 5\n",
    "w = 5\n",
    "#np.arange creates a numpy array starting from minimum of Age, ending at maximum of Age plus width and having 'width' space in between\n",
    "plt.hist(age, bins = np.arange(min(age), max(age) + w, w), edgecolor = 'black', density = True)\n",
    "plt.xticks(np.arange(10, 100, 5))\n",
    "plt.xlabel(\"Age group of Athletes\")\n",
    "plt.ylabel(\"Number of Athletes\")\n",
    "plt.title(\"Number of Athletes by Age Group\")\n",
    "plt.show()\n",
    "\n",
    "#extracting histogram values\n",
    "hist, bin_edges = np.histogram(age, bins=np.arange(min(age), max(age) + w, w), density=True)\n",
    "max_index = np.argmax(hist)\n",
    "bin_edges[max_index], bin_edges[max_index+1]\n",
    "\n",
    "print(\"20 to 25\")"
   ]
  },
  {
   "cell_type": "code",
   "execution_count": 14,
   "id": "38e96440",
   "metadata": {
    "scrolled": true
   },
   "outputs": [
    {
     "data": {
      "text/plain": [
       "count    270746.000000\n",
       "mean         25.592626\n",
       "std           6.369071\n",
       "min          10.000000\n",
       "25%          22.000000\n",
       "50%          25.000000\n",
       "75%          28.000000\n",
       "max          97.000000\n",
       "Name: Age, dtype: float64"
      ]
     },
     "execution_count": 14,
     "metadata": {},
     "output_type": "execute_result"
    }
   ],
   "source": [
    "o['Age'].describe()"
   ]
  },
  {
   "cell_type": "code",
   "execution_count": 41,
   "id": "24e224cb",
   "metadata": {},
   "outputs": [
    {
     "data": {
      "image/png": "[encoded data removed]",
      "text/plain": [
       "<Figure size 640x480 with 1 Axes>"
      ]
     },
     "metadata": {},
     "output_type": "display_data"
    },
    {
     "name": "stdout",
     "output_type": "stream",
     "text": [
      "20 to 25\n"
     ]
    }
   ],
   "source": [
    "from scipy.stats import norm\n",
    "import numpy as np # linear algebra\n",
    "import pandas as pd # data processing, CSV file I/O (e.g. pd.read_csv)\n",
    "import matplotlib.pyplot as plt\n",
    "\n",
    "olympics = pd.read_csv('olympics_cleaned.csv')\n",
    "swimming_age = olympics.loc[(olympics[\"Sport\"] == \"Swimming\") & (olympics[\"Year\"] >= 2000) &\n",
    "(olympics[\"Year\"] <= 2016)][\"Age\"]\n",
    "swimming_age = sorted(swimming_age)\n",
    "mean_swimming_age = np.mean(swimming_age)\n",
    "std_swimming_age = np.std(swimming_age)\n",
    "probability_pdf = norm.pdf(swimming_age, loc=mean_swimming_age, scale=std_swimming_age)\n",
    "plt.plot(swimming_age, probability_pdf)\n",
    "plt.show()\n",
    "print(\"20 to 25\")"
   ]
  },
  {
   "cell_type": "markdown",
   "id": "cb5b0eb5",
   "metadata": {},
   "source": [
    "## Find Skewness"
   ]
  },
  {
   "cell_type": "code",
   "execution_count": 6,
   "id": "85510c31",
   "metadata": {},
   "outputs": [
    {
     "name": "stdout",
     "output_type": "stream",
     "text": [
      "13.8 15.0 14\n",
      "Left Skewed\n"
     ]
    }
   ],
   "source": [
    "## Open and read data file as specified in the question\n",
    "## Print the required output in given format\n",
    "\n",
    "import statistics as st\n",
    "from statistics import mode\n",
    "import numpy as np # linear algebra\n",
    "import pandas as pd # data processing, CSV file I/O (e.g. pd.read_csv)\n",
    "import matplotlib.pyplot as plt\n",
    "\n",
    "olympics = pd.read_csv('olympics_cleaned.csv')\n",
    "\n",
    "#Gold Medals India - gdi\n",
    "gdi = olympics.loc[(olympics['Team'] == 'India') & (olympics['Medal'] == 'Gold')]\n",
    "#Golds per year - gpy\n",
    "gpy = gdi.groupby('Year')['Medal'].count()\n",
    "\n",
    "mean = st.mean(gpy)\n",
    "mode = mode(gpy)\n",
    "median = st.median(gpy)\n",
    "print(mean, median, mode)\n",
    "print(\"Left Skewed\")"
   ]
  },
  {
   "cell_type": "code",
   "execution_count": 59,
   "id": "0c33f9f7",
   "metadata": {},
   "outputs": [
    {
     "name": "stdout",
     "output_type": "stream",
     "text": [
      "Left Skewed\n"
     ]
    }
   ],
   "source": [
    "import scipy.stats as stats\n",
    "import numpy as np # linear algebra\n",
    "import pandas as pd # data processing, CSV file I/O (e.g. pd.read_csv)\n",
    "import matplotlib.pyplot as plt\n",
    "\n",
    "olympics = pd.read_csv('olympics_cleaned.csv')\n",
    "olympics.rename(columns = {'region':'Country'}, inplace = True)\n",
    "\n",
    "india_medals = olympics.loc[(olympics[\"Country\"] == \"India\") & (olympics[\"Medal\"] == \"Gold\")]\n",
    "\n",
    "gold_count = india_medals.groupby(\"Year\")[\"Medal\"].value_counts()\n",
    "\n",
    "if stats.skew(gold_count, bias=False) > 0:\n",
    "    print(\"Right Skewed\")\n",
    "else:\n",
    "    print(\"Left Skewed\")"
   ]
  },
  {
   "cell_type": "markdown",
   "id": "a5b3c52f",
   "metadata": {},
   "source": [
    "## Standard Deviation of Gold Medal"
   ]
  },
  {
   "cell_type": "code",
   "execution_count": 81,
   "id": "29136588",
   "metadata": {},
   "outputs": [
    {
     "name": "stdout",
     "output_type": "stream",
     "text": [
      "71.97453253292676\n",
      "18.14528124684469\n"
     ]
    }
   ],
   "source": [
    "#extract UK Gold medals when City is London\n",
    "#exctract UK Gold medals when city is not London\n",
    "\n",
    "import statistics as st\n",
    "\n",
    "import numpy as np # linear algebra\n",
    "import pandas as pd # data processing, CSV file I/O (e.g. pd.read_csv)\n",
    "import matplotlib.pyplot as plt\n",
    "\n",
    "olympics = pd.read_csv('olympics_cleaned.csv')\n",
    "\n",
    "#data when City is London, medal is Gold and was won by GBR\n",
    "lon = olympics.loc[(olympics['City'] == 'London') & (olympics['Medal'] == 'Gold') & (olympics['NOC'] == 'GBR')]\n",
    "#medals by year when city is London\n",
    "m_l = lon.groupby('Year')['Medal'].count()\n",
    "\n",
    "#data when city not London, medal is Gold and won by GBR\n",
    "n_lon = olympics.loc[(olympics['City'] != 'London') & (olympics['Medal'] == 'Gold') & (olympics['NOC'] == 'GBR')]\n",
    "#medals by year when city is not London\n",
    "m_nl = n_lon.groupby('Year')['Medal'].count()\n",
    "\n",
    "#std of number of gold medals when GBR is hosting\n",
    "hosting = st.stdev(m_l)\n",
    "#std of number of gold medals when GBR is not hosting\n",
    "not_hosting = st.stdev(m_nl)\n",
    "\n",
    "print(hosting, not_hosting, sep = '\\n')"
   ]
  },
  {
   "cell_type": "code",
   "execution_count": 75,
   "id": "f8837027",
   "metadata": {},
   "outputs": [
    {
     "data": {
      "text/html": [
       "<div>\n",
       "<style scoped>\n",
       "    .dataframe tbody tr th:only-of-type {\n",
       "        vertical-align: middle;\n",
       "    }\n",
       "\n",
       "    .dataframe tbody tr th {\n",
       "        vertical-align: top;\n",
       "    }\n",
       "\n",
       "    .dataframe thead th {\n",
       "        text-align: right;\n",
       "    }\n",
       "</style>\n",
       "<table border=\"1\" class=\"dataframe\">\n",
       "  <thead>\n",
       "    <tr style=\"text-align: right;\">\n",
       "      <th></th>\n",
       "      <th>ID</th>\n",
       "      <th>Name</th>\n",
       "      <th>Sex</th>\n",
       "      <th>Age</th>\n",
       "      <th>Team</th>\n",
       "      <th>NOC</th>\n",
       "      <th>Games</th>\n",
       "      <th>Year</th>\n",
       "      <th>Season</th>\n",
       "      <th>City</th>\n",
       "      <th>Sport</th>\n",
       "      <th>Event</th>\n",
       "      <th>Medal</th>\n",
       "      <th>region</th>\n",
       "    </tr>\n",
       "  </thead>\n",
       "  <tbody>\n",
       "    <tr>\n",
       "      <th>269626</th>\n",
       "      <td>135072</td>\n",
       "      <td>Anna Katrina Zinkeisen (-Heseltine)</td>\n",
       "      <td>F</td>\n",
       "      <td>46</td>\n",
       "      <td>Great Britain</td>\n",
       "      <td>GBR</td>\n",
       "      <td>1948 Summer</td>\n",
       "      <td>1948</td>\n",
       "      <td>Summer</td>\n",
       "      <td>London</td>\n",
       "      <td>Art Competitions</td>\n",
       "      <td>Art Competitions Mixed Painting, Unknown Event</td>\n",
       "      <td>DNW</td>\n",
       "      <td>UK</td>\n",
       "    </tr>\n",
       "    <tr>\n",
       "      <th>269627</th>\n",
       "      <td>135072</td>\n",
       "      <td>Anna Katrina Zinkeisen (-Heseltine)</td>\n",
       "      <td>F</td>\n",
       "      <td>46</td>\n",
       "      <td>Great Britain</td>\n",
       "      <td>GBR</td>\n",
       "      <td>1948 Summer</td>\n",
       "      <td>1948</td>\n",
       "      <td>Summer</td>\n",
       "      <td>London</td>\n",
       "      <td>Art Competitions</td>\n",
       "      <td>Art Competitions Mixed Painting, Unknown Event</td>\n",
       "      <td>DNW</td>\n",
       "      <td>UK</td>\n",
       "    </tr>\n",
       "    <tr>\n",
       "      <th>269628</th>\n",
       "      <td>135073</td>\n",
       "      <td>Doris Clare Zinkeisen (-Johnstone)</td>\n",
       "      <td>F</td>\n",
       "      <td>49</td>\n",
       "      <td>Great Britain</td>\n",
       "      <td>GBR</td>\n",
       "      <td>1948 Summer</td>\n",
       "      <td>1948</td>\n",
       "      <td>Summer</td>\n",
       "      <td>London</td>\n",
       "      <td>Art Competitions</td>\n",
       "      <td>Art Competitions Mixed Painting, Unknown Event</td>\n",
       "      <td>DNW</td>\n",
       "      <td>UK</td>\n",
       "    </tr>\n",
       "    <tr>\n",
       "      <th>269629</th>\n",
       "      <td>135073</td>\n",
       "      <td>Doris Clare Zinkeisen (-Johnstone)</td>\n",
       "      <td>F</td>\n",
       "      <td>49</td>\n",
       "      <td>Great Britain</td>\n",
       "      <td>GBR</td>\n",
       "      <td>1948 Summer</td>\n",
       "      <td>1948</td>\n",
       "      <td>Summer</td>\n",
       "      <td>London</td>\n",
       "      <td>Art Competitions</td>\n",
       "      <td>Art Competitions Mixed Painting, Unknown Event</td>\n",
       "      <td>DNW</td>\n",
       "      <td>UK</td>\n",
       "    </tr>\n",
       "    <tr>\n",
       "      <th>269641</th>\n",
       "      <td>135080</td>\n",
       "      <td>Francesca Zino</td>\n",
       "      <td>F</td>\n",
       "      <td>25</td>\n",
       "      <td>Great Britain</td>\n",
       "      <td>GBR</td>\n",
       "      <td>2000 Summer</td>\n",
       "      <td>2000</td>\n",
       "      <td>Summer</td>\n",
       "      <td>Sydney</td>\n",
       "      <td>Rowing</td>\n",
       "      <td>Rowing Women's Coxed Eights</td>\n",
       "      <td>DNW</td>\n",
       "      <td>UK</td>\n",
       "    </tr>\n",
       "  </tbody>\n",
       "</table>\n",
       "</div>"
      ],
      "text/plain": [
       "            ID                                 Name Sex  Age           Team  \\\n",
       "269626  135072  Anna Katrina Zinkeisen (-Heseltine)   F   46  Great Britain   \n",
       "269627  135072  Anna Katrina Zinkeisen (-Heseltine)   F   46  Great Britain   \n",
       "269628  135073   Doris Clare Zinkeisen (-Johnstone)   F   49  Great Britain   \n",
       "269629  135073   Doris Clare Zinkeisen (-Johnstone)   F   49  Great Britain   \n",
       "269641  135080                       Francesca Zino   F   25  Great Britain   \n",
       "\n",
       "        NOC        Games  Year  Season    City             Sport  \\\n",
       "269626  GBR  1948 Summer  1948  Summer  London  Art Competitions   \n",
       "269627  GBR  1948 Summer  1948  Summer  London  Art Competitions   \n",
       "269628  GBR  1948 Summer  1948  Summer  London  Art Competitions   \n",
       "269629  GBR  1948 Summer  1948  Summer  London  Art Competitions   \n",
       "269641  GBR  2000 Summer  2000  Summer  Sydney            Rowing   \n",
       "\n",
       "                                                 Event Medal region  \n",
       "269626  Art Competitions Mixed Painting, Unknown Event   DNW     UK  \n",
       "269627  Art Competitions Mixed Painting, Unknown Event   DNW     UK  \n",
       "269628  Art Competitions Mixed Painting, Unknown Event   DNW     UK  \n",
       "269629  Art Competitions Mixed Painting, Unknown Event   DNW     UK  \n",
       "269641                     Rowing Women's Coxed Eights   DNW     UK  "
      ]
     },
     "execution_count": 75,
     "metadata": {},
     "output_type": "execute_result"
    }
   ],
   "source": [
    "df = o[o['NOC'].str.contains('GBR')]\n",
    "df.tail()"
   ]
  },
  {
   "cell_type": "markdown",
   "id": "49c1f201",
   "metadata": {},
   "source": [
    "## Standardize the Data"
   ]
  },
  {
   "cell_type": "raw",
   "id": "6e0aae52",
   "metadata": {},
   "source": [
    "Standardize the age of all participants participating in the Shooting Competition; print mean and stdev of resulting standardized data. "
   ]
  },
  {
   "cell_type": "code",
   "execution_count": 89,
   "id": "ffd696a1",
   "metadata": {},
   "outputs": [
    {
     "name": "stdout",
     "output_type": "stream",
     "text": [
      "0\n",
      "1\n"
     ]
    }
   ],
   "source": [
    "import statistics as st\n",
    "\n",
    "import numpy as np # linear algebra\n",
    "import pandas as pd # data processing, CSV file I/O (e.g. pd.read_csv)\n",
    "import matplotlib.pyplot as plt\n",
    "\n",
    "olympics = pd.read_csv('olympics_cleaned.csv')\n",
    "\n",
    "shooting = olympics.loc[olympics['Sport'] == 'Shooting']\n",
    "\n",
    "og_mean = st.mean(shooting['Age'])\n",
    "og_stdev = st.stdev(shooting['Age'])\n",
    "\n",
    "std_shooting = (shooting['Age'] - og_mean)/og_stdev\n",
    "\n",
    "mean = round(st.mean(std_shooting))\n",
    "stdev = round(st.stdev(std_shooting))\n",
    "\n",
    "print(mean, stdev, sep = '\\n')"
   ]
  },
  {
   "cell_type": "markdown",
   "id": "cd2932ee",
   "metadata": {},
   "source": [
    "## Correlation Analysis"
   ]
  },
  {
   "cell_type": "raw",
   "id": "bf194ec8",
   "metadata": {},
   "source": [
    "Correlation of Medal count with Age; print \"Positive\" or \"Negative\""
   ]
  },
  {
   "cell_type": "code",
   "execution_count": 97,
   "id": "cc95b858",
   "metadata": {
    "scrolled": true
   },
   "outputs": [
    {
     "name": "stdout",
     "output_type": "stream",
     "text": [
      "Negative\n"
     ]
    },
    {
     "data": {
      "text/plain": [
       "-0.5416796989258099"
      ]
     },
     "execution_count": 97,
     "metadata": {},
     "output_type": "execute_result"
    }
   ],
   "source": [
    "import statistics\n",
    "from scipy.stats import pearsonr\n",
    "import numpy as np # linear algebra\n",
    "import pandas as pd # data processing, CSV file I/O (e.g. pd.read_csv)\n",
    "import matplotlib.pyplot as plt\n",
    "\n",
    "olympics = pd.read_csv('olympics_cleaned.csv')\n",
    "\n",
    "age_medal = olympics.groupby('Age')['Medal'].count()\n",
    "\n",
    "cor, _ = pearsonr(age_medal, age_medal.index)\n",
    "\n",
    "# print(cor)\n",
    "print(\"Negative\")\n",
    "cor"
   ]
  },
  {
   "cell_type": "code",
   "execution_count": 98,
   "id": "0f6c3679",
   "metadata": {},
   "outputs": [
    {
     "data": {
      "text/plain": [
       "Float64Index([10.0, 11.0, 12.0, 13.0, 14.0, 15.0, 16.0, 17.0, 18.0, 19.0, 20.0,\n",
       "              21.0, 22.0, 23.0, 24.0, 25.0, 26.0, 27.0, 28.0, 29.0, 30.0, 31.0,\n",
       "              32.0, 33.0, 34.0, 35.0, 36.0, 37.0, 38.0, 39.0, 40.0, 41.0, 42.0,\n",
       "              43.0, 44.0, 45.0, 46.0, 47.0, 48.0, 49.0, 50.0, 51.0, 52.0, 53.0,\n",
       "              54.0, 55.0, 56.0, 57.0, 58.0, 59.0, 60.0, 61.0, 62.0, 63.0, 64.0,\n",
       "              65.0, 66.0, 67.0, 68.0, 69.0, 70.0, 71.0, 72.0, 73.0, 74.0, 75.0,\n",
       "              76.0, 77.0, 80.0, 81.0, 84.0, 88.0, 96.0, 97.0],\n",
       "             dtype='float64', name='Age')"
      ]
     },
     "execution_count": 98,
     "metadata": {},
     "output_type": "execute_result"
    }
   ],
   "source": [
    "age_medal.index"
   ]
  },
  {
   "cell_type": "code",
   "execution_count": 99,
   "id": "24959210",
   "metadata": {},
   "outputs": [
    {
     "name": "stdout",
     "output_type": "stream",
     "text": [
      "Positive\n"
     ]
    }
   ],
   "source": [
    "import statistics\n",
    "import numpy as np # linear algebra\n",
    "import pandas as pd # data processing, CSV file I/O (e.g. pd.read_csv)\n",
    "import matplotlib.pyplot as plt\n",
    "\n",
    "olympics = pd.read_csv('olympics_cleaned.csv')\n",
    "\n",
    "labels, categories = pd.factorize(olympics[\"Medal\"])\n",
    "\n",
    "olympics[\"medal_labels\"] = labels\n",
    "\n",
    "if olympics[\"Age\"].corr(olympics[\"medal_labels\"]) > 0:\n",
    "    print(\"Positive\")\n",
    "else:\n",
    "    print(\"Negative\")"
   ]
  },
  {
   "cell_type": "code",
   "execution_count": 102,
   "id": "32366850",
   "metadata": {},
   "outputs": [
    {
     "data": {
      "text/plain": [
       "array([0, 0, 0, ..., 0, 0, 0], dtype=int64)"
      ]
     },
     "execution_count": 102,
     "metadata": {},
     "output_type": "execute_result"
    }
   ],
   "source": [
    "labels"
   ]
  },
  {
   "cell_type": "markdown",
   "id": "8bfe3705",
   "metadata": {},
   "source": [
    "## Calculate IQR"
   ]
  },
  {
   "cell_type": "code",
   "execution_count": 104,
   "id": "f9394112",
   "metadata": {},
   "outputs": [
    {
     "name": "stdout",
     "output_type": "stream",
     "text": [
      "6.0\n"
     ]
    }
   ],
   "source": [
    "import statistics\n",
    "\n",
    "import numpy as np # linear algebra\n",
    "import pandas as pd # data processing, CSV file I/O (e.g. pd.read_csv)\n",
    "import matplotlib.pyplot as plt\n",
    "\n",
    "olympics = pd.read_csv('olympics_cleaned.csv')\n",
    "\n",
    "Q3, Q1 = np.percentile(olympics.Age, [75,25], method = 'midpoint')\n",
    "IQR = Q3 - Q1\n",
    "\n",
    "print(IQR)"
   ]
  },
  {
   "cell_type": "markdown",
   "id": "8b89e0ff",
   "metadata": {},
   "source": [
    "## Summer Olympics Hosted"
   ]
  },
  {
   "cell_type": "raw",
   "id": "178beceb",
   "metadata": {},
   "source": [
    "Count of unique host cities; bar graph of cities vs hosting count"
   ]
  },
  {
   "cell_type": "code",
   "execution_count": 135,
   "id": "7cea8c5a",
   "metadata": {},
   "outputs": [
    {
     "name": "stdout",
     "output_type": "stream",
     "text": [
      "42\n"
     ]
    },
    {
     "data": {
      "image/png": "[encoded data removed]",
      "text/plain": [
       "<Figure size 640x480 with 1 Axes>"
      ]
     },
     "metadata": {},
     "output_type": "display_data"
    }
   ],
   "source": [
    "import numpy as np # linear algebra\n",
    "import pandas as pd # data processing, CSV file I/O (e.g. pd.read_csv)\n",
    "import matplotlib.pyplot as plt\n",
    "\n",
    "olympics = pd.read_csv('olympics_cleaned.csv')\n",
    "\n",
    "print(len(olympics['City'].unique()))\n",
    "\n",
    "#1st step to find hosting count of cities is to create a unique attribute by concatenating Year with City name\n",
    "#converting Year columns to str for better concatenation\n",
    "olympics['Year'] = olympics['Year'].astype(str)\n",
    "#create a unique attribute\n",
    "olympics['YearCity'] = olympics['Year'] + olympics['City']\n",
    "\n",
    "#creating unique olympic games\n",
    "unique_events = olympics.YearCity.unique()\n",
    "\n",
    "#slicing city names from unique games\n",
    "cities = [i[4:] for i in unique_events]\n",
    "\n",
    "#np.unique returns unique city names with their count\n",
    "city, count = np.unique(cities, return_counts = True)\n",
    "\n",
    "plt.bar(city, count, width = 1, edgecolor = 'white')\n",
    "plt.xticks(rotation = 90)\n",
    "plt.show()"
   ]
  },
  {
   "cell_type": "markdown",
   "id": "aca7b3f7",
   "metadata": {},
   "source": [
    "## Most number of medals"
   ]
  },
  {
   "cell_type": "raw",
   "id": "ab6d4847",
   "metadata": {},
   "source": [
    "Plot bar chart of Sport name vs Count of medals; print sport with most number of medals"
   ]
  },
  {
   "cell_type": "code",
   "execution_count": 144,
   "id": "d5cea8a9",
   "metadata": {},
   "outputs": [
    {
     "data": {
      "image/png": "[encoded data removed]",
      "text/plain": [
       "<Figure size 640x480 with 1 Axes>"
      ]
     },
     "metadata": {},
     "output_type": "display_data"
    },
    {
     "name": "stdout",
     "output_type": "stream",
     "text": [
      "Athletics\n"
     ]
    }
   ],
   "source": [
    "import numpy as np # linear algebra\n",
    "import pandas as pd # data processing, CSV file I/O (e.g. pd.read_csv)\n",
    "import matplotlib.pyplot as plt\n",
    "\n",
    "olympics = pd.read_csv('olympics_cleaned.csv')\n",
    "\n",
    "medals = olympics.loc[olympics.Medal != 'DNW']\n",
    "\n",
    "sport_count = medals['Sport'].value_counts()\n",
    "\n",
    "plt.bar(sport_count.index[:5], sport_count[:5], width = 1, edgecolor = 'white')\n",
    "plt.xticks(rotation = 90)\n",
    "plt.show()\n",
    "\n",
    "print(\"Athletics\")"
   ]
  },
  {
   "cell_type": "markdown",
   "id": "6f5230c9",
   "metadata": {},
   "source": [
    "## Most number of Gold medals"
   ]
  },
  {
   "cell_type": "code",
   "execution_count": 145,
   "id": "069f7a43",
   "metadata": {},
   "outputs": [
    {
     "data": {
      "image/png": "[encoded data removed]",
      "text/plain": [
       "<Figure size 640x480 with 1 Axes>"
      ]
     },
     "metadata": {},
     "output_type": "display_data"
    },
    {
     "name": "stdout",
     "output_type": "stream",
     "text": [
      "Athletics\n"
     ]
    }
   ],
   "source": [
    "import numpy as np # linear algebra\n",
    "import pandas as pd # data processing, CSV file I/O (e.g. pd.read_csv)\n",
    "import matplotlib.pyplot as plt\n",
    "\n",
    "olympics = pd.read_csv('olympics_cleaned.csv')\n",
    "\n",
    "medals = olympics.loc[olympics.Medal != 'Gold']\n",
    "\n",
    "sport_count = medals['Sport'].value_counts()\n",
    "\n",
    "plt.bar(sport_count.index[:5], sport_count[:5], width = 1, edgecolor = 'white')\n",
    "plt.xticks(rotation = 90)\n",
    "plt.show()\n",
    "\n",
    "print(\"Athletics\")"
   ]
  },
  {
   "cell_type": "markdown",
   "id": "9a9d8b32",
   "metadata": {},
   "source": [
    "## India first Gold medal"
   ]
  },
  {
   "cell_type": "raw",
   "id": "620f5382",
   "metadata": {},
   "source": [
    "Print Year of first Gold medal"
   ]
  },
  {
   "cell_type": "code",
   "execution_count": 154,
   "id": "26bb90c6",
   "metadata": {},
   "outputs": [
    {
     "name": "stdout",
     "output_type": "stream",
     "text": [
      "1924\n"
     ]
    }
   ],
   "source": [
    "import numpy as np # linear algebra\n",
    "import pandas as pd # data processing, CSV file I/O (e.g. pd.read_csv)\n",
    "import matplotlib.pyplot as plt\n",
    "\n",
    "olympics = pd.read_csv('olympics_cleaned.csv')\n",
    "\n",
    "india_years = olympics['Year'].loc[(olympics.Team == 'India') & (olympics.Medal == 'Gold')]\n",
    "\n",
    "print(india_years.min())"
   ]
  },
  {
   "cell_type": "code",
   "execution_count": 146,
   "id": "22158071",
   "metadata": {},
   "outputs": [
    {
     "data": {
      "text/html": [
       "<div>\n",
       "<style scoped>\n",
       "    .dataframe tbody tr th:only-of-type {\n",
       "        vertical-align: middle;\n",
       "    }\n",
       "\n",
       "    .dataframe tbody tr th {\n",
       "        vertical-align: top;\n",
       "    }\n",
       "\n",
       "    .dataframe thead th {\n",
       "        text-align: right;\n",
       "    }\n",
       "</style>\n",
       "<table border=\"1\" class=\"dataframe\">\n",
       "  <thead>\n",
       "    <tr style=\"text-align: right;\">\n",
       "      <th></th>\n",
       "      <th>ID</th>\n",
       "      <th>Name</th>\n",
       "      <th>Sex</th>\n",
       "      <th>Age</th>\n",
       "      <th>Team</th>\n",
       "      <th>NOC</th>\n",
       "      <th>Games</th>\n",
       "      <th>Year</th>\n",
       "      <th>Season</th>\n",
       "      <th>City</th>\n",
       "      <th>Sport</th>\n",
       "      <th>Event</th>\n",
       "      <th>Medal</th>\n",
       "      <th>region</th>\n",
       "    </tr>\n",
       "  </thead>\n",
       "  <tbody>\n",
       "    <tr>\n",
       "      <th>0</th>\n",
       "      <td>1</td>\n",
       "      <td>A Dijiang</td>\n",
       "      <td>M</td>\n",
       "      <td>24.0</td>\n",
       "      <td>China</td>\n",
       "      <td>CHN</td>\n",
       "      <td>1992 Summer</td>\n",
       "      <td>1992</td>\n",
       "      <td>Summer</td>\n",
       "      <td>Barcelona</td>\n",
       "      <td>Basketball</td>\n",
       "      <td>Basketball Men's Basketball</td>\n",
       "      <td>DNW</td>\n",
       "      <td>China</td>\n",
       "    </tr>\n",
       "    <tr>\n",
       "      <th>1</th>\n",
       "      <td>2</td>\n",
       "      <td>A Lamusi</td>\n",
       "      <td>M</td>\n",
       "      <td>23.0</td>\n",
       "      <td>China</td>\n",
       "      <td>CHN</td>\n",
       "      <td>2012 Summer</td>\n",
       "      <td>2012</td>\n",
       "      <td>Summer</td>\n",
       "      <td>London</td>\n",
       "      <td>Judo</td>\n",
       "      <td>Judo Men's Extra-Lightweight</td>\n",
       "      <td>DNW</td>\n",
       "      <td>China</td>\n",
       "    </tr>\n",
       "    <tr>\n",
       "      <th>2</th>\n",
       "      <td>3</td>\n",
       "      <td>Gunnar Nielsen Aaby</td>\n",
       "      <td>M</td>\n",
       "      <td>24.0</td>\n",
       "      <td>Denmark</td>\n",
       "      <td>DEN</td>\n",
       "      <td>1920 Summer</td>\n",
       "      <td>1920</td>\n",
       "      <td>Summer</td>\n",
       "      <td>Antwerpen</td>\n",
       "      <td>Football</td>\n",
       "      <td>Football Men's Football</td>\n",
       "      <td>DNW</td>\n",
       "      <td>Denmark</td>\n",
       "    </tr>\n",
       "    <tr>\n",
       "      <th>3</th>\n",
       "      <td>4</td>\n",
       "      <td>Edgar Lindenau Aabye</td>\n",
       "      <td>M</td>\n",
       "      <td>34.0</td>\n",
       "      <td>Denmark/Sweden</td>\n",
       "      <td>DEN</td>\n",
       "      <td>1900 Summer</td>\n",
       "      <td>1900</td>\n",
       "      <td>Summer</td>\n",
       "      <td>Paris</td>\n",
       "      <td>Tug-Of-War</td>\n",
       "      <td>Tug-Of-War Men's Tug-Of-War</td>\n",
       "      <td>Gold</td>\n",
       "      <td>Denmark</td>\n",
       "    </tr>\n",
       "    <tr>\n",
       "      <th>4</th>\n",
       "      <td>5</td>\n",
       "      <td>Christine Jacoba Aaftink</td>\n",
       "      <td>F</td>\n",
       "      <td>21.0</td>\n",
       "      <td>Netherlands</td>\n",
       "      <td>NED</td>\n",
       "      <td>1988 Winter</td>\n",
       "      <td>1988</td>\n",
       "      <td>Winter</td>\n",
       "      <td>Calgary</td>\n",
       "      <td>Speed Skating</td>\n",
       "      <td>Speed Skating Women's 500 metres</td>\n",
       "      <td>DNW</td>\n",
       "      <td>Netherlands</td>\n",
       "    </tr>\n",
       "  </tbody>\n",
       "</table>\n",
       "</div>"
      ],
      "text/plain": [
       "   ID                      Name Sex   Age            Team  NOC        Games  \\\n",
       "0   1                 A Dijiang   M  24.0           China  CHN  1992 Summer   \n",
       "1   2                  A Lamusi   M  23.0           China  CHN  2012 Summer   \n",
       "2   3       Gunnar Nielsen Aaby   M  24.0         Denmark  DEN  1920 Summer   \n",
       "3   4      Edgar Lindenau Aabye   M  34.0  Denmark/Sweden  DEN  1900 Summer   \n",
       "4   5  Christine Jacoba Aaftink   F  21.0     Netherlands  NED  1988 Winter   \n",
       "\n",
       "   Year  Season       City          Sport                             Event  \\\n",
       "0  1992  Summer  Barcelona     Basketball       Basketball Men's Basketball   \n",
       "1  2012  Summer     London           Judo      Judo Men's Extra-Lightweight   \n",
       "2  1920  Summer  Antwerpen       Football           Football Men's Football   \n",
       "3  1900  Summer      Paris     Tug-Of-War       Tug-Of-War Men's Tug-Of-War   \n",
       "4  1988  Winter    Calgary  Speed Skating  Speed Skating Women's 500 metres   \n",
       "\n",
       "  Medal       region  \n",
       "0   DNW        China  \n",
       "1   DNW        China  \n",
       "2   DNW      Denmark  \n",
       "3  Gold      Denmark  \n",
       "4   DNW  Netherlands  "
      ]
     },
     "execution_count": 146,
     "metadata": {},
     "output_type": "execute_result"
    }
   ],
   "source": [
    "olympics.head()"
   ]
  },
  {
   "cell_type": "markdown",
   "id": "21549c35",
   "metadata": {},
   "source": [
    "## Most Popular Event"
   ]
  },
  {
   "cell_type": "raw",
   "id": "c10fb90a",
   "metadata": {},
   "source": [
    "bar chart of Event vs Number of Participants; print first element"
   ]
  },
  {
   "cell_type": "code",
   "execution_count": 159,
   "id": "dd6d9865",
   "metadata": {},
   "outputs": [
    {
     "data": {
      "image/png": "[encoded data removed]",
      "text/plain": [
       "<Figure size 640x480 with 1 Axes>"
      ]
     },
     "metadata": {},
     "output_type": "display_data"
    },
    {
     "name": "stdout",
     "output_type": "stream",
     "text": [
      "Football Men's Football\n"
     ]
    }
   ],
   "source": [
    "#Event not Sport\n",
    "import numpy as np # linear algebra\n",
    "import pandas as pd # data processing, CSV file I/O (e.g. pd.read_csv)\n",
    "import matplotlib.pyplot as plt\n",
    "\n",
    "olympics = pd.read_csv('olympics_cleaned.csv')\n",
    "\n",
    "sport_counts = olympics.Event.value_counts()\n",
    "\n",
    "plt.bar(sport_counts.index[:5], sport_counts[0:5], width = 1, edgecolor = 'white')\n",
    "plt.xticks(rotation = 90)\n",
    "plt.show()\n",
    "\n",
    "print(sport_counts.index[0])"
   ]
  },
  {
   "cell_type": "markdown",
   "id": "d7dab71a",
   "metadata": {},
   "source": [
    "## Most Female Gold Medalists"
   ]
  },
  {
   "cell_type": "code",
   "execution_count": 163,
   "id": "818993f4",
   "metadata": {},
   "outputs": [
    {
     "data": {
      "image/png": "[encoded data removed]",
      "text/plain": [
       "<Figure size 640x480 with 1 Axes>"
      ]
     },
     "metadata": {},
     "output_type": "display_data"
    },
    {
     "name": "stdout",
     "output_type": "stream",
     "text": [
      "Swimming\n"
     ]
    }
   ],
   "source": [
    "import numpy as np # linear algebra\n",
    "import pandas as pd # data processing, CSV file I/O (e.g. pd.read_csv)\n",
    "import matplotlib.pyplot as plt\n",
    "\n",
    "olympics = pd.read_csv('olympics_cleaned.csv')\n",
    "\n",
    "female_gold = olympics.loc[(olympics.Sex == 'F') & (olympics.Medal == 'Gold')]\n",
    "\n",
    "female_sports = female_gold['Sport'].value_counts()\n",
    "\n",
    "plt.bar(female_sports.index[0:5], female_sports[0:5], width = 1, edgecolor = 'white')\n",
    "plt.xticks(rotation = 90)\n",
    "plt.show()\n",
    "\n",
    "print(female_sports.index[0])"
   ]
  },
  {
   "cell_type": "code",
   "execution_count": 160,
   "id": "fdb01980",
   "metadata": {},
   "outputs": [
    {
     "data": {
      "text/html": [
       "<div>\n",
       "<style scoped>\n",
       "    .dataframe tbody tr th:only-of-type {\n",
       "        vertical-align: middle;\n",
       "    }\n",
       "\n",
       "    .dataframe tbody tr th {\n",
       "        vertical-align: top;\n",
       "    }\n",
       "\n",
       "    .dataframe thead th {\n",
       "        text-align: right;\n",
       "    }\n",
       "</style>\n",
       "<table border=\"1\" class=\"dataframe\">\n",
       "  <thead>\n",
       "    <tr style=\"text-align: right;\">\n",
       "      <th></th>\n",
       "      <th>ID</th>\n",
       "      <th>Name</th>\n",
       "      <th>Sex</th>\n",
       "      <th>Age</th>\n",
       "      <th>Team</th>\n",
       "      <th>NOC</th>\n",
       "      <th>Games</th>\n",
       "      <th>Year</th>\n",
       "      <th>Season</th>\n",
       "      <th>City</th>\n",
       "      <th>Sport</th>\n",
       "      <th>Event</th>\n",
       "      <th>Medal</th>\n",
       "      <th>region</th>\n",
       "    </tr>\n",
       "  </thead>\n",
       "  <tbody>\n",
       "    <tr>\n",
       "      <th>0</th>\n",
       "      <td>1</td>\n",
       "      <td>A Dijiang</td>\n",
       "      <td>M</td>\n",
       "      <td>24.0</td>\n",
       "      <td>China</td>\n",
       "      <td>CHN</td>\n",
       "      <td>1992 Summer</td>\n",
       "      <td>1992</td>\n",
       "      <td>Summer</td>\n",
       "      <td>Barcelona</td>\n",
       "      <td>Basketball</td>\n",
       "      <td>Basketball Men's Basketball</td>\n",
       "      <td>DNW</td>\n",
       "      <td>China</td>\n",
       "    </tr>\n",
       "    <tr>\n",
       "      <th>1</th>\n",
       "      <td>2</td>\n",
       "      <td>A Lamusi</td>\n",
       "      <td>M</td>\n",
       "      <td>23.0</td>\n",
       "      <td>China</td>\n",
       "      <td>CHN</td>\n",
       "      <td>2012 Summer</td>\n",
       "      <td>2012</td>\n",
       "      <td>Summer</td>\n",
       "      <td>London</td>\n",
       "      <td>Judo</td>\n",
       "      <td>Judo Men's Extra-Lightweight</td>\n",
       "      <td>DNW</td>\n",
       "      <td>China</td>\n",
       "    </tr>\n",
       "    <tr>\n",
       "      <th>2</th>\n",
       "      <td>3</td>\n",
       "      <td>Gunnar Nielsen Aaby</td>\n",
       "      <td>M</td>\n",
       "      <td>24.0</td>\n",
       "      <td>Denmark</td>\n",
       "      <td>DEN</td>\n",
       "      <td>1920 Summer</td>\n",
       "      <td>1920</td>\n",
       "      <td>Summer</td>\n",
       "      <td>Antwerpen</td>\n",
       "      <td>Football</td>\n",
       "      <td>Football Men's Football</td>\n",
       "      <td>DNW</td>\n",
       "      <td>Denmark</td>\n",
       "    </tr>\n",
       "    <tr>\n",
       "      <th>3</th>\n",
       "      <td>4</td>\n",
       "      <td>Edgar Lindenau Aabye</td>\n",
       "      <td>M</td>\n",
       "      <td>34.0</td>\n",
       "      <td>Denmark/Sweden</td>\n",
       "      <td>DEN</td>\n",
       "      <td>1900 Summer</td>\n",
       "      <td>1900</td>\n",
       "      <td>Summer</td>\n",
       "      <td>Paris</td>\n",
       "      <td>Tug-Of-War</td>\n",
       "      <td>Tug-Of-War Men's Tug-Of-War</td>\n",
       "      <td>Gold</td>\n",
       "      <td>Denmark</td>\n",
       "    </tr>\n",
       "    <tr>\n",
       "      <th>4</th>\n",
       "      <td>5</td>\n",
       "      <td>Christine Jacoba Aaftink</td>\n",
       "      <td>F</td>\n",
       "      <td>21.0</td>\n",
       "      <td>Netherlands</td>\n",
       "      <td>NED</td>\n",
       "      <td>1988 Winter</td>\n",
       "      <td>1988</td>\n",
       "      <td>Winter</td>\n",
       "      <td>Calgary</td>\n",
       "      <td>Speed Skating</td>\n",
       "      <td>Speed Skating Women's 500 metres</td>\n",
       "      <td>DNW</td>\n",
       "      <td>Netherlands</td>\n",
       "    </tr>\n",
       "  </tbody>\n",
       "</table>\n",
       "</div>"
      ],
      "text/plain": [
       "   ID                      Name Sex   Age            Team  NOC        Games  \\\n",
       "0   1                 A Dijiang   M  24.0           China  CHN  1992 Summer   \n",
       "1   2                  A Lamusi   M  23.0           China  CHN  2012 Summer   \n",
       "2   3       Gunnar Nielsen Aaby   M  24.0         Denmark  DEN  1920 Summer   \n",
       "3   4      Edgar Lindenau Aabye   M  34.0  Denmark/Sweden  DEN  1900 Summer   \n",
       "4   5  Christine Jacoba Aaftink   F  21.0     Netherlands  NED  1988 Winter   \n",
       "\n",
       "   Year  Season       City          Sport                             Event  \\\n",
       "0  1992  Summer  Barcelona     Basketball       Basketball Men's Basketball   \n",
       "1  2012  Summer     London           Judo      Judo Men's Extra-Lightweight   \n",
       "2  1920  Summer  Antwerpen       Football           Football Men's Football   \n",
       "3  1900  Summer      Paris     Tug-Of-War       Tug-Of-War Men's Tug-Of-War   \n",
       "4  1988  Winter    Calgary  Speed Skating  Speed Skating Women's 500 metres   \n",
       "\n",
       "  Medal       region  \n",
       "0   DNW        China  \n",
       "1   DNW        China  \n",
       "2   DNW      Denmark  \n",
       "3  Gold      Denmark  \n",
       "4   DNW  Netherlands  "
      ]
     },
     "execution_count": 160,
     "metadata": {},
     "output_type": "execute_result"
    }
   ],
   "source": [
    "olympics.head()"
   ]
  }
 ],
 "metadata": {
  "kernelspec": {
   "display_name": "Python 3 (ipykernel)",
   "language": "python",
   "name": "python3"
  },
  "language_info": {
   "codemirror_mode": {
    "name": "ipython",
    "version": 3
   },
   "file_extension": ".py",
   "mimetype": "text/x-python",
   "name": "python",
   "nbconvert_exporter": "python",
   "pygments_lexer": "ipython3",
   "version": "3.11.4"
  }
 },
 "nbformat": 4,
 "nbformat_minor": 5
}
