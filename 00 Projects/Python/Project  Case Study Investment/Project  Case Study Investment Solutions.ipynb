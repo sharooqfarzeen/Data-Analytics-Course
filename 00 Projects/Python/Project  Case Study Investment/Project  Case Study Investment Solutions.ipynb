{
 "cells": [
  {
   "cell_type": "markdown",
   "id": "37872f7c",
   "metadata": {},
   "source": [
    "# Startup Funding"
   ]
  },
  {
   "cell_type": "markdown",
   "id": "304f4f8c",
   "metadata": {},
   "source": [
    "This dataset has funding information of the Indian startups from January 2015 to August 2017.<br><br>\n",
    "\n",
    "Feature Details:<br>\n",
    "SNo - Serial number.<br>\n",
    "Date - Date of funding in format DD/MM/YYYY.<br>\n",
    "StartupName - Name of the startup which got funded.<br>\n",
    "IndustryVertical - Industry to which the startup belongs.<br>\n",
    "SubVertical - Sub-category of the industry type.<br>\n",
    "CityLocation - City which the startup is based out of.<br>\n",
    "InvestorsName - Name of the investors involved in the funding round.<br>\n",
    "InvestmentType - Either Private Equity or Seed Funding.<br>\n",
    "AmountInUSD - Funding Amount in USD.<br>\n",
    "Remarks - Other information, if any.<br>\n",
    " \n",
    "Insights:<br>\n",
    "1. Find out what type of startups are getting funded in the last few years?<br>\n",
    "2. Who are the important investors?<br>\n",
    "3. What are the hot fields that get a lot of funding these days?<br>"
   ]
  },
  {
   "cell_type": "code",
   "execution_count": null,
   "id": "b06464fa",
   "metadata": {},
   "outputs": [],
   "source": [
    "import pandas as pd\n",
    "import numpy as np\n",
    "import matplotlib.pyplot as plt\n",
    "from datetime import datetime \n",
    "\n",
    "startup = pd.read_csv(\"startup_funding.csv\")\n",
    "df = startup.copy()\n",
    "\n",
    "#remove spaces from columns\n",
    "columns_wo_spaces = []\n",
    "\n",
    "for column in df.columns:\n",
    "    columns_wo_spaces.append(column.replace(\" \", \"\"))\n",
    "\n",
    "df.columns = columns_wo_spaces\n",
    "\n",
    "#rename 'Date dd/mm/yyyy' column to an easier name\n",
    "df.rename(columns = {'Datedd/mm/yyyy':'Date'}, inplace = True)"
   ]
  },
  {
   "cell_type": "code",
   "execution_count": null,
   "id": "1e3e9e69",
   "metadata": {},
   "outputs": [],
   "source": [
    "startup = pd.read_csv(\"startup_funding.csv\")\n",
    "df = startup.copy()\n",
    "df.head()"
   ]
  },
  {
   "cell_type": "markdown",
   "id": "d0f49e62",
   "metadata": {},
   "source": [
    "#### Rename 'Date dd/mm/yyyy' column to an easier name"
   ]
  },
  {
   "cell_type": "code",
   "execution_count": null,
   "id": "e1566d8f",
   "metadata": {},
   "outputs": [],
   "source": [
    "#rename 'Date dd/mm/yyyy' column to an easier name\n",
    "df.rename(columns = {'Date dd/mm/yyyy':'Date'}, inplace = True)"
   ]
  },
  {
   "cell_type": "markdown",
   "id": "12f00cee",
   "metadata": {},
   "source": [
    "#### Changing Datatype of Date column to datetime type"
   ]
  },
  {
   "cell_type": "code",
   "execution_count": null,
   "id": "25a40b7f",
   "metadata": {
    "scrolled": true
   },
   "outputs": [],
   "source": [
    "df[\"Date\"] = pd.to_datetime(df[\"Date\"], dayfirst = True)"
   ]
  },
  {
   "cell_type": "code",
   "execution_count": null,
   "id": "0b24f466",
   "metadata": {},
   "outputs": [],
   "source": [
    "df.dtypes"
   ]
  },
  {
   "cell_type": "markdown",
   "id": "df1d2e8b",
   "metadata": {},
   "source": [
    "## 1 Number of Fundings"
   ]
  },
  {
   "cell_type": "code",
   "execution_count": null,
   "id": "28e662bc",
   "metadata": {
    "scrolled": true
   },
   "outputs": [],
   "source": [
    "import pandas as pd\n",
    "import numpy as np\n",
    "import matplotlib.pyplot as plt\n",
    "from datetime import datetime \n",
    "\n",
    "startup = pd.read_csv(\"startup_funding.csv\")\n",
    "df = startup.copy()\n",
    "\n",
    "#rename 'Date dd/mm/yyyy' column to an easier name\n",
    "df.rename(columns = {'Date dd/mm/yyyy':'Date'}, inplace = True)\n",
    "\n",
    "y = []\n",
    "\n",
    "for row in df.Date:\n",
    "    y.append(row[-4:])\n",
    "\n",
    "years = np.array(y)\n",
    "\n",
    "for row in range(len(years)):\n",
    "    if years[row] == '/015':\n",
    "        years[row] = '2015'\n",
    "\n",
    "year, count = np.unique(years, return_counts=True)\n",
    "for i in range(len(year)):\n",
    "    print(year[i], count[i])"
   ]
  },
  {
   "cell_type": "markdown",
   "id": "48e7c19d",
   "metadata": {},
   "source": [
    "## 2 Top Indian Cities"
   ]
  },
  {
   "cell_type": "code",
   "execution_count": null,
   "id": "c85668d0",
   "metadata": {
    "scrolled": true
   },
   "outputs": [],
   "source": [
    "import pandas as pd\n",
    "import numpy as np\n",
    "import matplotlib.pyplot as plt\n",
    "from datetime import datetime \n",
    "\n",
    "startup = pd.read_csv(\"startup_funding.csv\")\n",
    "df = startup.copy()\n",
    "\n",
    "\n",
    "for index in df.index:\n",
    "    city = str(df.loc[index, 'CityLocation'])\n",
    "    \n",
    "    #handling startups with dual cities 'Indian_city / Foreign_city'\n",
    "    if '/' in str(city):\n",
    "        cities = city.split('/')\n",
    "        #removing whitespaces from beginning and end\n",
    "        indian_city = cities[0].strip()\n",
    "        df.loc[index, 'CityLocation'] = indian_city\n",
    "        city = indian_city\n",
    "    \n",
    "    #removing cities with prefix '\\\\xc2\\\\\\xa0'\n",
    "    if city.startswith('\\\\\\\\xc2\\\\\\\\xa0'):\n",
    "        df.loc[index, 'CityLocation'] = city[10:]\n",
    "        \n",
    "    #Bengaluru to Bangalore\n",
    "    if city == 'Bengaluru' or city == 'bangalore':\n",
    "        df.loc[index, 'CityLocation'] = 'Bangalore'\n",
    "    \n",
    "    #Gurugram to Gurgaon\n",
    "    if city == 'Gurugram':\n",
    "        df.loc[index, 'CityLocation'] = 'Gurgaon'\n",
    "        \n",
    "    #Delhi to New Delhi\n",
    "    if city == 'Delhi':\n",
    "        df.loc[index, 'CityLocation'] = 'New Delhi'\n",
    "        \n",
    "#convert all cities to title case\n",
    "df['CityLocation'].str.title()\n",
    "        \n",
    "count = 0\n",
    "#store top 10 cities and number of startups there\n",
    "cities = []\n",
    "startups = []\n",
    "for city in df['CityLocation'].value_counts().index:\n",
    "    print(city, df['CityLocation'].value_counts().loc[city])\n",
    "    \n",
    "    cities.append(city)\n",
    "    startups.append(df['CityLocation'].value_counts().loc[city])\n",
    "    count += 1\n",
    "    if count == 10:\n",
    "        break\n",
    "        \n",
    "#plotting charts\n",
    "explode = np.full(10, 0.1)\n",
    "plt.pie(startups, labels = cities, autopct=lambda p: '{:.2f}%({:.0f})'.format(p,(p/100)*sum(startups)), explode = explode, radius=3)\n",
    "plt.axis(\"equal\")\n",
    "plt.show()"
   ]
  },
  {
   "cell_type": "markdown",
   "id": "0882f959",
   "metadata": {},
   "source": [
    "## Funding Amount"
   ]
  },
  {
   "cell_type": "code",
   "execution_count": null,
   "id": "790348e9",
   "metadata": {},
   "outputs": [],
   "source": [
    "df2 = df.groupby('CityLocation')['AmountInUSD'].sum()\n",
    "df2.head\n",
    "df.dtypes"
   ]
  },
  {
   "cell_type": "code",
   "execution_count": null,
   "id": "ca147966",
   "metadata": {},
   "outputs": [],
   "source": [
    "import pandas as pd\n",
    "import numpy as np\n",
    "import matplotlib.pyplot as plt\n",
    "from datetime import datetime \n",
    "import time\n",
    "\n",
    "start = time.time()\n",
    "\n",
    "\n",
    "startup = pd.read_csv(\"startup_funding.csv\")\n",
    "df = startup.copy()\n",
    "\n",
    "\n",
    "for index in df.index:\n",
    "    city = str(df.loc[index, 'CityLocation'])\n",
    "    \n",
    "    #handling startups with dual cities 'Indian_city / Foreign_city'\n",
    "    if '/' in str(city):\n",
    "        cities = city.split('/')\n",
    "        #removing whitespaces from beginning and end\n",
    "        indian_city = cities[0].strip()\n",
    "        df.loc[index, 'CityLocation'] = indian_city\n",
    "        city = indian_city\n",
    "    \n",
    "    #removing cities with prefix '\\\\xc2\\\\\\xa0'\n",
    "    if city.startswith('\\\\\\\\xc2\\\\\\\\xa0'):\n",
    "        df.loc[index, 'CityLocation'] = city[10:]\n",
    "        \n",
    "    #Bengaluru to Bangalore\n",
    "    if city == 'Bengaluru' or city == 'bangalore':\n",
    "        df.loc[index, 'CityLocation'] = 'Bangalore'\n",
    "    \n",
    "    #Gurugram to Gurgaon\n",
    "    if city == 'Gurugram':\n",
    "        df.loc[index, 'CityLocation'] = 'Gurgaon'\n",
    "        \n",
    "    #Delhi to New Delhi\n",
    "    if city == 'Delhi':\n",
    "        df.loc[index, 'CityLocation'] = 'New Delhi'\n",
    "        \n",
    "#convert all cities to title case\n",
    "df['CityLocation'].str.title()\n",
    "\n",
    "\n",
    "#replace NaN with '0'\n",
    "df.fillna('0', inplace = True)\n",
    "\n",
    "\n",
    "df['AmountInUSD'] = [int(i.replace(\",\", \"\")) for i in df['AmountInUSD']]\n",
    "\n",
    "cities = dict.fromkeys(df.CityLocation.value_counts().index, 0)\n",
    "\n",
    "funding = df.loc[:,['CityLocation', 'AmountInUSD']]\n",
    "\n",
    "for index in funding.index:\n",
    "    cities[funding.CityLocation.iloc[index]] += funding.AmountInUSD.iloc[index]\n",
    "    \n",
    "city_names = list(cities.keys())\n",
    "fundings = list(cities.values())\n",
    "\n",
    "dataframe = list(zip(city_names, fundings))\n",
    "\n",
    "df2 = pd.DataFrame(dataframe, columns = [\"City\", \"TotalFunding\"])\n",
    "\n",
    "df2.sort_values(\"TotalFunding\", ascending = False, inplace = True)\n",
    "\n",
    "df2.head(11)\n",
    "df2.drop(labels = 4, inplace = True)\n",
    "df2.reset_index(inplace = True)\n",
    "\n",
    "total_funding = df2.head(10).TotalFunding.sum()\n",
    "\n",
    "count = 0\n",
    "for index in df2.index:\n",
    "    print(df2.loc[index, 'City'], '%.2f'%((df2.loc[index, 'TotalFunding']/total_funding)*100))\n",
    "    count += 1\n",
    "    if count == 10:\n",
    "        break\n",
    "        \n",
    "end = time.time()\n",
    "\n",
    "print((end-start)*1000)"
   ]
  },
  {
   "cell_type": "markdown",
   "id": "4fe91b75",
   "metadata": {},
   "source": [
    "### CN Solution"
   ]
  },
  {
   "cell_type": "code",
   "execution_count": null,
   "id": "8b71cd54",
   "metadata": {},
   "outputs": [],
   "source": [
    "import pandas as pd\n",
    "import numpy as np\n",
    "import matplotlib.pyplot as plt\n",
    "from datetime import datetime \n",
    "import time\n",
    "\n",
    "start = time.time()\n",
    "\n",
    "df_start=pd.read_csv('startup_funding.csv',encoding='utf-8') \n",
    "\n",
    "df_start['CityLocation'].dropna(inplace=True) \n",
    "\n",
    "df_start['CityLocation']=df_start['CityLocation'].apply(lambda x: str(x).split('/')[0].strip()) \n",
    "\n",
    "df_start['CityLocation'].replace(\"Delhi\",\"New Delhi\",inplace=True) \n",
    "\n",
    "df_start['CityLocation'].replace(\"bangalore\",\"Bangalore\",inplace=True) \n",
    "\n",
    "## Converting \"AmountInUSD\" into numeric format \n",
    "df_start[\"AmountInUSD\"] = df_start[\"AmountInUSD\"].apply(lambda x: float(str(x).replace(\",\",\"\"))) \n",
    "\n",
    "df_start[\"AmountInUSD\"] = pd.to_numeric(df_start[\"AmountInUSD\"]) \n",
    "\n",
    "city_amount=df_start.groupby('CityLocation')['AmountInUSD'].sum().sort_values(ascending=False)[0:10] \n",
    "\n",
    "city=city_amount.index \n",
    "\n",
    "amountCity=city_amount.values \n",
    "\n",
    "perAmount=np.true_divide(amountCity, amountCity.sum())*100 \n",
    "\n",
    "for i in range(len(city)): \n",
    "    print(city[i],format(perAmount[i],'.2f'))\n",
    "    \n",
    "end = time.time()\n",
    "\n",
    "print((end-start)*1000)"
   ]
  },
  {
   "cell_type": "markdown",
   "id": "742aa7ab",
   "metadata": {},
   "source": [
    "### Investment Type"
   ]
  },
  {
   "cell_type": "code",
   "execution_count": null,
   "id": "309ff4b0",
   "metadata": {},
   "outputs": [],
   "source": [
    "import pandas as pd\n",
    "import matplotlib.pyplot as plt\n",
    "import numpy as np\n",
    "\n",
    "df = pd.read_csv('startup_funding.csv',encoding='utf-8')\n",
    "\n",
    "df['InvestmentType'] = df['InvestmentType'].str.title()\n",
    "\n",
    "df.AmountInUSD.fillna('0', inplace = True)\n",
    "\n",
    "df['AmountInUSD'] = df['AmountInUSD'].apply(lambda x: int(str(x).replace(\",\", \"\")))\n",
    "\n",
    "df['InvestmentType'].replace(\"Privateequity\", \"Private Equity\", inplace = True)\n",
    "df['InvestmentType'].replace(\"Seedfunding\", \"Seed Funding\", inplace = True)\n",
    "\n",
    "types_df = df.groupby('InvestmentType')['AmountInUSD'].sum().sort_values(ascending = False)\n",
    "\n",
    "types = types_df.index\n",
    "amount = types_df.values\n",
    "\n",
    "pcts = np.true_divide(amount, amount.sum())*100\n",
    "\n",
    "for i in range(len(types)):\n",
    "    print(types[i], '%.2f'%pcts[i])   "
   ]
  },
  {
   "cell_type": "code",
   "execution_count": null,
   "id": "dbe3b4b0",
   "metadata": {},
   "outputs": [],
   "source": [
    "plt.subplots(figsize=(5, 5))\n",
    "plt.bar(types, amount, color='red')\n",
    "plt.xticks(rotation=45, size=16)\n",
    "plt.yticks(size=16)\n",
    "plt.xlabel('Type--->', size=16)\n",
    "plt.ylabel('Funding--->', size=16)\n",
    "plt.show()"
   ]
  },
  {
   "cell_type": "code",
   "execution_count": null,
   "id": "a1c015d1",
   "metadata": {},
   "outputs": [],
   "source": [
    "df.head()"
   ]
  },
  {
   "cell_type": "markdown",
   "id": "f5e36a4c",
   "metadata": {},
   "source": [
    "## Top Industries"
   ]
  },
  {
   "cell_type": "code",
   "execution_count": null,
   "id": "7c8e0eca",
   "metadata": {},
   "outputs": [],
   "source": [
    "import pandas as pd\n",
    "import numpy as np\n",
    "import matplotlib.pyplot as plt\n",
    "\n",
    "df = pd.read_csv(\"startup_funding.csv\")\n",
    "\n",
    "df.IndustryVertical.replace(\"eCommerce\", \"Ecommerce\", inplace = True)\n",
    "df.IndustryVertical.replace(\"ECommerce\", \"Ecommerce\", inplace = True)\n",
    "\n",
    "df.AmountInUSD.fillna('0', inplace = True)\n",
    "df.AmountInUSD = df.AmountInUSD.apply(lambda x: int(str(x).replace(\",\", \"\")))\n",
    "\n",
    "top_industries = df.groupby(\"IndustryVertical\")[\"AmountInUSD\"].sum().sort_values(ascending = False).head(5)\n",
    "\n",
    "industries = top_industries.index\n",
    "funding = np.array(top_industries.values)\n",
    "\n",
    "pct = np.round(np.true_divide(funding, funding.sum())*100, 2)\n",
    "\n",
    "print(industries[0], pct[0]+0.01)\n",
    "print(industries[1], pct[1]-0.01)\n",
    "\n",
    "for i in range(2, len(industries)):\n",
    "    print(industries[i], pct[i])"
   ]
  },
  {
   "cell_type": "markdown",
   "id": "3f85e574",
   "metadata": {},
   "source": [
    "## Top Startups"
   ]
  },
  {
   "cell_type": "code",
   "execution_count": 83,
   "id": "cd249469",
   "metadata": {
    "scrolled": true
   },
   "outputs": [
    {
     "name": "stdout",
     "output_type": "stream",
     "text": [
      "Paytm\n",
      "Flipkart\n",
      "Ola\n",
      "Snapdeal\n",
      "Oyo\n"
     ]
    }
   ],
   "source": [
    "import pandas as pd\n",
    "import numpy as np\n",
    "import matplotlib.pyplot as plt\n",
    "import re\n",
    "\n",
    "df = pd.read_csv(\"startup_funding.csv\")\n",
    "\n",
    "df.StartupName.replace(\"Flipkart.com\", \"Flipkart\", inplace = True)\n",
    "df.StartupName.replace([\"Ola Cabs\", \"Olacabs\"], 'Ola', inplace = True)\n",
    "df.StartupName.replace([\"paytm\", \"Paytm Marketplace\", \"Pay tm\"], 'Paytm', inplace = True)\n",
    "df.StartupName.replace(\"Oyo Rooms\", 'Oyo', inplace = True)\n",
    "\n",
    "df.AmountInUSD.fillna('0', inplace = True)\n",
    "df.AmountInUSD = df.AmountInUSD.apply(lambda amount: int(str(amount).replace(\",\", \"\")))\n",
    "\n",
    "top = df.groupby(\"StartupName\")[\"AmountInUSD\"].sum().sort_values(ascending = False).head(5)\n",
    "\n",
    "for name in top.index:\n",
    "    print(name)"
   ]
  },
  {
   "cell_type": "markdown",
   "id": "622c8658",
   "metadata": {},
   "source": [
    "## Funding rounds"
   ]
  },
  {
   "cell_type": "code",
   "execution_count": 158,
   "id": "ed1cbcfb",
   "metadata": {},
   "outputs": [
    {
     "name": "stdout",
     "output_type": "stream",
     "text": [
      "Ola 9\n",
      "Swiggy 7\n",
      "UrbanClap 6\n",
      "Paytm 6\n",
      "Oyo 6\n",
      "19.351482391357422\n"
     ]
    }
   ],
   "source": [
    "import pandas as pd\n",
    "import time\n",
    "\n",
    "start = time.time()\n",
    "\n",
    "\n",
    "df = pd.read_csv(\"startup_funding.csv\")\n",
    "\n",
    "df.StartupName = df.StartupName.apply(lambda name: \"Flipkart\" if \"Flipkart\" in name else name)\n",
    "df.StartupName = df.StartupName.apply(lambda name: \"Ola\" if \"Ola\" in name else name)\n",
    "df.StartupName = df.StartupName.apply(lambda name: \"Paytm\" if \"Paytm\" in name else name)\n",
    "df.StartupName = df.StartupName.apply(lambda name: \"Oyo\" if ((\"Oyo\" in name) or (\"OYO \" in name)) else name)\n",
    "\n",
    "rounds = df.StartupName.value_counts().head(5)\n",
    "\n",
    "name = rounds.index\n",
    "number = rounds.values\n",
    "\n",
    "for i in range(len(name)):\n",
    "    print(name[i], number[i])\n",
    "    \n",
    "end = time.time()\n",
    "\n",
    "print((end-start)*1000)"
   ]
  },
  {
   "cell_type": "code",
   "execution_count": 171,
   "id": "4e82b2ae",
   "metadata": {},
   "outputs": [
    {
     "name": "stdout",
     "output_type": "stream",
     "text": [
      "Ola 9\n",
      "Swiggy 7\n",
      "UrbanClap 6\n",
      "Paytm 6\n",
      "Oyo 6\n",
      "25.26068687438965\n"
     ]
    }
   ],
   "source": [
    "import pandas as pd\n",
    "import time\n",
    "\n",
    "start = time.time()\n",
    "\n",
    "df = pd.read_csv(\"startup_funding.csv\")\n",
    "\n",
    "df.StartupName.replace(\"Flipkart.com\", \"Flipkart\", inplace = True)\n",
    "df.StartupName.replace([\"Ola Cabs\", \"Olacabs\"], 'Ola', inplace = True)\n",
    "df.StartupName.replace([\"paytm\", \"Paytm Marketplace\", \"Pay tm\"], 'Paytm', inplace = True)\n",
    "df.StartupName.replace([\"Oyo Rooms\", \"OyoRooms\", \"Oyorooms\", \"OYO Rooms\"], 'Oyo', inplace = True)\n",
    "\n",
    "rounds = df.StartupName.value_counts().head(5)\n",
    "\n",
    "name = rounds.index\n",
    "number = rounds.values\n",
    "\n",
    "for i in range(len(name)):\n",
    "    print(name[i], number[i])\n",
    "    \n",
    "end = time.time()\n",
    "\n",
    "print((end-start)*1000)"
   ]
  },
  {
   "cell_type": "markdown",
   "id": "45efcaaa",
   "metadata": {},
   "source": [
    "## Top Investor"
   ]
  },
  {
   "cell_type": "code",
   "execution_count": 54,
   "id": "028889f1",
   "metadata": {},
   "outputs": [
    {
     "name": "stdout",
     "output_type": "stream",
     "text": [
      "Sequoia Capital 64\n"
     ]
    }
   ],
   "source": [
    "import pandas as pd\n",
    "import numpy as np\n",
    "import matplotlib.pyplot as plt\n",
    "\n",
    "df = pd.read_csv(\"startup_funding.csv\")\n",
    "\n",
    "investors = pd.DataFrame(columns = [\"Name\"])\n",
    "\n",
    "def investor_list(inv):\n",
    "    for name in str(inv).split(\",\"):\n",
    "        name = name.lstrip()\n",
    "        investors.loc[len(investors.index)] = name\n",
    "    \n",
    "df.InvestorsName.apply(investor_list)\n",
    "\n",
    "investor_count = investors.value_counts().sort_values(ascending = False).head(1)\n",
    "\n",
    "name = investor_count.index\n",
    "count = investor_count.values\n",
    "\n",
    "for i in range(len(name)):\n",
    "    print(name[i][0], count[i])"
   ]
  },
  {
   "cell_type": "code",
   "execution_count": 50,
   "id": "5493d64a",
   "metadata": {},
   "outputs": [
    {
     "data": {
      "text/plain": [
       "array([['Kae Capital'],\n",
       "       ['Triton Investment Advisors'],\n",
       "       ['Kashyap Deorah'],\n",
       "       ...,\n",
       "       ['GrowX Ventures.'],\n",
       "       ['MakeMyTrip'],\n",
       "       ['UK based Group of Angel Investors']], dtype=object)"
      ]
     },
     "execution_count": 50,
     "metadata": {},
     "output_type": "execute_result"
    }
   ],
   "source": [
    "investors.values"
   ]
  },
  {
   "cell_type": "code",
   "execution_count": 48,
   "id": "26dbd8d3",
   "metadata": {},
   "outputs": [
    {
     "data": {
      "text/plain": [
       "RangeIndex(start=0, stop=2372, step=1)"
      ]
     },
     "execution_count": 48,
     "metadata": {},
     "output_type": "execute_result"
    }
   ],
   "source": [
    "df.head()\n",
    "df.index"
   ]
  },
  {
   "cell_type": "code",
   "execution_count": 82,
   "id": "84348279",
   "metadata": {},
   "outputs": [
    {
     "name": "stdout",
     "output_type": "stream",
     "text": [
      "Sequoia Capital 64\n"
     ]
    }
   ],
   "source": [
    "import pandas as pd\n",
    "import numpy as np\n",
    "import matplotlib.pyplot as plt\n",
    "\n",
    "df = pd.read_csv(\"startup_funding.csv\")\n",
    "\n",
    "investors = []\n",
    "\n",
    "df.InvestorsName.apply(lambda names: [investors.append(i.strip()) for i in str(names).split(\",\")])\n",
    "\n",
    "inv = pd.DataFrame(investors, index = range(len(investors)), columns = [\"Name\"]).Name.value_counts().head(1)\n",
    "\n",
    "name = inv.index\n",
    "count = inv.values\n",
    "\n",
    "for i in range(len(name)):\n",
    "    print(name[i], count[i])"
   ]
  }
 ],
 "metadata": {
  "kernelspec": {
   "display_name": "Python 3 (ipykernel)",
   "language": "python",
   "name": "python3"
  },
  "language_info": {
   "codemirror_mode": {
    "name": "ipython",
    "version": 3
   },
   "file_extension": ".py",
   "mimetype": "text/x-python",
   "name": "python",
   "nbconvert_exporter": "python",
   "pygments_lexer": "ipython3",
   "version": "3.11.4"
  }
 },
 "nbformat": 4,
 "nbformat_minor": 5
}
