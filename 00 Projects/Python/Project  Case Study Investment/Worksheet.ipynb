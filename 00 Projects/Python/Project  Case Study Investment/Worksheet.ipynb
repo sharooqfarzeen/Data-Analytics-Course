{
 "cells": [
  {
   "cell_type": "code",
   "execution_count": 65,
   "id": "c08506f5",
   "metadata": {},
   "outputs": [
    {
     "data": {
      "text/html": [
       "<div>\n",
       "<style scoped>\n",
       "    .dataframe tbody tr th:only-of-type {\n",
       "        vertical-align: middle;\n",
       "    }\n",
       "\n",
       "    .dataframe tbody tr th {\n",
       "        vertical-align: top;\n",
       "    }\n",
       "\n",
       "    .dataframe thead th {\n",
       "        text-align: right;\n",
       "    }\n",
       "</style>\n",
       "<table border=\"1\" class=\"dataframe\">\n",
       "  <thead>\n",
       "    <tr style=\"text-align: right;\">\n",
       "      <th></th>\n",
       "      <th>Name</th>\n",
       "    </tr>\n",
       "  </thead>\n",
       "  <tbody>\n",
       "    <tr>\n",
       "      <th>0</th>\n",
       "      <td>Pan</td>\n",
       "    </tr>\n",
       "    <tr>\n",
       "      <th>1</th>\n",
       "      <td>Panama</td>\n",
       "    </tr>\n",
       "    <tr>\n",
       "      <th>2</th>\n",
       "      <td>Pandora</td>\n",
       "    </tr>\n",
       "  </tbody>\n",
       "</table>\n",
       "</div>"
      ],
      "text/plain": [
       "      Name\n",
       "0      Pan\n",
       "1   Panama\n",
       "2  Pandora"
      ]
     },
     "execution_count": 65,
     "metadata": {},
     "output_type": "execute_result"
    }
   ],
   "source": [
    "import pandas as pd\n",
    "\n",
    "df = pd.DataFrame(['Pan', 'Panama', 'Pandora'], columns = [\"Name\"])\n",
    "\n",
    "df.head()"
   ]
  },
  {
   "cell_type": "code",
   "execution_count": 66,
   "id": "639d8ba2",
   "metadata": {},
   "outputs": [
    {
     "data": {
      "text/html": [
       "<div>\n",
       "<style scoped>\n",
       "    .dataframe tbody tr th:only-of-type {\n",
       "        vertical-align: middle;\n",
       "    }\n",
       "\n",
       "    .dataframe tbody tr th {\n",
       "        vertical-align: top;\n",
       "    }\n",
       "\n",
       "    .dataframe thead th {\n",
       "        text-align: right;\n",
       "    }\n",
       "</style>\n",
       "<table border=\"1\" class=\"dataframe\">\n",
       "  <thead>\n",
       "    <tr style=\"text-align: right;\">\n",
       "      <th></th>\n",
       "      <th>Name</th>\n",
       "    </tr>\n",
       "  </thead>\n",
       "  <tbody>\n",
       "    <tr>\n",
       "      <th>0</th>\n",
       "      <td>New</td>\n",
       "    </tr>\n",
       "    <tr>\n",
       "      <th>1</th>\n",
       "      <td>New</td>\n",
       "    </tr>\n",
       "    <tr>\n",
       "      <th>2</th>\n",
       "      <td>New</td>\n",
       "    </tr>\n",
       "  </tbody>\n",
       "</table>\n",
       "</div>"
      ],
      "text/plain": [
       "  Name\n",
       "0  New\n",
       "1  New\n",
       "2  New"
      ]
     },
     "execution_count": 66,
     "metadata": {},
     "output_type": "execute_result"
    }
   ],
   "source": [
    "df.Name = df.Name.apply(lambda name: \"New\" if \"Pan\" in name else name)\n",
    "df.head()"
   ]
  },
  {
   "cell_type": "code",
   "execution_count": 14,
   "id": "201b1295",
   "metadata": {},
   "outputs": [
    {
     "name": "stdout",
     "output_type": "stream",
     "text": [
      "True\n",
      "True\n",
      "True\n"
     ]
    }
   ],
   "source": [
    "import re\n",
    "\n",
    "list  = ['Pan', 'Panama', 'Pandora']\n",
    "\n",
    "for name in list:\n",
    "    if r\"Pan\" in name:\n",
    "        print(True)"
   ]
  },
  {
   "cell_type": "code",
   "execution_count": 26,
   "id": "ce970794",
   "metadata": {},
   "outputs": [
    {
     "name": "stdout",
     "output_type": "stream",
     "text": [
      "                City        Event   Cost\n",
      "2018-02     New York        Music  10000\n",
      "2018-04      Parague       Poetry   5000\n",
      "2018-06    New Delhi      Theatre  15000\n",
      "2018-10       Venice       Comedy   2000\n",
      "2018-12  new Orleans  Tech_Summit  12000\n"
     ]
    }
   ],
   "source": [
    "# importing pandas as pd\n",
    "import pandas as pd\n",
    "\n",
    "# Let's create a Dataframe\n",
    "df = pd.DataFrame({'City':['New York', 'Parague', 'New Delhi', 'Venice', 'new Orleans'],\n",
    "\t\t\t\t\t'Event':['Music', 'Poetry', 'Theatre', 'Comedy', 'Tech_Summit'],\n",
    "\t\t\t\t\t'Cost':[10000, 5000, 15000, 2000, 12000]})\n",
    "\n",
    "# Let's create the index\n",
    "index_ = [pd.Period('02-2018'), pd.Period('04-2018'),\n",
    "\t\tpd.Period('06-2018'), pd.Period('10-2018'), pd.Period('12-2018')]\n",
    "\n",
    "# Set the index\n",
    "df.index = index_\n",
    "\n",
    "# Let's print the dataframe\n",
    "print(df)"
   ]
  },
  {
   "cell_type": "code",
   "execution_count": 28,
   "id": "94bbaafe",
   "metadata": {},
   "outputs": [
    {
     "name": "stdout",
     "output_type": "stream",
     "text": [
      "                City        Event   Cost\n",
      "2018-02     New York        Music  10000\n",
      "2018-04     New_ague       Poetry   5000\n",
      "2018-06    New Delhi      Theatre  15000\n",
      "2018-10       Venice       Comedy   2000\n",
      "2018-12  new Orleans  Tech_Summit  12000\n"
     ]
    }
   ],
   "source": [
    "# replace the matching strings\n",
    "df_updated = df.replace(to_replace ='^Par', value = 'New_', regex = True)\n",
    "\n",
    "# Print the updated dataframe\n",
    "print(df_updated)"
   ]
  },
  {
   "cell_type": "code",
   "execution_count": 64,
   "id": "3bae8200",
   "metadata": {},
   "outputs": [
    {
     "data": {
      "text/plain": [
       "'bye'"
      ]
     },
     "execution_count": 64,
     "metadata": {},
     "output_type": "execute_result"
    }
   ],
   "source": [
    "\"hi\" if 1 > 2 else \"bye\""
   ]
  }
 ],
 "metadata": {
  "kernelspec": {
   "display_name": "Python 3 (ipykernel)",
   "language": "python",
   "name": "python3"
  },
  "language_info": {
   "codemirror_mode": {
    "name": "ipython",
    "version": 3
   },
   "file_extension": ".py",
   "mimetype": "text/x-python",
   "name": "python",
   "nbconvert_exporter": "python",
   "pygments_lexer": "ipython3",
   "version": "3.11.4"
  }
 },
 "nbformat": 4,
 "nbformat_minor": 5
}
