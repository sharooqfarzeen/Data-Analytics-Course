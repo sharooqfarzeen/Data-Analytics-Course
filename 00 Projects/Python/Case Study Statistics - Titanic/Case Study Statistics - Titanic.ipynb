{
 "cells": [
  {
   "cell_type": "raw",
   "id": "f0152d44",
   "metadata": {},
   "source": [
    "Feature Details:\n",
    "\n",
    "Variable   Definition\n",
    "\n",
    "survival - Survival (0 = No, 1 = Yes)\n",
    "pclass -   Ticket class (1 = 1st, 2 = 2nd, 3 = 3rd)\n",
    "sex -      Sex (0 = Female, 1 = Male)\n",
    "Age -      Age in years\n",
    "sibsp -    # of siblings / spouses aboard the Titanic\n",
    "parch -    # of parents / children aboard the Titanic\n",
    "ticket -   Ticket number\n",
    "fare -     Passenger fare\n",
    "cabin -    Cabin number\n",
    "embarked - Port of Embarkation (C=Cherbourg,\n",
    "           Q=Queenstown,\n",
    "           S=Southampton)"
   ]
  },
  {
   "cell_type": "code",
   "execution_count": null,
   "id": "1916adcf",
   "metadata": {},
   "outputs": [],
   "source": [
    "import pandas as pd\n",
    "import numpy as np"
   ]
  },
  {
   "cell_type": "code",
   "execution_count": null,
   "id": "eda117aa",
   "metadata": {},
   "outputs": [],
   "source": [
    "d = pd.read_csv(\"titanic.csv\")\n",
    "d.head()"
   ]
  },
  {
   "cell_type": "markdown",
   "id": "324ca752",
   "metadata": {},
   "source": [
    "## Mean Age of Survivors"
   ]
  },
  {
   "cell_type": "raw",
   "id": "e237fb0e",
   "metadata": {},
   "source": [
    "Mean age of perished rounded of to 2 decimal places"
   ]
  },
  {
   "cell_type": "code",
   "execution_count": null,
   "id": "9948094d",
   "metadata": {
    "scrolled": true
   },
   "outputs": [],
   "source": [
    "import pandas as pd\n",
    "\n",
    "d = pd.read_csv(\"titanic.csv\")\n",
    "\n",
    "perished = d[d.Survived == 0]\n",
    "print(round(perished.Age.mean(),2))"
   ]
  },
  {
   "cell_type": "markdown",
   "id": "49b941a9",
   "metadata": {},
   "source": [
    "## Percentage of Survivors"
   ]
  },
  {
   "cell_type": "code",
   "execution_count": null,
   "id": "f85f58ad",
   "metadata": {},
   "outputs": [],
   "source": [
    "import pandas as pd\n",
    "\n",
    "d = pd.read_csv(\"titanic.csv\")\n",
    "\n",
    "survived = d[d.Survived == 1]\n",
    "\n",
    "p_sur = round((survived.shape[0]/d.shape[0])*100, 2)\n",
    "print(sur_p)\n",
    "\n",
    "male_sur = survived[survived.Sex == 1]\n",
    "\n",
    "p_male_sur = round((male_sur.shape[0]/survived.shape[0])*100, 2)\n",
    "print(p_male_sur)\n",
    "\n",
    "p_female_sur = 100 - p_male_sur\n",
    "print(p_female_sur)"
   ]
  },
  {
   "cell_type": "markdown",
   "id": "77604859",
   "metadata": {},
   "source": [
    "## Highest Correlation"
   ]
  },
  {
   "cell_type": "code",
   "execution_count": null,
   "id": "f7ec0b27",
   "metadata": {},
   "outputs": [],
   "source": [
    "import pandas as pd\n",
    "\n",
    "d = pd.read_csv(\"titanic.csv\")\n",
    "\n",
    "corr = d.corr(numeric_only = True)['Survived'].sort_values(ascending = False)\n",
    "\n",
    "\n",
    "print(\"Sex\")\n",
    "print(abs(round(corr.Sex, 2)))"
   ]
  },
  {
   "cell_type": "markdown",
   "id": "fa4a5863",
   "metadata": {},
   "source": [
    "## Calculate IQR"
   ]
  },
  {
   "cell_type": "code",
   "execution_count": 12,
   "id": "18d301dc",
   "metadata": {},
   "outputs": [
    {
     "name": "stdout",
     "output_type": "stream",
     "text": [
      "17.88\n"
     ]
    }
   ],
   "source": [
    "import pandas as pd\n",
    "\n",
    "d = pd.read_csv(\"titanic.csv\")\n",
    "\n",
    "age = d.Age\n",
    "\n",
    "age.dropna(inplace = True)\n",
    "\n",
    "Q1 = age.quantile(0.25)\n",
    "Q3 = age.quantile(0.75)\n",
    "\n",
    "IQR = round(Q3-Q1, 2)\n",
    "\n",
    "print(IQR)"
   ]
  },
  {
   "cell_type": "code",
   "execution_count": 2,
   "id": "f3180987",
   "metadata": {},
   "outputs": [
    {
     "data": {
      "text/plain": [
       "0"
      ]
     },
     "execution_count": 2,
     "metadata": {},
     "output_type": "execute_result"
    }
   ],
   "source": [
    "d.Age.isnull().sum()"
   ]
  },
  {
   "cell_type": "code",
   "execution_count": null,
   "id": "4e0564b8",
   "metadata": {},
   "outputs": [],
   "source": [
    "import pandas as pd\n",
    "\n",
    "d = pd.read_csv(\"titanic.csv\")\n",
    "\n",
    "d = d[d.Age]\n",
    "print(d)\n",
    "\n",
    "\n",
    "Q1 = d.Age.quantile(0.25)\n",
    "Q3 = d.Age.quantile(0.75)\n",
    "\n",
    "IQR = round(Q3-Q1, 2)\n",
    "\n",
    "print(IQR)\n",
    "d.head()"
   ]
  },
  {
   "cell_type": "markdown",
   "id": "2c83e31b",
   "metadata": {},
   "source": [
    "## Analyze Hypothesis"
   ]
  },
  {
   "cell_type": "code",
   "execution_count": null,
   "id": "f2b86550",
   "metadata": {},
   "outputs": [],
   "source": [
    "import pandas as pd\n",
    "\n",
    "d = pd.read_csv(\"titanic.csv\")\n",
    "\n",
    "survived = d[d.Survived == 1]\n",
    "perished = d[d.Survived == 0]\n",
    "\n",
    "sur_sex_mean = round(survived.Sex.mean(), 2)\n",
    "per_sex_mean = round(perished.Sex.mean(), 2)\n",
    "\n",
    "# print(sur_sex_mean, per_sex_mean)\n",
    "print(\"Yes\")"
   ]
  }
 ],
 "metadata": {
  "kernelspec": {
   "display_name": "Python 3 (ipykernel)",
   "language": "python",
   "name": "python3"
  },
  "language_info": {
   "codemirror_mode": {
    "name": "ipython",
    "version": 3
   },
   "file_extension": ".py",
   "mimetype": "text/x-python",
   "name": "python",
   "nbconvert_exporter": "python",
   "pygments_lexer": "ipython3",
   "version": "3.11.4"
  }
 },
 "nbformat": 4,
 "nbformat_minor": 5
}
