{
 "cells": [
  {
   "cell_type": "markdown",
   "id": "c566b33b",
   "metadata": {},
   "source": [
    "# Does hosting the Olympics improve performance on the medals table?"
   ]
  },
  {
   "cell_type": "markdown",
   "id": "4f3cb738",
   "metadata": {},
   "source": [
    "### Countries who hosted atleast 2 times"
   ]
  },
  {
   "cell_type": "code",
   "execution_count": 2,
   "id": "565a1b01",
   "metadata": {},
   "outputs": [
    {
     "data": {
      "text/html": [
       "<div>\n",
       "<style scoped>\n",
       "    .dataframe tbody tr th:only-of-type {\n",
       "        vertical-align: middle;\n",
       "    }\n",
       "\n",
       "    .dataframe tbody tr th {\n",
       "        vertical-align: top;\n",
       "    }\n",
       "\n",
       "    .dataframe thead th {\n",
       "        text-align: right;\n",
       "    }\n",
       "</style>\n",
       "<table border=\"1\" class=\"dataframe\">\n",
       "  <thead>\n",
       "    <tr style=\"text-align: right;\">\n",
       "      <th></th>\n",
       "      <th>City</th>\n",
       "      <th>No. of times hosted</th>\n",
       "    </tr>\n",
       "  </thead>\n",
       "  <tbody>\n",
       "    <tr>\n",
       "      <th>0</th>\n",
       "      <td>London</td>\n",
       "      <td>3</td>\n",
       "    </tr>\n",
       "    <tr>\n",
       "      <th>1</th>\n",
       "      <td>Athina</td>\n",
       "      <td>3</td>\n",
       "    </tr>\n",
       "    <tr>\n",
       "      <th>2</th>\n",
       "      <td>Innsbruck</td>\n",
       "      <td>2</td>\n",
       "    </tr>\n",
       "    <tr>\n",
       "      <th>3</th>\n",
       "      <td>Sankt Moritz</td>\n",
       "      <td>2</td>\n",
       "    </tr>\n",
       "    <tr>\n",
       "      <th>4</th>\n",
       "      <td>Paris</td>\n",
       "      <td>2</td>\n",
       "    </tr>\n",
       "    <tr>\n",
       "      <th>5</th>\n",
       "      <td>Los Angeles</td>\n",
       "      <td>2</td>\n",
       "    </tr>\n",
       "    <tr>\n",
       "      <th>6</th>\n",
       "      <td>Lake Placid</td>\n",
       "      <td>2</td>\n",
       "    </tr>\n",
       "    <tr>\n",
       "      <th>7</th>\n",
       "      <td>Stockholm</td>\n",
       "      <td>2</td>\n",
       "    </tr>\n",
       "    <tr>\n",
       "      <th>8</th>\n",
       "      <td>Amsterdam</td>\n",
       "      <td>1</td>\n",
       "    </tr>\n",
       "    <tr>\n",
       "      <th>9</th>\n",
       "      <td>Berlin</td>\n",
       "      <td>1</td>\n",
       "    </tr>\n",
       "  </tbody>\n",
       "</table>\n",
       "</div>"
      ],
      "text/plain": [
       "           City  No. of times hosted\n",
       "0        London                    3\n",
       "1        Athina                    3\n",
       "2     Innsbruck                    2\n",
       "3  Sankt Moritz                    2\n",
       "4         Paris                    2\n",
       "5   Los Angeles                    2\n",
       "6   Lake Placid                    2\n",
       "7     Stockholm                    2\n",
       "8     Amsterdam                    1\n",
       "9        Berlin                    1"
      ]
     },
     "execution_count": 2,
     "metadata": {},
     "output_type": "execute_result"
    }
   ],
   "source": [
    "host_data = []\n",
    "\n",
    "for city in olympics['City'].unique():\n",
    "    host_count = 0\n",
    "    for year in olympics['Year'].unique():\n",
    "        if len(olympics[(olympics['City'] == city) & (olympics['Year'] == year)]) > 0:\n",
    "            host_count += 1\n",
    "    host_data.append([city, host_count])\n",
    "    \n",
    "host_data = pd.DataFrame(host_data,columns = ['City','No. of times hosted']).sort_values(by='No. of times hosted', ascending = False)\n",
    "\n",
    "host_data.reset_index(inplace = True, drop = True)\n",
    "\n",
    "host_data.head(10)"
   ]
  },
  {
   "cell_type": "markdown",
   "id": "839d98ce",
   "metadata": {},
   "source": [
    "So [\"UK\", \"Greece\", \"Austria\", \"Switzerland\", \"France\", \"USA\", \"Sweden\"], these are the countries associated with the cities which have hosted the olympics 2 or more times. Let's map these countries with the cities."
   ]
  },
  {
   "cell_type": "code",
   "execution_count": 3,
   "id": "a8c09207",
   "metadata": {},
   "outputs": [
    {
     "data": {
      "text/html": [
       "<div>\n",
       "<style scoped>\n",
       "    .dataframe tbody tr th:only-of-type {\n",
       "        vertical-align: middle;\n",
       "    }\n",
       "\n",
       "    .dataframe tbody tr th {\n",
       "        vertical-align: top;\n",
       "    }\n",
       "\n",
       "    .dataframe thead th {\n",
       "        text-align: right;\n",
       "    }\n",
       "</style>\n",
       "<table border=\"1\" class=\"dataframe\">\n",
       "  <thead>\n",
       "    <tr style=\"text-align: right;\">\n",
       "      <th></th>\n",
       "      <th>Country</th>\n",
       "      <th>Hosted</th>\n",
       "    </tr>\n",
       "  </thead>\n",
       "  <tbody>\n",
       "    <tr>\n",
       "      <th>0</th>\n",
       "      <td>USA</td>\n",
       "      <td>4</td>\n",
       "    </tr>\n",
       "    <tr>\n",
       "      <th>1</th>\n",
       "      <td>UK</td>\n",
       "      <td>3</td>\n",
       "    </tr>\n",
       "    <tr>\n",
       "      <th>2</th>\n",
       "      <td>Greece</td>\n",
       "      <td>3</td>\n",
       "    </tr>\n",
       "    <tr>\n",
       "      <th>3</th>\n",
       "      <td>Austria</td>\n",
       "      <td>2</td>\n",
       "    </tr>\n",
       "    <tr>\n",
       "      <th>4</th>\n",
       "      <td>Switzerland</td>\n",
       "      <td>2</td>\n",
       "    </tr>\n",
       "    <tr>\n",
       "      <th>5</th>\n",
       "      <td>France</td>\n",
       "      <td>2</td>\n",
       "    </tr>\n",
       "    <tr>\n",
       "      <th>6</th>\n",
       "      <td>Sweden</td>\n",
       "      <td>2</td>\n",
       "    </tr>\n",
       "  </tbody>\n",
       "</table>\n",
       "</div>"
      ],
      "text/plain": [
       "       Country  Hosted\n",
       "0          USA       4\n",
       "1           UK       3\n",
       "2       Greece       3\n",
       "3      Austria       2\n",
       "4  Switzerland       2\n",
       "5       France       2\n",
       "6       Sweden       2"
      ]
     },
     "execution_count": 3,
     "metadata": {},
     "output_type": "execute_result"
    }
   ],
   "source": [
    "countries_cities_map = {\"USA\": [\"Lake Placid\", \"Los Angeles\"], \"UK\": [\"London\"], \"Greece\": [\"Athina\"], \"Austria\": [\"Innsbruck\"], \"Switzerland\": [\"Sankt Moritz\"], \"France\": [\"Paris\"], \"Sweden\":[\"Stockholm\"]}\n",
    "\n",
    "countries = [\"USA\", \"UK\", \"Greece\", \"Austria\", \"Switzerland\", \"France\", \"Sweden\"]\n",
    "no_of_times = [4, 3, 3, 2, 2, 2, 2]\n",
    "\n",
    "countries_hosted = pd.DataFrame(data=zip(countries,no_of_times), columns = ['Country','Hosted']).sort_values(by='Hosted', ascending = False)\n",
    "\n",
    "countries_hosted"
   ]
  },
  {
   "cell_type": "markdown",
   "id": "aac5e7c4",
   "metadata": {},
   "source": [
    "### Total medal tally of these countries"
   ]
  },
  {
   "cell_type": "code",
   "execution_count": 6,
   "id": "ffb6752a",
   "metadata": {},
   "outputs": [
    {
     "data": {
      "text/html": [
       "<div>\n",
       "<style scoped>\n",
       "    .dataframe tbody tr th:only-of-type {\n",
       "        vertical-align: middle;\n",
       "    }\n",
       "\n",
       "    .dataframe tbody tr th {\n",
       "        vertical-align: top;\n",
       "    }\n",
       "\n",
       "    .dataframe thead th {\n",
       "        text-align: right;\n",
       "    }\n",
       "</style>\n",
       "<table border=\"1\" class=\"dataframe\">\n",
       "  <thead>\n",
       "    <tr style=\"text-align: right;\">\n",
       "      <th></th>\n",
       "      <th>ID</th>\n",
       "      <th>Name</th>\n",
       "      <th>Sex</th>\n",
       "      <th>Age</th>\n",
       "      <th>Team</th>\n",
       "      <th>NOC</th>\n",
       "      <th>Games</th>\n",
       "      <th>Year</th>\n",
       "      <th>Season</th>\n",
       "      <th>City</th>\n",
       "      <th>Sport</th>\n",
       "      <th>Event</th>\n",
       "      <th>Medal</th>\n",
       "      <th>Country</th>\n",
       "    </tr>\n",
       "  </thead>\n",
       "  <tbody>\n",
       "    <tr>\n",
       "      <th>150</th>\n",
       "      <td>56</td>\n",
       "      <td>Ren Abadie</td>\n",
       "      <td>M</td>\n",
       "      <td>21.0</td>\n",
       "      <td>France</td>\n",
       "      <td>FRA</td>\n",
       "      <td>1956 Summer</td>\n",
       "      <td>1956</td>\n",
       "      <td>Summer</td>\n",
       "      <td>Melbourne</td>\n",
       "      <td>Cycling</td>\n",
       "      <td>Cycling Men's Road Race, Team</td>\n",
       "      <td>Gold</td>\n",
       "      <td>France</td>\n",
       "    </tr>\n",
       "    <tr>\n",
       "      <th>173</th>\n",
       "      <td>73</td>\n",
       "      <td>Luc Abalo</td>\n",
       "      <td>M</td>\n",
       "      <td>23.0</td>\n",
       "      <td>France</td>\n",
       "      <td>FRA</td>\n",
       "      <td>2008 Summer</td>\n",
       "      <td>2008</td>\n",
       "      <td>Summer</td>\n",
       "      <td>Beijing</td>\n",
       "      <td>Handball</td>\n",
       "      <td>Handball Men's Handball</td>\n",
       "      <td>Gold</td>\n",
       "      <td>France</td>\n",
       "    </tr>\n",
       "    <tr>\n",
       "      <th>174</th>\n",
       "      <td>73</td>\n",
       "      <td>Luc Abalo</td>\n",
       "      <td>M</td>\n",
       "      <td>27.0</td>\n",
       "      <td>France</td>\n",
       "      <td>FRA</td>\n",
       "      <td>2012 Summer</td>\n",
       "      <td>2012</td>\n",
       "      <td>Summer</td>\n",
       "      <td>London</td>\n",
       "      <td>Handball</td>\n",
       "      <td>Handball Men's Handball</td>\n",
       "      <td>Gold</td>\n",
       "      <td>France</td>\n",
       "    </tr>\n",
       "    <tr>\n",
       "      <th>175</th>\n",
       "      <td>73</td>\n",
       "      <td>Luc Abalo</td>\n",
       "      <td>M</td>\n",
       "      <td>31.0</td>\n",
       "      <td>France</td>\n",
       "      <td>FRA</td>\n",
       "      <td>2016 Summer</td>\n",
       "      <td>2016</td>\n",
       "      <td>Summer</td>\n",
       "      <td>Rio de Janeiro</td>\n",
       "      <td>Handball</td>\n",
       "      <td>Handball Men's Handball</td>\n",
       "      <td>Silver</td>\n",
       "      <td>France</td>\n",
       "    </tr>\n",
       "    <tr>\n",
       "      <th>186</th>\n",
       "      <td>84</td>\n",
       "      <td>Stephen Anthony Abas</td>\n",
       "      <td>M</td>\n",
       "      <td>26.0</td>\n",
       "      <td>United States</td>\n",
       "      <td>USA</td>\n",
       "      <td>2004 Summer</td>\n",
       "      <td>2004</td>\n",
       "      <td>Summer</td>\n",
       "      <td>Athina</td>\n",
       "      <td>Wrestling</td>\n",
       "      <td>Wrestling Men's Featherweight, Freestyle</td>\n",
       "      <td>Silver</td>\n",
       "      <td>USA</td>\n",
       "    </tr>\n",
       "  </tbody>\n",
       "</table>\n",
       "</div>"
      ],
      "text/plain": [
       "     ID                  Name Sex   Age           Team  NOC        Games  \\\n",
       "150  56            Ren Abadie   M  21.0         France  FRA  1956 Summer   \n",
       "173  73             Luc Abalo   M  23.0         France  FRA  2008 Summer   \n",
       "174  73             Luc Abalo   M  27.0         France  FRA  2012 Summer   \n",
       "175  73             Luc Abalo   M  31.0         France  FRA  2016 Summer   \n",
       "186  84  Stephen Anthony Abas   M  26.0  United States  USA  2004 Summer   \n",
       "\n",
       "     Year  Season            City      Sport  \\\n",
       "150  1956  Summer       Melbourne    Cycling   \n",
       "173  2008  Summer         Beijing   Handball   \n",
       "174  2012  Summer          London   Handball   \n",
       "175  2016  Summer  Rio de Janeiro   Handball   \n",
       "186  2004  Summer          Athina  Wrestling   \n",
       "\n",
       "                                        Event   Medal Country  \n",
       "150             Cycling Men's Road Race, Team    Gold  France  \n",
       "173                   Handball Men's Handball    Gold  France  \n",
       "174                   Handball Men's Handball    Gold  France  \n",
       "175                   Handball Men's Handball  Silver  France  \n",
       "186  Wrestling Men's Featherweight, Freestyle  Silver     USA  "
      ]
     },
     "execution_count": 6,
     "metadata": {},
     "output_type": "execute_result"
    }
   ],
   "source": [
    "olympics.rename(columns={'region':'Country'}, inplace=True)\n",
    "\n",
    "selected_countries_medals = olympics.loc[(olympics[\"Country\"].isin(countries)) & (olympics[\"Medal\"] != \"DNW\")]\n",
    "\n",
    "selected_countries_medals.head()"
   ]
  },
  {
   "cell_type": "markdown",
   "id": "0f21782b",
   "metadata": {},
   "source": [
    "Let's analyse the medal tally oof USA"
   ]
  },
  {
   "cell_type": "code",
   "execution_count": 7,
   "id": "ec2f5b70",
   "metadata": {},
   "outputs": [],
   "source": [
    "usa_hosted_medals = selected_countries_medals[selected_countries_medals[\"City\"].isin([\"Los Angeles\", \"Lake Placid\"])]\n",
    "usa_hosted_medals = usa_hosted_medals[usa_hosted_medals[\"Country\"] == \"USA\"]"
   ]
  },
  {
   "cell_type": "code",
   "execution_count": 8,
   "id": "adfaed48",
   "metadata": {},
   "outputs": [],
   "source": [
    "usa_hosted = usa_hosted_medals.groupby(\"Year\")[\"Medal\"].count()"
   ]
  },
  {
   "cell_type": "code",
   "execution_count": 9,
   "id": "1f2bc360",
   "metadata": {},
   "outputs": [
    {
     "data": {
      "text/plain": [
       "Year\n",
       "1932    223\n",
       "1980     30\n",
       "1984    352\n",
       "Name: Medal, dtype: int64"
      ]
     },
     "execution_count": 9,
     "metadata": {},
     "output_type": "execute_result"
    }
   ],
   "source": [
    "usa_hosted"
   ]
  },
  {
   "cell_type": "code",
   "execution_count": 10,
   "id": "d07cc0b4",
   "metadata": {},
   "outputs": [],
   "source": [
    "usa_not_hosted_medals = selected_countries_medals[~selected_countries_medals[\"City\"].isin([\"Los Angeles\", \"Lake Placid\"])]\n",
    "usa_not_hosted_medals = usa_not_hosted_medals[usa_not_hosted_medals[\"Country\"] == \"USA\"]"
   ]
  },
  {
   "cell_type": "code",
   "execution_count": 11,
   "id": "b34e9d3b",
   "metadata": {},
   "outputs": [
    {
     "data": {
      "text/plain": [
       "Year\n",
       "1984      9\n",
       "1994     19\n",
       "1896     20\n",
       "1906     24\n",
       "1998     34\n",
       "2006     52\n",
       "1900     63\n",
       "2014     64\n",
       "1908     65\n",
       "2002     84\n",
       "2010     97\n",
       "1928    102\n",
       "1912    107\n",
       "1936    112\n",
       "1956    149\n",
       "1960    152\n",
       "1952    164\n",
       "1948    168\n",
       "1968    173\n",
       "1976    175\n",
       "1964    177\n",
       "1924    194\n",
       "1920    194\n",
       "1972    195\n",
       "1988    214\n",
       "1992    238\n",
       "2000    242\n",
       "2012    248\n",
       "1996    259\n",
       "2004    263\n",
       "2016    264\n",
       "2008    317\n",
       "1904    394\n",
       "Name: Medal, dtype: int64"
      ]
     },
     "execution_count": 11,
     "metadata": {},
     "output_type": "execute_result"
    }
   ],
   "source": [
    "usa_not_hosted = usa_not_hosted_medals.groupby(\"Year\")[\"Medal\"].count()\n",
    "usa_not_hosted.sort_values()"
   ]
  },
  {
   "cell_type": "markdown",
   "id": "fa5e3728",
   "metadata": {},
   "source": [
    "Let's anaylse the medal tally of all the countries together\n",
    "\n",
    "### Medal tally of these countries when hosting and non hosting"
   ]
  },
  {
   "cell_type": "code",
   "execution_count": 12,
   "id": "5441cbb3",
   "metadata": {},
   "outputs": [],
   "source": [
    "hosted_medals = pd.DataFrame()\n",
    "non_hosted_medals = pd.DataFrame()\n",
    "\n",
    "for countries_cities in countries_cities_map:\n",
    "  selected_medals = selected_countries_medals[selected_countries_medals[\"City\"].isin(countries_cities_map[countries_cities])]\n",
    "  hosted_medals = pd.concat([hosted_medals, selected_medals[selected_medals[\"Country\"] == countries_cities]], axis=0).reset_index(drop=True)\n",
    "  \n",
    "  non_selected_medals = selected_countries_medals[~selected_countries_medals[\"City\"].isin(countries_cities_map[countries_cities])]\n",
    "  non_hosted_medals = pd.concat([non_hosted_medals, non_selected_medals[non_selected_medals[\"Country\"] == countries_cities]], axis=0).reset_index(drop=True)"
   ]
  },
  {
   "cell_type": "code",
   "execution_count": 13,
   "id": "4600e34f",
   "metadata": {},
   "outputs": [],
   "source": [
    "host_medals = hosted_medals.groupby([\"Country\", \"Year\"])[\"Medal\"].count().values"
   ]
  },
  {
   "cell_type": "code",
   "execution_count": 14,
   "id": "17fd0551",
   "metadata": {},
   "outputs": [
    {
     "data": {
      "text/plain": [
       "array([ 17,   7, 235, 110,  48, 102,  31, 190,   5,  12,  28, 368,  61,\n",
       "       126, 223,  30, 352], dtype=int64)"
      ]
     },
     "execution_count": 14,
     "metadata": {},
     "output_type": "execute_result"
    }
   ],
   "source": [
    "host_medals"
   ]
  },
  {
   "cell_type": "code",
   "execution_count": 15,
   "id": "548eba32",
   "metadata": {},
   "outputs": [],
   "source": [
    "non_host_medals = non_hosted_medals.groupby([\"Country\", \"Year\"])[\"Medal\"].count().values"
   ]
  },
  {
   "cell_type": "code",
   "execution_count": 16,
   "id": "18e268a5",
   "metadata": {},
   "outputs": [
    {
     "data": {
      "text/plain": [
       "17"
      ]
     },
     "execution_count": 16,
     "metadata": {},
     "output_type": "execute_result"
    }
   ],
   "source": [
    "len(host_medals)"
   ]
  },
  {
   "cell_type": "markdown",
   "id": "9cb21aeb",
   "metadata": {},
   "source": [
    "### Statistical Testing\n",
    "\n",
    "Null Hypothesis(H0) : There is no effect of hosting to medal tally.\n",
    "\n",
    "Alternative Hypothesis(H1) : There is an effect of hosting to medal tally."
   ]
  },
  {
   "cell_type": "code",
   "execution_count": 17,
   "id": "7b4ba0ab",
   "metadata": {},
   "outputs": [
    {
     "name": "stdout",
     "output_type": "stream",
     "text": [
      "0.0032795760579561457\n",
      "reject null hypothesis\n"
     ]
    }
   ],
   "source": [
    "from scipy import stats\n",
    "\n",
    "ttest,pval = stats.ttest_rel(host_medals, non_host_medals[:17])\n",
    "print(pval)\n",
    "if pval<0.05:\n",
    "    print(\"reject null hypothesis\")\n",
    "else:\n",
    "    print(\"accept null hypothesis\")"
   ]
  },
  {
   "cell_type": "markdown",
   "id": "327cd234",
   "metadata": {},
   "source": [
    "So, after doing statistical testing it appears that hosting olympics increases the chances of winning the medals.\n",
    "\n",
    "Based on the tests above, it appears that we can reject the null hypothesis that hosting has no impact on performance."
   ]
  },
  {
   "cell_type": "code",
   "execution_count": null,
   "id": "9a0f4dfc",
   "metadata": {},
   "outputs": [],
   "source": []
  }
 ],
 "metadata": {
  "kernelspec": {
   "display_name": "Python 3 (ipykernel)",
   "language": "python",
   "name": "python3"
  },
  "language_info": {
   "codemirror_mode": {
    "name": "ipython",
    "version": 3
   },
   "file_extension": ".py",
   "mimetype": "text/x-python",
   "name": "python",
   "nbconvert_exporter": "python",
   "pygments_lexer": "ipython3",
   "version": "3.11.4"
  }
 },
 "nbformat": 4,
 "nbformat_minor": 5
}
